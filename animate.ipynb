{
 "cells": [
  {
   "cell_type": "code",
   "execution_count": 4,
   "metadata": {
    "collapsed": false
   },
   "outputs": [
    {
     "data": {
      "image/png": "[encoded data removed]",
      "text/plain": [
       "<matplotlib.figure.Figure at 0x7f6cf0837650>"
      ]
     },
     "metadata": {},
     "output_type": "display_data"
    }
   ],
   "source": [
    "%matplotlib inline\n",
    "import matplotlib.pyplot as plt\n",
    "from IPython import display\n",
    "import numpy as np\n",
    "import time\n",
    "\n",
    "plt.plot(range(10))\n",
    "fig = plt.gcf()\n",
    "ax = plt.gca()\n",
    "\n",
    "for i in range(3):\n",
    "    idx = len(ax.lines)\n",
    "    plt.plot(2 * abs(np.random.randn(10)))\n",
    "    display.clear_output(wait = True)\n",
    "    display.display(fig)\n",
    "    time.sleep(1.1)\n",
    "    del ax.lines[idx]\n",
    "    ax.lines[0].set_data([1, 2, 3], [2, 1, 3])\n",
    "\n",
    "    \n",
    "display.clear_output(wait = True)"
   ]
  },
  {
   "cell_type": "code",
   "execution_count": null,
   "metadata": {
    "collapsed": true
   },
   "outputs": [],
   "source": [
    "# plt.ion()\n",
    "# plt.pause(0.05)\n",
    "\n",
    "# matplotlib.animation.FuncAnimation\n",
    "# %matplotlib nbagg\n",
    "# matplotlib backend\n",
    "\n",
    "# google ipython magic commands"
   ]
  }
 ],
 "metadata": {
  "kernelspec": {
   "display_name": "Python 2",
   "language": "python",
   "name": "python2"
  },
  "language_info": {
   "codemirror_mode": {
    "name": "ipython",
    "version": 2
   },
   "file_extension": ".py",
   "mimetype": "text/x-python",
   "name": "python",
   "nbconvert_exporter": "python",
   "pygments_lexer": "ipython2",
   "version": "2.7.12"
  }
 },
 "nbformat": 4,
 "nbformat_minor": 1
}
