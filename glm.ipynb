{
 "cells": [
  {
   "cell_type": "code",
   "execution_count": 32,
   "metadata": {
    "collapsed": true
   },
   "outputs": [],
   "source": [
    "import numpy as np\n",
    "from numpy.linalg import inv\n",
    "from scipy.special import expit\n",
    "from scipy.optimize import minimize\n",
    "import datasets"
   ]
  },
  {
   "cell_type": "code",
   "execution_count": 28,
   "metadata": {
    "collapsed": true
   },
   "outputs": [],
   "source": [
    "X, y = datasets.htwt()\n",
    "N, D = X.shape"
   ]
  },
  {
   "cell_type": "code",
   "execution_count": 31,
   "metadata": {
    "collapsed": false
   },
   "outputs": [
    {
     "data": {
      "text/plain": [
       "0.20476190476190476"
      ]
     },
     "execution_count": 31,
     "metadata": {},
     "output_type": "execute_result"
    }
   ],
   "source": [
    "# iteratively reweighted least squares -- murphy p. 253\n",
    "w = np.zeros(D)\n",
    "ybar = np.mean(y)\n",
    "w0 = np.log(ybar / (1 - ybar))\n",
    "\n",
    "for k in range(20):\n",
    "    eta = w0 + X.dot(w)\n",
    "    mu = expit(eta)\n",
    "    s = mu * (1 - mu)\n",
    "    S = np.diag(s)\n",
    "    z = eta + (y - mu) / s\n",
    "    z = eta + inv(S).dot(y - mu)\n",
    "    w = inv(X.T.dot(S).dot(X)).dot(X.T).dot(S).dot(z)    \n",
    "\n",
    "y_hat = (expit(w0 + X.dot(w)) > 0.5) * 1\n",
    "np.mean(y_hat != y)"
   ]
  },
  {
   "cell_type": "code",
   "execution_count": 36,
   "metadata": {
    "collapsed": false
   },
   "outputs": [
    {
     "data": {
      "text/plain": [
       "0.65238095238095239"
      ]
     },
     "execution_count": 36,
     "metadata": {},
     "output_type": "execute_result"
    }
   ],
   "source": [
    "w = np.zeros(D)\n",
    "ybar = np.mean(y)\n",
    "w0 = np.log(ybar / (1 - ybar))\n",
    "\n",
    "eta = lambda w, i: w0 + X[i].dot(w)\n",
    "mu = lambda w, i: expit(eta(w, i))\n",
    "A = lambda mu: np.log(1 + np.exp(mu))\n",
    "f = lambda w: sum([mu(w, i) * y[i] - A(mu(w, i)) for i in xrange(N)]) \n",
    "w = np.zeros(D)\n",
    "w = minimize(f, w).x\n",
    "\n",
    "y_hat = (expit(w0 + X.dot(w)) > 0.5) * 1\n",
    "np.mean(y_hat != y)"
   ]
  }
 ],
 "metadata": {
  "kernelspec": {
   "display_name": "Python [default]",
   "language": "python",
   "name": "python2"
  },
  "language_info": {
   "codemirror_mode": {
    "name": "ipython",
    "version": 2
   },
   "file_extension": ".py",
   "mimetype": "text/x-python",
   "name": "python",
   "nbconvert_exporter": "python",
   "pygments_lexer": "ipython2",
   "version": "2.7.12"
  }
 },
 "nbformat": 4,
 "nbformat_minor": 1
}
