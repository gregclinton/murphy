{
 "cells": [
  {
   "cell_type": "code",
   "execution_count": 2,
   "metadata": {
    "collapsed": true
   },
   "outputs": [],
   "source": [
    "import numpy as np\n",
    "from numpy.linalg import inv\n",
    "from scipy.special import expit\n",
    "import datasets"
   ]
  },
  {
   "cell_type": "code",
   "execution_count": 3,
   "metadata": {
    "collapsed": true
   },
   "outputs": [],
   "source": [
    "class Classifier:\n",
    "    '''\n",
    "    iteratively reweighted least squares\n",
    "    murphy p. 253\n",
    "    '''        \n",
    "    def fit(self, X, y):\n",
    "        N, D = X.shape\n",
    "        w = np.zeros(D)\n",
    "        ybar = np.mean(y)\n",
    "        w0 = np.log(ybar / (1 - ybar))\n",
    "\n",
    "        for k in range(20):\n",
    "            eta = w0 + X.dot(w)\n",
    "            mu = expit(eta)\n",
    "            s = mu * (1 - mu)\n",
    "            z = eta + (y - mu) / s\n",
    "            S = np.diag(s)\n",
    "            w = inv(X.T.dot(S).dot(X)).dot(X.T).dot(S).dot(z)    \n",
    "        self.theta = w0, w\n",
    "\n",
    "    def predict_log_proba(self, X):\n",
    "        return np.log(self.predict_proba(X))\n",
    "\n",
    "    def predict_proba(self, X):\n",
    "        w0, w = self.theta\n",
    "        return expit(w0 + X.dot(w))\n",
    "\n",
    "    def predict(self, X):\n",
    "        return (self.predict_proba(X) > 0.5) * 1"
   ]
  }
 ],
 "metadata": {
  "kernelspec": {
   "display_name": "Python [default]",
   "language": "python",
   "name": "python2"
  },
  "language_info": {
   "codemirror_mode": {
    "name": "ipython",
    "version": 2
   },
   "file_extension": ".py",
   "mimetype": "text/x-python",
   "name": "python",
   "nbconvert_exporter": "python",
   "pygments_lexer": "ipython2",
   "version": "2.7.12"
  }
 },
 "nbformat": 4,
 "nbformat_minor": 1
}
