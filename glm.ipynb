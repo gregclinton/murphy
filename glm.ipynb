{
 "cells": [
  {
   "cell_type": "code",
   "execution_count": 21,
   "metadata": {
    "collapsed": false
   },
   "outputs": [],
   "source": [
    "import numpy as np\n",
    "from numpy.linalg import inv\n",
    "from scipy.special import expit\n",
    "from scipy.optimize import minimize\n",
    "import statsmodels.api as sm\n",
    "from scipy import stats\n",
    "from sklearn.metrics import log_loss\n",
    "import datasets\n",
    "from scipy.special import erf"
   ]
  },
  {
   "cell_type": "code",
   "execution_count": 8,
   "metadata": {
    "collapsed": false
   },
   "outputs": [],
   "source": [
    "X, y = datasets.htwt()\n",
    "N, D = X.shape\n",
    "Xaug = np.hstack([np.ones((N, 1)), X])"
   ]
  },
  {
   "cell_type": "code",
   "execution_count": 9,
   "metadata": {
    "collapsed": false
   },
   "outputs": [
    {
     "data": {
      "text/plain": [
       "0.11904761904761904"
      ]
     },
     "execution_count": 9,
     "metadata": {},
     "output_type": "execute_result"
    }
   ],
   "source": [
    "model = sm.GLM(y, Xaug, family = sm.families.Binomial()).fit()\n",
    "np.mean((model.predict(Xaug) > 0.5) != y)"
   ]
  },
  {
   "cell_type": "code",
   "execution_count": null,
   "metadata": {
    "collapsed": true
   },
   "outputs": [],
   "source": [
    "# https://github.com/rvtonge/darpa-graphs/blob/master/thirdparty/pmtk3-master/\n",
    "# pmtksupportCopy/markSchmidt-9march2011/markSchmidt/lossFuncs/ProbitLoss.m\n",
    "\n",
    "function [nll,g,H] = ProbitLoss(w,X,y)\n",
    "% w(feature,1)\n",
    "% X(instance,feature)\n",
    "% y(instance,1)\n",
    "\n",
    "yXw = y.*(X*w)/sqrt(2);\n",
    "erf_yXw = erf(full(yXw));\n",
    "probit_yXw = (1/2)*(1+erf_yXw)+eps;\n",
    "nll = -sum(log(probit_yXw));\n",
    "\n",
    "if nargout > 1\n",
    "        norm_yXw = (1/sqrt(2*pi))*exp(-yXw.^2);\n",
    "        g = -X'*(y.*norm_yXw./probit_yXw);\n",
    "end\n",
    "\n",
    "if nargout > 2\n",
    "    H = X'*diag(sparse(norm_yXw.*norm_yXw./probit_yXw.^2 + norm_yXw.*yXw.*sqrt(2)./probit_yXw))*X;\n",
    "end"
   ]
  },
  {
   "cell_type": "code",
   "execution_count": 27,
   "metadata": {
    "collapsed": false
   },
   "outputs": [
    {
     "name": "stdout",
     "output_type": "stream",
     "text": [
      "[-21.90976476   0.26285725   0.02405287]\n",
      "[ 0.  0.  0.]\n"
     ]
    },
    {
     "data": {
      "text/plain": [
       "0.34761904761904761"
      ]
     },
     "execution_count": 27,
     "metadata": {},
     "output_type": "execute_result"
    }
   ],
   "source": [
    "# probit regression\n",
    "y_tilde = 2 * y - 1\n",
    "\n",
    "loss = lambda w: -sum(y_tilde * Xaug.dot(w))\n",
    "loss = lambda w: -sum(np.log(0.5 * (1 + erf(y_tilde * Xaug.dot(w) / np.sqrt(2))) + eps))\n",
    "\n",
    "def grad(w):\n",
    "    eta = Xaug.dot(w)\n",
    "    phi_y = stats.norm.pdf(eta) * y_tilde\n",
    "    Phi = stats.norm.cdf(y_tilde * eta)\n",
    "    return sum([Xaug[i].dot(phi_y[i]) / Phi[i] for i in xrange(N)])\n",
    "\n",
    "def hess(w):\n",
    "    H = np.zeros((D + 1, D + 1))\n",
    "    eta = Xaug.dot(w)\n",
    "    for i in xrange(N):\n",
    "        yeta = y_tilde[i] * eta[i]\n",
    "        Phi = stats.norm.cdf(yeta)\n",
    "        phi = stats.norm.pdf(eta[i])\n",
    "        H -= np.outer(Xaug[i], Xaug[i]) * ((phi / Phi) ** 2 + (yeta * phi / Phi))\n",
    "    return H\n",
    "\n",
    "w = minimize(loss, np.zeros(D + 1), tol = 1e-6).x\n",
    "print w\n",
    "w = minimize(loss, np.zeros(D + 1), method = 'Newton-CG', jac = grad, hess = hess, tol = 1e-6).x\n",
    "print w\n",
    "np.mean((Xaug.dot(w) > 0) != y)"
   ]
  },
  {
   "cell_type": "code",
   "execution_count": 10,
   "metadata": {
    "collapsed": false
   },
   "outputs": [
    {
     "data": {
      "text/plain": [
       "0.11904761904761904"
      ]
     },
     "execution_count": 10,
     "metadata": {},
     "output_type": "execute_result"
    }
   ],
   "source": [
    "# iteratively reweighted least squares -- murphy p. 253\n",
    "w = np.zeros(D + 1)\n",
    "\n",
    "for _ in xrange(5):\n",
    "    eta = Xaug.dot(w)\n",
    "    mu = expit(eta)\n",
    "    S = np.diag(mu * (1 - mu))\n",
    "    z = eta + inv(S).dot(y - mu)\n",
    "    w = inv(Xaug.T.dot(S).dot(Xaug)).dot(Xaug.T).dot(S).dot(z)\n",
    "\n",
    "np.mean((expit(Xaug.dot(w)) > 0.5) != y)"
   ]
  },
  {
   "cell_type": "code",
   "execution_count": 8,
   "metadata": {
    "collapsed": false
   },
   "outputs": [
    {
     "data": {
      "text/plain": [
       "0.11904761904761904"
      ]
     },
     "execution_count": 8,
     "metadata": {},
     "output_type": "execute_result"
    }
   ],
   "source": [
    "def fun(w):\n",
    "    eta = Xaug.dot(w)\n",
    "    A = np.log(1 + np.exp(eta))\n",
    "    return -sum(eta * y - A)\n",
    "        \n",
    "w = minimize(fun, np.zeros(D + 1)).x\n",
    "\n",
    "np.mean((expit(Xaug.dot(w)) > 0.5) != y)"
   ]
  }
 ],
 "metadata": {
  "anaconda-cloud": {},
  "kernelspec": {
   "display_name": "Python 2",
   "language": "python",
   "name": "python2"
  },
  "language_info": {
   "codemirror_mode": {
    "name": "ipython",
    "version": 2
   },
   "file_extension": ".py",
   "mimetype": "text/x-python",
   "name": "python",
   "nbconvert_exporter": "python",
   "pygments_lexer": "ipython2",
   "version": "2.7.12"
  }
 },
 "nbformat": 4,
 "nbformat_minor": 1
}
