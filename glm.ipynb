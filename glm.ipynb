{
 "cells": [
  {
   "cell_type": "code",
   "execution_count": 1,
   "metadata": {
    "collapsed": false
   },
   "outputs": [],
   "source": [
    "import numpy as np\n",
    "from numpy.linalg import inv\n",
    "from scipy.special import expit\n",
    "from scipy.optimize import minimize\n",
    "import statsmodels.api as sm\n",
    "from scipy import stats\n",
    "import datasets"
   ]
  },
  {
   "cell_type": "code",
   "execution_count": 2,
   "metadata": {
    "collapsed": false
   },
   "outputs": [],
   "source": [
    "X, y = datasets.htwt()\n",
    "N, D = X.shape\n",
    "Xaug = np.hstack([np.ones((N, 1)), X])"
   ]
  },
  {
   "cell_type": "code",
   "execution_count": 3,
   "metadata": {
    "collapsed": false
   },
   "outputs": [
    {
     "data": {
      "text/plain": [
       "0.11904761904761904"
      ]
     },
     "execution_count": 3,
     "metadata": {},
     "output_type": "execute_result"
    }
   ],
   "source": [
    "model = sm.GLM(y, Xaug, family = sm.families.Binomial()).fit()\n",
    "np.mean((model.predict(Xaug) > 0.5) != y)"
   ]
  },
  {
   "cell_type": "code",
   "execution_count": 14,
   "metadata": {
    "collapsed": false
   },
   "outputs": [
    {
     "data": {
      "text/plain": [
       "0.65238095238095239"
      ]
     },
     "execution_count": 14,
     "metadata": {},
     "output_type": "execute_result"
    }
   ],
   "source": [
    "# probit regression\n",
    "y_tilde = 2 * y - 1\n",
    "\n",
    "loss = lambda w: Xaug.dot(w).dot(y_tilde)\n",
    "\n",
    "def grad(w):\n",
    "    eta = Xaug.dot(w)\n",
    "    psi_y = stats.norm.pdf(eta) * y_tilde\n",
    "    Psi = stats.norm.cdf(y_tilde * eta)\n",
    "    return sum([Xaug[i].dot(psi_y[i]) / Psi[i] for i in xrange(N)])\n",
    "\n",
    "def hess(w):\n",
    "    H = np.zeros((D + 1, D + 1))\n",
    "    eta = Xaug.dot(w)\n",
    "    for i in xrange(N):\n",
    "        yeta = y_tilde[i] * eta[i]\n",
    "        Psi = stats.norm.cdf(yeta)\n",
    "        psi = stats.norm.pdf(eta[i])\n",
    "        H -= np.outer(Xaug[i], Xaug[i]) * ((psi / Psi) ** 2 + (yeta * psi / Psi))\n",
    "    return H\n",
    "\n",
    "w = minimize(loss, np.zeros(D + 1)).x\n",
    "# w = minimize(loss, np.zeros(D + 1), method = 'Newton-CG', jac = grad, hess = hess, tol = 1e-6).x\n",
    "np.mean((Xaug.dot(w) > 0) != y)"
   ]
  },
  {
   "cell_type": "code",
   "execution_count": 10,
   "metadata": {
    "collapsed": false
   },
   "outputs": [
    {
     "data": {
      "text/plain": [
       "0.11904761904761904"
      ]
     },
     "execution_count": 10,
     "metadata": {},
     "output_type": "execute_result"
    }
   ],
   "source": [
    "# iteratively reweighted least squares -- murphy p. 253\n",
    "w = np.zeros(D + 1)\n",
    "\n",
    "for _ in xrange(5):\n",
    "    eta = Xaug.dot(w)\n",
    "    mu = expit(eta)\n",
    "    S = np.diag(mu * (1 - mu))\n",
    "    z = eta + inv(S).dot(y - mu)\n",
    "    w = inv(Xaug.T.dot(S).dot(Xaug)).dot(Xaug.T).dot(S).dot(z)\n",
    "\n",
    "np.mean((expit(Xaug.dot(w)) > 0.5) != y)"
   ]
  },
  {
   "cell_type": "code",
   "execution_count": 8,
   "metadata": {
    "collapsed": false
   },
   "outputs": [
    {
     "data": {
      "text/plain": [
       "0.11904761904761904"
      ]
     },
     "execution_count": 8,
     "metadata": {},
     "output_type": "execute_result"
    }
   ],
   "source": [
    "def fun(w):\n",
    "    eta = Xaug.dot(w)\n",
    "    A = np.log(1 + np.exp(eta))\n",
    "    return -sum(eta * y - A)\n",
    "        \n",
    "w = minimize(fun, np.zeros(D + 1)).x\n",
    "\n",
    "np.mean((expit(Xaug.dot(w)) > 0.5) != y)"
   ]
  }
 ],
 "metadata": {
  "anaconda-cloud": {},
  "kernelspec": {
   "display_name": "Python 2",
   "language": "python",
   "name": "python2"
  },
  "language_info": {
   "codemirror_mode": {
    "name": "ipython",
    "version": 2
   },
   "file_extension": ".py",
   "mimetype": "text/x-python",
   "name": "python",
   "nbconvert_exporter": "python",
   "pygments_lexer": "ipython2",
   "version": "2.7.12"
  }
 },
 "nbformat": 4,
 "nbformat_minor": 1
}
