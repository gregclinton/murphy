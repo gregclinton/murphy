{
 "cells": [
  {
   "cell_type": "code",
   "execution_count": 1,
   "metadata": {
    "collapsed": true
   },
   "outputs": [],
   "source": [
    "import numpy as np\n",
    "from scipy import stats\n",
    "import htwt\n",
    "from sklearn import qda"
   ]
  },
  {
   "cell_type": "code",
   "execution_count": 2,
   "metadata": {
    "collapsed": true
   },
   "outputs": [],
   "source": [
    "X, y = htwt.get()"
   ]
  },
  {
   "cell_type": "code",
   "execution_count": 7,
   "metadata": {
    "collapsed": true
   },
   "outputs": [],
   "source": [
    "def fit(X, y):\n",
    "    cs = np.unique(y)\n",
    "    priors = []\n",
    "    means = []\n",
    "    Sigmas = []\n",
    "    \n",
    "    for c in cs:\n",
    "        i = y == c\n",
    "        X_c = X[i]\n",
    "        priors.append(np.mean(i))\n",
    "        means.append(np.mean(X_c, axis = 0))\n",
    "        Sigmas.append(np.cov(X_c, rowvar = False))\n",
    "\n",
    "    return cs, priors, means, Sigmas\n",
    "\n",
    "def predict(model, X):\n",
    "    cs, priors, means, Sigmas = model\n",
    "    N, D = X.shape\n",
    "    C = len(cs)\n",
    "    loglik = np.empty((N, C))\n",
    "        \n",
    "    for i in range(C):\n",
    "        loglik[:, i] = priors[i] * stats.multivariate_normal.pdf(X, means[i], Sigmas[i])\n",
    "        \n",
    "    return cs[np.argmax(loglik, axis = 1)]"
   ]
  },
  {
   "cell_type": "code",
   "execution_count": 8,
   "metadata": {
    "collapsed": false
   },
   "outputs": [
    {
     "data": {
      "text/plain": [
       "0.88095238095238093"
      ]
     },
     "execution_count": 8,
     "metadata": {},
     "output_type": "execute_result"
    }
   ],
   "source": [
    "model = fit(X, y)\n",
    "np.mean(predict(model, X) == y)"
   ]
  },
  {
   "cell_type": "code",
   "execution_count": 8,
   "metadata": {
    "collapsed": false
   },
   "outputs": [
    {
     "data": {
      "text/plain": [
       "0.88095238095238093"
      ]
     },
     "execution_count": 8,
     "metadata": {},
     "output_type": "execute_result"
    }
   ],
   "source": [
    "clf = qda.QDA()\n",
    "model = clf.fit(X, y)\n",
    "np.mean(clf.predict(X) == y)"
   ]
  }
 ],
 "metadata": {
  "kernelspec": {
   "display_name": "Python 2",
   "language": "python",
   "name": "python2"
  },
  "language_info": {
   "codemirror_mode": {
    "name": "ipython",
    "version": 2
   },
   "file_extension": ".py",
   "mimetype": "text/x-python",
   "name": "python",
   "nbconvert_exporter": "python",
   "pygments_lexer": "ipython2",
   "version": "2.7.10"
  }
 },
 "nbformat": 4,
 "nbformat_minor": 0
}
