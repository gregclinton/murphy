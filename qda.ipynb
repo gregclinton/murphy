{
 "cells": [
  {
   "cell_type": "code",
   "execution_count": 5,
   "metadata": {
    "collapsed": true
   },
   "outputs": [],
   "source": [
    "import numpy as np\n",
    "from scipy import stats\n",
    "import htwt\n",
    "from sklearn import qda"
   ]
  },
  {
   "cell_type": "code",
   "execution_count": 2,
   "metadata": {
    "collapsed": true
   },
   "outputs": [],
   "source": [
    "X, y = htwt.get()"
   ]
  },
  {
   "cell_type": "code",
   "execution_count": 9,
   "metadata": {
    "collapsed": true
   },
   "outputs": [],
   "source": [
    "def fit(X, y):\n",
    "    def theta(c):\n",
    "        i = y == c\n",
    "        X_c = X[i]\n",
    "        prior = np.mean(i)\n",
    "        mean = np.mean(X_c, axis = 0)\n",
    "        Sigma = np.cov(X_c, rowvar = False)\n",
    "        return c, prior, mean, Sigma\n",
    "\n",
    "    return [theta(c) for c in np.unique(y)]\n",
    "\n",
    "def predict(model, X):\n",
    "    p = []\n",
    "    cs = []\n",
    "        \n",
    "    for theta in model:\n",
    "        c, prior, mean, Sigma = theta\n",
    "        cs.append(c)\n",
    "        p.append(prior * stats.multivariate_normal.pdf(X, mean, Sigma))\n",
    "            \n",
    "    return np.array([cs[i] for i in np.argmax(p, axis = 0)])"
   ]
  },
  {
   "cell_type": "code",
   "execution_count": 10,
   "metadata": {
    "collapsed": false
   },
   "outputs": [
    {
     "data": {
      "text/plain": [
       "0.88095238095238093"
      ]
     },
     "execution_count": 10,
     "metadata": {},
     "output_type": "execute_result"
    }
   ],
   "source": [
    "model = fit(X, y)\n",
    "np.mean(predict(model, X) == y)"
   ]
  },
  {
   "cell_type": "code",
   "execution_count": 8,
   "metadata": {
    "collapsed": false
   },
   "outputs": [
    {
     "data": {
      "text/plain": [
       "0.88095238095238093"
      ]
     },
     "execution_count": 8,
     "metadata": {},
     "output_type": "execute_result"
    }
   ],
   "source": [
    "clf = qda.QDA()\n",
    "model = clf.fit(X, y)\n",
    "np.mean(clf.predict(X) == y)"
   ]
  }
 ],
 "metadata": {
  "kernelspec": {
   "display_name": "Python 2",
   "language": "python",
   "name": "python2"
  },
  "language_info": {
   "codemirror_mode": {
    "name": "ipython",
    "version": 2
   },
   "file_extension": ".py",
   "mimetype": "text/x-python",
   "name": "python",
   "nbconvert_exporter": "python",
   "pygments_lexer": "ipython2",
   "version": "2.7.9"
  }
 },
 "nbformat": 4,
 "nbformat_minor": 0
}
