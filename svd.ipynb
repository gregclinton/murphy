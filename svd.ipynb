{
 "cells": [
  {
   "cell_type": "code",
   "execution_count": 2,
   "metadata": {
    "collapsed": false
   },
   "outputs": [
    {
     "name": "stdout",
     "output_type": "stream",
     "text": [
      "[[ 2.   3.   4.   5. ]\n",
      " [ 2.2  3.1  4.2  5.3]\n",
      " [ 2.1  3.2  4.1  5.2]]\n",
      "[[ 2.   3.   4.   5. ]\n",
      " [ 2.2  3.1  4.2  5.3]\n",
      " [ 2.1  3.2  4.1  5.2]]\n"
     ]
    }
   ],
   "source": [
    "import numpy as np\n",
    "from numpy.linalg import svd\n",
    "\n",
    "X = np.array([\n",
    "    [2, 3, 4, 5],\n",
    "    [2.2, 3.1, 4.2, 5.3],\n",
    "    [2.1, 3.2, 4.1, 5.2],\n",
    "])\n",
    "\n",
    "U, s, V = svd(X, full_matrices = False)\n",
    "D = np.diag(s)\n",
    "V = V.T\n",
    "\n",
    "print X\n",
    "print U.dot(D).dot(V.T)"
   ]
  }
 ],
 "metadata": {
  "kernelspec": {
   "display_name": "Python 2",
   "language": "python",
   "name": "python2"
  },
  "language_info": {
   "codemirror_mode": {
    "name": "ipython",
    "version": 2
   },
   "file_extension": ".py",
   "mimetype": "text/x-python",
   "name": "python",
   "nbconvert_exporter": "python",
   "pygments_lexer": "ipython2",
   "version": "2.7.9"
  }
 },
 "nbformat": 4,
 "nbformat_minor": 0
}
