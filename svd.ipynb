{
 "cells": [
  {
   "cell_type": "code",
   "execution_count": 104,
   "metadata": {
    "collapsed": true
   },
   "outputs": [],
   "source": [
    "%matplotlib inline\n",
    "import matplotlib.pyplot as plt\n",
    "import pandas as pd\n",
    "import numpy as np\n",
    "from sklearn.preprocessing import scale\n",
    "from numpy.linalg import eigh, svd"
   ]
  },
  {
   "cell_type": "code",
   "execution_count": null,
   "metadata": {
    "collapsed": true
   },
   "outputs": [],
   "source": [
    "# http://stats.stackexchange.com/questions/134282/relationship-between-svd-and-pca-how-to-use-svd-to-perform-pca"
   ]
  },
  {
   "cell_type": "code",
   "execution_count": 138,
   "metadata": {
    "collapsed": false
   },
   "outputs": [
    {
     "data": {
      "text/plain": [
       "(8, 3)"
      ]
     },
     "execution_count": 138,
     "metadata": {},
     "output_type": "execute_result"
    }
   ],
   "source": [
    "url = 'https://raw.githubusercontent.com/probml/pmtkdata/master/lsi/lsiMatrix.txt'\n",
    "X = pd.read_table(url, header = None, sep = ' ').values.T[:-1]\n",
    "X = X[:8, :3]\n",
    "X = scale(X)\n",
    "N = len(X)\n",
    "X.shape"
   ]
  },
  {
   "cell_type": "code",
   "execution_count": 141,
   "metadata": {
    "collapsed": false
   },
   "outputs": [
    {
     "name": "stdout",
     "output_type": "stream",
     "text": [
      "[[ 1.49838344  0.          0.        ]\n",
      " [ 0.          0.78733085  0.        ]\n",
      " [ 0.          0.          0.        ]]\n",
      "[[-0.70710678 -0.70710678  0.        ]\n",
      " [ 0.          0.         -1.        ]\n",
      " [-0.70710678  0.70710678  0.        ]]\n"
     ]
    }
   ],
   "source": [
    "C = X.T.dot(X) / (N - 1.0)\n",
    "d, V = eigh(C)\n",
    "d = d[::-1]\n",
    "D = np.diag(d)\n",
    "V = V[:, ::-1]\n",
    "print D\n",
    "print V"
   ]
  },
  {
   "cell_type": "code",
   "execution_count": 142,
   "metadata": {
    "collapsed": false
   },
   "outputs": [
    {
     "name": "stdout",
     "output_type": "stream",
     "text": [
      "[[ 1.49838344  0.          0.        ]\n",
      " [ 0.          0.78733085  0.        ]\n",
      " [ 0.          0.          0.        ]]\n",
      "[[-0.70710678  0.70710678  0.        ]\n",
      " [ 0.          0.          1.        ]\n",
      " [-0.70710678 -0.70710678  0.        ]]\n"
     ]
    }
   ],
   "source": [
    "U, s, Vt = svd(X)\n",
    "d = s * s / (N - 1)\n",
    "D = np.diag(d)\n",
    "V = Vt.T\n",
    "print D\n",
    "print V"
   ]
  },
  {
   "cell_type": "code",
   "execution_count": 129,
   "metadata": {
    "collapsed": false
   },
   "outputs": [
    {
     "name": "stdout",
     "output_type": "stream",
     "text": [
      "[ 7.12333351  0.55676421  0.37700426  0.28096075  0.26476246  0.17426884\n",
      "  0.10514332  0.07636257  0.06100792]\n",
      "[ 7.12333351  0.55676421  0.37700426  0.28096075  0.26476246  0.17426884\n",
      "  0.10514332  0.07636257  0.06100792]\n"
     ]
    }
   ],
   "source": [
    "print d\n",
    "print np.diag(D)"
   ]
  },
  {
   "cell_type": "code",
   "execution_count": 96,
   "metadata": {
    "collapsed": false
   },
   "outputs": [
    {
     "data": {
      "text/plain": [
       "(460, 10)"
      ]
     },
     "execution_count": 96,
     "metadata": {},
     "output_type": "execute_result"
    }
   ],
   "source": [
    "q = np.zeros((460, 1))\n",
    "q[22] = 1\n",
    "Q = np.hstack([X, q])\n",
    "Q.shape"
   ]
  },
  {
   "cell_type": "code",
   "execution_count": 98,
   "metadata": {
    "collapsed": false
   },
   "outputs": [
    {
     "data": {
      "image/png": "[encoded data removed]",
      "text/plain": [
       "<matplotlib.figure.Figure at 0x7fb52c389ad0>"
      ]
     },
     "metadata": {},
     "output_type": "display_data"
    }
   ],
   "source": [
    "U, s, Vt = svd(X)\n",
    "plt.scatter(Vt[0, :], Vt[1, :])\n",
    "plt.show()"
   ]
  },
  {
   "cell_type": "code",
   "execution_count": 102,
   "metadata": {
    "collapsed": false
   },
   "outputs": [
    {
     "data": {
      "image/png": "[encoded data removed]",
      "text/plain": [
       "<matplotlib.figure.Figure at 0x7fb52c20b5d0>"
      ]
     },
     "metadata": {},
     "output_type": "display_data"
    }
   ],
   "source": [
    "U, s, Vt = svd(X.T)\n",
    "S = np.diag(s)\n",
    "Z = U[:, :2].dot(S[:2, :2])\n",
    "plt.scatter(Z[:, 0], Z[:, 1])\n",
    "plt.show()"
   ]
  }
 ],
 "metadata": {
  "kernelspec": {
   "display_name": "Python 2",
   "language": "python",
   "name": "python2"
  },
  "language_info": {
   "codemirror_mode": {
    "name": "ipython",
    "version": 2
   },
   "file_extension": ".py",
   "mimetype": "text/x-python",
   "name": "python",
   "nbconvert_exporter": "python",
   "pygments_lexer": "ipython2",
   "version": "2.7.12"
  }
 },
 "nbformat": 4,
 "nbformat_minor": 0
}
