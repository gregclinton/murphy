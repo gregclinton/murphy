{
 "cells": [
  {
   "cell_type": "code",
   "execution_count": 4,
   "metadata": {
    "collapsed": true
   },
   "outputs": [],
   "source": [
    "fun = lambda x: x ** 2"
   ]
  },
  {
   "cell_type": "code",
   "execution_count": 10,
   "metadata": {
    "collapsed": false
   },
   "outputs": [
    {
     "name": "stdout",
     "output_type": "stream",
     "text": [
      "6.0\n",
      "2.0\n",
      "-1.05435936153e-13\n"
     ]
    }
   ],
   "source": [
    "import numdifftools as nd\n",
    "\n",
    "first = nd.Derivative(fun)\n",
    "print first(3)\n",
    "\n",
    "second = nd.Derivative(fun, n = 2)\n",
    "print second(3)\n",
    "\n",
    "third = nd.Derivative(fun, n = 3)\n",
    "print third(3)"
   ]
  },
  {
   "cell_type": "code",
   "execution_count": 15,
   "metadata": {
    "collapsed": false
   },
   "outputs": [
    {
     "name": "stdout",
     "output_type": "stream",
     "text": [
      "6.0\n",
      "2.0\n"
     ]
    }
   ],
   "source": [
    "from scipy.misc import derivative\n",
    "\n",
    "print derivative(fun, 3, n = 1)\n",
    "print derivative(fun, 3, n = 2)\n",
    "# print derivative(fun, 3, n = 3)"
   ]
  },
  {
   "cell_type": "code",
   "execution_count": 26,
   "metadata": {
    "collapsed": false
   },
   "outputs": [
    {
     "name": "stdout",
     "output_type": "stream",
     "text": [
      "[ 0.  0.]\n",
      "(0,)\n",
      "0.0\n",
      "[ 0.  0.]\n",
      "(1,)\n",
      "0.0\n"
     ]
    },
    {
     "data": {
      "text/plain": [
       "array([ 0.,  0.])"
      ]
     },
     "execution_count": 26,
     "metadata": {},
     "output_type": "execute_result"
    }
   ],
   "source": [
    "from scipy.misc import derivative\n",
    "import numpy as np\n",
    "\n",
    "def hess(f, x):\n",
    "    x = np.array(x).astype(float)\n",
    "    h = 0.00001\n",
    "    hess = np.zeros_like(x)\n",
    "    it = np.nditer(x, flags = ['multi_index'], op_flags = ['readwrite'])\n",
    "    \n",
    "    def partial_derivative(func, var=0, point=[]):\n",
    "        args = point[:]\n",
    "        def wraps(x):\n",
    "            args[var] = x\n",
    "            return func(*args)\n",
    "        return derivative(wraps, point[var], dx = 1e-6)\n",
    "        \n",
    "    while not it.finished:\n",
    "        ix = it.multi_index\n",
    "        print hess\n",
    "        print ix\n",
    "        print hess[ix]\n",
    "        # hess[ix] = partial_derivative(f, ix, x[ix])\n",
    "        it.iternext()\n",
    "        \n",
    "    return hess\n",
    "\n",
    "hess(foo, [3, 1])"
   ]
  },
  {
   "cell_type": "code",
   "execution_count": 21,
   "metadata": {
    "collapsed": false
   },
   "outputs": [
    {
     "data": {
      "text/plain": [
       "2.9999999995311555"
      ]
     },
     "execution_count": 21,
     "metadata": {},
     "output_type": "execute_result"
    }
   ],
   "source": [
    "foo = lambda x, y: x ** 2 + y ** 3\n",
    "\n",
    "from scipy.misc import derivative\n",
    "derivative(foo, 1, dx = 1e-6, args = (3, ))\n",
    "\n",
    "def partial_derivative(func, var=0, point=[]):\n",
    "    args = point[:]\n",
    "    def wraps(x):\n",
    "        args[var] = x\n",
    "        return func(*args)\n",
    "    return derivative(wraps, point[var], dx = 1e-6)\n",
    "\n",
    "partial_derivative(foo, 1, [3, 1])"
   ]
  }
 ],
 "metadata": {
  "kernelspec": {
   "display_name": "Python 2",
   "language": "python",
   "name": "python2"
  },
  "language_info": {
   "codemirror_mode": {
    "name": "ipython",
    "version": 2
   },
   "file_extension": ".py",
   "mimetype": "text/x-python",
   "name": "python",
   "nbconvert_exporter": "python",
   "pygments_lexer": "ipython2",
   "version": "2.7.12"
  }
 },
 "nbformat": 4,
 "nbformat_minor": 0
}
