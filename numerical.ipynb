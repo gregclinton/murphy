{
 "cells": [
  {
   "cell_type": "code",
   "execution_count": 186,
   "metadata": {
    "collapsed": false
   },
   "outputs": [
    {
     "name": "stdout",
     "output_type": "stream",
     "text": [
      "[ 2.6       2.600002]\n",
      "[[ 2.0001778   2.0001778 ]\n",
      " [ 2.0001778   1.99751327]]\n",
      "0.999999999987\n"
     ]
    }
   ],
   "source": [
    "import numerical\n",
    "reload(numerical)\n",
    "\n",
    "fun = lambda x: (x[0] + x[1]) ** 2\n",
    "\n",
    "print numerical.grad(fun)([0.6, 0.7])\n",
    "print numerical.hess(fun)([3, 1])\n",
    "\n",
    "fun = lambda x: x ** 2\n",
    "print numerical.grad(fun)(0.5)"
   ]
  },
  {
   "cell_type": "code",
   "execution_count": null,
   "metadata": {
    "collapsed": true
   },
   "outputs": [],
   "source": [
    "# http://stackoverflow.com/questions/35266370/tensorflow-compute-hessian-matrix-and-higher-order-derivatives\n",
    "    \n",
    "def compute_hessian(fn, vars):\n",
    "    mat = []\n",
    "    for v1 in vars:\n",
    "        temp = []\n",
    "        for v2 in vars:\n",
    "            # computing derivative twice, first w.r.t v2 and then w.r.t v1\n",
    "            temp.append(tf.gradients(tf.gradients(f, v2)[0], v1)[0])\n",
    "        # tensorflow returns None when there is no gradient, so we replace None with 0\n",
    "        temp = [cons(0) if t == None else t for t in temp] \n",
    "        temp = tf.pack(temp)\n",
    "        mat.append(temp)\n",
    "    mat = tf.pack(mat)\n",
    "    return mat"
   ]
  }
 ],
 "metadata": {
  "kernelspec": {
   "display_name": "Python 2",
   "language": "python",
   "name": "python2"
  },
  "language_info": {
   "codemirror_mode": {
    "name": "ipython",
    "version": 2
   },
   "file_extension": ".py",
   "mimetype": "text/x-python",
   "name": "python",
   "nbconvert_exporter": "python",
   "pygments_lexer": "ipython2",
   "version": "2.7.12"
  }
 },
 "nbformat": 4,
 "nbformat_minor": 0
}
