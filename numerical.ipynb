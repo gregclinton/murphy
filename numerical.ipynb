{
 "cells": [
  {
   "cell_type": "code",
   "execution_count": 4,
   "metadata": {
    "collapsed": true
   },
   "outputs": [],
   "source": [
    "fun = lambda x: x ** 2"
   ]
  },
  {
   "cell_type": "code",
   "execution_count": 10,
   "metadata": {
    "collapsed": false
   },
   "outputs": [
    {
     "name": "stdout",
     "output_type": "stream",
     "text": [
      "6.0\n",
      "2.0\n",
      "-1.05435936153e-13\n"
     ]
    }
   ],
   "source": [
    "import numdifftools as nd\n",
    "\n",
    "first = nd.Derivative(fun)\n",
    "print first(3)\n",
    "\n",
    "second = nd.Derivative(fun, n = 2)\n",
    "print second(3)\n",
    "\n",
    "third = nd.Derivative(fun, n = 3)\n",
    "print third(3)"
   ]
  },
  {
   "cell_type": "code",
   "execution_count": 15,
   "metadata": {
    "collapsed": false
   },
   "outputs": [
    {
     "name": "stdout",
     "output_type": "stream",
     "text": [
      "6.0\n",
      "2.0\n"
     ]
    }
   ],
   "source": [
    "from scipy.misc import derivative\n",
    "\n",
    "print derivative(fun, 3, n = 1)\n",
    "print derivative(fun, 3, n = 2)\n",
    "# print derivative(fun, 3, n = 3)"
   ]
  },
  {
   "cell_type": "code",
   "execution_count": 92,
   "metadata": {
    "collapsed": false
   },
   "outputs": [
    {
     "data": {
      "text/plain": [
       "array([ -6.45581930e-30,  -1.76067786e-30])"
      ]
     },
     "execution_count": 92,
     "metadata": {},
     "output_type": "execute_result"
    }
   ],
   "source": [
    "from scipy.misc import derivative\n",
    "import numpy as np\n",
    "\n",
    "from scipy import stats\n",
    "pdf = stats.multivariate_normal((23, 7), 4).pdf\n",
    "fun = lambda x: -pdf(np.array(x))\n",
    "\n",
    "grad = lambda x: derivative(fun, np.array(x), n = 1)\n",
    "\n",
    "def hess(grad, x):\n",
    "    x = np.array(x).astype(float)\n",
    "    hess = np.zeros_like(x)\n",
    "    it = np.nditer(x, flags = ['multi_index'])\n",
    "    \n",
    "    def partial_derivative(func, ix, point):\n",
    "        def wraps(x):\n",
    "            point[ix] = x\n",
    "            return func(point)\n",
    "        return derivative(wraps, point[ix], dx = 1e-6)\n",
    "\n",
    "    def xxxxxpartial_derivative(func, ix, point):\n",
    "        args = point[:]\n",
    "        def wraps(x):\n",
    "            args[ix] = x\n",
    "            return func(*args)\n",
    "        return derivative(wraps, point[ix], dx = 1e-6)\n",
    "    \n",
    "    while not it.finished:\n",
    "        ix = it.multi_index\n",
    "        hess[ix] = partial_derivative(grad, ix, hess)\n",
    "        it.iternext()\n",
    "        \n",
    "    return hess\n",
    "\n",
    "hess(grad, [3, 1])"
   ]
  },
  {
   "cell_type": "code",
   "execution_count": 21,
   "metadata": {
    "collapsed": false
   },
   "outputs": [
    {
     "data": {
      "text/plain": [
       "2.9999999995311555"
      ]
     },
     "execution_count": 21,
     "metadata": {},
     "output_type": "execute_result"
    }
   ],
   "source": [
    "foo = lambda x, y: x ** 2 + y ** 3\n",
    "\n",
    "from scipy.misc import derivative\n",
    "derivative(foo, 1, dx = 1e-6, args = (3, ))\n",
    "\n",
    "def partial_derivative(func, var=0, point=[]):\n",
    "    args = point[:]\n",
    "    def wraps(x):\n",
    "        args[var] = x\n",
    "        return func(*args)\n",
    "    return derivative(wraps, point[var], dx = 1e-6)\n",
    "\n",
    "partial_derivative(foo, 1, [3, 1])"
   ]
  },
  {
   "cell_type": "code",
   "execution_count": 52,
   "metadata": {
    "collapsed": false
   },
   "outputs": [
    {
     "name": "stdout",
     "output_type": "stream",
     "text": [
      "(0, 0)\n",
      "(0, 1)\n",
      "(1, 0)\n",
      "(1, 1)\n"
     ]
    }
   ],
   "source": [
    "x = np.array([[1, 2], [3, 4]])\n",
    "\n",
    "it = np.nditer(x, flags = ['multi_index'])\n",
    "\n",
    "while not it.finished:\n",
    "    ix = it.multi_index\n",
    "    print ix\n",
    "    x[ix] = 2\n",
    "    it.iternext()"
   ]
  }
 ],
 "metadata": {
  "kernelspec": {
   "display_name": "Python 2",
   "language": "python",
   "name": "python2"
  },
  "language_info": {
   "codemirror_mode": {
    "name": "ipython",
    "version": 2
   },
   "file_extension": ".py",
   "mimetype": "text/x-python",
   "name": "python",
   "nbconvert_exporter": "python",
   "pygments_lexer": "ipython2",
   "version": "2.7.12"
  }
 },
 "nbformat": 4,
 "nbformat_minor": 0
}
