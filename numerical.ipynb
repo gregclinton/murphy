{
 "cells": [
  {
   "cell_type": "code",
   "execution_count": 9,
   "metadata": {
    "collapsed": false
   },
   "outputs": [
    {
     "name": "stdout",
     "output_type": "stream",
     "text": [
      "[ 3.6       1.200006]\n",
      "[[ 17.99994875   5.99995054]\n",
      " [  5.99995054   2.00008066]]\n"
     ]
    }
   ],
   "source": [
    "import derive\n",
    "reload(derive)\n",
    "\n",
    "fun = lambda x: (3 * x[0] + x[1]) ** 2\n",
    "point = [0.1, 0.3]\n",
    "\n",
    "print derive.grad(fun)(point)\n",
    "print derive.hess(fun)(point)"
   ]
  },
  {
   "cell_type": "code",
   "execution_count": 69,
   "metadata": {
    "collapsed": false
   },
   "outputs": [
    {
     "name": "stdout",
     "output_type": "stream",
     "text": [
      "[3.6, 1.2]\n"
     ]
    }
   ],
   "source": [
    "import sympy as sm\n",
    "import numpy as np\n",
    "\n",
    "D = 2\n",
    "x = sm.symbols(' '.join(['x%s' % i for i in xrange(D)]))\n",
    "fun = (3 * x[0] + x[1]) ** 2\n",
    "\n",
    "def grad(fun):\n",
    "    x = list(fun.free_symbols)\n",
    "    D = len(x)\n",
    "    fns = []\n",
    "    for i in xrange(D):\n",
    "        rest = range(D)\n",
    "        del rest[i]\n",
    "        vars = [x[j] for j in rest]\n",
    "        vals = [point[j] for j in rest]\n",
    "        substitutions = {var: val for (var, val) in zip(vars, vals)}\n",
    "        partial = sm.diff(fun.subs(substitutions), x[i])\n",
    "        fns.append(sm.lambdify(x[i], partial, 'numpy'))\n",
    "    \n",
    "    def eval(x):\n",
    "        return [fn(x[i]) for i, fn in enumerate(fns)]\n",
    "    \n",
    "    return eval\n",
    "    \n",
    "print grad(fun)(point)"
   ]
  },
  {
   "cell_type": "code",
   "execution_count": 25,
   "metadata": {
    "collapsed": false
   },
   "outputs": [
    {
     "name": "stdout",
     "output_type": "stream",
     "text": [
      "[[ 18.   6.]\n",
      " [  6.   2.]]\n"
     ]
    }
   ],
   "source": [
    "import derive\n",
    "reload(derive)\n",
    "\n",
    "import tensorflow as tf      \n",
    "\n",
    "x = tf.Variable(0, dtype = tf.float32)\n",
    "y = tf.Variable(0, dtype = tf.float32)\n",
    "f = (3 * x + y) ** 2\n",
    "hess = derive.hess(f)\n",
    "\n",
    "with tf.Session() as sess:\n",
    "    sess.run(tf.initialize_all_variables())\n",
    "    print hess([x, y]).eval()"
   ]
  },
  {
   "cell_type": "code",
   "execution_count": 211,
   "metadata": {
    "collapsed": false
   },
   "outputs": [],
   "source": [
    "import theano\n",
    "import theano.tensor as T\n",
    "\n",
    "x = T.dvector('x')\n",
    "y = x ** 2\n",
    "cost = y.sum()\n",
    "gy = T.grad(cost, x)\n",
    "H, updates = theano.scan(lambda i, gy,x : T.grad(gy[i], x), sequences=T.arange(gy.shape[0]), non_sequences=[gy, x])\n",
    "f = theano.function([x], H, updates=updates)"
   ]
  }
 ],
 "metadata": {
  "kernelspec": {
   "display_name": "Python 2",
   "language": "python",
   "name": "python2"
  },
  "language_info": {
   "codemirror_mode": {
    "name": "ipython",
    "version": 2
   },
   "file_extension": ".py",
   "mimetype": "text/x-python",
   "name": "python",
   "nbconvert_exporter": "python",
   "pygments_lexer": "ipython2",
   "version": "2.7.12"
  }
 },
 "nbformat": 4,
 "nbformat_minor": 0
}
