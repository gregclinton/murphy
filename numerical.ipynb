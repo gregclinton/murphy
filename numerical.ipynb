{
 "cells": [
  {
   "cell_type": "code",
   "execution_count": 207,
   "metadata": {
    "collapsed": false
   },
   "outputs": [
    {
     "name": "stdout",
     "output_type": "stream",
     "text": [
      "[  6.6       10.400002]\n",
      "[[ 2.0001778   2.0001778 ]\n",
      " [ 2.0001778   5.99875705]]\n",
      "0.999999999987\n"
     ]
    }
   ],
   "source": [
    "import numerical\n",
    "reload(numerical)\n",
    "\n",
    "fun = lambda x: (3 * x[0] + x[1]) ** 2\n",
    "#fun = tf.pow(x, cons(2)) + cons(2) * x * y + cons(3) * tf.pow(y, cons(2)) + cons(4) * x + cons(5) * y + cons(6)\n",
    "fun = lambda x: x[0] ** 2 + 2 * x[0] * x[1] + 3 * x[1] ** 2 + 4 * x[0] + 5 * x[1] + 6\n",
    "\n",
    "\n",
    "print numerical.grad(fun)([0.6, 0.7])\n",
    "print numerical.hess(fun)([3, 1])\n",
    "\n",
    "fun = lambda x: x ** 2\n",
    "print numerical.grad(fun)(0.5)"
   ]
  },
  {
   "cell_type": "code",
   "execution_count": 209,
   "metadata": {
    "collapsed": false
   },
   "outputs": [
    {
     "name": "stdout",
     "output_type": "stream",
     "text": [
      "[[ 2.  2.]\n",
      " [ 2.  6.]]\n"
     ]
    }
   ],
   "source": [
    "# http://stackoverflow.com/questions/35266370/tensorflow-compute-hessian-matrix-and-higher-order-derivatives\n",
    "import tensorflow as tf      \n",
    "\n",
    "def compute_hessian(fn, vars):\n",
    "    cons = lambda x: tf.constant(x, dtype=tf.float32)\n",
    "    mat = []\n",
    "    for v1 in vars:\n",
    "        temp = []\n",
    "        for v2 in vars:\n",
    "            # computing derivative twice, first w.r.t v2 and then w.r.t v1\n",
    "            temp.append(tf.gradients(tf.gradients(f, v2)[0], v1)[0])\n",
    "        # tensorflow returns None when there is no gradient, so we replace None with 0\n",
    "        temp = [cons(0) if t == None else t for t in temp] \n",
    "        temp = tf.pack(temp)\n",
    "        mat.append(temp)\n",
    "    mat = tf.pack(mat)\n",
    "    return mat\n",
    "\n",
    "x = tf.Variable(np.random.random_sample(), dtype=tf.float32)\n",
    "y = tf.Variable(np.random.random_sample(), dtype=tf.float32)\n",
    "f = (3 * x + y) ** 2\n",
    "f = tf.pow(x, cons(2)) + cons(2) * x * y + cons(3) * tf.pow(y, cons(2)) + cons(4) * x + cons(5) * y + cons(6)\n",
    "\n",
    "with tf.Session() as sess:\n",
    "    sess.run(tf.initialize_all_variables())\n",
    "    print compute_hessian(f, [x, y]).eval()"
   ]
  },
  {
   "cell_type": "code",
   "execution_count": 191,
   "metadata": {
    "collapsed": false
   },
   "outputs": [],
   "source": [
    "import theano\n",
    "import theano.tensor as T\n",
    "\n",
    "x = T.dvector('x')\n",
    "y = x ** 2\n",
    "cost = y.sum()\n",
    "gy = T.grad(cost, x)\n",
    "H, updates = theano.scan(lambda i, gy,x : T.grad(gy[i], x), sequences=T.arange(gy.shape[0]), non_sequences=[gy, x])\n",
    "f = theano.function([x], H, updates=updates)"
   ]
  }
 ],
 "metadata": {
  "kernelspec": {
   "display_name": "Python 2",
   "language": "python",
   "name": "python2"
  },
  "language_info": {
   "codemirror_mode": {
    "name": "ipython",
    "version": 2
   },
   "file_extension": ".py",
   "mimetype": "text/x-python",
   "name": "python",
   "nbconvert_exporter": "python",
   "pygments_lexer": "ipython2",
   "version": "2.7.12"
  }
 },
 "nbformat": 4,
 "nbformat_minor": 0
}
