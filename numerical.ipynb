{
 "cells": [
  {
   "cell_type": "code",
   "execution_count": 4,
   "metadata": {
    "collapsed": true
   },
   "outputs": [],
   "source": [
    "fun = lambda x: x ** 2"
   ]
  },
  {
   "cell_type": "code",
   "execution_count": 10,
   "metadata": {
    "collapsed": false
   },
   "outputs": [
    {
     "name": "stdout",
     "output_type": "stream",
     "text": [
      "6.0\n",
      "2.0\n",
      "-1.05435936153e-13\n"
     ]
    }
   ],
   "source": [
    "import numdifftools as nd\n",
    "\n",
    "first = nd.Derivative(fun)\n",
    "print first(3)\n",
    "\n",
    "second = nd.Derivative(fun, n = 2)\n",
    "print second(3)\n",
    "\n",
    "third = nd.Derivative(fun, n = 3)\n",
    "print third(3)"
   ]
  },
  {
   "cell_type": "code",
   "execution_count": 15,
   "metadata": {
    "collapsed": false
   },
   "outputs": [
    {
     "name": "stdout",
     "output_type": "stream",
     "text": [
      "6.0\n",
      "2.0\n"
     ]
    }
   ],
   "source": [
    "from scipy.misc import derivative\n",
    "\n",
    "print derivative(fun, 3, n = 1)\n",
    "print derivative(fun, 3, n = 2)\n",
    "# print derivative(fun, 3, n = 3)"
   ]
  },
  {
   "cell_type": "code",
   "execution_count": null,
   "metadata": {
    "collapsed": true
   },
   "outputs": [],
   "source": [
    "# http://stackoverflow.com/questions/35266370/tensorflow-compute-hessian-matrix-and-higher-order-derivatives\n",
    "    \n",
    "def compute_hessian(fn, vars):\n",
    "    mat = []\n",
    "    for v1 in vars:\n",
    "        temp = []\n",
    "        for v2 in vars:\n",
    "            # computing derivative twice, first w.r.t v2 and then w.r.t v1\n",
    "            temp.append(tf.gradients(tf.gradients(f, v2)[0], v1)[0])\n",
    "        # tensorflow returns None when there is no gradient, so we replace None with 0\n",
    "        temp = [cons(0) if t == None else t for t in temp] \n",
    "        temp = tf.pack(temp)\n",
    "        mat.append(temp)\n",
    "    mat = tf.pack(mat)\n",
    "    return mat"
   ]
  },
  {
   "cell_type": "code",
   "execution_count": 152,
   "metadata": {
    "collapsed": false
   },
   "outputs": [
    {
     "name": "stdout",
     "output_type": "stream",
     "text": [
      "[ 0.  0.]\n",
      "[[ 1.00003339  1.00003339]\n",
      " [ 1.00019992  1.00019992]]\n"
     ]
    }
   ],
   "source": [
    "from scipy.misc import derivative\n",
    "import numpy as np\n",
    "\n",
    "fun = lambda x: (x[0] + x[1]) ** 2\n",
    "\n",
    "def grad(fun):\n",
    "    return lambda x: np.array([partial(fun, i, np.array(x)) for i in xrange(len(x))])\n",
    "\n",
    "# http://stackoverflow.com/questions/20708038/scipy-misc-derivative-for-mutiple-argument-function\n",
    "def partial(func, ix, point):\n",
    "    v = point[:]\n",
    "    def wraps(x):\n",
    "        v[ix] = x\n",
    "        return func(v)\n",
    "    return derivative(wraps, point[ix], dx = 1e-6)\n",
    "\n",
    "def hess(fun):\n",
    "    g = grad(fun)\n",
    "    \n",
    "    def eval(x):\n",
    "        x = np.array(x).astype(float)\n",
    "        n = len(x)\n",
    "        hess = np.empty((n, n))\n",
    "        it = np.nditer(hess, flags = ['multi_index'])\n",
    "\n",
    "        while not it.finished:\n",
    "            ix = it.multi_index\n",
    "            hess[ix] = partial(g, ix, hess)[ix]\n",
    "            it.iternext()\n",
    "        return hess\n",
    "        \n",
    "    return eval\n",
    "\n",
    "print grad(fun)([0, 0])\n",
    "print hess(fun)([3, 1])"
   ]
  }
 ],
 "metadata": {
  "kernelspec": {
   "display_name": "Python 2",
   "language": "python",
   "name": "python2"
  },
  "language_info": {
   "codemirror_mode": {
    "name": "ipython",
    "version": 2
   },
   "file_extension": ".py",
   "mimetype": "text/x-python",
   "name": "python",
   "nbconvert_exporter": "python",
   "pygments_lexer": "ipython2",
   "version": "2.7.12"
  }
 },
 "nbformat": 4,
 "nbformat_minor": 0
}
