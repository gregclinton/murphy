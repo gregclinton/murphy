{
 "cells": [
  {
   "cell_type": "code",
   "execution_count": null,
   "metadata": {
    "collapsed": true
   },
   "outputs": [],
   "source": [
    "!../anaconda2/bin/python cuda.py"
   ]
  },
  {
   "cell_type": "code",
   "execution_count": 2,
   "metadata": {
    "collapsed": false
   },
   "outputs": [
    {
     "name": "stdout",
     "output_type": "stream",
     "text": [
      "[Elemwise{exp,no_inplace}(<TensorType(float32, vector)>)]\n",
      "Looping 1000 times took 1.70900011063 seconds\n",
      "Result is [ 1.23178029  1.61879337  1.52278066 ...,  2.20771813  2.29967761\n",
      "  1.62323284]\n",
      "Used the cpu\n"
     ]
    }
   ],
   "source": [
    "from theano import function, config, shared, sandbox\n",
    "import theano.tensor as T\n",
    "import numpy\n",
    "import time\n",
    "\n",
    "config.floatX = 'float32'\n",
    "config.gpu = 'gpu'\n",
    "config.cuda_root = '/usr/local/cuda/bin'\n",
    "\n",
    "vlen = 10 * 30 * 768 # 10 x #cores x # threads per core\n",
    "iters = 1000\n",
    "rng = numpy.random.RandomState(22)\n",
    "x = shared(numpy.asarray(rng.rand(vlen), config.floatX))\n",
    "f = function([], T.exp(x))\n",
    "print f.maker.fgraph.toposort()\n",
    "t0 = time.time()\n",
    "\n",
    "for i in xrange(iters):\n",
    "    r = f()\n",
    "    \n",
    "t1 = time.time()\n",
    "print 'Looping %d times took' % iters, t1 - t0, 'seconds'\n",
    "print 'Result is', r\n",
    "\n",
    "if numpy.any([isinstance(x.op, T.Elemwise) for x in f.maker.fgraph.toposort()]):\n",
    "    print 'Used the cpu'\n",
    "else:\n",
    "    print 'Used the gpu'"
   ]
  }
 ],
 "metadata": {
  "anaconda-cloud": {},
  "kernelspec": {
   "display_name": "Python [default]",
   "language": "python",
   "name": "python2"
  },
  "language_info": {
   "codemirror_mode": {
    "name": "ipython",
    "version": 2
   },
   "file_extension": ".py",
   "mimetype": "text/x-python",
   "name": "python",
   "nbconvert_exporter": "python",
   "pygments_lexer": "ipython2",
   "version": "2.7.12"
  }
 },
 "nbformat": 4,
 "nbformat_minor": 0
}
