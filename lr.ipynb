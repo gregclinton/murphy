{
 "cells": [
  {
   "cell_type": "code",
   "execution_count": 1,
   "metadata": {
    "collapsed": true
   },
   "outputs": [],
   "source": [
    "import numpy as np\n",
    "import math\n",
    "from numpy.linalg import inv"
   ]
  },
  {
   "cell_type": "code",
   "execution_count": 2,
   "metadata": {
    "collapsed": true
   },
   "outputs": [],
   "source": [
    "def fit(X, y):\n",
    "    heads = y == 0\n",
    "    prior_0 = np.mean(heads)\n",
    "    prior_1 = 1.0 - prior_0\n",
    "    X_0 = X[heads]\n",
    "    X_1 = X[np.logical_not(heads)]\n",
    "    mu_0 = np.mean(X_0, axis = 0)\n",
    "    mu_1 = np.mean(X_1, axis = 0)\n",
    "\n",
    "    a = mu_1 + mu_0\n",
    "    b = mu_1 - mu_0\n",
    "    InvSigma = inv(np.cov(X, rowvar = False))\n",
    "    w = InvSigma.dot(b)\n",
    "    x_0 = 0.5 * a - b * math.log(prior_1 / prior_0) / b.T.dot(InvSigma).dot(b)\n",
    "    return w, x_0\n",
    "\n",
    "def predict(model, X):\n",
    "    w, x_0 = model\n",
    "    sigmoid = 1.0 / (1 + np.exp(-w.dot((X - x_0).T)))\n",
    "    return sigmoid > 0.5"
   ]
  }
 ],
 "metadata": {
  "kernelspec": {
   "display_name": "Python 2",
   "language": "python",
   "name": "python2"
  },
  "language_info": {
   "codemirror_mode": {
    "name": "ipython",
    "version": 2
   },
   "file_extension": ".py",
   "mimetype": "text/x-python",
   "name": "python",
   "nbconvert_exporter": "python",
   "pygments_lexer": "ipython2",
   "version": "2.7.9"
  }
 },
 "nbformat": 4,
 "nbformat_minor": 0
}
