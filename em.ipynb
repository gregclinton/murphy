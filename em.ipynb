{
 "cells": [
  {
   "cell_type": "code",
   "execution_count": null,
   "metadata": {
    "collapsed": true
   },
   "outputs": [],
   "source": [
    "# bda3 page 322"
   ]
  },
  {
   "cell_type": "code",
   "execution_count": 22,
   "metadata": {
    "collapsed": true
   },
   "outputs": [],
   "source": [
    "import numpy as np\n",
    "from scipy import stats\n",
    "from sys import stdout"
   ]
  },
  {
   "cell_type": "code",
   "execution_count": 42,
   "metadata": {
    "collapsed": false
   },
   "outputs": [
    {
     "data": {
      "text/plain": [
       "32.702826235964523"
      ]
     },
     "execution_count": 42,
     "metadata": {},
     "output_type": "execute_result"
    }
   ],
   "source": [
    "# generate fake data\n",
    "\n",
    "mu = 33.3\n",
    "sigma = 5\n",
    "\n",
    "y = stats.norm.rvs(mu, sigma, 50)\n",
    "np.mean(y)"
   ]
  },
  {
   "cell_type": "code",
   "execution_count": 43,
   "metadata": {
    "collapsed": false
   },
   "outputs": [
    {
     "name": "stdout",
     "output_type": "stream",
     "text": [
      "32.325859 32.693511 32.693566 32.693566 32.693566 32.693566 32.693566 32.693566 32.693566 32.693566 "
     ]
    }
   ],
   "source": [
    "mu0 = 25.0\n",
    "tau0 = 20.0\n",
    "mu_hat = 1.0\n",
    "n = len(y)\n",
    "ybar = np.mean(y)\n",
    "invtau02 = 1 / tau0 ** 2\n",
    "\n",
    "for _ in range(10):\n",
    "    V = n / np.mean((y - mu_hat) ** 2)\n",
    "    mu_hat = (mu0 * invtau02 + V * ybar) / (invtau02 + V)\n",
    "    stdout.write('%f ' % mu_hat)"
   ]
  }
 ],
 "metadata": {
  "kernelspec": {
   "display_name": "Python 2",
   "language": "python",
   "name": "python2"
  },
  "language_info": {
   "codemirror_mode": {
    "name": "ipython",
    "version": 2
   },
   "file_extension": ".py",
   "mimetype": "text/x-python",
   "name": "python",
   "nbconvert_exporter": "python",
   "pygments_lexer": "ipython2",
   "version": "2.7.10"
  }
 },
 "nbformat": 4,
 "nbformat_minor": 0
}
