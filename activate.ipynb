{
 "cells": [
  {
   "cell_type": "code",
   "execution_count": 62,
   "metadata": {
    "collapsed": false
   },
   "outputs": [],
   "source": [
    "import numpy as np\n",
    "import tensorflow as tf\n",
    "from softmax import softmax, softmax_cross_entropy_with_logits\n",
    "from scipy.special import expit"
   ]
  },
  {
   "cell_type": "code",
   "execution_count": 63,
   "metadata": {
    "collapsed": false
   },
   "outputs": [],
   "source": [
    "X = np.array([[-1.0, 2], [-1, 3], [3, 4]])\n",
    "Y = np.array([[0, 1], [1, 0], [0, 1]])"
   ]
  },
  {
   "cell_type": "code",
   "execution_count": 64,
   "metadata": {
    "collapsed": false
   },
   "outputs": [
    {
     "name": "stdout",
     "output_type": "stream",
     "text": [
      "[[ 0.04742587  0.95257413]\n",
      " [ 0.01798621  0.98201379]\n",
      " [ 0.26894142  0.73105858]]\n",
      "[[ 0.04742587  0.95257413]\n",
      " [ 0.01798621  0.98201379]\n",
      " [ 0.26894142  0.73105858]]\n"
     ]
    }
   ],
   "source": [
    "print softmax(X)\n",
    "\n",
    "with tf.Session() as sess:\n",
    "    print tf.nn.softmax(X).eval()"
   ]
  },
  {
   "cell_type": "code",
   "execution_count": 65,
   "metadata": {
    "collapsed": false
   },
   "outputs": [
    {
     "name": "stdout",
     "output_type": "stream",
     "text": [
      "[[ 0.26894142  0.88079708]\n",
      " [ 0.26894142  0.95257413]\n",
      " [ 0.95257413  0.98201379]]\n",
      "[[ 0.26894142  0.88079708]\n",
      " [ 0.26894142  0.95257413]\n",
      " [ 0.95257413  0.98201379]]\n"
     ]
    }
   ],
   "source": [
    "print expit(X)\n",
    "\n",
    "with tf.Session() as sess:\n",
    "    print tf.nn.sigmoid(X).eval()"
   ]
  },
  {
   "cell_type": "code",
   "execution_count": 66,
   "metadata": {
    "collapsed": false
   },
   "outputs": [
    {
     "name": "stdout",
     "output_type": "stream",
     "text": [
      "[-0.04858735 -4.01814993 -0.31326169]\n",
      "[ 0.04858735  4.01814993  0.31326169]\n"
     ]
    }
   ],
   "source": [
    "print softmax_cross_entropy_with_logits(X, Y)\n",
    "\n",
    "with tf.Session() as sess:\n",
    "    print tf.nn.softmax_cross_entropy_with_logits(X, Y).eval()"
   ]
  },
  {
   "cell_type": "code",
   "execution_count": 68,
   "metadata": {
    "collapsed": false
   },
   "outputs": [
    {
     "name": "stdout",
     "output_type": "stream",
     "text": [
      "[[ 0.  2.]\n",
      " [ 0.  3.]\n",
      " [ 3.  4.]]\n",
      "[[ 0.  2.]\n",
      " [ 0.  3.]\n",
      " [ 3.  4.]]\n"
     ]
    }
   ],
   "source": [
    "print np.maximum(X, 0, X)\n",
    "\n",
    "with tf.Session() as sess:\n",
    "    print tf.nn.relu(X).eval()"
   ]
  }
 ],
 "metadata": {
  "kernelspec": {
   "display_name": "Python 2",
   "language": "python",
   "name": "python2"
  },
  "language_info": {
   "codemirror_mode": {
    "name": "ipython",
    "version": 2
   },
   "file_extension": ".py",
   "mimetype": "text/x-python",
   "name": "python",
   "nbconvert_exporter": "python",
   "pygments_lexer": "ipython2",
   "version": "2.7.12"
  }
 },
 "nbformat": 4,
 "nbformat_minor": 0
}
