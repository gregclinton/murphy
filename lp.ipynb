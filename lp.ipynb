{
 "cells": [
  {
   "cell_type": "code",
   "execution_count": 5,
   "metadata": {
    "collapsed": false
   },
   "outputs": [],
   "source": [
    "import numpy as np\n",
    "from scipy import stats\n",
    "from numpy.linalg import inv"
   ]
  },
  {
   "cell_type": "code",
   "execution_count": 2,
   "metadata": {
    "collapsed": false
   },
   "outputs": [],
   "source": [
    "N = 100\n",
    "w = [1, -2.5, 3]\n",
    "D = len(w)\n",
    "X = stats.norm.rvs(133, 1, size = (N, D))\n",
    "sigma = 0.5\n",
    "y = stats.norm.rvs(X.dot(w), sigma, size = N)"
   ]
  },
  {
   "cell_type": "code",
   "execution_count": 6,
   "metadata": {
    "collapsed": false
   },
   "outputs": [
    {
     "data": {
      "text/plain": [
       "array([ 0.91335124, -2.40918004,  2.99560119])"
      ]
     },
     "execution_count": 6,
     "metadata": {},
     "output_type": "execute_result"
    }
   ],
   "source": [
    "w_hat = inv(X.T.dot(X)).dot(X.T).dot(y)\n",
    "w_hat"
   ]
  },
  {
   "cell_type": "code",
   "execution_count": 17,
   "metadata": {
    "collapsed": false
   },
   "outputs": [
    {
     "data": {
      "text/plain": [
       "  status: 2\n",
       " success: False\n",
       "     fun: 2.2706281299633702e-12\n",
       "       x: nan\n",
       " message: 'Optimzation failed. Unable to find a feasible starting point.'\n",
       "     nit: 103"
      ]
     },
     "execution_count": 17,
     "metadata": {},
     "output_type": "execute_result"
    }
   ],
   "source": [
    "from scipy.optimize import linprog\n",
    "\n",
    "linprog(\n",
    "    c = [0] * D + [1] * 2 * N, \n",
    "    A_eq = np.hstack([X, np.eye(N), -np.eye(N)]), \n",
    "    b_eq = y,\n",
    "#    A_ub = np.array([[0] * D + [-1] * 2 * N]).T,\n",
    "#    b_ub = [0] * (D + 2 * N)\n",
    "    bounds = [(None, None)] * D + [(0, None)] * 2 * N\n",
    ")"
   ]
  },
  {
   "cell_type": "code",
   "execution_count": null,
   "metadata": {
    "collapsed": false
   },
   "outputs": [],
   "source": [
    "# sudo apt-get install gfortran libopenblas-dev liblapack-dev\n",
    "# sudo -H anaconda/bin/pip install cvxopt\n",
    "\n",
    "from cvxopt import matrix, solvers\n",
    "\n",
    "print solvers.lp(\n",
    "    c = matrix([0] * D + [1] * 2 * N),\n",
    "    G = matrix([0] * D + [-1] * 2 * N),\n",
    "    h = matrix([0] * (D + 2 * N)),\n",
    "    A = matrix(np.hstack([X, np.eye(N), -np.eye(N)])),\n",
    "    b = matrix(y),\n",
    "    options = {'show_progress': False}\n",
    ")"
   ]
  },
  {
   "cell_type": "code",
   "execution_count": null,
   "metadata": {
    "collapsed": false
   },
   "outputs": [],
   "source": [
    "# sudo -H anaconda/bin/pip install mystic\n",
    "\n",
    "import mystic.models"
   ]
  }
 ],
 "metadata": {
  "kernelspec": {
   "display_name": "Python 2",
   "language": "python",
   "name": "python2"
  },
  "language_info": {
   "codemirror_mode": {
    "name": "ipython",
    "version": 2
   },
   "file_extension": ".py",
   "mimetype": "text/x-python",
   "name": "python",
   "nbconvert_exporter": "python",
   "pygments_lexer": "ipython2",
   "version": "2.7.9"
  }
 },
 "nbformat": 4,
 "nbformat_minor": 0
}
