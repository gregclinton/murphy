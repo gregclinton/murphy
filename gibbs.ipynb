{
 "cells": [
  {
   "cell_type": "code",
   "execution_count": null,
   "metadata": {
    "collapsed": false
   },
   "outputs": [],
   "source": [
    "import numpy as np\n",
    "import mcmc\n",
    "from scipy import stats\n",
    "import invchi2"
   ]
  },
  {
   "cell_type": "code",
   "execution_count": null,
   "metadata": {
    "collapsed": false
   },
   "outputs": [],
   "source": [
    "nu = 4\n",
    "n = 10\n",
    "\n",
    "model = lambda mu, sigma: stats.norm.rvs(mu, invchi2.rvs(nu, sigma))\n",
    "    \n",
    "y = [model(13, 2) for _ in range(n)]"
   ]
  },
  {
   "cell_type": "code",
   "execution_count": null,
   "metadata": {
    "collapsed": false
   },
   "outputs": [],
   "source": [
    "def start():\n",
    "    mu = stats.uniform.rvs(0, 100)\n",
    "    sigma = stats.uniform.rvs(0, 100)\n",
    "    a = [mu, sigma]\n",
    "    for _ in range(n):\n",
    "        a.append(invchi2.rvs(nu, sigma))\n",
    "    return a"
   ]
  },
  {
   "cell_type": "code",
   "execution_count": null,
   "metadata": {
    "collapsed": false
   },
   "outputs": [],
   "source": [
    "iterations = 8000 # must be divisible by 4\n",
    "\n",
    "def update(theta):\n",
    "    V = np.array(theta[2:])\n",
    "    precision = np.sum(1.0 / V)\n",
    "\n",
    "    # udpdate mu\n",
    "    loc = np.sum(y / V) / precision\n",
    "    scale = np.sqrt(1 / precision)\n",
    "    theta[0] = stats.norm.rvs(loc, scale)\n",
    "\n",
    "    # udpdate sigma\n",
    "    beta = nu * precision / 2.0\n",
    "    theta[1] = np.sqrt(stats.gamma.rvs(n * nu / 2.0, scale = 1 / beta))\n",
    "\n",
    "    # udpdate V\n",
    "    mu = theta[0]\n",
    "    sigma = theta[1]\n",
    "    V_new = invchi2.rvs(nu + 1, np.sqrt((nu * sigma ** 2 + (y - mu) ** 2) / (nu + 1)))\n",
    "    for i, v in enumerate(V_new):\n",
    "        theta[2 + i] = v\n",
    "\n",
    "starts = [start() for _ in range(5)]\n",
    "samples, rhat, acceptance = mcmc.run(starts, iterations, update)\n",
    "print rhat\n",
    "samples.shape"
   ]
  }
 ],
 "metadata": {
  "kernelspec": {
   "display_name": "Python 2",
   "language": "python",
   "name": "python2"
  },
  "language_info": {
   "codemirror_mode": {
    "name": "ipython",
    "version": 2
   },
   "file_extension": ".py",
   "mimetype": "text/x-python",
   "name": "python",
   "nbconvert_exporter": "python",
   "pygments_lexer": "ipython2",
   "version": "2.7.10"
  }
 },
 "nbformat": 4,
 "nbformat_minor": 0
}
