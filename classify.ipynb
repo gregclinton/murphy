{
 "cells": [
  {
   "cell_type": "code",
   "execution_count": 54,
   "metadata": {
    "collapsed": false
   },
   "outputs": [],
   "source": [
    "%matplotlib inline\n",
    "import matplotlib.pyplot as plt\n",
    "import numpy as np\n",
    "from scipy import stats\n",
    "import classify\n",
    "import mcc\n",
    "import datasets"
   ]
  },
  {
   "cell_type": "code",
   "execution_count": 55,
   "metadata": {
    "collapsed": false
   },
   "outputs": [],
   "source": [
    "import nb\n",
    "import lda\n",
    "import qda\n",
    "import rda\n",
    "import flda\n",
    "import nsc\n",
    "import irls\n",
    "import logistic\n",
    "import knn\n",
    "# from sklearn.discriminant_analysis import LinearDiscriminantAnalysis \n",
    "# from sklearn.discriminant_analysis import QuadraticDiscriminantAnalysis \n",
    "from sklearn.naive_bayes import BernoulliNB, GaussianNB\n",
    "from sklearn.linear_model import LogisticRegression, Perceptron\n",
    "from sklearn.neighbors import NearestCentroid\n",
    "import statsmodels.api as sm"
   ]
  },
  {
   "cell_type": "code",
   "execution_count": 56,
   "metadata": {
    "collapsed": false
   },
   "outputs": [],
   "source": [
    "clf = BernoulliNB()\n",
    "clf = nb.bernoulli()\n",
    "clf = GaussianNB()\n",
    "clf = nb.gaussian()\n",
    "clf = NearestCentroid()\n",
    "clf = nsc.Classifier()\n",
    "# clf = LinearDiscriminantAnalysis()\n",
    "clf = lda.Classifier()\n",
    "# clf = QuadraticDiscriminantAnalysis()\n",
    "clf = qda.Classifier()\n",
    "clf = rda.Classifier()\n",
    "clf = flda.Classifier()\n",
    "clf = LogisticRegression()\n",
    "clf = irls.Classifier()\n",
    "clf = logistic.Classifier()\n",
    "clf = knn.Classifier()"
   ]
  },
  {
   "cell_type": "code",
   "execution_count": 57,
   "metadata": {
    "collapsed": false
   },
   "outputs": [
    {
     "name": "stdout",
     "output_type": "stream",
     "text": [
      "0.119\n"
     ]
    }
   ],
   "source": [
    "X, y = datasets.htwt()\n",
    "fit = sm.Logit(y, sm.add_constant(X)).fit_regularized(disp = 0)\n",
    "p = fit.predict(sm.add_constant(X))\n",
    "yhat = (p > 0.5) * 1\n",
    "print '%0.3f' % np.mean(np.mean(yhat != y))"
   ]
  },
  {
   "cell_type": "code",
   "execution_count": 63,
   "metadata": {
    "collapsed": false
   },
   "outputs": [
    {
     "name": "stdout",
     "output_type": "stream",
     "text": [
      "0.013\n"
     ]
    }
   ],
   "source": [
    "reload(logistic)\n",
    "X, y = datasets.iris()\n",
    "\n",
    "clf = logistic.Classifier()\n",
    "clf.fit(X, y, logistic.categorical_crossentropy_loss)\n",
    "print '%0.3f' % np.mean(clf.predict(X) != y)"
   ]
  },
  {
   "cell_type": "code",
   "execution_count": null,
   "metadata": {
    "collapsed": false
   },
   "outputs": [],
   "source": [
    "classify.show_points(X, y)\n",
    "classify.show_regions(clf, X)\n",
    "# classify.show_contour(clf, X)\n",
    "plt.show()"
   ]
  },
  {
   "cell_type": "code",
   "execution_count": 15,
   "metadata": {
    "collapsed": false
   },
   "outputs": [],
   "source": [
    "# from https://github.com/parsing-science/pymc3_quickstart_guide/blob/master/Quickstart_Guide_no_errors.ipynb\n",
    "\n",
    "import pymc3 as pm\n",
    "import theano\n",
    "from theano import tensor as T\n",
    "\n",
    "X, y = datasets.htwt()\n",
    "\n",
    "model = pm.Model()\n",
    "\n",
    "model_input = theano.shared(X)\n",
    "model_output = theano.shared(y)\n",
    "\n",
    "with model:\n",
    "    N, D = X.shape\n",
    "    alpha = pm.Normal('alpha', mu = 0, tau = 10. ** -2, shape = (1))\n",
    "    betas = pm.Normal('betas', mu = 0, tau = 10. ** -2, shape = (1, D))\n",
    "    p = pm.invlogit(alpha + T.sum(betas * model_input, 1))\n",
    "    o = pm.Bernoulli('o', p, observed = model_output)"
   ]
  }
 ],
 "metadata": {
  "anaconda-cloud": {},
  "kernelspec": {
   "display_name": "Python 2",
   "language": "python",
   "name": "python2"
  },
  "language_info": {
   "codemirror_mode": {
    "name": "ipython",
    "version": 2
   },
   "file_extension": ".py",
   "mimetype": "text/x-python",
   "name": "python",
   "nbconvert_exporter": "python",
   "pygments_lexer": "ipython2",
   "version": "2.7.12"
  }
 },
 "nbformat": 4,
 "nbformat_minor": 0
}
