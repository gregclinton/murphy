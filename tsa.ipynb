{
 "cells": [
  {
   "cell_type": "code",
   "execution_count": 21,
   "metadata": {
    "collapsed": false
   },
   "outputs": [],
   "source": [
    "%matplotlib inline\n",
    "import matplotlib.pyplot as plt\n",
    "import numpy as np\n",
    "import pandas as pd\n",
    "import statsmodels.api as sm\n",
    "import os\n",
    "import datasets"
   ]
  },
  {
   "cell_type": "code",
   "execution_count": null,
   "metadata": {
    "collapsed": true
   },
   "outputs": [],
   "source": [
    "# acf pacf ar ma arma arima kalman fft freq resample\n",
    "# https://github.com/burakbayramli/kod/tree/master/books/Introductory_Time_Series_with_R_Metcalfe"
   ]
  },
  {
   "cell_type": "code",
   "execution_count": 44,
   "metadata": {
    "collapsed": false
   },
   "outputs": [
    {
     "data": {
      "text/plain": [
       "<module 'datasets' from 'datasets.pyc'>"
      ]
     },
     "execution_count": 44,
     "metadata": {},
     "output_type": "execute_result"
    }
   ],
   "source": [
    "# ts = datasets.maine()\n",
    "# ts = datasets.passengers()\n",
    "# ts = datasets.sunspots()\n",
    "# ts = datasets.exchange()\n",
    "# ts = datasets.warming()\n",
    "reload(datasets)"
   ]
  },
  {
   "cell_type": "code",
   "execution_count": 20,
   "metadata": {
    "collapsed": false
   },
   "outputs": [
    {
     "name": "stdout",
     "output_type": "stream",
     "text": [
      "[ 1.          0.82020129  0.45126849  0.03957655]\n",
      "[ 0  1 10 11  9 12  2 21 22 32]\n"
     ]
    }
   ],
   "source": [
    "pacf = sm.tsa.pacf(ts, nlags = 2)    \n",
    "acf = sm.tsa.acf(ts, nlags = 60 * 60 * 24)    \n",
    "print acf[:4]\n",
    "print np.argsort(acf)[::-1][:10]    "
   ]
  },
  {
   "cell_type": "code",
   "execution_count": 45,
   "metadata": {
    "collapsed": false
   },
   "outputs": [],
   "source": [
    "# ts.plot()\n",
    "# ts.rolling(12).mean().plot()\n",
    "# sm.graphics.tsa.plot_acf(ts, lags=40)\n",
    "# sm.graphics.tsa.plot_pacf(ts, lags=40)"
   ]
  },
  {
   "cell_type": "code",
   "execution_count": 19,
   "metadata": {
    "collapsed": false
   },
   "outputs": [
    {
     "name": "stdout",
     "output_type": "stream",
     "text": [
      "const    16.944345\n",
      "L1.y      1.301721\n",
      "L2.y     -0.509949\n",
      "L3.y     -0.130250\n",
      "dtype: float64\n",
      "5.63580397958 5.69664687341 5.66013716178\n"
     ]
    }
   ],
   "source": [
    "fit = sm.tsa.AR(ts).fit(3)\n",
    "print fit.params\n",
    "print fit.aic, fit.bic, fit.hqic"
   ]
  },
  {
   "cell_type": "code",
   "execution_count": 61,
   "metadata": {
    "collapsed": false
   },
   "outputs": [
    {
     "name": "stdout",
     "output_type": "stream",
     "text": [
      "const      48.865608\n",
      "ar.L1.y     2.546062\n",
      "ar.L2.y    -2.441383\n",
      "ar.L3.y     0.869939\n",
      "ma.L1.y    -1.411675\n",
      "ma.L2.y     0.431192\n",
      "ma.L3.y     0.159175\n",
      "dtype: float64\n",
      "2575.6956449 2605.56237512 2587.63642059\n"
     ]
    }
   ],
   "source": [
    "fit = sm.tsa.ARMA(ts, (3, 3)).fit()\n",
    "print fit.params\n",
    "print fit.aic, fit.bic, fit.hqic"
   ]
  }
 ],
 "metadata": {
  "anaconda-cloud": {},
  "kernelspec": {
   "display_name": "Python [default]",
   "language": "python",
   "name": "python2"
  },
  "language_info": {
   "codemirror_mode": {
    "name": "ipython",
    "version": 2
   },
   "file_extension": ".py",
   "mimetype": "text/x-python",
   "name": "python",
   "nbconvert_exporter": "python",
   "pygments_lexer": "ipython2",
   "version": "2.7.12"
  }
 },
 "nbformat": 4,
 "nbformat_minor": 0
}
