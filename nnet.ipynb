{
 "cells": [
  {
   "cell_type": "code",
   "execution_count": null,
   "metadata": {
    "collapsed": true
   },
   "outputs": [],
   "source": [
    "# https://github.com/Newmu/Theano-Tutorials\n",
    "# see batch normalization"
   ]
  },
  {
   "cell_type": "code",
   "execution_count": 1,
   "metadata": {
    "collapsed": true
   },
   "outputs": [],
   "source": [
    "import datasets\n",
    "\n",
    "datasets.downloads = '/home/greg/Downloads/'\n",
    "\n",
    "trX, teX, trY, teY = datasets.mnist()"
   ]
  },
  {
   "cell_type": "code",
   "execution_count": 129,
   "metadata": {
    "collapsed": true
   },
   "outputs": [],
   "source": [
    "import numpy as np"
   ]
  },
  {
   "cell_type": "code",
   "execution_count": 146,
   "metadata": {
    "collapsed": false
   },
   "outputs": [],
   "source": [
    "X = trX\n",
    "Y = trY\n",
    "\n",
    "labels = np.argmax(Y, axis = 1)\n",
    "\n",
    "epochs = 1\n",
    "H = 625\n",
    "\n",
    "N, D = X.shape\n",
    "N, C = Y.shape\n",
    "\n",
    "def accuracy(c):\n",
    "    return np.mean(c == labels[:len(yhat)])"
   ]
  },
  {
   "cell_type": "code",
   "execution_count": 160,
   "metadata": {
    "collapsed": false
   },
   "outputs": [
    {
     "name": "stdout",
     "output_type": "stream",
     "text": [
      "0.903\n"
     ]
    }
   ],
   "source": [
    "import tensorflow as tf\n",
    "\n",
    "x = tf.placeholder('float')\n",
    "y = tf.placeholder('float')\n",
    "\n",
    "weights = lambda shape: tf.Variable(np.random.normal(size = shape).astype(np.float32))\n",
    "params = []\n",
    "\n",
    "w = weights([D, H])\n",
    "b = weights([H])\n",
    "l = tf.nn.relu(tf.matmul(x, w) + b)\n",
    "params += [w, b]\n",
    "\n",
    "w = weights([H, C])\n",
    "b = weights([C])\n",
    "model = tf.matmul(l, w) + b\n",
    "params += [w, b]\n",
    "\n",
    "cost = tf.reduce_mean(tf.nn.softmax_cross_entropy_with_logits(model, y))\n",
    "optimizer = tf.train.AdamOptimizer().minimize(cost)\n",
    "\n",
    "with tf.Session() as sess:\n",
    "    sess.run(tf.initialize_all_variables())\n",
    "\n",
    "    for _ in range(epochs):\n",
    "        for start, end in zip(range(0, N, 32), range(32, N, 32)):\n",
    "            feed_dict = {x: X[start : end], y: Y[start : end]}\n",
    "            sess.run(optimizer, feed_dict = feed_dict)\n",
    "\n",
    "    params = [p.eval() for p in params]\n",
    "    \n",
    "relu = lambda x: x * (x > 0)\n",
    "w1, b1, w2, b2 = params\n",
    "c = np.argmax(relu(X[:1000].dot(w1) + b1).dot(w2) + b2, axis = 1)\n",
    "print accuracy(c)"
   ]
  },
  {
   "cell_type": "code",
   "execution_count": 159,
   "metadata": {
    "collapsed": false
   },
   "outputs": [
    {
     "name": "stdout",
     "output_type": "stream",
     "text": [
      "Epoch 1/1\n",
      "60000/60000 [==============================] - 24s - loss: 0.1974 - acc: 0.9409    \n",
      "0.978\n"
     ]
    }
   ],
   "source": [
    "from keras.models import Sequential\n",
    "from keras.layers import Dense, Activation\n",
    "\n",
    "model = Sequential()\n",
    "model.add(Dense(output_dim = H, input_dim = D))\n",
    "model.add(Activation('relu'))\n",
    "model.add(Dense(output_dim = C))\n",
    "model.add(Activation('softmax'))\n",
    "model.compile(loss = 'categorical_crossentropy', optimizer = 'adam', metrics = ['accuracy'])\n",
    "model.fit(X, Y, nb_epoch = epochs)\n",
    "p = model.predict_proba(X[:1000], verbose = 0)\n",
    "c = np.argmax(p, axis = 1)\n",
    "print accuracy(c)"
   ]
  }
 ],
 "metadata": {
  "anaconda-cloud": {},
  "kernelspec": {
   "display_name": "Python 2",
   "language": "python",
   "name": "python2"
  },
  "language_info": {
   "codemirror_mode": {
    "name": "ipython",
    "version": 2
   },
   "file_extension": ".py",
   "mimetype": "text/x-python",
   "name": "python",
   "nbconvert_exporter": "python",
   "pygments_lexer": "ipython2",
   "version": "2.7.12"
  }
 },
 "nbformat": 4,
 "nbformat_minor": 1
}
