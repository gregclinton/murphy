{
 "cells": [
  {
   "cell_type": "code",
   "execution_count": 2,
   "metadata": {
    "collapsed": true
   },
   "outputs": [],
   "source": [
    "import datasets\n",
    "\n",
    "datasets.downloads = '/home/greg/Downloads/'\n",
    "\n",
    "trX, teX, trY, teY = datasets.mnist()"
   ]
  },
  {
   "cell_type": "code",
   "execution_count": 3,
   "metadata": {
    "collapsed": true
   },
   "outputs": [],
   "source": [
    "import numpy as np\n",
    "from softmax import softmax\n",
    "from scipy.special import expit"
   ]
  },
  {
   "cell_type": "code",
   "execution_count": 13,
   "metadata": {
    "collapsed": true
   },
   "outputs": [],
   "source": [
    "X = trX\n",
    "Y = trY\n",
    "\n",
    "epochs = 1\n",
    "learning_rate = 0.05\n",
    "H = 625\n",
    "\n",
    "N, D = X.shape\n",
    "N, C = Y.shape\n",
    "\n",
    "def accuracy(yhat):\n",
    "    decode = lambda y: np.argmax(y, axis = 1)\n",
    "    return np.mean(decode(yhat) == decode(Y[:len(yhat)]))"
   ]
  },
  {
   "cell_type": "code",
   "execution_count": 47,
   "metadata": {
    "collapsed": false
   },
   "outputs": [
    {
     "name": "stdout",
     "output_type": "stream",
     "text": [
      "0.746283333333\n"
     ]
    }
   ],
   "source": [
    "# https://github.com/Newmu/Theano-Tutorials\n",
    "\n",
    "import theano\n",
    "from theano import tensor as T\n",
    "\n",
    "x = T.fmatrix()\n",
    "y = T.fmatrix()\n",
    "\n",
    "weights = lambda shape: theano.shared(np.random.normal(size = shape))\n",
    "\n",
    "w_h = weights([D, H])\n",
    "w_o = weights([H, C])\n",
    "\n",
    "cost = T.mean(T.nnet.categorical_crossentropy(T.nnet.softmax(T.dot(T.nnet.sigmoid(T.dot(x, w_h)), w_o)), y))\n",
    "updates = [[p, p - T.grad(cost, p) * learning_rate] for p in [w_h, w_o]]\n",
    "optimizer = theano.function([x, y], updates = updates, allow_input_downcast = True)\n",
    "\n",
    "for _ in range(epochs):\n",
    "    for start, end in zip(range(0, N, 128), range(128, N, 128)):\n",
    "        optimizer(X[start : end], Y[start : end])\n",
    "        \n",
    "w_h, w_o = w_h.get_value(), w_o.get_value()\n",
    "print accuracy(softmax(expit(X.dot(w_h)).dot(w_o)))"
   ]
  },
  {
   "cell_type": "code",
   "execution_count": 14,
   "metadata": {
    "collapsed": false
   },
   "outputs": [
    {
     "name": "stdout",
     "output_type": "stream",
     "text": [
      "0.922\n"
     ]
    }
   ],
   "source": [
    "import tensorflow as tf\n",
    "\n",
    "x = tf.placeholder('float')\n",
    "y = tf.placeholder('float')\n",
    "\n",
    "weights = lambda shape: tf.Variable(np.random.normal(size = shape).astype(np.float32))\n",
    "params = []\n",
    "\n",
    "w = weights([D, H])\n",
    "b = weights([H])\n",
    "l = tf.nn.relu(tf.matmul(x, w) + b)\n",
    "params += [w, b]\n",
    "\n",
    "w = weights([H, C])\n",
    "b = weights([C])\n",
    "model = tf.matmul(l, w) + b\n",
    "params += [w, b]\n",
    "\n",
    "cost = tf.reduce_mean(tf.nn.softmax_cross_entropy_with_logits(model, y))\n",
    "optimizer = tf.train.AdamOptimizer(learning_rate).minimize(cost)\n",
    "\n",
    "with tf.Session() as sess:\n",
    "    sess.run(tf.initialize_all_variables())\n",
    "\n",
    "    for _ in range(epochs):\n",
    "        for start, end in zip(range(0, N, 100), range(100, N, 100)):\n",
    "            feed_dict = {x: X[start : end], y: Y[start : end]}\n",
    "            sess.run(optimizer, feed_dict = feed_dict)\n",
    "\n",
    "    params = [p.eval() for p in params]\n",
    "    print accuracy(model.eval({x: X[:1000]}))"
   ]
  },
  {
   "cell_type": "code",
   "execution_count": 16,
   "metadata": {
    "collapsed": false
   },
   "outputs": [
    {
     "name": "stdout",
     "output_type": "stream",
     "text": [
      "0.848\n"
     ]
    }
   ],
   "source": [
    "relu = lambda x: x * (x > 0)\n",
    "\n",
    "N = 1000\n",
    "w1, b1, w2, b2 = params\n",
    "\n",
    "yhat = softmax(expit(relu(X[:N].dot(w1) + b1).dot(w2) + b2))\n",
    "print accuracy(yhat)"
   ]
  },
  {
   "cell_type": "code",
   "execution_count": 39,
   "metadata": {
    "collapsed": false
   },
   "outputs": [
    {
     "name": "stdout",
     "output_type": "stream",
     "text": [
      "Epoch 1/1\n",
      "60000/60000 [==============================] - 12s - loss: 0.9770 - acc: 0.7827    \n",
      "1000/1000 [==============================] - 0s     \n"
     ]
    },
    {
     "data": {
      "text/plain": [
       "0.86799999999999999"
      ]
     },
     "execution_count": 39,
     "metadata": {},
     "output_type": "execute_result"
    }
   ],
   "source": [
    "from keras.models import Sequential\n",
    "from keras.layers import Dense, Activation\n",
    "\n",
    "model = Sequential()\n",
    "model.add(Dense(output_dim = H, input_dim = D))\n",
    "model.add(Activation('relu'))\n",
    "model.add(Dense(output_dim = C))\n",
    "model.add(Activation('softmax'))\n",
    "model.compile(loss = 'categorical_crossentropy', optimizer = 'sgd', metrics = ['accuracy'])\n",
    "model.fit(X, Y, nb_epoch = 1, batch_size = 100)\n",
    "c = model.predict_classes(X[:1000], batch_size = 100)\n",
    "np.mean(c == np.argmax(Y[:len(c)], axis = 1))"
   ]
  }
 ],
 "metadata": {
  "anaconda-cloud": {},
  "kernelspec": {
   "display_name": "Python [default]",
   "language": "python",
   "name": "python2"
  },
  "language_info": {
   "codemirror_mode": {
    "name": "ipython",
    "version": 2
   },
   "file_extension": ".py",
   "mimetype": "text/x-python",
   "name": "python",
   "nbconvert_exporter": "python",
   "pygments_lexer": "ipython2",
   "version": "2.7.12"
  }
 },
 "nbformat": 4,
 "nbformat_minor": 1
}
