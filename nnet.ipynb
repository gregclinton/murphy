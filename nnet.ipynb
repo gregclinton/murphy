{
 "cells": [
  {
   "cell_type": "code",
   "execution_count": 1,
   "metadata": {
    "collapsed": true
   },
   "outputs": [],
   "source": [
    "import datasets\n",
    "\n",
    "datasets.downloads = '/home/greg/Downloads/'\n",
    "\n",
    "trX, teX, trY, teY = datasets.mnist()"
   ]
  },
  {
   "cell_type": "code",
   "execution_count": 2,
   "metadata": {
    "collapsed": true
   },
   "outputs": [],
   "source": [
    "import numpy as np\n",
    "from softmax import softmax"
   ]
  },
  {
   "cell_type": "code",
   "execution_count": 3,
   "metadata": {
    "collapsed": true
   },
   "outputs": [],
   "source": [
    "X = trX\n",
    "Y = trY\n",
    "\n",
    "epochs = 1\n",
    "learning_rate = 0.05\n",
    "H = 625\n",
    "\n",
    "N, D = X.shape\n",
    "N, C = Y.shape"
   ]
  },
  {
   "cell_type": "code",
   "execution_count": 6,
   "metadata": {
    "collapsed": false
   },
   "outputs": [
    {
     "name": "stdout",
     "output_type": "stream",
     "text": [
      "0.698783333333\n",
      "0.642333333333\n"
     ]
    }
   ],
   "source": [
    "import theano\n",
    "from theano import tensor as T\n",
    "\n",
    "x = T.fmatrix()\n",
    "y = T.fmatrix()\n",
    "\n",
    "floatX = lambda X: np.asarray(X, dtype = theano.config.floatX)\n",
    "weights = lambda n, d: theano.shared(floatX(np.random.randn(n, d) * 0.01))\n",
    "\n",
    "w_h = weights(D, H)\n",
    "w_o = weights(H, C)\n",
    "\n",
    "h = T.nnet.sigmoid(T.dot(x, w_h))\n",
    "mu = T.nnet.softmax(T.dot(h, w_o))\n",
    "\n",
    "cost = T.mean(T.nnet.categorical_crossentropy(mu, y))\n",
    "params = [w_h, w_o]\n",
    "grads = T.grad(cost, params)\n",
    "updates = [[p, p - g * learning_rate] for p, g in zip(params, grads)]\n",
    "\n",
    "train = theano.function([x, y], updates = updates, allow_input_downcast = True)\n",
    "predict = theano.function([x], T.argmax(mu, axis = 1), allow_input_downcast = True)\n",
    "\n",
    "for _ in range(epochs):\n",
    "    for start, end in zip(range(0, N, 128), range(128, N, 128)):\n",
    "        train(X[start : end], Y[start : end])\n",
    "        \n",
    "w_h, w_o = w_h.get_value(), w_o.get_value()\n",
    "yhat = np.argmax(X.dot(w_h).dot(w_o), axis = 1)        \n",
    "print np.mean(np.argmax(Y, axis = 1) == predict(X))\n",
    "print np.mean(yhat == predict(X))"
   ]
  },
  {
   "cell_type": "code",
   "execution_count": 10,
   "metadata": {
    "collapsed": false
   },
   "outputs": [
    {
     "name": "stdout",
     "output_type": "stream",
     "text": [
      "0.921716666667\n"
     ]
    }
   ],
   "source": [
    "import tensorflow as tf\n",
    "\n",
    "x = tf.placeholder('float')\n",
    "y = tf.placeholder('float')\n",
    "\n",
    "weights = lambda shape: tf.Variable(tf.random_normal(shape))\n",
    "\n",
    "w = weights([D, H])\n",
    "b = weights([H])\n",
    "l = tf.nn.relu(tf.add(tf.matmul(x, w), b))\n",
    "\n",
    "w = weights([H, C])\n",
    "b = weights([C])\n",
    "model = tf.matmul(l, w) + b\n",
    "\n",
    "cost = tf.reduce_mean(tf.nn.softmax_cross_entropy_with_logits(model, y))\n",
    "optimizer = tf.train.AdamOptimizer(learning_rate).minimize(cost)\n",
    "\n",
    "with tf.Session() as sess:\n",
    "    sess.run(tf.initialize_all_variables())\n",
    "\n",
    "    for _ in range(epochs):\n",
    "        for start, end in zip(range(0, N, 100), range(100, N, 100)):\n",
    "            feed_dict = {x: X[start : end], y: Y[start : end]}\n",
    "            sess.run(optimizer, feed_dict = feed_dict)\n",
    "\n",
    "    yhat = tf.argmax(model, 1).eval({x: X, y: Y})\n",
    "    print np.mean(yhat == np.argmax(Y, axis = 1))"
   ]
  }
 ],
 "metadata": {
  "kernelspec": {
   "display_name": "Python [default]",
   "language": "python",
   "name": "python2"
  },
  "language_info": {
   "codemirror_mode": {
    "name": "ipython",
    "version": 2
   },
   "file_extension": ".py",
   "mimetype": "text/x-python",
   "name": "python",
   "nbconvert_exporter": "python",
   "pygments_lexer": "ipython2",
   "version": "2.7.12"
  }
 },
 "nbformat": 4,
 "nbformat_minor": 1
}
