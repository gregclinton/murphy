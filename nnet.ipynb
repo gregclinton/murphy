{
 "cells": [
  {
   "cell_type": "code",
   "execution_count": 507,
   "metadata": {
    "collapsed": true
   },
   "outputs": [],
   "source": [
    "import numpy as np\n",
    "import datasets\n",
    "\n",
    "datasets.downloads = '/home/greg/Downloads/'"
   ]
  },
  {
   "cell_type": "code",
   "execution_count": 509,
   "metadata": {
    "collapsed": false
   },
   "outputs": [],
   "source": [
    "decode = lambda p: np.argmax(p, axis = 1) \n",
    "accuracy = lambda p, Y: np.mean(decode(p) == decode(Y))"
   ]
  },
  {
   "cell_type": "code",
   "execution_count": 508,
   "metadata": {
    "collapsed": false
   },
   "outputs": [],
   "source": [
    "trX, teX, trY, teY = datasets.mnist()"
   ]
  },
  {
   "cell_type": "code",
   "execution_count": 534,
   "metadata": {
    "collapsed": false
   },
   "outputs": [
    {
     "name": "stdout",
     "output_type": "stream",
     "text": [
      "Epoch 1/1\n",
      "60000/60000 [==============================] - 9s - loss: 0.2650     \n",
      "0.9559\n"
     ]
    }
   ],
   "source": [
    "from keras.models import Sequential\n",
    "from keras.layers import Dense\n",
    "\n",
    "model = Sequential()\n",
    "model.add(Dense(output_dim = 100, input_dim = trX.shape[1], activation = 'relu'))\n",
    "model.add(Dense(output_dim = trY.shape[1], activation = 'softmax'))\n",
    "model.compile(loss = 'categorical_crossentropy', optimizer = 'adam')\n",
    "model.fit(trX, trY, nb_epoch = 1)\n",
    "print accuracy(model.predict_proba(teX, verbose = 0), teY)\n",
    "\n",
    "if False:\n",
    "    config = model.get_config()\n",
    "    weights = model.get_weights()\n",
    "\n",
    "    model = Sequential.from_config(config)\n",
    "    model.set_weights(weights)"
   ]
  },
  {
   "cell_type": "code",
   "execution_count": 542,
   "metadata": {
    "collapsed": false
   },
   "outputs": [
    {
     "name": "stdout",
     "output_type": "stream",
     "text": [
      "0.9459\n"
     ]
    }
   ],
   "source": [
    "import tensorflow as tf\n",
    "\n",
    "epochs = 1\n",
    "batch_size = 32\n",
    "learning_rate = 0.1\n",
    "H = 100\n",
    "\n",
    "N, D = trX.shape\n",
    "N, C = trY.shape\n",
    "\n",
    "def dense(output_dim, x):\n",
    "    shape = (x.get_shape()[1].value, output_dim)\n",
    "    w = tf.Variable(tf.random_normal_initializer(0.0, 0.05)(shape))\n",
    "    b = tf.Variable(tf.zeros(shape[1], dtype = tf.float32))\n",
    "    return tf.matmul(x, w) + b  \n",
    "\n",
    "x = tf.placeholder(tf.float32, (None, trX.shape[1]))\n",
    "y = tf.placeholder(tf.float32)\n",
    "H1 = tf.nn.relu(dense(H, x))  \n",
    "H2 = dense(trY.shape[1], H1)\n",
    "loss = tf.nn.softmax_cross_entropy_with_logits(H2, y)\n",
    "optimizer = tf.train.AdamOptimizer().minimize(loss)\n",
    "\n",
    "with tf.Session() as sess:\n",
    "    sess.run(tf.initialize_all_variables())\n",
    "    for _ in xrange(epochs):\n",
    "        for start in xrange(0, len(trX) - batch_size + 1, batch_size):\n",
    "            end = start + batch_size            \n",
    "            feed_dict = {x: trX[start : end], y: trY[start : end]}\n",
    "            sess.run(optimizer, feed_dict = feed_dict)\n",
    "\n",
    "    print accuracy(H2.eval({x: teX}), teY)"
   ]
  },
  {
   "cell_type": "code",
   "execution_count": 569,
   "metadata": {
    "collapsed": false
   },
   "outputs": [
    {
     "name": "stdout",
     "output_type": "stream",
     "text": [
      "0.9369\n"
     ]
    }
   ],
   "source": [
    "# https://github.com/Newmu/Theano-Tutorials\n",
    "\n",
    "import theano\n",
    "from theano import tensor as T\n",
    "from scipy.special import expit\n",
    "\n",
    "epochs = 1\n",
    "batch_size = 32\n",
    "learning_rate = 0.1\n",
    "H = 100\n",
    "\n",
    "N, D = trX.shape\n",
    "N, C = trY.shape\n",
    "\n",
    "init_weights = lambda n, d: theano.shared(np.random.randn(n, d) * 0.05)\n",
    "\n",
    "x = T.fmatrix()\n",
    "y = T.fmatrix()\n",
    "\n",
    "W1 = init_weights(D, H)\n",
    "b1 = theano.shared(np.zeros(H) * 1.0)\n",
    "W2 = init_weights(H, C)\n",
    "b2 = theano.shared(np.zeros(C) * 1.0)\n",
    "\n",
    "H1 = T.nnet.relu(T.dot(x, W1) + b1)\n",
    "H2 = T.nnet.softmax(T.dot(H1, W2) + b2)\n",
    "\n",
    "loss = T.mean(T.nnet.categorical_crossentropy(H2, y))\n",
    "updates = [[p, p - T.grad(loss, p) * learning_rate] for p in [W1, W2]]\n",
    "optimizer = theano.function([x, y], updates = updates, allow_input_downcast = True)\n",
    "\n",
    "for _ in xrange(epochs):\n",
    "    for start in xrange(0, len(trX) - batch_size + 1, batch_size):\n",
    "        end = start + batch_size\n",
    "        optimizer(trX[start : end], trY[start : end])\n",
    "        \n",
    "W1, b1, W2, b2 = W1.get_value(), b1.get_value(), W2.get_value(), b2.get_value()\n",
    "print accuracy(softmax(np.maximum(0, teX.dot(W1) + b1).dot(W2) + b2), teY)\n",
    "\n",
    "if False:\n",
    "    # you can play with theano to write derivative functions\n",
    "\n",
    "    x = T.fmatrix()\n",
    "    y = T.fmatrix()\n",
    "    loss = T.mean(T.nnet.categorical_crossentropy(T.nnet.softmax(x), y))\n",
    "    grad_loss = theano.function([x, y], T.grad(loss, x))\n",
    "\n",
    "    x = [[-3, 3], [-2, 1], [-2, 1]]\n",
    "    y = [[0.0, 1], [0, 1], [1, 0]]\n",
    "    grad_loss(x, y)"
   ]
  },
  {
   "cell_type": "code",
   "execution_count": 571,
   "metadata": {
    "collapsed": false
   },
   "outputs": [
    {
     "name": "stdout",
     "output_type": "stream",
     "text": [
      "0.975\n"
     ]
    }
   ],
   "source": [
    "import numpy as np\n",
    "from softmax import softmax\n",
    "\n",
    "epochs = 10\n",
    "batch_size = 32\n",
    "learning_rate = 0.1\n",
    "# maybe preprocess X\n",
    "H = 100\n",
    "init_weights = lambda fan_in, fan_out: np.random.randn(fan_in, fan_out) * 0.05 # try glorot\n",
    "R = lambda Ws: 0 # regularization penalty\n",
    "\n",
    "N, D = trX.shape\n",
    "N, C = trY.shape\n",
    "\n",
    "W1 = init_weights(D, H)\n",
    "b1 = np.zeros(H)\n",
    "W2 = init_weights(H, C)\n",
    "b2 = np.zeros(C)\n",
    "\n",
    "# https://github.com/martinkersner/cs231n/blob/master/assignment1/neural_net.py\n",
    "\n",
    "for _ in xrange(epochs):\n",
    "    for start in xrange(0, len(trX) - batch_size + 1, batch_size):\n",
    "        end = start + batch_size\n",
    "        X = trX[start : end]\n",
    "        Y = trY[start : end]\n",
    "        n = len(X)\n",
    "\n",
    "        # forward propagate\n",
    "        N1 = X.dot(W1) + b1\n",
    "        H1 = np.maximum(0, N1)\n",
    "\n",
    "        N2 = H1.dot(W2) + b2\n",
    "        H2 = N2\n",
    "\n",
    "        sm = softmax(H2)\n",
    "        # loss = -np.mean(np.log(np.sum(sm * Y, axis = 1)))\n",
    "\n",
    "        # back propagate and update\n",
    "        grad_loss = (sm - Y) / n \n",
    "\n",
    "        grad_H2 = grad_loss\n",
    "        grad_W2 = H1.T.dot(grad_H2)\n",
    "        grad_b2 = np.sum(grad_H2, axis = 0)\n",
    "\n",
    "        grad_H1 = grad_H2.dot(W2.T)\n",
    "        grad_N1 = N1\n",
    "        grad_N1[grad_N1 >= 0] = 1\n",
    "        grad_N1[grad_N1 < 0] = 0\n",
    "        grad_H1_N1 = grad_H1 * grad_N1\n",
    "        grad_W1 = X.T.dot(grad_H1_N1)\n",
    "        grad_b1 = np.sum(grad_H1_N1, axis = 0)\n",
    "\n",
    "        W2 -= grad_W2 * learning_rate\n",
    "        b2 -= grad_b2 * learning_rate\n",
    "        W1 -= grad_W1 * learning_rate\n",
    "        b1 -= grad_b1 * learning_rate\n",
    "        \n",
    "print accuracy(softmax(np.maximum(0, teX.dot(W1) + b1).dot(W2) + b2), teY)"
   ]
  },
  {
   "cell_type": "code",
   "execution_count": 437,
   "metadata": {
    "collapsed": false
   },
   "outputs": [
    {
     "data": {
      "text/plain": [
       "array([49999, 49999])"
      ]
     },
     "execution_count": 437,
     "metadata": {},
     "output_type": "execute_result"
    }
   ],
   "source": [
    "# http://localhost:8888/edit/Desktop/assignment1/cs231n/gradient_check.py\n",
    "\n",
    "def numerical_gradient(f, x):\n",
    "    h = 0.00001\n",
    "    grad = np.zeros_like(x)\n",
    "    it = np.nditer(x, flags = ['multi_index'], op_flags = ['readwrite'])\n",
    "    \n",
    "    while not it.finished:\n",
    "        ix = it.multi_index\n",
    "        oldval = x[ix]\n",
    "        x[ix] = oldval + h\n",
    "        fxph = f(x)\n",
    "        x[ix] = oldval - h\n",
    "        fxmh = f(x)\n",
    "        x[ix] = oldval\n",
    "        grad[ix] = (fxph - fxmh) / (2 * h)\n",
    "        it.iternext()\n",
    "        \n",
    "    return grad\n",
    "\n",
    "x = np.array([1, 2])\n",
    "f = lambda x: np.sum(x)\n",
    "numerical_gradient(f, x)"
   ]
  }
 ],
 "metadata": {
  "anaconda-cloud": {},
  "kernelspec": {
   "display_name": "Python 2",
   "language": "python",
   "name": "python2"
  },
  "language_info": {
   "codemirror_mode": {
    "name": "ipython",
    "version": 2
   },
   "file_extension": ".py",
   "mimetype": "text/x-python",
   "name": "python",
   "nbconvert_exporter": "python",
   "pygments_lexer": "ipython2",
   "version": "2.7.12"
  }
 },
 "nbformat": 4,
 "nbformat_minor": 1
}
