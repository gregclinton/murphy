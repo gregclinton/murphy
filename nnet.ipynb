{
 "cells": [
  {
   "cell_type": "code",
   "execution_count": 2,
   "metadata": {
    "collapsed": true
   },
   "outputs": [],
   "source": [
    "import numpy as np\n",
    "import datasets\n",
    "\n",
    "datasets.downloads = '/home/greg/Downloads/'"
   ]
  },
  {
   "cell_type": "code",
   "execution_count": 3,
   "metadata": {
    "collapsed": false
   },
   "outputs": [],
   "source": [
    "trX, teX, trY, teY = datasets.mnist()"
   ]
  },
  {
   "cell_type": "code",
   "execution_count": 4,
   "metadata": {
    "collapsed": false
   },
   "outputs": [],
   "source": [
    "epochs = 1\n",
    "batch_size = 32\n",
    "learning_rate = 0.1\n",
    "H = 100\n",
    "# maybe preprocess X\n",
    "R = lambda Ws: 0 # regularization penalty\n",
    "init_weights = lambda fan_in, fan_out: np.random.randn(fan_in, fan_out) * 0.05\n",
    "# init_weights - try glorot\n",
    "accuracy = lambda sm, y: np.mean(np.argmax(sm, axis = 1) == np.argmax(y, axis = 1))\n",
    "\n",
    "trY = datasets.one_hot(trY)\n",
    "teY = datasets.one_hot(teY)\n",
    "\n",
    "N, D = trX.shape\n",
    "N, C = trY.shape"
   ]
  },
  {
   "cell_type": "code",
   "execution_count": 31,
   "metadata": {
    "collapsed": false
   },
   "outputs": [],
   "source": [
    "from keras.models import Model\n",
    "from keras.layers import Input, Dense\n",
    "\n",
    "X = Input(shape = (D,))\n",
    "H1 = Dense(H, activation = 'relu')(X)\n",
    "H2 = Dense(C, activation = 'softmax')(H1)\n",
    "model = Model(input = X, output = H2)"
   ]
  },
  {
   "cell_type": "code",
   "execution_count": 33,
   "metadata": {
    "collapsed": false
   },
   "outputs": [],
   "source": [
    "from keras.models import Sequential\n",
    "from keras.layers import Dense\n",
    "\n",
    "model = Sequential()\n",
    "model.add(Dense(H, input_dim = D, activation = 'relu'))\n",
    "model.add(Dense(C, activation = 'softmax'))"
   ]
  },
  {
   "cell_type": "code",
   "execution_count": 32,
   "metadata": {
    "collapsed": false
   },
   "outputs": [
    {
     "name": "stdout",
     "output_type": "stream",
     "text": [
      "Epoch 1/1\n",
      "60000/60000 [==============================] - 9s - loss: 0.2760     \n",
      "0.9578\n"
     ]
    }
   ],
   "source": [
    "model.compile(loss = 'categorical_crossentropy', optimizer = 'adam')\n",
    "model.fit(trX, trY, nb_epoch = epochs)\n",
    "sm = model.predict(teX)\n",
    "print accuracy(sm, teY)"
   ]
  },
  {
   "cell_type": "code",
   "execution_count": null,
   "metadata": {
    "collapsed": true
   },
   "outputs": [],
   "source": [
    "config = model.get_config()\n",
    "weights = model.get_weights()\n",
    "\n",
    "model = Sequential.from_config(config)\n",
    "model.set_weights(weights)"
   ]
  },
  {
   "cell_type": "code",
   "execution_count": 54,
   "metadata": {
    "collapsed": false
   },
   "outputs": [
    {
     "name": "stdout",
     "output_type": "stream",
     "text": [
      "0.9494\n"
     ]
    }
   ],
   "source": [
    "import tensorflow as tf\n",
    "\n",
    "def dense(output_dim, x):\n",
    "    shape = (x.get_shape()[1].value, output_dim)\n",
    "    w = tf.Variable(tf.random_normal_initializer(0.0, 0.05)(shape))\n",
    "    b = tf.Variable(tf.zeros(shape[1], dtype = tf.float32))\n",
    "    return tf.matmul(x, w) + b  \n",
    "\n",
    "x = tf.placeholder(tf.float32, (None, trX.shape[1]))\n",
    "y = tf.placeholder(tf.float32)\n",
    "H1 = tf.nn.relu(dense(H, x))  \n",
    "H2 = dense(trY.shape[1], H1)\n",
    "loss = tf.nn.softmax_cross_entropy_with_logits(H2, y)\n",
    "optimizer = tf.train.AdamOptimizer().minimize(loss)\n",
    "\n",
    "with tf.Session() as sess:\n",
    "    sess.run(tf.initialize_all_variables())\n",
    "    for _ in xrange(epochs):\n",
    "        for start in xrange(0, len(trX) - batch_size + 1, batch_size):\n",
    "            end = start + batch_size            \n",
    "            feed_dict = {x: trX[start : end], y: trY[start : end]}\n",
    "            sess.run(optimizer, feed_dict = feed_dict)\n",
    "\n",
    "    sm = H2.eval({x: teX})\n",
    "    print accuracy(sm, teY)"
   ]
  },
  {
   "cell_type": "code",
   "execution_count": 53,
   "metadata": {
    "collapsed": false
   },
   "outputs": [
    {
     "name": "stdout",
     "output_type": "stream",
     "text": [
      "0.9378\n"
     ]
    }
   ],
   "source": [
    "# https://github.com/Newmu/Theano-Tutorials\n",
    "\n",
    "import theano\n",
    "from theano import tensor as T\n",
    "from softmax import softmax\n",
    "\n",
    "x = T.matrix()\n",
    "y = T.matrix()\n",
    "\n",
    "W1 = theano.shared(init_weights(D, H))\n",
    "b1 = theano.shared(np.zeros(H) * 1.0)\n",
    "W2 = theano.shared(init_weights(H, C))\n",
    "b2 = theano.shared(np.zeros(C) * 1.0)\n",
    "\n",
    "H1 = T.nnet.relu(T.dot(x, W1) + b1)\n",
    "H2 = T.nnet.softmax(T.dot(H1, W2) + b2)\n",
    "\n",
    "loss = T.mean(T.nnet.categorical_crossentropy(H2, y))\n",
    "optimizer = theano.function([x, y], updates = [\n",
    "        [p, p - T.grad(loss, p) * learning_rate] for p in [W1, b1, W2, b2]\n",
    "    ])\n",
    "\n",
    "for _ in xrange(epochs):\n",
    "    for start in xrange(0, len(trX) - batch_size + 1, batch_size):\n",
    "        end = start + batch_size\n",
    "        optimizer(trX[start : end], trY[start : end])\n",
    "        \n",
    "W1, b1 = W1.get_value(), b1.get_value()\n",
    "W2, b2 = W2.get_value(), b2.get_value()\n",
    "sm = softmax(np.maximum(0, teX.dot(W1) + b1).dot(W2) + b2)\n",
    "print accuracy(sm, teY)"
   ]
  },
  {
   "cell_type": "code",
   "execution_count": 15,
   "metadata": {
    "collapsed": false
   },
   "outputs": [
    {
     "name": "stdout",
     "output_type": "stream",
     "text": [
      "0.9375\n"
     ]
    }
   ],
   "source": [
    "import numpy as np\n",
    "from softmax import softmax\n",
    "\n",
    "W1 = init_weights(D, H)\n",
    "b1 = np.zeros(H)\n",
    "W2 = init_weights(H, C)\n",
    "b2 = np.zeros(C)\n",
    "\n",
    "for _ in xrange(epochs):\n",
    "    for start in xrange(0, len(trX) - batch_size + 1, batch_size):\n",
    "        end = start + batch_size\n",
    "        X = trX[start : end]\n",
    "        Y = trY[start : end]\n",
    "\n",
    "        # feed forward\n",
    "        H1 = np.maximum(0, X.dot(W1) + b1)\n",
    "        H2 = softmax(H1.dot(W2) + b2)\n",
    "        \n",
    "        # loss = -np.mean(np.log(np.sum(H2 * Y, axis = 1)))\n",
    "\n",
    "        # back propagate\n",
    "        grad_H2 = (H2 - Y) / len(Y)\n",
    "        grad_W2 = H1.T.dot(grad_H2)\n",
    "        grad_b2 = np.sum(grad_H2, axis = 0)\n",
    "\n",
    "        grad_H1 = np.zeros_like(H1)\n",
    "        grad_H1[H1 > 0] = 1\n",
    "        grad_H1 *= grad_H2.dot(W2.T)\n",
    "        grad_W1 = X.T.dot(grad_H1)\n",
    "        grad_b1 = np.sum(grad_H1, axis = 0)\n",
    "\n",
    "        # update\n",
    "        W2 -= grad_W2 * learning_rate\n",
    "        b2 -= grad_b2 * learning_rate\n",
    "        W1 -= grad_W1 * learning_rate\n",
    "        b1 -= grad_b1 * learning_rate\n",
    "\n",
    "sm = softmax(np.maximum(0, teX.dot(W1) + b1).dot(W2) + b2)\n",
    "print accuracy(sm, teY)"
   ]
  }
 ],
 "metadata": {
  "anaconda-cloud": {},
  "kernelspec": {
   "display_name": "Python [default]",
   "language": "python",
   "name": "python2"
  },
  "language_info": {
   "codemirror_mode": {
    "name": "ipython",
    "version": 2
   },
   "file_extension": ".py",
   "mimetype": "text/x-python",
   "name": "python",
   "nbconvert_exporter": "python",
   "pygments_lexer": "ipython2",
   "version": "2.7.12"
  }
 },
 "nbformat": 4,
 "nbformat_minor": 1
}
