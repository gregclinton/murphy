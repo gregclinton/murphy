{
 "cells": [
  {
   "cell_type": "code",
   "execution_count": 2,
   "metadata": {
    "collapsed": true
   },
   "outputs": [],
   "source": [
    "import numpy as np\n",
    "import datasets\n",
    "\n",
    "datasets.downloads = '/users/gregc/Downloads/'"
   ]
  },
  {
   "cell_type": "code",
   "execution_count": 2,
   "metadata": {
    "collapsed": false
   },
   "outputs": [],
   "source": [
    "trX, teX, trY, teY = datasets.mnist()"
   ]
  },
  {
   "cell_type": "code",
   "execution_count": 121,
   "metadata": {
    "collapsed": false
   },
   "outputs": [],
   "source": [
    "decode = lambda p: np.argmax(p, axis = 1) \n",
    "accuracy = lambda p, Y: np.mean(decode(p) == decode(Y))"
   ]
  },
  {
   "cell_type": "code",
   "execution_count": 4,
   "metadata": {
    "collapsed": true
   },
   "outputs": [],
   "source": [
    "import tensorflow as tf\n",
    "\n",
    "def dense(output_dim, x):\n",
    "    shape = (x.get_shape()[1].value, output_dim)\n",
    "    w = tf.Variable(tf.random_normal_initializer(0.0, 0.05)(shape))\n",
    "    b = tf.Variable(tf.zeros(shape[1], dtype = tf.float32))\n",
    "    return tf.matmul(x, w) + b  \n",
    "    \n",
    "def fit(sess, x, y, X, Y, optimizer, epochs):\n",
    "    sess.run(tf.initialize_all_variables())\n",
    "    N, D = X.shape\n",
    "\n",
    "    for _ in range(epochs):\n",
    "        for start in range(0, N - 32, 32):\n",
    "            end = start + 32\n",
    "            feed_dict = {x: X[start : end], y: Y[start : end]}\n",
    "            sess.run(optimizer, feed_dict = feed_dict)\n",
    "            \n",
    "x = tf.placeholder(tf.float32, (None, trX.shape[1]))\n",
    "y = tf.placeholder(tf.float32)\n",
    "h = tf.nn.relu(dense(625, x))  \n",
    "model = dense(trY.shape[1], h)\n",
    "loss = tf.nn.softmax_cross_entropy_with_logits(model, y)\n",
    "optimizer = tf.train.AdamOptimizer().minimize(loss)\n",
    "\n",
    "with tf.Session() as sess:\n",
    "    fit(sess, x, y, trX, trY, optimizer, epochs = 1)\n",
    "    print accuracy(model.eval({x: teX}), teY)"
   ]
  },
  {
   "cell_type": "code",
   "execution_count": 73,
   "metadata": {
    "collapsed": false
   },
   "outputs": [
    {
     "name": "stdout",
     "output_type": "stream",
     "text": [
      "Epoch 1/1\n",
      "60000/60000 [==============================] - 32s - loss: 0.1944    \n",
      "0.9691\n"
     ]
    }
   ],
   "source": [
    "from keras.models import Sequential\n",
    "from keras.layers import Dense\n",
    "\n",
    "model = Sequential()\n",
    "model.add(Dense(output_dim = 625, input_dim = trX.shape[1], activation = 'relu'))\n",
    "model.add(Dense(output_dim = trY.shape[1], activation = 'softmax'))\n",
    "model.compile(loss = 'categorical_crossentropy', optimizer = 'adam')\n",
    "model.fit(trX, trY, nb_epoch = 1)\n",
    "print accuracy(model.predict_proba(teX, verbose = 0), teY)"
   ]
  },
  {
   "cell_type": "code",
   "execution_count": 7,
   "metadata": {
    "collapsed": false
   },
   "outputs": [],
   "source": [
    "config = model.get_config()\n",
    "weights = model.get_weights()\n",
    "\n",
    "model = Sequential.from_config(config)\n",
    "model.set_weights(weights)"
   ]
  },
  {
   "cell_type": "code",
   "execution_count": null,
   "metadata": {
    "collapsed": true
   },
   "outputs": [],
   "source": [
    "# https://github.com/Newmu/Theano-Tutorials\n",
    "\n",
    "import theano\n",
    "from theano import tensor as T\n",
    "\n",
    "x = T.fmatrix()\n",
    "y = T.fmatrix()\n",
    "\n",
    "weights = lambda n, d: theano.shared(np.random.randn(n, d))\n",
    "\n",
    "w_h = weights(D, H)\n",
    "w_o = weights(H, C)\n",
    "\n",
    "l1 = T.nnet.sigmoid(T.dot(x, w_h))\n",
    "l2 = T.nnet.softmax(T.dot(l1, w_o))\n",
    "\n",
    "cost = T.mean(T.nnet.categorical_crossentropy(l2, y))\n",
    "updates = [[p, p - T.grad(cost, p) * learning_rate] for p in [w_h, w_o]]\n",
    "optimizer = theano.function([x, y], updates = updates, allow_input_downcast = True)\n",
    "\n",
    "for _ in range(epochs):\n",
    "    for start, end in zip(range(0, N, 128), range(128, N, 128)):\n",
    "        optimizer(X[start : end], Y[start : end])\n",
    "        \n",
    "w_h, w_o = w_h.get_value(), w_o.get_value()\n",
    "print accuracy(softmax(expit(X.dot(w_h)).dot(w_o)))"
   ]
  },
  {
   "cell_type": "code",
   "execution_count": 184,
   "metadata": {
    "collapsed": false
   },
   "outputs": [],
   "source": [
    "import numpy as np\n",
    "from softmax import softmax\n",
    "\n",
    "class Dense:\n",
    "    def __init__(self, output_dim, X, init_weights = None):\n",
    "        self.X = X.X\n",
    "        self.W = self.init_weights(self.X.shape[1], output_dim)\n",
    "        self.b = np.zeros((output_dim, 1))\n",
    "        \n",
    "    @staticmethod\n",
    "    def init_weights(fan_in, fan_out):\n",
    "        return np.random.randn(fan_out, fan_in) * 0.05\n",
    "        \n",
    "    def forward(self):\n",
    "        self.X = self.W.dot(self.X.T)\n",
    "        B = np.tile(self.b, (1, self.X.shape[1]))\n",
    "        self.X += B\n",
    "\n",
    "    def back(self):\n",
    "        pass\n",
    "\n",
    "    def update(self):\n",
    "        pass\n",
    "    \n",
    "class Relu:\n",
    "    def __init__(self, X):\n",
    "        self.X = X\n",
    "        \n",
    "    def forward(self):\n",
    "        self.X = np.maximum(0, self.X.forward())\n",
    "\n",
    "    def back(self):\n",
    "        pass\n",
    "    \n",
    "class Softmax:\n",
    "    def __init__(self, X):\n",
    "        self.X = X\n",
    "        \n",
    "    def forward(self):\n",
    "        self.X = softmax(X)\n",
    "\n",
    "    def back(self):\n",
    "        pass\n",
    "\n",
    "def fit(model, x, y, trX, trY, epochs = 1, batch_size = 2, learning_rate = 0.001, regulizer = None,\n",
    "       loss = None, optimizer = None):\n",
    "    for _ in range(epochs):\n",
    "        for start in range(0, len(trX) - batch_size + 1, batch_size):\n",
    "            end = start + batch_size\n",
    "            x.X = trX[start : end]\n",
    "            y.X = trY[start : end]\n",
    "            model.forward()\n",
    "\n",
    "class Placeholder:\n",
    "    def __init__(self, X):\n",
    "        self.X = X\n",
    "\n",
    "trX = np.array([[1, 1], [0, 2], [4, 3], [4, 12]])\n",
    "trY = np.array([[0, 1], [0, 1], [1, 0], [0, 1]])\n",
    "x = Placeholder(trX)\n",
    "y = Placeholder(trY)\n",
    "\n",
    "model = Softmax(Dense(100, x))\n",
    "fit(model, x, y, trX, trY)"
   ]
  }
 ],
 "metadata": {
  "anaconda-cloud": {},
  "kernelspec": {
   "display_name": "Python 2",
   "language": "python",
   "name": "python2"
  },
  "language_info": {
   "codemirror_mode": {
    "name": "ipython",
    "version": 2
   },
   "file_extension": ".py",
   "mimetype": "text/x-python",
   "name": "python",
   "nbconvert_exporter": "python",
   "pygments_lexer": "ipython2",
   "version": "2.7.12"
  }
 },
 "nbformat": 4,
 "nbformat_minor": 1
}
