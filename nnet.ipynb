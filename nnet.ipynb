{
 "cells": [
  {
   "cell_type": "code",
   "execution_count": null,
   "metadata": {
    "collapsed": true
   },
   "outputs": [],
   "source": [
    "# https://github.com/Newmu/Theano-Tutorials\n",
    "# see batch normalization"
   ]
  },
  {
   "cell_type": "code",
   "execution_count": 1,
   "metadata": {
    "collapsed": true
   },
   "outputs": [],
   "source": [
    "import datasets\n",
    "\n",
    "datasets.downloads = '/home/greg/Downloads/'\n",
    "\n",
    "trX, teX, trY, teY = datasets.mnist()"
   ]
  },
  {
   "cell_type": "code",
   "execution_count": 129,
   "metadata": {
    "collapsed": true
   },
   "outputs": [],
   "source": [
    "import numpy as np"
   ]
  },
  {
   "cell_type": "code",
   "execution_count": 165,
   "metadata": {
    "collapsed": false
   },
   "outputs": [],
   "source": [
    "X = trX\n",
    "Y = trY\n",
    "\n",
    "labels = np.argmax(teY, axis = 1)\n",
    "\n",
    "epochs = 1\n",
    "H = 625\n",
    "\n",
    "N, D = X.shape\n",
    "N, C = Y.shape"
   ]
  },
  {
   "cell_type": "code",
   "execution_count": null,
   "metadata": {
    "collapsed": true
   },
   "outputs": [],
   "source": [
    "import tensorflow as tf\n",
    "\n",
    "def layer(x, shape, activator):\n",
    "    weights = lambda shape: tf.Variable(tf.random_normal_initializer(0.0, 0.05)(shape))\n",
    "    zeros = lambda shape: tf.Variable(tf.zeros(shape, dtype = tf.float32))\n",
    "    return activator(tf.matmul(x, weights(shape)) + zeros(shape[1]))  \n",
    "    \n",
    "def fit(X, Y, optimizer, epochs):\n",
    "    with tf.Session() as sess:\n",
    "        sess.run(tf.initialize_all_variables())\n",
    "\n",
    "        for _ in range(epochs):\n",
    "            for start, end in zip(range(0, N - 32, 32), range(32, N, 32)):\n",
    "                feed_dict = {x: X[start : end], y: Y[start : end]}\n",
    "                sess.run(optimizer, feed_dict = feed_dict)\n",
    "            p = model.eval({x: teX})\n",
    "    \n",
    "    c = np.argmax(p, axis = 1)\n",
    "    print np.mean(c == labels) \n",
    "            "
   ]
  },
  {
   "cell_type": "code",
   "execution_count": 249,
   "metadata": {
    "collapsed": false
   },
   "outputs": [
    {
     "name": "stdout",
     "output_type": "stream",
     "text": [
      "0.9498\n"
     ]
    }
   ],
   "source": [
    "import tensorflow as tf\n",
    "\n",
    "x = tf.placeholder('float')\n",
    "y = tf.placeholder('float')\n",
    "\n",
    "weights = lambda shape: tf.Variable(tf.random_normal_initializer(0.0, 0.05)(shape))\n",
    "zeros = lambda shape: tf.Variable(tf.zeros(shape, dtype = tf.float32))\n",
    "layer = lambda x, shape, activator: activator(tf.matmul(x, weights(shape)) + zeros(shape[1]))\n",
    "\n",
    "l = layer(x, [D, H], tf.nn.relu)  \n",
    "model = layer(l, [H, C], tf.nn.softmax)  \n",
    "cost = tf.nn.softmax_cross_entropy_with_logits(model, y)\n",
    "optimizer = tf.train.AdamOptimizer().minimize(cost)\n",
    "\n",
    "with tf.Session() as sess:\n",
    "    sess.run(tf.initialize_all_variables())\n",
    "\n",
    "    for _ in range(epochs):\n",
    "        for start, end in zip(range(0, N - 32, 32), range(32, N, 32)):\n",
    "            feed_dict = {x: X[start : end], y: Y[start : end]}\n",
    "            sess.run(optimizer, feed_dict = feed_dict)\n",
    "\n",
    "    p = model.eval({x: teX})\n",
    "    \n",
    "c = np.argmax(p, axis = 1)\n",
    "print np.mean(c == labels) "
   ]
  },
  {
   "cell_type": "code",
   "execution_count": 238,
   "metadata": {
    "collapsed": false
   },
   "outputs": [
    {
     "name": "stdout",
     "output_type": "stream",
     "text": [
      "Epoch 1/1\n",
      "60000/60000 [==============================] - 24s - loss: 0.1951    \n",
      "0.9681\n"
     ]
    }
   ],
   "source": [
    "from keras.models import Sequential\n",
    "from keras.layers import Dense\n",
    "\n",
    "model = Sequential()\n",
    "model.add(Dense(output_dim = H, input_dim = D, activation = 'relu'))\n",
    "model.add(Dense(output_dim = C, activation = 'softmax'))\n",
    "model.compile(loss = 'categorical_crossentropy', optimizer = 'adam')\n",
    "model.fit(X, Y, nb_epoch = epochs)\n",
    "\n",
    "p = model.predict_proba(teX, verbose = 0)\n",
    "c = np.argmax(p, axis = 1)\n",
    "print np.mean(c == labels)"
   ]
  },
  {
   "cell_type": "code",
   "execution_count": 186,
   "metadata": {
    "collapsed": false
   },
   "outputs": [],
   "source": [
    "config = model.get_config()\n",
    "weights = model.get_weights()\n",
    "\n",
    "model = Sequential.from_config(config)\n",
    "model.set_weights(weights)"
   ]
  }
 ],
 "metadata": {
  "anaconda-cloud": {},
  "kernelspec": {
   "display_name": "Python 2",
   "language": "python",
   "name": "python2"
  },
  "language_info": {
   "codemirror_mode": {
    "name": "ipython",
    "version": 2
   },
   "file_extension": ".py",
   "mimetype": "text/x-python",
   "name": "python",
   "nbconvert_exporter": "python",
   "pygments_lexer": "ipython2",
   "version": "2.7.12"
  }
 },
 "nbformat": 4,
 "nbformat_minor": 1
}
