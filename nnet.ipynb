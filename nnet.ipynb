{
 "cells": [
  {
   "cell_type": "code",
   "execution_count": null,
   "metadata": {
    "collapsed": true
   },
   "outputs": [],
   "source": [
    "# https://github.com/Newmu/Theano-Tutorials\n",
    "# see batch normalization"
   ]
  },
  {
   "cell_type": "code",
   "execution_count": 1,
   "metadata": {
    "collapsed": true
   },
   "outputs": [],
   "source": [
    "import datasets\n",
    "\n",
    "datasets.downloads = '/home/greg/Downloads/'\n",
    "\n",
    "trX, teX, trY, teY = datasets.mnist()"
   ]
  },
  {
   "cell_type": "code",
   "execution_count": 129,
   "metadata": {
    "collapsed": true
   },
   "outputs": [],
   "source": [
    "import numpy as np"
   ]
  },
  {
   "cell_type": "code",
   "execution_count": 165,
   "metadata": {
    "collapsed": false
   },
   "outputs": [],
   "source": [
    "X = trX\n",
    "Y = trY\n",
    "\n",
    "labels = np.argmax(teY, axis = 1)\n",
    "\n",
    "epochs = 1\n",
    "H = 625\n",
    "\n",
    "N, D = X.shape\n",
    "N, C = Y.shape"
   ]
  },
  {
   "cell_type": "code",
   "execution_count": 208,
   "metadata": {
    "collapsed": false
   },
   "outputs": [
    {
     "name": "stdout",
     "output_type": "stream",
     "text": [
      "0.9029\n"
     ]
    }
   ],
   "source": [
    "import tensorflow as tf\n",
    "\n",
    "x = tf.placeholder('float')\n",
    "y = tf.placeholder('float')\n",
    "\n",
    "weights = lambda shape: tf.Variable(np.random.normal(size = shape).astype(np.float32))\n",
    "\n",
    "w = weights([D, H])\n",
    "b = weights([H])\n",
    "l = tf.nn.relu(tf.matmul(x, w) + b)\n",
    "\n",
    "w = weights([H, C])\n",
    "b = weights([C])\n",
    "model = tf.matmul(l, w) + b\n",
    "\n",
    "cost = tf.nn.softmax_cross_entropy_with_logits(model, y)\n",
    "optimizer = tf.train.AdamOptimizer().minimize(cost)\n",
    "\n",
    "with tf.Session() as sess:\n",
    "    sess.run(tf.initialize_all_variables())\n",
    "\n",
    "    for _ in range(epochs):\n",
    "        for start, end in zip(range(0, N, 32), range(32, N, 32)):\n",
    "            feed_dict = {x: X[start : end], y: Y[start : end]}\n",
    "            sess.run(optimizer, feed_dict = feed_dict)\n",
    "\n",
    "    p = model.eval({x: teX})\n",
    "    \n",
    "c = np.argmax(p, axis = 1)\n",
    "print np.mean(c == labels) "
   ]
  },
  {
   "cell_type": "code",
   "execution_count": 196,
   "metadata": {
    "collapsed": false
   },
   "outputs": [
    {
     "name": "stdout",
     "output_type": "stream",
     "text": [
      "Epoch 1/1\n",
      "60000/60000 [==============================] - 23s - loss: 0.1928 - acc: 0.9430    \n",
      "0.9683\n"
     ]
    }
   ],
   "source": [
    "from keras.models import Sequential\n",
    "from keras.layers import Dense\n",
    "\n",
    "model = Sequential()\n",
    "model.add(Dense(output_dim =H, input_dim = D, activation = 'relu'))\n",
    "model.add(Dense(output_dim = C, activation = 'softmax'))\n",
    "model.compile(loss = 'categorical_crossentropy', optimizer = 'adam', metrics = ['accuracy'])\n",
    "model.fit(X, Y, nb_epoch = epochs)\n",
    "\n",
    "p = model.predict_proba(teX, verbose = 0)\n",
    "c = np.argmax(p, axis = 1)\n",
    "print np.mean(c == labels)"
   ]
  },
  {
   "cell_type": "code",
   "execution_count": 186,
   "metadata": {
    "collapsed": false
   },
   "outputs": [],
   "source": [
    "config = model.get_config()\n",
    "weights = model.get_weights()\n",
    "\n",
    "model = Sequential.from_config(config)\n",
    "model.set_weights(weights)"
   ]
  }
 ],
 "metadata": {
  "anaconda-cloud": {},
  "kernelspec": {
   "display_name": "Python 2",
   "language": "python",
   "name": "python2"
  },
  "language_info": {
   "codemirror_mode": {
    "name": "ipython",
    "version": 2
   },
   "file_extension": ".py",
   "mimetype": "text/x-python",
   "name": "python",
   "nbconvert_exporter": "python",
   "pygments_lexer": "ipython2",
   "version": "2.7.12"
  }
 },
 "nbformat": 4,
 "nbformat_minor": 1
}
