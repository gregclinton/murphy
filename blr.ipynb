{
 "cells": [
  {
   "cell_type": "code",
   "execution_count": 6,
   "metadata": {
    "collapsed": false
   },
   "outputs": [],
   "source": [
    "import numpy as np\n",
    "import htwt\n",
    "from sigmoid import sigmoid\n",
    "from scipy.optimize import minimize\n",
    "from scipy import stats\n",
    "from statsmodels import api as sm"
   ]
  },
  {
   "cell_type": "code",
   "execution_count": 20,
   "metadata": {
    "collapsed": false
   },
   "outputs": [
    {
     "data": {
      "text/html": [
       "<div>\n",
       "<table border=\"1\" class=\"dataframe\">\n",
       "  <thead>\n",
       "    <tr style=\"text-align: right;\">\n",
       "      <th></th>\n",
       "      <th>S</th>\n",
       "      <th>X</th>\n",
       "      <th>E</th>\n",
       "      <th>M</th>\n",
       "    </tr>\n",
       "  </thead>\n",
       "  <tbody>\n",
       "    <tr>\n",
       "      <th>0</th>\n",
       "      <td>13876</td>\n",
       "      <td>1</td>\n",
       "      <td>1</td>\n",
       "      <td>1</td>\n",
       "    </tr>\n",
       "    <tr>\n",
       "      <th>1</th>\n",
       "      <td>11608</td>\n",
       "      <td>1</td>\n",
       "      <td>3</td>\n",
       "      <td>0</td>\n",
       "    </tr>\n",
       "    <tr>\n",
       "      <th>2</th>\n",
       "      <td>18701</td>\n",
       "      <td>1</td>\n",
       "      <td>3</td>\n",
       "      <td>1</td>\n",
       "    </tr>\n",
       "    <tr>\n",
       "      <th>3</th>\n",
       "      <td>11283</td>\n",
       "      <td>1</td>\n",
       "      <td>2</td>\n",
       "      <td>0</td>\n",
       "    </tr>\n",
       "    <tr>\n",
       "      <th>4</th>\n",
       "      <td>11767</td>\n",
       "      <td>1</td>\n",
       "      <td>3</td>\n",
       "      <td>0</td>\n",
       "    </tr>\n",
       "  </tbody>\n",
       "</table>\n",
       "</div>"
      ],
      "text/plain": [
       "       S  X  E  M\n",
       "0  13876  1  1  1\n",
       "1  11608  1  3  0\n",
       "2  18701  1  3  1\n",
       "3  11283  1  2  0\n",
       "4  11767  1  3  0"
      ]
     },
     "execution_count": 20,
     "metadata": {},
     "output_type": "execute_result"
    }
   ],
   "source": [
    "import pandas as pd\n",
    "\n",
    "url = 'http://stats191.stanford.edu/data/salary.table'\n",
    "salary_table = pd.read_table(url)\n",
    "salary_table.head()"
   ]
  },
  {
   "cell_type": "code",
   "execution_count": 17,
   "metadata": {
    "collapsed": false
   },
   "outputs": [
    {
     "name": "stdout",
     "output_type": "stream",
     "text": [
      "Optimization terminated successfully.\n",
      "         Current function value: 0.449955\n",
      "         Iterations 6\n",
      "[-0.18314219  0.08043505]\n",
      "0.219\n"
     ]
    }
   ],
   "source": [
    "fit = sm.Logit(y, X).fit()\n",
    "print fit.params\n",
    "p = fit.predict(X)\n",
    "yhat = (p > 0.5) * 1\n",
    "print '%0.3f' % np.mean(np.mean(yhat != y))"
   ]
  },
  {
   "cell_type": "code",
   "execution_count": 16,
   "metadata": {
    "collapsed": true
   },
   "outputs": [],
   "source": [
    "X, y = htwt.get()\n",
    "# X = (X - np.mean(X, axis = 0)) / np.sqrt(np.diag(np.cov(X, ddof = 0, rowvar = False)))"
   ]
  },
  {
   "cell_type": "code",
   "execution_count": 63,
   "metadata": {
    "collapsed": false
   },
   "outputs": [
    {
     "data": {
      "text/plain": [
       "   status: 2\n",
       "  success: False\n",
       "     njev: 42\n",
       "     nfev: 168\n",
       " hess_inv: array([[1, 0],\n",
       "       [0, 1]])\n",
       "      fun: nan\n",
       "        x: array([ 72193.828125  ,  68661.19140625])\n",
       "  message: 'Desired error not necessarily achieved due to precision loss.'\n",
       "      jac: array([ nan,  nan])"
      ]
     },
     "execution_count": 63,
     "metadata": {},
     "output_type": "execute_result"
    }
   ],
   "source": [
    "N, D = X.shape\n",
    "\n",
    "ybar = np.mean(y)\n",
    "w0 = np.log(ybar / (1 - ybar))\n",
    "mu = lambda w: sigmoid(w0 + X.dot(w))\n",
    "mvn = stats.multivariate_normal\n",
    "log_prior = lambda w: mvn.logpdf(w, np.zeros(D), np.eye(D) * 100)\n",
    "\n",
    "def ll(w):\n",
    "    muw = mu(w)\n",
    "    return sum(y * np.log(muw) + (1 - y) * np.log(1 - muw))\n",
    "\n",
    "f = lambda w: -ll(w) - log_prior(w) \n",
    "\n",
    "minimize(f, [0] * D)"
   ]
  }
 ],
 "metadata": {
  "kernelspec": {
   "display_name": "Python 2",
   "language": "python",
   "name": "python2"
  },
  "language_info": {
   "codemirror_mode": {
    "name": "ipython",
    "version": 2
   },
   "file_extension": ".py",
   "mimetype": "text/x-python",
   "name": "python",
   "nbconvert_exporter": "python",
   "pygments_lexer": "ipython2",
   "version": "2.7.12"
  }
 },
 "nbformat": 4,
 "nbformat_minor": 0
}
