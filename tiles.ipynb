{
 "cells": [
  {
   "cell_type": "code",
   "execution_count": 1,
   "metadata": {
    "collapsed": true
   },
   "outputs": [],
   "source": [
    "%matplotlib inline\n",
    "import matplotlib.pyplot as plt\n",
    "from scipy import stats"
   ]
  },
  {
   "cell_type": "code",
   "execution_count": 2,
   "metadata": {
    "collapsed": false
   },
   "outputs": [],
   "source": [
    "x = stats.norm.rvs(size = 1000)"
   ]
  },
  {
   "cell_type": "code",
   "execution_count": 3,
   "metadata": {
    "collapsed": false
   },
   "outputs": [
    {
     "data": {
      "image/png": "[encoded data removed]",
      "text/plain": [
       "<matplotlib.figure.Figure at 0x7f6d723a1990>"
      ]
     },
     "metadata": {},
     "output_type": "display_data"
    }
   ],
   "source": [
    "def no_axis():\n",
    "    ax = plt.gca()\n",
    "    ax.get_xaxis().set_visible(False)\n",
    "    ax.get_yaxis().set_visible(False)\n",
    "    \n",
    "plt.figure(figsize = (8, 3))\n",
    "plt.subplot(1, 2, 1)\n",
    "plt.hist(x, bins = 20)\n",
    "no_axis()\n",
    "plt.subplot(1, 2, 2)\n",
    "plt.hist(x, bins = 20)\n",
    "no_axis()\n",
    "plt.tight_layout()\n",
    "plt.show()"
   ]
  },
  {
   "cell_type": "code",
   "execution_count": 31,
   "metadata": {
    "collapsed": false
   },
   "outputs": [
    {
     "data": {
      "image/png": "[encoded data removed]",
      "text/plain": [
       "<matplotlib.figure.Figure at 0x7f6d703248d0>"
      ]
     },
     "metadata": {},
     "output_type": "display_data"
    }
   ],
   "source": [
    "import numpy as np\n",
    "import math\n",
    "\n",
    "mu = 34\n",
    "v1 = 1.0\n",
    "n1 = 10000\n",
    "y1 = stats.norm.rvs(mu, v1, size = n1)\n",
    "v2 = 5.0\n",
    "n2 = 20000\n",
    "y2 = stats.norm.rvs(mu, v2, size = n2)\n",
    "plt.hist(np.concatenate([y1, y2]), bins = 40, normed = True)\n",
    "\n",
    "precision = n1 / v1 + n2 / v2\n",
    "y1_bar = np.mean(y1)\n",
    "y2_bar = np.mean(y2)\n",
    "mean = (n1 * y1_bar / v1 + n2 * y2_bar / v2) / precision\n",
    "sigma = 1 / math.sqrt(precision)\n",
    "sigma = 2\n",
    "y = np.linspace(10, 55, 100)\n",
    "plt.plot(y, stats.norm.pdf(y, mean, sigma), color = 'red', lw = 4)\n",
    "\n",
    "plt.show()"
   ]
  }
 ],
 "metadata": {
  "kernelspec": {
   "display_name": "Python 2",
   "language": "python",
   "name": "python2"
  },
  "language_info": {
   "codemirror_mode": {
    "name": "ipython",
    "version": 2
   },
   "file_extension": ".py",
   "mimetype": "text/x-python",
   "name": "python",
   "nbconvert_exporter": "python",
   "pygments_lexer": "ipython2",
   "version": "2.7.10"
  }
 },
 "nbformat": 4,
 "nbformat_minor": 0
}
