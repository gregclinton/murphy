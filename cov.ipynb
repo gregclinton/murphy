{
 "cells": [
  {
   "cell_type": "code",
   "execution_count": 2,
   "metadata": {
    "collapsed": true
   },
   "outputs": [],
   "source": [
    "import numpy as np\n",
    "import htwt"
   ]
  },
  {
   "cell_type": "code",
   "execution_count": 3,
   "metadata": {
    "collapsed": false
   },
   "outputs": [],
   "source": [
    "X, y = htwt.get()"
   ]
  },
  {
   "cell_type": "code",
   "execution_count": 5,
   "metadata": {
    "collapsed": false
   },
   "outputs": [
    {
     "data": {
      "text/plain": [
       "array([[   19.78331066,   104.01931973],\n",
       "       [  104.01931973,  1063.86340136]])"
      ]
     },
     "execution_count": 5,
     "metadata": {},
     "output_type": "execute_result"
    }
   ],
   "source": [
    "def cov(X):\n",
    "    mean = np.mean(X, axis = 0).reshape(-1, 1)\n",
    "    return X.T.dot(X) / (len(X) * 1.0) - mean.dot(mean.T)\n",
    "\n",
    "cov(X)"
   ]
  },
  {
   "cell_type": "code",
   "execution_count": 10,
   "metadata": {
    "collapsed": false
   },
   "outputs": [
    {
     "data": {
      "text/plain": [
       "array([[   19.78331066,   104.01931973],\n",
       "       [  104.01931973,  1063.86340136]])"
      ]
     },
     "execution_count": 10,
     "metadata": {},
     "output_type": "execute_result"
    }
   ],
   "source": [
    "def cov(X):\n",
    "    N, D = X.shape\n",
    "    mean = np.mean(X, axis = 0).reshape(-1, 1)\n",
    "    Sigma = np.zeros((D, D))\n",
    "    \n",
    "    for x in X:\n",
    "        a = x.reshape(-1, 1) - mean\n",
    "        Sigma += np.outer(a, a)\n",
    "        \n",
    "    return Sigma / (N * 1.0)\n",
    "\n",
    "cov(X)"
   ]
  },
  {
   "cell_type": "code",
   "execution_count": 4,
   "metadata": {
    "collapsed": false
   },
   "outputs": [
    {
     "data": {
      "text/plain": [
       "array([[   19.78331066,   104.01931973],\n",
       "       [  104.01931973,  1063.86340136]])"
      ]
     },
     "execution_count": 4,
     "metadata": {},
     "output_type": "execute_result"
    }
   ],
   "source": [
    "np.cov(X, rowvar = False, ddof = 0)"
   ]
  }
 ],
 "metadata": {
  "kernelspec": {
   "display_name": "Python 2",
   "language": "python",
   "name": "python2"
  },
  "language_info": {
   "codemirror_mode": {
    "name": "ipython",
    "version": 2
   },
   "file_extension": ".py",
   "mimetype": "text/x-python",
   "name": "python",
   "nbconvert_exporter": "python",
   "pygments_lexer": "ipython2",
   "version": "2.7.9"
  }
 },
 "nbformat": 4,
 "nbformat_minor": 0
}
