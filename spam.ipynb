{
 "cells": [
  {
   "cell_type": "code",
   "execution_count": 5,
   "metadata": {
    "collapsed": false
   },
   "outputs": [],
   "source": [
    "import pandas as pd\n",
    "import numpy as np\n",
    "from preprocess import scale\n",
    "from sklearn.linear_model import LogisticRegression\n",
    "from sklearn.naive_bayes import GaussianNB\n",
    "'''\n",
    "import nb    # naive bayes classification\n",
    "import lda   # \n",
    "import rda   # \n",
    "import qda   # quadratic linear regression\n",
    "import lr    # logistic regression\n",
    "'''\n",
    "xxx = 0"
   ]
  },
  {
   "cell_type": "code",
   "execution_count": 6,
   "metadata": {
    "collapsed": false
   },
   "outputs": [],
   "source": [
    "url = 'https://raw.githubusercontent.com/probml/pmtkdata/master/spamData/spam.data'\n",
    "data = pd.read_table(url, header = None, sep = ' ')"
   ]
  },
  {
   "cell_type": "code",
   "execution_count": 7,
   "metadata": {
    "collapsed": false
   },
   "outputs": [],
   "source": [
    "y = data[57].values\n",
    "X = data[range(57)].values\n",
    "del data"
   ]
  },
  {
   "cell_type": "code",
   "execution_count": 8,
   "metadata": {
    "collapsed": false
   },
   "outputs": [],
   "source": [
    "train = np.random.choice(len(y), replace = False, size = 3065)\n",
    "test = np.ones(len(y), dtype=bool)\n",
    "test[train] = 0"
   ]
  },
  {
   "cell_type": "code",
   "execution_count": 9,
   "metadata": {
    "collapsed": false
   },
   "outputs": [],
   "source": [
    "train_y = y[train]\n",
    "test_y = y[test]\n",
    "train_X = X[train,]\n",
    "test_X = X[test,]\n",
    "del X\n",
    "del y"
   ]
  },
  {
   "cell_type": "code",
   "execution_count": 21,
   "metadata": {
    "collapsed": false
   },
   "outputs": [
    {
     "name": "stdout",
     "output_type": "stream",
     "text": [
      "0.390\n"
     ]
    }
   ],
   "source": [
    "import numpy as np\n",
    "from scipy import stats\n",
    "\n",
    "stats.bernoulli.logpmf(3, 0.5)\n",
    "\n",
    "class NaiveBayes:\n",
    "    '''\n",
    "    murphy pp. 84 to 89\n",
    "    binary features only (this implementation)\n",
    "    '''    \n",
    "    def fit(self, X, y):        \n",
    "        N, D = X.shape\n",
    "        C = len(np.unique(y))\n",
    "        priors = np.empty(C)\n",
    "        thetas = np.empty((C, D))\n",
    "        pseudocount = 1\n",
    "        \n",
    "        for c in range(C):\n",
    "            i = y == c\n",
    "            X_c = X[i]\n",
    "            priors[c] = np.mean(i)\n",
    "            Non = np.sum(X_c == 1, axis = 0)\n",
    "            Noff = np.sum(X_c == 0, axis = 0)\n",
    "            thetas[c, :] = (Non + pseudocount) / (Non + Noff + 2 * pseudocount)\n",
    "            \n",
    "        self.priors = np.array(priors)\n",
    "        self.thetas = np.log(thetas)\n",
    "        \n",
    "    def predict(self, X):\n",
    "        N, D = X.shape\n",
    "        C = len(self.thetas)\n",
    "        eps = np.spacing(0)\n",
    "        not_X = 1 - X\n",
    "        log_priors = np.log(self.priors)\n",
    "        log_theta = np.log(self.thetas + eps)\n",
    "        log_not_theta = np.log(1 - self.thetas + eps)        \n",
    "        log_post = np.empty((N, C))\n",
    "        \n",
    "        for c in range(C):\n",
    "            log_post[:, c] = log_priors[c] + X.dot(log_theta[c, :]) + not_X.dot(log_not_theta[c, :])\n",
    "\n",
    "        return np.argmax(log_post, axis = 1)\n",
    "        \n",
    "clf = NaiveBayes()\n",
    "clf.fit(1 * (train_X > 0), train_y)\n",
    "y_hat = clf.predict(test_X)\n",
    "print '%0.3f' % np.mean(1.0 - np.mean(y_hat == test_y))"
   ]
  },
  {
   "cell_type": "code",
   "execution_count": 165,
   "metadata": {
    "collapsed": false
   },
   "outputs": [
    {
     "name": "stdout",
     "output_type": "stream",
     "text": [
      "0.5\n",
      "0.072 0.079\n",
      "0.074 0.080\n",
      "0.054 0.050\n",
      "0.063 0.074\n",
      "1.0\n",
      "0.073 0.079\n",
      "0.073 0.085\n",
      "0.054 0.050\n",
      "0.063 0.072\n",
      "1.5\n",
      "0.071 0.078\n",
      "0.071 0.085\n",
      "0.054 0.051\n",
      "0.061 0.073\n"
     ]
    }
   ],
   "source": [
    "def test(transform, C):\n",
    "    clf = LogisticRegression(C = C)\n",
    "    # clf = GaussianNB()\n",
    "    clf.fit(transform(train_X), train_y)\n",
    "    result = lambda X, y: '%0.3f' % np.mean(1.0 - np.mean(clf.predict(transform(X)) == y))\n",
    "    print result(train_X, train_y), result(test_X, test_y)\n",
    "\n",
    "for C in np.arange(0.5, 2, 0.5):\n",
    "    print C\n",
    "    test(lambda X: X, C)\n",
    "    test(lambda X: scale(X), C)\n",
    "    test(lambda X: np.log(X + 0.1), C)\n",
    "    test(lambda X:  1 * (X > 0), C)"
   ]
  }
 ],
 "metadata": {
  "kernelspec": {
   "display_name": "Python 2",
   "language": "python",
   "name": "python2"
  },
  "language_info": {
   "codemirror_mode": {
    "name": "ipython",
    "version": 2
   },
   "file_extension": ".py",
   "mimetype": "text/x-python",
   "name": "python",
   "nbconvert_exporter": "python",
   "pygments_lexer": "ipython2",
   "version": "2.7.9"
  }
 },
 "nbformat": 4,
 "nbformat_minor": 0
}
