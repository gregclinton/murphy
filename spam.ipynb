{
 "cells": [
  {
   "cell_type": "code",
   "execution_count": 66,
   "metadata": {
    "collapsed": false
   },
   "outputs": [],
   "source": [
    "import pandas as pd\n",
    "import numpy as np\n",
    "from preprocess import scale\n",
    "from sklearn.linear_model import LogisticRegression"
   ]
  },
  {
   "cell_type": "code",
   "execution_count": 114,
   "metadata": {
    "collapsed": false
   },
   "outputs": [],
   "source": [
    "url = 'https://raw.githubusercontent.com/probml/pmtkdata/master/spamData/spam.data'\n",
    "data = pd.read_table(url, header = None, sep = ' ')"
   ]
  },
  {
   "cell_type": "code",
   "execution_count": 115,
   "metadata": {
    "collapsed": false
   },
   "outputs": [],
   "source": [
    "y = data[57].values\n",
    "X = data[range(57)].values\n",
    "del data"
   ]
  },
  {
   "cell_type": "code",
   "execution_count": 141,
   "metadata": {
    "collapsed": false
   },
   "outputs": [],
   "source": [
    "train = np.random.choice(len(y), replace = False, size = 3065)\n",
    "test = np.ones(len(y), dtype=bool)\n",
    "test[train] = 0"
   ]
  },
  {
   "cell_type": "code",
   "execution_count": 145,
   "metadata": {
    "collapsed": false
   },
   "outputs": [
    {
     "name": "stdout",
     "output_type": "stream",
     "text": [
      "\n"
     ]
    }
   ],
   "source": [
    "train_y = y[train]\n",
    "test_y = y[test]\n",
    "train_X = X[train,]\n",
    "test_X = X[test,]\n",
    "del X\n",
    "del y"
   ]
  },
  {
   "cell_type": "code",
   "execution_count": 151,
   "metadata": {
    "collapsed": true
   },
   "outputs": [],
   "source": [
    "clf = LogisticRegression(C = 0.5)"
   ]
  },
  {
   "cell_type": "code",
   "execution_count": 160,
   "metadata": {
    "collapsed": false
   },
   "outputs": [
    {
     "name": "stdout",
     "output_type": "stream",
     "text": [
      "0.5\n",
      "0.072 0.079\n",
      "0.074 0.080\n",
      "0.054 0.050\n",
      "0.063 0.074\n",
      "1.0\n",
      "0.073 0.079\n",
      "0.073 0.085\n",
      "0.054 0.050\n",
      "0.063 0.072\n",
      "1.5\n",
      "0.071 0.078\n",
      "0.071 0.085\n",
      "0.054 0.051\n",
      "0.061 0.073\n"
     ]
    }
   ],
   "source": [
    "def test(transform, C):\n",
    "    clf = LogisticRegression(C = C)\n",
    "    clf.fit(transform(train_X), train_y)\n",
    "    result = lambda X, y: '%0.3f' % np.mean(1.0 - np.mean(clf.predict(transform(X)) == y))\n",
    "    print result(train_X, train_y), result(test_X, test_y)\n",
    "\n",
    "for C in np.arange(0.5, 2, 0.5):\n",
    "    print C\n",
    "    test(lambda X: X, C)\n",
    "    test(lambda X: scale(X), C)\n",
    "    test(lambda X: np.log(X + 0.1), C)\n",
    "    test(lambda X:  1 * (X > 0), C)"
   ]
  }
 ],
 "metadata": {
  "kernelspec": {
   "display_name": "Python 2",
   "language": "python",
   "name": "python2"
  },
  "language_info": {
   "codemirror_mode": {
    "name": "ipython",
    "version": 2
   },
   "file_extension": ".py",
   "mimetype": "text/x-python",
   "name": "python",
   "nbconvert_exporter": "python",
   "pygments_lexer": "ipython2",
   "version": "2.7.9"
  }
 },
 "nbformat": 4,
 "nbformat_minor": 0
}
