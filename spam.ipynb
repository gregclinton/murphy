{
 "cells": [
  {
   "cell_type": "code",
   "execution_count": 66,
   "metadata": {
    "collapsed": false
   },
   "outputs": [],
   "source": [
    "import pandas as pd\n",
    "import numpy as np\n",
    "from preprocess import scale\n",
    "from sklearn.linear_model import LogisticRegression"
   ]
  },
  {
   "cell_type": "code",
   "execution_count": 70,
   "metadata": {
    "collapsed": false
   },
   "outputs": [],
   "source": [
    "url = 'https://raw.githubusercontent.com/probml/pmtkdata/master/spamData/spam.data'\n",
    "data = pd.read_table(url, header = None, sep = ' ')"
   ]
  },
  {
   "cell_type": "code",
   "execution_count": 71,
   "metadata": {
    "collapsed": false
   },
   "outputs": [],
   "source": [
    "y = data[57].values\n",
    "X = data[range(57)].values\n",
    "del data"
   ]
  },
  {
   "cell_type": "code",
   "execution_count": 72,
   "metadata": {
    "collapsed": false
   },
   "outputs": [],
   "source": [
    "train_y = y[0 : 3065]\n",
    "test_y = y[3065:]\n",
    "train_X = X[0 : 3065,]\n",
    "test_X = X[3065:,]\n",
    "del X\n",
    "del y"
   ]
  },
  {
   "cell_type": "code",
   "execution_count": 73,
   "metadata": {
    "collapsed": true
   },
   "outputs": [],
   "source": [
    "clf = LogisticRegression()"
   ]
  },
  {
   "cell_type": "code",
   "execution_count": 75,
   "metadata": {
    "collapsed": false
   },
   "outputs": [
    {
     "name": "stdout",
     "output_type": "stream",
     "text": [
      "0.058 0.696\n",
      "0.043 0.159\n",
      "0.053 0.171\n"
     ]
    }
   ],
   "source": [
    "def test(transform):\n",
    "    clf.fit(transform(train_X), train_y)\n",
    "    train_result = '%0.3f' % (1.0 - np.mean(clf.predict(transform(train_X)) == train_y))\n",
    "    test_result = '%0.3f' % (1.0 - np.mean(clf.predict(transform(test_X)) == test_y))\n",
    "    print train_result, test_result\n",
    "    \n",
    "test(lambda X: scale(X))\n",
    "test(lambda X: np.log(X + 0.1))\n",
    "test(lambda X:  1 * (X > 0))"
   ]
  }
 ],
 "metadata": {
  "kernelspec": {
   "display_name": "Python 2",
   "language": "python",
   "name": "python2"
  },
  "language_info": {
   "codemirror_mode": {
    "name": "ipython",
    "version": 2
   },
   "file_extension": ".py",
   "mimetype": "text/x-python",
   "name": "python",
   "nbconvert_exporter": "python",
   "pygments_lexer": "ipython2",
   "version": "2.7.9"
  }
 },
 "nbformat": 4,
 "nbformat_minor": 0
}
