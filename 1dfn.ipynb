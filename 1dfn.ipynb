{
 "cells": [
  {
   "cell_type": "code",
   "execution_count": 18,
   "metadata": {
    "collapsed": true
   },
   "outputs": [],
   "source": [
    "%matplotlib inline\n",
    "import matplotlib.pyplot as plt\n",
    "import numpy as np\n",
    "from scipy import stats\n",
    "from numpy.linalg import inv"
   ]
  },
  {
   "cell_type": "code",
   "execution_count": 4,
   "metadata": {
    "collapsed": true
   },
   "outputs": [],
   "source": [
    "D = 100\n",
    "t = np.linspace(0, 20, D + 1)"
   ]
  },
  {
   "cell_type": "code",
   "execution_count": 39,
   "metadata": {
    "collapsed": false
   },
   "outputs": [
    {
     "data": {
      "text/plain": [
       "array([[-0.5,  1. , -0.5, ...,  0. ,  0. ,  0. ],\n",
       "       [ 0. , -0.5,  1. , ...,  0. ,  0. ,  0. ],\n",
       "       [ 0. ,  0. , -0.5, ...,  0. ,  0. ,  0. ],\n",
       "       ..., \n",
       "       [ 0. ,  0. ,  0. , ..., -0.5,  0. ,  0. ],\n",
       "       [ 0. ,  0. ,  0. , ...,  1. , -0.5,  0. ],\n",
       "       [ 0. ,  0. ,  0. , ..., -0.5,  1. , -0.5]])"
      ]
     },
     "execution_count": 39,
     "metadata": {},
     "output_type": "execute_result"
    }
   ],
   "source": [
    "L = np.zeros((D - 2, D))\n",
    "\n",
    "for i in range(D - 2):\n",
    "    j = i\n",
    "    L[i, j] = -1\n",
    "    L[i, j + 1] = 2\n",
    "    L[i, j + 2] = -1\n",
    "    \n",
    "L *= 0.5\n",
    "L"
   ]
  },
  {
   "cell_type": "code",
   "execution_count": 40,
   "metadata": {
    "collapsed": true
   },
   "outputs": [],
   "source": [
    "lmbda = 0.0001"
   ]
  },
  {
   "cell_type": "code",
   "execution_count": 41,
   "metadata": {
    "collapsed": false
   },
   "outputs": [
    {
     "data": {
      "text/plain": [
       "array([-990985.64114361, -981399.24098115, -971812.8985112 ,\n",
       "       -962226.06555996, -952639.84073423, -943053.06081387,\n",
       "       -933466.62506586, -923880.15102841, -914293.51490296,\n",
       "       -904707.17235286, -895120.50923867, -885534.24430504,\n",
       "       -875947.54557843, -866361.09760682, -856774.74139644,\n",
       "       -847188.10270758, -837601.62717712, -828015.08647352,\n",
       "       -818428.75548759, -808842.3377444 , -799255.81661655,\n",
       "       -789669.50923663, -780082.96049295, -770496.45493666,\n",
       "       -760909.99055091, -751323.63388384, -741737.11869366,\n",
       "       -732150.5933051 , -722564.13827454, -712977.6957186 ,\n",
       "       -703391.17689157, -693804.4516155 , -684218.04700646,\n",
       "       -674631.6248467 , -665044.91621367, -655458.53070553,\n",
       "       -645872.03640862, -636285.50044737, -626698.85270293,\n",
       "       -617112.47645201, -607525.94281767, -597939.63746531,\n",
       "       -588353.05597562, -578766.5872199 , -569180.1293041 ,\n",
       "       -559593.68728274, -550007.20929422, -540420.78809943,\n",
       "       -530834.41938914, -521247.84825968, -511661.492615  ,\n",
       "       -502074.99863607, -492488.56635914, -482902.12029018,\n",
       "       -473315.53539319, -463728.98694469, -454142.58002405,\n",
       "       -444556.0345594 , -434969.52791557, -425383.05794415,\n",
       "       -415796.50527099, -406210.11297739, -396623.63154936,\n",
       "       -387037.13455134, -377450.5486958 , -367864.09484476,\n",
       "       -358277.64378942, -348691.14734101, -339104.75347421,\n",
       "       -329518.18564207, -319931.73007359, -310345.38124095,\n",
       "       -300759.01107869, -291172.36617865, -281586.07219466,\n",
       "       -271999.54941569, -262413.09217884, -252826.76488864,\n",
       "       -243240.23398199, -233653.73096551, -224067.2800641 ,\n",
       "       -214480.8438526 , -204894.43907597, -195307.7846804 ,\n",
       "       -185721.35764113, -176134.98662243, -166548.52594673,\n",
       "       -156962.06281917, -147375.65063584, -137789.21994656,\n",
       "       -128202.66673922, -118616.13654462, -109029.6569087 ,\n",
       "        -99443.12805965,  -89856.57147159,  -80269.91207667,\n",
       "        -70683.32209327,  -61096.91654892,  -51510.28351707,\n",
       "        -41923.6724294 ])"
      ]
     },
     "execution_count": 41,
     "metadata": {},
     "output_type": "execute_result"
    }
   ],
   "source": [
    "Sigma = lmbda * inv(L.T.dot(L))\n",
    "x = stats.multivariate_normal.rvs(cov = Sigma, size = 1)\n",
    "x"
   ]
  },
  {
   "cell_type": "code",
   "execution_count": 42,
   "metadata": {
    "collapsed": false
   },
   "outputs": [
    {
     "data": {
      "image/png": "[encoded data removed]",
      "text/plain": [
       "<matplotlib.figure.Figure at 0x7f99c89448d0>"
      ]
     },
     "metadata": {},
     "output_type": "display_data"
    }
   ],
   "source": [
    "plt.figure(figsize = (8, 3))\n",
    "plt.plot(x)\n",
    "plt.show()"
   ]
  }
 ],
 "metadata": {
  "kernelspec": {
   "display_name": "Python 2",
   "language": "python",
   "name": "python2"
  },
  "language_info": {
   "codemirror_mode": {
    "name": "ipython",
    "version": 2
   },
   "file_extension": ".py",
   "mimetype": "text/x-python",
   "name": "python",
   "nbconvert_exporter": "python",
   "pygments_lexer": "ipython2",
   "version": "2.7.10"
  }
 },
 "nbformat": 4,
 "nbformat_minor": 0
}
