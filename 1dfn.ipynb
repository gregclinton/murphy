{
 "cells": [
  {
   "cell_type": "code",
   "execution_count": 18,
   "metadata": {
    "collapsed": true
   },
   "outputs": [],
   "source": [
    "%matplotlib inline\n",
    "import matplotlib.pyplot as plt\n",
    "import numpy as np\n",
    "from scipy import stats\n",
    "from numpy.linalg import inv"
   ]
  },
  {
   "cell_type": "code",
   "execution_count": 224,
   "metadata": {
    "collapsed": true
   },
   "outputs": [],
   "source": [
    "D = 100\n",
    "N = 10"
   ]
  },
  {
   "cell_type": "code",
   "execution_count": 240,
   "metadata": {
    "collapsed": false
   },
   "outputs": [],
   "source": [
    "L = np.zeros((D - 2, D))\n",
    "\n",
    "for i in range(D - 2):\n",
    "    j = i\n",
    "    L[i, j] = -0.5\n",
    "    L[i, j + 1] = 1\n",
    "    L[i, j + 2] = -0.5"
   ]
  },
  {
   "cell_type": "code",
   "execution_count": 241,
   "metadata": {
    "collapsed": false
   },
   "outputs": [],
   "source": [
    "observed = stats.randint.rvs(1, D - 2, size = N)\n",
    "unobserved = np.delete(range(D), observed)\n",
    "x2 = stats.norm.rvs(0, 5, N)"
   ]
  },
  {
   "cell_type": "code",
   "execution_count": 242,
   "metadata": {
    "collapsed": false
   },
   "outputs": [],
   "source": [
    "L1 = L[:, unobserved]\n",
    "L2 = L[:, observed]\n",
    "L = np.hstack([L1, L2])"
   ]
  },
  {
   "cell_type": "code",
   "execution_count": 247,
   "metadata": {
    "collapsed": false
   },
   "outputs": [
    {
     "data": {
      "image/png": "[encoded data removed]",
      "text/plain": [
       "<matplotlib.figure.Figure at 0x7f99ccc081d0>"
      ]
     },
     "metadata": {},
     "output_type": "display_data"
    }
   ],
   "source": [
    "lmbda = 1.1\n",
    "Sigma = inv(L1.T.dot(L1))\n",
    "mu = -Sigma.dot(L1.T.dot(L2)).dot(x2)\n",
    "x1 = stats.multivariate_normal.rvs(mu, Sigma)\n",
    "x = np.empty(D)\n",
    "x[observed] = x2\n",
    "x[unobserved] = x1\n",
    "plt.figure(figsize = (8, 3))\n",
    "plt.plot(x)\n",
    "plt.show()"
   ]
  }
 ],
 "metadata": {
  "kernelspec": {
   "display_name": "Python 2",
   "language": "python",
   "name": "python2"
  },
  "language_info": {
   "codemirror_mode": {
    "name": "ipython",
    "version": 2
   },
   "file_extension": ".py",
   "mimetype": "text/x-python",
   "name": "python",
   "nbconvert_exporter": "python",
   "pygments_lexer": "ipython2",
   "version": "2.7.10"
  }
 },
 "nbformat": 4,
 "nbformat_minor": 0
}
