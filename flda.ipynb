{
 "cells": [
  {
   "cell_type": "code",
   "execution_count": null,
   "metadata": {
    "collapsed": true
   },
   "outputs": [],
   "source": [
    "import numpy as np\n",
    "from numpy.linalg import inv\n",
    "from scipy.special import expit\n",
    "\n",
    "class Classifier:\n",
    "    def fit(self, X, y):\n",
    "        N, D = X.shape\n",
    "        C = len(np.unique(y))\n",
    "        mus = []\n",
    "\n",
    "        ybar = np.mean(y)\n",
    "        b = np.log(ybar / (1.0 - ybar))\n",
    "        \n",
    "        X = X.astype(float)\n",
    "        self.mean = np.mean(X, axis = 0)\n",
    "        self.cov = np.cov(X, ddof = 0, rowvar = False)\n",
    "        \n",
    "        X = self.preprocess(X)\n",
    "        \n",
    "        SW = np.zeros((D, D))\n",
    "        aaT = lambda a: np.outer(a, a)\n",
    "        \n",
    "        for c in range(C):\n",
    "            X_c = X[y == c]\n",
    "            mu = np.mean(X_c, axis = 0)\n",
    "            for x in X_c:\n",
    "                SW += aaT(x - mu)\n",
    "            mus.append(mu)\n",
    "            \n",
    "        W = inv(SW).dot(mus[1] - mus[0])\n",
    "        self.theta = W, b            \n",
    "\n",
    "    def predict(self, X):\n",
    "        W, b = self.theta\n",
    "        return (expit(X.dot(W) + b) > 0.5) * 1"
   ]
  }
 ],
 "metadata": {
  "anaconda-cloud": {},
  "kernelspec": {
   "display_name": "Python [default]",
   "language": "python",
   "name": "python2"
  },
  "language_info": {
   "codemirror_mode": {
    "name": "ipython",
    "version": 2
   },
   "file_extension": ".py",
   "mimetype": "text/x-python",
   "name": "python",
   "nbconvert_exporter": "python",
   "pygments_lexer": "ipython2",
   "version": "2.7.12"
  }
 },
 "nbformat": 4,
 "nbformat_minor": 1
}
