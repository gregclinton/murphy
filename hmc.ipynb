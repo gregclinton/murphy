{
 "cells": [
  {
   "cell_type": "code",
   "execution_count": 1,
   "metadata": {
    "collapsed": false
   },
   "outputs": [],
   "source": [
    "import scipy.stats as stats\n",
    "import numpy as np\n",
    "import mcmc"
   ]
  },
  {
   "cell_type": "code",
   "execution_count": 2,
   "metadata": {
    "collapsed": false
   },
   "outputs": [],
   "source": [
    "# school data\n",
    "y = np.array([28.0, 8, -3, 7, -1, 1, 18, 12])\n",
    "sigma = np.array([15, 10, 16, 11, 9, 11, 10, 18])"
   ]
  },
  {
   "cell_type": "code",
   "execution_count": 3,
   "metadata": {
    "collapsed": false
   },
   "outputs": [],
   "source": [
    "def log_density(theta):\n",
    "    th = theta[0 : len(y)]\n",
    "    mu = theta[-2]\n",
    "    tau = theta[-1]\n",
    "    \n",
    "    if np.isnan(tau) or tau <= 0:\n",
    "        return -np.inf\n",
    "    else:\n",
    "        log_hyperprior = 1\n",
    "        log_prior = np.sum(stats.norm.logpdf(th, mu, tau))\n",
    "        log_likelihood = np.sum(stats.norm.logpdf(y, th, sigma))\n",
    "        return log_hyperprior + log_prior + log_likelihood"
   ]
  },
  {
   "cell_type": "code",
   "execution_count": 4,
   "metadata": {
    "collapsed": true
   },
   "outputs": [],
   "source": [
    "def gradient(theta):\n",
    "    th = theta[0 : len(y)]\n",
    "    mu = theta[-2]\n",
    "    tau = theta[-1]\n",
    "    J = len(y)\n",
    "    \n",
    "    if tau <= 0:\n",
    "        return np.zeros(len(theta))\n",
    "    else:\n",
    "        d_theta = -(th - y) / sigma ** 2 - (th - mu) / tau ** 2\n",
    "        d_mu = -np.sum((mu - th) / tau ** 2)\n",
    "        d_tau = -J / tau + np.sum((mu - th) ** 2 / tau ** 3)\n",
    "        return np.concatenate((d_theta, [d_mu], [d_tau]))"
   ]
  },
  {
   "cell_type": "code",
   "execution_count": 5,
   "metadata": {
    "collapsed": false
   },
   "outputs": [
    {
     "name": "stdout",
     "output_type": "stream",
     "text": [
      "[ 1.09  1.13  1.01  1.04  1.42  1.21  1.02  1.19  1.18  2.56]\n"
     ]
    },
    {
     "name": "stderr",
     "output_type": "stream",
     "text": [
      "mcmc.py:53: RuntimeWarning: overflow encountered in exp\n",
      "  r = np.exp(logd(theta_star, phi_star) - logd(theta, phi))\n"
     ]
    },
    {
     "data": {
      "text/plain": [
       "(4000L, 10L)"
      ]
     },
     "execution_count": 5,
     "metadata": {},
     "output_type": "execute_result"
    }
   ],
   "source": [
    "d = len(y) + 2\n",
    "start = lambda: np.concatenate((stats.norm.rvs(0, 15, d - 1), stats.uniform.rvs(0, 15, 1)))\n",
    "starts = [start() for _ in range(4)]\n",
    "iterations = 2000 # must be divisible by 4\n",
    "M = np.identity(d) / 15 ** 2\n",
    "update = mcmc.hmc(log_density, gradient, M)\n",
    "samples, rhat = mcmc.run(starts, iterations, update)\n",
    "print np.round(rhat, 2)\n",
    "samples.shape"
   ]
  }
 ],
 "metadata": {
  "kernelspec": {
   "display_name": "Python 2",
   "language": "python",
   "name": "python2"
  },
  "language_info": {
   "codemirror_mode": {
    "name": "ipython",
    "version": 2
   },
   "file_extension": ".py",
   "mimetype": "text/x-python",
   "name": "python",
   "nbconvert_exporter": "python",
   "pygments_lexer": "ipython2",
   "version": "2.7.9"
  }
 },
 "nbformat": 4,
 "nbformat_minor": 0
}
