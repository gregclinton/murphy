{
 "cells": [
  {
   "cell_type": "code",
   "execution_count": 6,
   "metadata": {
    "collapsed": true
   },
   "outputs": [],
   "source": [
    "import numpy as np\n",
    "import htwt"
   ]
  },
  {
   "cell_type": "code",
   "execution_count": 7,
   "metadata": {
    "collapsed": true
   },
   "outputs": [],
   "source": [
    "def summary(X):\n",
    "    print np.mean(X)\n",
    "    print np.cov(X, ddof = 0, rowvar = False)"
   ]
  },
  {
   "cell_type": "code",
   "execution_count": 8,
   "metadata": {
    "collapsed": false
   },
   "outputs": [
    {
     "name": "stdout",
     "output_type": "stream",
     "text": [
      "106.50952381\n",
      "[[   19.78331066   104.01931973]\n",
      " [  104.01931973  1063.86340136]]\n"
     ]
    }
   ],
   "source": [
    "X, y = htwt.get()\n",
    "summary(X)"
   ]
  },
  {
   "cell_type": "code",
   "execution_count": 9,
   "metadata": {
    "collapsed": false
   },
   "outputs": [
    {
     "name": "stdout",
     "output_type": "stream",
     "text": [
      "-4.58892183512e-16\n",
      "[[ 1.          0.71700402]\n",
      " [ 0.71700402  1.        ]]\n"
     ]
    }
   ],
   "source": [
    "def scale(X):\n",
    "    mean = np.mean(X, axis = 0)\n",
    "    cov = np.cov(X, ddof = 0, rowvar = False)\n",
    "    return (X - mean) / np.sqrt(np.diag(cov))\n",
    "\n",
    "summary(scale(X))"
   ]
  },
  {
   "cell_type": "code",
   "execution_count": 11,
   "metadata": {
    "collapsed": false
   },
   "outputs": [
    {
     "name": "stdout",
     "output_type": "stream",
     "text": [
      "-4.50433341419e-16\n",
      "[[ 1.          0.71700402]\n",
      " [ 0.71700402  1.        ]]\n"
     ]
    }
   ],
   "source": [
    "import sklearn.preprocessing\n",
    "\n",
    "def scale(X):\n",
    "    return sklearn.preprocessing.scale(X)\n",
    "\n",
    "summary(scale(X))"
   ]
  }
 ],
 "metadata": {
  "kernelspec": {
   "display_name": "Python 2",
   "language": "python",
   "name": "python2"
  },
  "language_info": {
   "codemirror_mode": {
    "name": "ipython",
    "version": 2
   },
   "file_extension": ".py",
   "mimetype": "text/x-python",
   "name": "python",
   "nbconvert_exporter": "python",
   "pygments_lexer": "ipython2",
   "version": "2.7.10"
  }
 },
 "nbformat": 4,
 "nbformat_minor": 0
}
