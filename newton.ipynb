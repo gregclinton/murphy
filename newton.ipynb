{
 "cells": [
  {
   "cell_type": "code",
   "execution_count": 62,
   "metadata": {
    "collapsed": true
   },
   "outputs": [],
   "source": [
    "import numpy as np\n",
    "from scipy import stats\n",
    "from numpy.linalg import inv\n",
    "from sigmoid import sigmoid"
   ]
  },
  {
   "cell_type": "code",
   "execution_count": 75,
   "metadata": {
    "collapsed": false
   },
   "outputs": [],
   "source": [
    "y = 1.0 * np.random.choice(2, size = 200)\n",
    "mvn = stats.multivariate_normal.rvs\n",
    "X = np.array([mvn([1, 1] if heads else [4, 4]) for heads in y])"
   ]
  },
  {
   "cell_type": "code",
   "execution_count": 79,
   "metadata": {
    "collapsed": false
   },
   "outputs": [],
   "source": [
    "N, D = X.shape\n",
    "w = np.zeros(D)\n",
    "ybar = np.mean(y)\n",
    "w0 = np.log(ybar / (1 - ybar))\n",
    "\n",
    "for k in range(2):\n",
    "    eta = w0 + X.dot(w)\n",
    "    mu = sigmoid(eta)\n",
    "    s = mu * (1 - mu)\n",
    "    z = eta + (y - mu) / s\n",
    "    S = np.diag(s)\n",
    "    w = inv(X.T.dot(S).dot(X)).dot(X.T).dot(z)"
   ]
  }
 ],
 "metadata": {
  "kernelspec": {
   "display_name": "Python 2",
   "language": "python",
   "name": "python2"
  },
  "language_info": {
   "codemirror_mode": {
    "name": "ipython",
    "version": 2
   },
   "file_extension": ".py",
   "mimetype": "text/x-python",
   "name": "python",
   "nbconvert_exporter": "python",
   "pygments_lexer": "ipython2",
   "version": "2.7.9"
  }
 },
 "nbformat": 4,
 "nbformat_minor": 0
}
