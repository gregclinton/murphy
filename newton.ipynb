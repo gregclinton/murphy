{
 "cells": [
  {
   "cell_type": "code",
   "execution_count": 6,
   "metadata": {
    "collapsed": true
   },
   "outputs": [],
   "source": [
    "import numpy as np\n",
    "from numpy.linalg import inv\n",
    "from sigmoid import sigmoid"
   ]
  },
  {
   "cell_type": "code",
   "execution_count": 30,
   "metadata": {
    "collapsed": false
   },
   "outputs": [],
   "source": [
    "X = np.array([[1.7, 2.3], [1.2, 3], [2.5, 4.6]])\n",
    "y = np.array([0.0, 0, 1])\n",
    "N, D = X.shape\n",
    "                  \n",
    "w = np.zeros(D)\n",
    "ybar = np.mean(y)\n",
    "w0 = np.log(ybar / (1 - ybar))\n",
    "\n",
    "for k in range(4):\n",
    "    eta = w0 + X.dot(w)\n",
    "    mu = sigmoid(eta)\n",
    "    s = mu * (1 - mu)\n",
    "    z = eta + (y - mu) / s\n",
    "    S = np.diag(s)\n",
    "    w = inv(X.T.dot(S).dot(X)).dot(X.T).dot(z)"
   ]
  }
 ],
 "metadata": {
  "kernelspec": {
   "display_name": "Python 2",
   "language": "python",
   "name": "python2"
  },
  "language_info": {
   "codemirror_mode": {
    "name": "ipython",
    "version": 2
   },
   "file_extension": ".py",
   "mimetype": "text/x-python",
   "name": "python",
   "nbconvert_exporter": "python",
   "pygments_lexer": "ipython2",
   "version": "2.7.9"
  }
 },
 "nbformat": 4,
 "nbformat_minor": 0
}
