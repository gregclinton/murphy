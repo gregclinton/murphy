{
 "cells": [
  {
   "cell_type": "code",
   "execution_count": 65,
   "metadata": {
    "collapsed": false
   },
   "outputs": [],
   "source": [
    "import numpy as np\n",
    "from scipy import stats\n",
    "from scipy.optimize import minimize"
   ]
  },
  {
   "cell_type": "code",
   "execution_count": 66,
   "metadata": {
    "collapsed": false
   },
   "outputs": [],
   "source": [
    "x = np.array([1, 1, 0, 1, 1, 0, 0])\n",
    "y = np.array([1, 0, 0, 0, 1, 0, 1])"
   ]
  },
  {
   "cell_type": "code",
   "execution_count": 89,
   "metadata": {
    "collapsed": true
   },
   "outputs": [],
   "source": [
    "def L(x, y):\n",
    "    def fold(i):\n",
    "        keep = range(len(x))\n",
    "        keep.remove(i)\n",
    "        return loglik(x[i], y[i], mle(x[keep], y[keep]))\n",
    "\n",
    "    return sum([fold(i) for i in range(len(x))])    "
   ]
  },
  {
   "cell_type": "code",
   "execution_count": 90,
   "metadata": {
    "collapsed": false
   },
   "outputs": [
    {
     "data": {
      "text/plain": [
       "-31.473994830062917"
      ]
     },
     "execution_count": 90,
     "metadata": {},
     "output_type": "execute_result"
    }
   ],
   "source": [
    "def loglik(x, y, theta):\n",
    "    i = 0 if x + y == 0 else 3 if x + y == 2 else 1 if x == 0 else 2\n",
    "    return np.log(theta[i])\n",
    "\n",
    "def mle(x, y):\n",
    "    def fun(theta):\n",
    "        return -np.sum([loglik(x[i], y[i], theta) for i in range(len(x))])\n",
    "\n",
    "    cons = ({'type': 'eq', 'fun': lambda theta: 1 - np.sum(theta)})\n",
    "    \n",
    "    return minimize(fun, [0.25, 0.25, 0.25, 0.25], method = 'SLSQP', constraints = cons, \n",
    "        bounds = [(1e-9, 1 - 1e-9)] * 4, options = {'ftol': 1e-99}).x\n",
    "\n",
    "L(x, y)"
   ]
  },
  {
   "cell_type": "code",
   "execution_count": 91,
   "metadata": {
    "collapsed": false
   },
   "outputs": [
    {
     "data": {
      "text/plain": [
       "-12.136851115518317"
      ]
     },
     "execution_count": 91,
     "metadata": {},
     "output_type": "execute_result"
    }
   ],
   "source": [
    "def loglik(x, y, theta):\n",
    "    return sum(np.log([theta[0] if x == 1 else 1 - theta[0], theta[1] if x == y else 1 - theta[1]]))\n",
    "    \n",
    "def mle(x, y):\n",
    "    def fun(theta):\n",
    "        return -np.sum([loglik(x[i], y[i], theta) for i in range(len(x))])\n",
    "    \n",
    "    return minimize(fun, [0.5, 0.5], method = 'SLSQP',\n",
    "        bounds = [(1e-9, 1 - 1e-9)] * 2, options = {'ftol': 1e-99}).x\n",
    "\n",
    "L(x, y)"
   ]
  }
 ],
 "metadata": {
  "kernelspec": {
   "display_name": "Python 2",
   "language": "python",
   "name": "python2"
  },
  "language_info": {
   "codemirror_mode": {
    "name": "ipython",
    "version": 2
   },
   "file_extension": ".py",
   "mimetype": "text/x-python",
   "name": "python",
   "nbconvert_exporter": "python",
   "pygments_lexer": "ipython2",
   "version": "2.7.9"
  }
 },
 "nbformat": 4,
 "nbformat_minor": 0
}
