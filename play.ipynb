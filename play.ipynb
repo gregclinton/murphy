{
 "cells": [
  {
   "cell_type": "code",
   "execution_count": 1,
   "metadata": {
    "collapsed": true
   },
   "outputs": [],
   "source": [
    "import numpy as np\n",
    "from scipy import stats"
   ]
  },
  {
   "cell_type": "code",
   "execution_count": 11,
   "metadata": {
    "collapsed": false
   },
   "outputs": [
    {
     "name": "stdout",
     "output_type": "stream",
     "text": [
      "0.776289734767\n",
      "0.766974770607\n"
     ]
    }
   ],
   "source": [
    "n = 201\n",
    "x = np.linspace(0, 20, n)\n",
    "w = np.array([-6, 0.75])\n",
    "y = w[0] + w[1] * x + stats.norm.rvs(size = n)\n",
    "\n",
    "def regress(n, x, y, sx, sy, sxx, sxy):\n",
    "    sx += x\n",
    "    sy += y\n",
    "    sxx += x * x\n",
    "    sxy += x * y\n",
    "    sx2 = sx * sx\n",
    "    if n == 0 or sxx == sx2:\n",
    "        w1 = w0 = 0\n",
    "    else:\n",
    "        w1 = (sxy - sx * sy / n) / (sxx - sx2 / n)\n",
    "        w0 = (sy - w1 * sx) / n\n",
    "    return w0, w1, sx, sy, sxx, sxy\n",
    "\n",
    "sx = sy = sxx = sxy = 0.0\n",
    "\n",
    "for i in range(n):\n",
    "    w0, w1, sx, sy, sxx, sxy = regress(i, x[i], y[i], sx, sy, sxx, sxy)\n",
    "\n",
    "print w1\n",
    "\n",
    "xbar = np.mean(x)\n",
    "ybar = np.mean(y)\n",
    "print (sum(x * y) - n * xbar * ybar) / (sum(x ** 2) - n * xbar ** 2)"
   ]
  }
 ],
 "metadata": {
  "kernelspec": {
   "display_name": "Python 2",
   "language": "python",
   "name": "python2"
  },
  "language_info": {
   "codemirror_mode": {
    "name": "ipython",
    "version": 2
   },
   "file_extension": ".py",
   "mimetype": "text/x-python",
   "name": "python",
   "nbconvert_exporter": "python",
   "pygments_lexer": "ipython2",
   "version": "2.7.10"
  }
 },
 "nbformat": 4,
 "nbformat_minor": 0
}
