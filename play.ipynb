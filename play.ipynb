{
 "cells": [
  {
   "cell_type": "code",
   "execution_count": 1,
   "metadata": {
    "collapsed": false
   },
   "outputs": [],
   "source": [
    "import numpy as np\n",
    "from scipy import stats\n",
    "from scipy.optimize import minimize"
   ]
  },
  {
   "cell_type": "code",
   "execution_count": 15,
   "metadata": {
    "collapsed": false
   },
   "outputs": [],
   "source": [
    "x = [1, 1, 0, 1, 1, 0, 0]\n",
    "y = [1, 0, 0, 0, 1, 0, 1]"
   ]
  },
  {
   "cell_type": "code",
   "execution_count": 22,
   "metadata": {
    "collapsed": false
   },
   "outputs": [
    {
     "data": {
      "text/plain": [
       "array([ 0.28571429,  0.14285714,  0.28571429,  0.28571429])"
      ]
     },
     "execution_count": 22,
     "metadata": {},
     "output_type": "execute_result"
    }
   ],
   "source": [
    "np.array([2, 1, 2, 2]) / 7.0"
   ]
  },
  {
   "cell_type": "code",
   "execution_count": 40,
   "metadata": {
    "collapsed": false
   },
   "outputs": [],
   "source": [
    "def fun(theta):\n",
    "    p = 1\n",
    "    \n",
    "    for i in range(len(x)):\n",
    "        p *= theta[0] if x[i] + y[i] == 0 else theta[3] if x[i] + y[i] == 2 else theta[1] if x[i] == 0 else theta[2]\n",
    "        \n",
    "    return -p\n",
    "\n",
    "cons = (\n",
    "    {'type': 'eq', 'fun': lambda theta:  1 - np.sum(theta)},\n",
    "    {'type': 'ineq', 'fun': lambda theta:  theta[0]},\n",
    "    {'type': 'ineq', 'fun': lambda theta:  theta[1]},\n",
    "    {'type': 'ineq', 'fun': lambda theta:  theta[2]},\n",
    "    {'type': 'ineq', 'fun': lambda theta:  theta[3]}\n",
    ")"
   ]
  },
  {
   "cell_type": "code",
   "execution_count": 41,
   "metadata": {
    "collapsed": false
   },
   "outputs": [
    {
     "data": {
      "text/plain": [
       "  status: 0\n",
       " success: True\n",
       "    njev: 17\n",
       "    nfev: 150\n",
       "     fun: -7.7713003449728858e-05\n",
       "       x: array([ 0.28571429,  0.14285714,  0.28571429,  0.28571429])\n",
       " message: 'Optimization terminated successfully.'\n",
       "     jac: array([-0.00054399, -0.00054399, -0.00054399, -0.00054399,  0.        ])\n",
       "     nit: 17"
      ]
     },
     "execution_count": 41,
     "metadata": {},
     "output_type": "execute_result"
    }
   ],
   "source": [
    "minimize(fun, [0.25, 0.25, 0.25, 0.25], method = 'SLSQP', constraints = cons, options = {'ftol': 1e-99})"
   ]
  }
 ],
 "metadata": {
  "kernelspec": {
   "display_name": "Python 2",
   "language": "python",
   "name": "python2"
  },
  "language_info": {
   "codemirror_mode": {
    "name": "ipython",
    "version": 2
   },
   "file_extension": ".py",
   "mimetype": "text/x-python",
   "name": "python",
   "nbconvert_exporter": "python",
   "pygments_lexer": "ipython2",
   "version": "2.7.10"
  }
 },
 "nbformat": 4,
 "nbformat_minor": 0
}
