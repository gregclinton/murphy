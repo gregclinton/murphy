{
 "cells": [
  {
   "cell_type": "code",
   "execution_count": 54,
   "metadata": {
    "collapsed": true
   },
   "outputs": [],
   "source": [
    "%matplotlib inline\n",
    "import matplotlib.pyplot as plt\n",
    "import numpy as np\n",
    "from scipy import stats"
   ]
  },
  {
   "cell_type": "code",
   "execution_count": 55,
   "metadata": {
    "collapsed": true
   },
   "outputs": [],
   "source": [
    "n = 21\n",
    "x = np.linspace(0, 20, n)\n",
    "w = np.array([-1.5, 1.0 / 9])\n",
    "y = w[0] * x + w[1] * x ** 2 + stats.norm.rvs(size = n) * 2"
   ]
  },
  {
   "cell_type": "code",
   "execution_count": 61,
   "metadata": {
    "collapsed": false
   },
   "outputs": [],
   "source": [
    "def recursive_mean(n, x, xbar):\n",
    "    return x if xbar == None else (xbar + (x - xbar) / (n + 1.0))\n",
    "\n",
    "def recursive_var(n, x, xbar, xbar_next, cxx):\n",
    "    if cxx == None:\n",
    "        return 0\n",
    "    else:\n",
    "        return ((x ** 2 + n * cxx + n * xbar ** 2 - (n + 1) * xbar_next ** 2) / (n + 1.0))\n",
    "\n",
    "def recursive_cov(n, x, xbar, xbar_next, y, ybar, ybar_next, cxy):\n",
    "    if cxy == None:\n",
    "        return 0\n",
    "    else:\n",
    "        return ((x * y + n * cxy + n * xbar * ybar - (n + 1) * xbar_next * ybar_next) / (n + 1.0))\n",
    "    \n",
    "def regress(n, xbar, ybar, cxx, cxy, x, y):    \n",
    "    xbar_next = recursive_mean(n, x, xbar)\n",
    "    ybar_next = recursive_mean(n, y, ybar)\n",
    "    cxx = recursive_var(n, x, xbar, xbar_next, cxx)\n",
    "    cxy = recursive_cov(n, x, xbar, xbar_next, y, ybar, ybar_next, cxy)\n",
    "    xbar = xbar_next\n",
    "    ybar = ybar_next\n",
    "    w0 = 0\n",
    "    w1 = 0\n",
    "    return w0, w1, xbar, ybar, cxx, cxy "
   ]
  },
  {
   "cell_type": "code",
   "execution_count": 62,
   "metadata": {
    "collapsed": false
   },
   "outputs": [
    {
     "data": {
      "image/png": "[encoded data removed]",
      "text/plain": [
       "<matplotlib.figure.Figure at 0x7fb52b9975d0>"
      ]
     },
     "metadata": {},
     "output_type": "display_data"
    }
   ],
   "source": [
    "xbar = None\n",
    "ybar = None\n",
    "cxx = None\n",
    "cxy = None\n",
    "\n",
    "for n in range(len(x)):\n",
    "    w0, w1, xbar, ybar, cxx, cxy = regress(n, xbar, ybar, cxx, cxy, x[n], y[n])\n",
    "\n",
    "plt.plot(x, y, 'ro')\n",
    "plt.show()"
   ]
  }
 ],
 "metadata": {
  "kernelspec": {
   "display_name": "Python 2",
   "language": "python",
   "name": "python2"
  },
  "language_info": {
   "codemirror_mode": {
    "name": "ipython",
    "version": 2
   },
   "file_extension": ".py",
   "mimetype": "text/x-python",
   "name": "python",
   "nbconvert_exporter": "python",
   "pygments_lexer": "ipython2",
   "version": "2.7.10"
  }
 },
 "nbformat": 4,
 "nbformat_minor": 0
}
