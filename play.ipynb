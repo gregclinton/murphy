{
 "cells": [
  {
   "cell_type": "code",
   "execution_count": 15,
   "metadata": {
    "collapsed": true
   },
   "outputs": [],
   "source": [
    "import numpy as np\n",
    "from numpy.linalg import inv\n",
    "from scipy import stats"
   ]
  },
  {
   "cell_type": "code",
   "execution_count": 17,
   "metadata": {
    "collapsed": false
   },
   "outputs": [
    {
     "data": {
      "text/plain": [
       "(array([-3.25637635,  0.04265093]),\n",
       " array([[  1.32323933e-01,  -1.22225033e-03],\n",
       "        [ -1.22225033e-03,   1.14229003e-05]]))"
      ]
     },
     "execution_count": 17,
     "metadata": {},
     "output_type": "execute_result"
    }
   ],
   "source": [
    "x = np.array([94, 96, 94, 95, 104, 106, 108, 113, 115, 121, 131])\n",
    "y = [0.47, 0.75, 0.83, 0.98, 1.18, 1.29, 1.40, 1.60, 1.75, 1.90, 2.23]\n",
    "N = len(x)\n",
    "\n",
    "X = np.hstack((np.ones((N, 1)), x.reshape(N, 1)))\n",
    "w_hat = inv(X.T.dot(X)).dot(X.T).dot(y)\n",
    "y_hat = X.dot(w_hat)\n",
    "sigma2 = sum((y - y_hat) ** 2) / (N - 2.0)\n",
    "V0_inv = np.array([[0, 0],[0, 1]])\n",
    "w0 = np.array([1, 0])\n",
    "VN_inv = V0_inv + X.T.dot(X) / sigma2\n",
    "VN = inv(VN_inv)\n",
    "wN = VN.dot(X.T).dot(y) / sigma2\n",
    "marginal = lambda w1: stats.norm.pdf(w1, wN[1], VN[1][1]) \n",
    "wN, VN"
   ]
  }
 ],
 "metadata": {
  "kernelspec": {
   "display_name": "Python 2",
   "language": "python",
   "name": "python2"
  },
  "language_info": {
   "codemirror_mode": {
    "name": "ipython",
    "version": 2
   },
   "file_extension": ".py",
   "mimetype": "text/x-python",
   "name": "python",
   "nbconvert_exporter": "python",
   "pygments_lexer": "ipython2",
   "version": "2.7.9"
  }
 },
 "nbformat": 4,
 "nbformat_minor": 0
}
