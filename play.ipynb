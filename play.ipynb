{
 "cells": [
  {
   "cell_type": "code",
   "execution_count": 34,
   "metadata": {
    "collapsed": true
   },
   "outputs": [],
   "source": [
    "import numpy as np\n",
    "from scipy.optimize import minimize"
   ]
  },
  {
   "cell_type": "code",
   "execution_count": 35,
   "metadata": {
    "collapsed": false
   },
   "outputs": [],
   "source": [
    "x = [0, 0, 0, 1, 1, 1]\n",
    "y = np.array([[-1, -1], [-1, -2], [-2, -1], [1, 1], [1, 2], [2, 1]])\n",
    "M = len(y[0])\n",
    "n = len(x)\n",
    "phi = [np.array([1, 0] if xx == 0 else [0, 1]) for xx in x]"
   ]
  },
  {
   "cell_type": "code",
   "execution_count": 40,
   "metadata": {
    "collapsed": false
   },
   "outputs": [
    {
     "data": {
      "text/plain": [
       "   status: 0\n",
       "  success: True\n",
       "     njev: 3\n",
       "     nfev: 12\n",
       " hess_inv: array([[1, 0],\n",
       "       [0, 1]])\n",
       "      fun: 24.0\n",
       "        x: array([[  8.88178420e-16,   8.88178420e-16],\n",
       "       [  8.88178420e-16,   8.88178420e-16]])\n",
       "  message: 'Optimization terminated successfully.'\n",
       "      jac: array([  0.00000000e+00,   4.76837158e-07])"
      ]
     },
     "execution_count": 40,
     "metadata": {},
     "output_type": "execute_result"
    }
   ],
   "source": [
    "def fun(W):\n",
    "    W.shape = (2, 2)\n",
    "    total = 0\n",
    "    for j in range(M):\n",
    "        for i in range(n):\n",
    "            total += (y[i, j] - W[:, j].dot(phi[i])) ** 2\n",
    "    return total\n",
    "            \n",
    "minimize(fun, 2 * np.ones(4))"
   ]
  }
 ],
 "metadata": {
  "kernelspec": {
   "display_name": "Python 2",
   "language": "python",
   "name": "python2"
  },
  "language_info": {
   "codemirror_mode": {
    "name": "ipython",
    "version": 2
   },
   "file_extension": ".py",
   "mimetype": "text/x-python",
   "name": "python",
   "nbconvert_exporter": "python",
   "pygments_lexer": "ipython2",
   "version": "2.7.10"
  }
 },
 "nbformat": 4,
 "nbformat_minor": 0
}
