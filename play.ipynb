{
 "cells": [
  {
   "cell_type": "code",
   "execution_count": 1,
   "metadata": {
    "collapsed": true
   },
   "outputs": [],
   "source": [
    "%matplotlib inline\n",
    "import matplotlib.pyplot as plt\n",
    "import numpy as np\n",
    "from numpy.linalg import inv\n",
    "from scipy import stats"
   ]
  },
  {
   "cell_type": "code",
   "execution_count": 2,
   "metadata": {
    "collapsed": true
   },
   "outputs": [],
   "source": [
    "n = 21\n",
    "x = np.linspace(0, 20, n)\n",
    "w = np.array([-6, 0.75])\n",
    "y = w[0] + w[1] * x + stats.norm.rvs(size = n)"
   ]
  },
  {
   "cell_type": "code",
   "execution_count": 18,
   "metadata": {
    "collapsed": false
   },
   "outputs": [],
   "source": [
    "def recursive_mean(n, x, xbar):\n",
    "    return x if n == 0 else xbar + (x - xbar) / (n + 1.0)\n",
    "\n",
    "def recursive_cxx(n, x, xbar, xbar_next, cxx):\n",
    "    if n == 0:\n",
    "        return 0\n",
    "    else:\n",
    "        return (x ** 2 + n * cxx + n * xbar ** 2 - (n + 1) * xbar_next ** 2) / (n + 1.0)\n",
    "\n",
    "def recursive_cxy(n, x, xbar, xbar_next, y, ybar, ybar_next, cxy):\n",
    "    if n == 0:\n",
    "        return 0\n",
    "    else:\n",
    "        return (x * y + n * cxy + n * xbar * ybar - (n + 1) * xbar_next * ybar_next) / (n + 1.0)\n",
    "    \n",
    "def regress(n, xbar, ybar, cxx, cxy, x, y):    \n",
    "    xbar_next = recursive_mean(n, x, xbar)\n",
    "    ybar_next = recursive_mean(n, y, ybar)\n",
    "    cxx = recursive_cxx(n, x, xbar, xbar_next, cxx)\n",
    "    cxy = recursive_cxy(n, x, xbar, xbar_next, y, ybar, ybar_next, cxy)\n",
    "    xbar = xbar_next\n",
    "    ybar = ybar_next\n",
    "    w1 = 0 if cxx == 0 else cxy / cxx\n",
    "    w0 = ybar - w1 * xbar\n",
    "    return w0, w1, xbar, ybar, cxx, cxy "
   ]
  },
  {
   "cell_type": "code",
   "execution_count": 16,
   "metadata": {
    "collapsed": true
   },
   "outputs": [],
   "source": [
    "def regress(n, xbar, ybar, cxx, cxy, x, y):    \n",
    "    xbar = recursive_mean(n, x, xbar)\n",
    "    ybar = recursive_mean(n, y, ybar)\n",
    "    cxx = 0 if n == 0 else cxx + x ** 2\n",
    "    cxy = 0 if n == 0 else cxy + x * y\n",
    "    w1 = 0 if cxx == 0 else (cxy - n * xbar * ybar) / (cxx - n * xbar ** 2)\n",
    "    w0 = ybar - w1 * xbar\n",
    "    return w0, w1, xbar, ybar, cxx, cxy "
   ]
  },
  {
   "cell_type": "code",
   "execution_count": 22,
   "metadata": {
    "collapsed": false
   },
   "outputs": [
    {
     "name": "stdout",
     "output_type": "stream",
     "text": [
      "-7.19328656542 0.809032498652\n"
     ]
    }
   ],
   "source": [
    "def regress(n, x, y, sx, sy, sxx, sxy):\n",
    "    sx += x\n",
    "    sy += y\n",
    "    sxx += x * x\n",
    "    sxy += x * y\n",
    "    sx2 = sx * sx\n",
    "    if n == 0 or sxx == sx2:\n",
    "        w1 = w0 = 0\n",
    "    else:\n",
    "        w1 = (sxy - sx * sy / n) / (sxx - sx2 / n)\n",
    "        w0 = (sy - w1 * sx) / n\n",
    "    return w0, w1, sx, sy, sxx, sxy\n",
    "\n",
    "sx = sy = sxx = sxy = 0.0\n",
    "\n",
    "for i in range(n):\n",
    "    w0, w1, sx, sy, sxx, sxy = regress(i, x[i], y[i], sx, sy, sxx, sxy)\n",
    "\n",
    "print w0, w1"
   ]
  },
  {
   "cell_type": "code",
   "execution_count": 19,
   "metadata": {
    "collapsed": false
   },
   "outputs": [
    {
     "name": "stdout",
     "output_type": "stream",
     "text": [
      "-6.0 0.75\n",
      "-5.91655604948 0.715613192607 10.0 1.23957587659 36.6666666667 26.2391503956\n",
      "-5.91655604948 0.715613192607 10.0 1.23957587659 36.6666666667 26.2391503956\n",
      "[-5.91655605  0.71561319]\n"
     ]
    },
    {
     "data": {
      "image/png": "[encoded data removed]",
      "text/plain": [
       "<matplotlib.figure.Figure at 0x7f1d3b78bb50>"
      ]
     },
     "metadata": {},
     "output_type": "display_data"
    }
   ],
   "source": [
    "xbar = ybar = cxx = cxy = 'blah'\n",
    "\n",
    "for i in range(n):\n",
    "    w0, w1, xbar, ybar, cxx, cxy = regress(i, xbar, ybar, cxx, cxy, x[i], y[i])\n",
    "\n",
    "print w[0], w[1]\n",
    "print w0, w1, xbar, ybar, cxx, cxy\n",
    "\n",
    "xbar = np.mean(x)\n",
    "ybar = np.mean(y)\n",
    "cxx = sum((x - xbar) ** 2) / n\n",
    "cxy = sum((x - xbar) * (y - ybar) ) / n\n",
    "w1 = cxy / cxx\n",
    "w0 = ybar - w1 * xbar\n",
    "print w0, w1, xbar, ybar, cxx, cxy\n",
    "\n",
    "X = np.hstack((np.ones((n, 1)), x.reshape(n, 1)))\n",
    "print inv(X.T.dot(X)).dot(X.T).dot(y)\n",
    "\n",
    "plt.plot(x, y, 'ro')\n",
    "plt.show()"
   ]
  },
  {
   "cell_type": "code",
   "execution_count": null,
   "metadata": {
    "collapsed": true
   },
   "outputs": [],
   "source": []
  }
 ],
 "metadata": {
  "kernelspec": {
   "display_name": "Python 2",
   "language": "python",
   "name": "python2"
  },
  "language_info": {
   "codemirror_mode": {
    "name": "ipython",
    "version": 2
   },
   "file_extension": ".py",
   "mimetype": "text/x-python",
   "name": "python",
   "nbconvert_exporter": "python",
   "pygments_lexer": "ipython2",
   "version": "2.7.10"
  }
 },
 "nbformat": 4,
 "nbformat_minor": 0
}
