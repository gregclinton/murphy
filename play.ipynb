{
 "cells": [
  {
   "cell_type": "code",
   "execution_count": 7,
   "metadata": {
    "collapsed": true
   },
   "outputs": [],
   "source": [
    "%matplotlib inline\n",
    "import matplotlib.pyplot as plt\n",
    "import numpy as np\n",
    "from scipy import stats"
   ]
  },
  {
   "cell_type": "code",
   "execution_count": 13,
   "metadata": {
    "collapsed": false
   },
   "outputs": [
    {
     "data": {
      "image/png": "[encoded data removed]",
      "text/plain": [
       "<matplotlib.figure.Figure at 0x15c62e48>"
      ]
     },
     "metadata": {},
     "output_type": "display_data"
    }
   ],
   "source": [
    "n = 21\n",
    "x = np.linspace(0, 20, n)\n",
    "w = np.array([-1.5, 1.0 / 9])\n",
    "y = w[0] * x + w[1] * x ** 2 + stats.norm.rvs(size = n) * 2\n",
    "\n",
    "plt.plot(x, y, 'ro')\n",
    "plt.show()"
   ]
  },
  {
   "cell_type": "code",
   "execution_count": 51,
   "metadata": {
    "collapsed": false
   },
   "outputs": [
    {
     "data": {
      "text/plain": [
       "(2.9166666666666665, 2.9166666666666665)"
      ]
     },
     "execution_count": 51,
     "metadata": {},
     "output_type": "execute_result"
    }
   ],
   "source": [
    "def recursive_mean(x, n, xbar):\n",
    "    return x if xbar == None else (xbar + (x - xbar) / (n + 1.0))\n",
    "\n",
    "def recursive_var(n, x, xbar, xbar_next, cxx):\n",
    "    if cxx == None:\n",
    "        return 0\n",
    "    else:\n",
    "        return ((x ** 2 + n * cxx + n * xbar ** 2 - (n + 1) * xbar_next ** 2) / (n + 1.0))\n",
    "\n",
    "xbar = None\n",
    "cxx = None\n",
    "x = [3, 4, 5, 6, 7, 8]\n",
    "y = [4, 5, 6, 7, 8, 1]\n",
    "\n",
    "for i in range(len(x)):\n",
    "    xbar_next = recursive_mean(x[i], i, xbar)\n",
    "    cxx = recursive_var(i, x[i], xbar, xbar_next, cxx)\n",
    "    xbar = xbar_next\n",
    "    \n",
    "np.var(xs), cxx"
   ]
  }
 ],
 "metadata": {
  "kernelspec": {
   "display_name": "Python 2",
   "language": "python",
   "name": "python2"
  },
  "language_info": {
   "codemirror_mode": {
    "name": "ipython",
    "version": 2
   },
   "file_extension": ".py",
   "mimetype": "text/x-python",
   "name": "python",
   "nbconvert_exporter": "python",
   "pygments_lexer": "ipython2",
   "version": "2.7.9"
  }
 },
 "nbformat": 4,
 "nbformat_minor": 0
}
