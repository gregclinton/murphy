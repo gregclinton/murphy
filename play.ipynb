{
 "cells": [
  {
   "cell_type": "code",
   "execution_count": 94,
   "metadata": {
    "collapsed": false
   },
   "outputs": [],
   "source": [
    "X = np.array([\n",
    "    [2, 3, 4, 5],\n",
    "    [2.2, 3.1, 4.2, 5.3],\n",
    "    [2.1, 3.2, 4.1, 5.2],\n",
    "])\n",
    "\n",
    "y = np.array([1, 1, 2])"
   ]
  },
  {
   "cell_type": "code",
   "execution_count": 109,
   "metadata": {
    "collapsed": false
   },
   "outputs": [
    {
     "data": {
      "text/plain": [
       "0.33333333333333331"
      ]
     },
     "execution_count": 109,
     "metadata": {},
     "output_type": "execute_result"
    }
   ],
   "source": [
    "from numpy.linalg import inv, svd\n",
    "import math\n",
    "\n",
    "def fit(X, y, lmbda):\n",
    "    theta = {}\n",
    "\n",
    "    U, s, V = svd(X, full_matrices = False)\n",
    "    V = V.T\n",
    "    Z = U.dot(np.diag(s))\n",
    "    Sigma = np.cov(Z, rowvar = False, ddof = 0)\n",
    "    Sigma = lmbda * np.diag(Sigma) + (1 - lmbda) * Sigma\n",
    "    VInvSigma = V.dot(inv(Sigma))\n",
    "    \n",
    "    for c in np.unique(y):\n",
    "        i = y == c\n",
    "        prior = np.mean(i)\n",
    "        mu_c = np.mean(X[i], axis = 0)\n",
    "        mu_z_c = V.T.dot(mu_c)\n",
    "        Beta = VInvSigma.dot(mu_z_c)\n",
    "        gamma = mu_c.T.dot(Beta) + math.log(prior)\n",
    "        theta[c] = Beta, gamma\n",
    "        \n",
    "    return theta\n",
    "        \n",
    "def predict(model, X):\n",
    "    p = []\n",
    "    cs = []\n",
    "        \n",
    "    for c, theta in model.iteritems():\n",
    "        Beta, gamma = theta\n",
    "        cs.append(c)\n",
    "        p.append(X.dot(Beta) + gamma)\n",
    "      \n",
    "    return np.array([cs[i] for i in np.argmax(p, axis = 0)])\n",
    "    \n",
    "model = fit(X, y, 0.1)\n",
    "np.mean(predict(model, X) == y)"
   ]
  },
  {
   "cell_type": "code",
   "execution_count": 44,
   "metadata": {
    "collapsed": false
   },
   "outputs": [],
   "source": [
    "%matplotlib inline\n",
    "import matplotlib.pyplot as plt\n",
    "import pandas as pd\n",
    "import numpy as np\n",
    "from scipy import stats\n",
    "import math\n",
    "from numpy.linalg import inv\n",
    "import qda\n",
    "import htwt"
   ]
  },
  {
   "cell_type": "code",
   "execution_count": 88,
   "metadata": {
    "collapsed": false
   },
   "outputs": [],
   "source": [
    "X, y = htwt.get()"
   ]
  },
  {
   "cell_type": "code",
   "execution_count": 4,
   "metadata": {
    "collapsed": false
   },
   "outputs": [
    {
     "data": {
      "text/plain": [
       "0.88095238095238093"
      ]
     },
     "execution_count": 4,
     "metadata": {},
     "output_type": "execute_result"
    }
   ],
   "source": [
    "model = qda.fit(X, y)\n",
    "np.mean(qda.predict(model, X) == y)"
   ]
  }
 ],
 "metadata": {
  "kernelspec": {
   "display_name": "Python 2",
   "language": "python",
   "name": "python2"
  },
  "language_info": {
   "codemirror_mode": {
    "name": "ipython",
    "version": 2
   },
   "file_extension": ".py",
   "mimetype": "text/x-python",
   "name": "python",
   "nbconvert_exporter": "python",
   "pygments_lexer": "ipython2",
   "version": "2.7.9"
  }
 },
 "nbformat": 4,
 "nbformat_minor": 0
}
