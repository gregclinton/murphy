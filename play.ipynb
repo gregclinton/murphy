<<<<<<< HEAD
{
 "cells": [
  {
   "cell_type": "code",
   "execution_count": null,
   "metadata": {
    "collapsed": true
   },
   "outputs": [],
   "source": [
    "%matplotlib inline\n",
    "import matplotlib.pyplot as plt\n",
    "import numpy as np\n",
    "from numpy.linalg import inv, svd, eig, eigh\n",
    "import pandas as pd\n",
    "from scipy import stats"
   ]
  }
 ],
 "metadata": {
  "kernelspec": {
   "display_name": "Python 2",
   "language": "python",
   "name": "python2"
  },
  "language_info": {
   "codemirror_mode": {
    "name": "ipython",
    "version": 2
   },
   "file_extension": ".py",
   "mimetype": "text/x-python",
   "name": "python",
   "nbconvert_exporter": "python",
   "pygments_lexer": "ipython2",
   "version": "2.7.10"
  }
 },
 "nbformat": 4,
 "nbformat_minor": 0
}
=======
{
 "cells": [
  {
   "cell_type": "code",
   "execution_count": 1,
   "metadata": {
    "collapsed": true
   },
   "outputs": [],
   "source": [
    "%matplotlib inline\n",
    "import matplotlib.pyplot as plt\n",
    "import numpy as np\n",
    "from numpy.linalg import inv, svd, eig, eigh\n",
    "import pandas as pd\n",
    "from scipy import stats\n",
    "from sklearn.decomposition import PCA\n",
    "import iris"
   ]
  },
  {
   "cell_type": "code",
   "execution_count": 9,
   "metadata": {
    "collapsed": true
   },
   "outputs": [],
   "source": [
    "X, y = iris.get()"
   ]
  },
  {
   "cell_type": "code",
   "execution_count": 3,
   "metadata": {
    "collapsed": false
   },
   "outputs": [
    {
     "data": {
      "text/plain": [
       "PCA(copy=True, n_components=None, whiten=False)"
      ]
     },
     "execution_count": 3,
     "metadata": {},
     "output_type": "execute_result"
    }
   ],
   "source": [
    "pca = PCA()\n",
    "pca.fit(X, y)"
   ]
  },
  {
   "cell_type": "code",
   "execution_count": 6,
   "metadata": {
    "collapsed": false
   },
   "outputs": [
    {
     "name": "stdout",
     "output_type": "stream",
     "text": [
      "[  0.26450509  90.73549491]\n",
      "[[-0.78489445  0.61962948]\n",
      " [ 0.61962948  0.78489445]]\n",
      "[[ 0.5  0.5  0.5]\n",
      " [ 0.5  0.5  0.5]\n",
      " [ 0.5  0.5  0.5]]\n"
     ]
    },
    {
     "data": {
      "text/plain": [
       "(array([-0.37228132,  5.37228132]), array([[-0.82456484, -0.41597356],\n",
       "        [ 0.56576746, -0.90937671]]))"
      ]
     },
     "execution_count": 6,
     "metadata": {},
     "output_type": "execute_result"
    }
   ],
   "source": [
    "X = np.array([[1, 2], [3, 4], [5, 6]])\n",
    "w, v = eigh(X.T.dot(X))\n",
    "print w\n",
    "print v\n",
    "print np.cov(X)\n",
    "eig([[1, 2], [3, 4]])"
   ]
  },
  {
   "cell_type": "code",
   "execution_count": 15,
   "metadata": {
    "collapsed": false
   },
   "outputs": [
    {
     "name": "stdout",
     "output_type": "stream",
     "text": [
      "(150L, 4L)\n",
      "(150L, 150L)\n",
      "(4L,)\n",
      "(4L, 4L)\n"
     ]
    }
   ],
   "source": [
    "U, s, V = svd(X)\n",
    "print X.shape\n",
    "print U.shape\n",
    "print s.shape\n",
    "print V.shape"
   ]
  },
  {
   "cell_type": "code",
   "execution_count": 12,
   "metadata": {
    "collapsed": false
   },
   "outputs": [
    {
     "name": "stdout",
     "output_type": "stream",
     "text": [
      "(array([ -6.96822408e-14,  -4.01194120e-14,  -2.72900488e-14,\n",
      "        -9.44169931e-15,  -8.78131214e-15,  -8.42982731e-15,\n",
      "        -8.24916712e-15,  -8.09580912e-15,  -7.91822052e-15,\n",
      "        -7.63830431e-15,  -7.29927717e-15,  -7.16246930e-15,\n",
      "        -7.02550880e-15,  -6.91550790e-15,  -6.73312817e-15,\n",
      "        -6.61662301e-15,  -6.41026880e-15,  -6.40668651e-15,\n",
      "        -6.24311962e-15,  -6.14680888e-15,  -5.85133746e-15,\n",
      "        -5.80529386e-15,  -5.51223415e-15,  -5.44122908e-15,\n",
      "        -5.42621944e-15,  -5.16109978e-15,  -5.15558168e-15,\n",
      "        -5.12510786e-15,  -5.10745562e-15,  -5.04755607e-15,\n",
      "        -4.69146124e-15,  -4.61161849e-15,  -4.58959683e-15,\n",
      "        -4.50543423e-15,  -3.86844752e-15,  -3.85645195e-15,\n",
      "        -3.81806991e-15,  -3.79599491e-15,  -3.77646846e-15,\n",
      "        -3.60637685e-15,  -3.37720319e-15,  -3.30288835e-15,\n",
      "        -3.12267521e-15,  -3.02343903e-15,  -2.99742945e-15,\n",
      "        -2.98010897e-15,  -2.85619525e-15,  -2.73525809e-15,\n",
      "        -2.70946693e-15,  -2.70923307e-15,  -2.49498210e-15,\n",
      "        -2.48145078e-15,  -2.24834836e-15,  -2.14479592e-15,\n",
      "        -2.12819192e-15,  -2.10744145e-15,  -1.99838662e-15,\n",
      "        -1.96007374e-15,  -1.81454025e-15,  -1.73152151e-15,\n",
      "        -1.72508768e-15,  -1.68240449e-15,  -1.34307216e-15,\n",
      "        -1.26339086e-15,  -1.07169497e-15,  -9.87430490e-16,\n",
      "        -9.77009464e-16,  -7.42974802e-16,  -6.68686007e-16,\n",
      "        -6.63210778e-16,  -6.49568159e-16,  -6.22986529e-16,\n",
      "        -6.06082951e-16,  -3.23363266e-16,  -2.92823495e-16,\n",
      "        -2.83874014e-16,  -8.98984378e-17,  -1.11498410e-17,\n",
      "        -2.01162548e-19,   4.92021015e-17,   1.06454584e-16,\n",
      "         2.65717687e-16,   3.23830694e-16,   4.29778969e-16,\n",
      "         4.91955699e-16,   5.53801380e-16,   5.93491231e-16,\n",
      "         9.22754039e-16,   9.26103243e-16,   9.26658249e-16,\n",
      "         1.00915288e-15,   1.29678743e-15,   1.40247310e-15,\n",
      "         1.44095619e-15,   1.48237975e-15,   1.64771156e-15,\n",
      "         1.87961114e-15,   1.90331161e-15,   1.93867169e-15,\n",
      "         2.00968950e-15,   2.09749781e-15,   2.11679623e-15,\n",
      "         2.26194627e-15,   2.31604627e-15,   2.60956239e-15,\n",
      "         2.74175209e-15,   2.78669783e-15,   2.79459761e-15,\n",
      "         2.90996956e-15,   3.02439729e-15,   3.22180423e-15,\n",
      "         3.43976754e-15,   3.46512416e-15,   3.55132990e-15,\n",
      "         3.63426824e-15,   3.69267532e-15,   3.70570341e-15,\n",
      "         4.09630300e-15,   4.10041769e-15,   4.29028125e-15,\n",
      "         4.43374577e-15,   4.44887681e-15,   4.62589142e-15,\n",
      "         4.77498972e-15,   4.82439941e-15,   4.91713192e-15,\n",
      "         4.92722915e-15,   5.24514677e-15,   5.25692753e-15,\n",
      "         5.26776577e-15,   5.43167923e-15,   5.90973790e-15,\n",
      "         5.95316393e-15,   6.06682461e-15,   6.21926626e-15,\n",
      "         6.65026244e-15,   6.66236287e-15,   6.83401649e-15,\n",
      "         6.97591263e-15,   7.19897623e-15,   7.65122986e-15,\n",
      "         7.75419065e-15,   8.15928134e-15,   8.35445465e-15,\n",
      "         8.45094172e-15,   9.70961891e-15,   3.86240159e-14,\n",
      "         1.48588640e+00,   9.65284922e+01,   5.59820621e+02]), array([[ 0.27211347,  0.68157498,  0.6456509 , ...,  0.00161714,\n",
      "         0.12142147, -0.07708907],\n",
      "       [-0.76035618,  0.10773422,  0.16053502, ...,  0.08131319,\n",
      "         0.09991733, -0.07531683],\n",
      "       [ 0.0926263 , -0.67414797,  0.61105368, ...,  0.00954864,\n",
      "         0.11038176, -0.07089542],\n",
      "       ..., \n",
      "       [-0.01872273, -0.00692429,  0.01552677, ...,  0.0350075 ,\n",
      "        -0.05740987, -0.08313541],\n",
      "       [-0.09520245, -0.03228437,  0.06452643, ..., -0.10096278,\n",
      "        -0.05426921, -0.07209446],\n",
      "       [-0.03898109,  0.01559261,  0.02223139, ..., -0.12617966,\n",
      "        -0.05705273, -0.0757483 ]]))\n",
      "[[ 0.36158968 -0.08226889  0.85657211  0.35884393]\n",
      " [-0.65653988 -0.72971237  0.1757674   0.07470647]\n",
      " [ 0.58099728 -0.59641809 -0.07252408 -0.54906091]]\n"
     ]
    }
   ],
   "source": [
    "print eigh(np.cov(X))\n",
    "print PCA(3, True).fit(X).components_"
   ]
  },
  {
   "cell_type": "code",
   "execution_count": 42,
   "metadata": {
    "collapsed": false
   },
   "outputs": [
    {
     "data": {
      "text/plain": [
       "[[0.2689414213699951, 0.7310585786300049],\n",
       " [0.2689414213699951, 0.73105857863000479],\n",
       " [0.26894142136999516, 0.7310585786300049]]"
      ]
     },
     "execution_count": 42,
     "metadata": {},
     "output_type": "execute_result"
    }
   ],
   "source": [
    "C = 2\n",
    "X = np.array([[1, 2], [3, 4], [5, 6]])\n",
    "W = np.eye(C)\n",
    "N, D = X.shape\n",
    "\n",
    "E = np.exp(X.dot(W))\n",
    "S = np.sum(E, axis = 1)\n",
    "[[E[i, c] / S[i] for c in range(C)] for i in range(N)]"
   ]
  }
 ],
 "metadata": {
  "kernelspec": {
   "display_name": "Python 2",
   "language": "python",
   "name": "python2"
  },
  "language_info": {
   "codemirror_mode": {
    "name": "ipython",
    "version": 2
   },
   "file_extension": ".py",
   "mimetype": "text/x-python",
   "name": "python",
   "nbconvert_exporter": "python",
   "pygments_lexer": "ipython2",
   "version": "2.7.9"
  }
 },
 "nbformat": 4,
 "nbformat_minor": 0
}
>>>>>>> 02b6b57ec0da3467fc79b68d78f606bc9bd16a2d
