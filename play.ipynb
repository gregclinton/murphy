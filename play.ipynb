{
 "cells": [
  {
   "cell_type": "code",
   "execution_count": 1,
   "metadata": {
    "collapsed": true
   },
   "outputs": [],
   "source": [
    "%matplotlib inline\n",
    "import matplotlib.pyplot as plt\n",
    "import numpy as np\n",
    "from scipy import stats"
   ]
  },
  {
   "cell_type": "code",
   "execution_count": 2,
   "metadata": {
    "collapsed": true
   },
   "outputs": [],
   "source": [
    "n = 21\n",
    "x = np.linspace(0, 20, n)\n",
    "w = np.array([-1.5, 1.0 / 9])\n",
    "y = w[0] * x + w[1] * x ** 2 + stats.norm.rvs(size = n) * 2"
   ]
  },
  {
   "cell_type": "code",
   "execution_count": 3,
   "metadata": {
    "collapsed": false
   },
   "outputs": [],
   "source": [
    "def recursive_mean(n, x, xbar):\n",
    "    return x if n == 0 else xbar + (x - xbar) / (n + 1.0)\n",
    "\n",
    "def recursive_cxx(n, x, xbar, xbar_next, cxx):\n",
    "    if n == 0:\n",
    "        return 0\n",
    "    else:\n",
    "        return (x ** 2 + n * cxx + n * xbar ** 2 - (n + 1) * xbar_next ** 2) / (n + 1.0)\n",
    "\n",
    "def recursive_cxy(n, x, xbar, xbar_next, y, ybar, ybar_next, cxy):\n",
    "    if n == 0:\n",
    "        return 0\n",
    "    else:\n",
    "        return (x * y + n * cxy + n * xbar * ybar - (n + 1) * xbar_next * ybar_next) / (n + 1.0)\n",
    "    \n",
    "def regress(n, xbar, ybar, cxx, cxy, x, y):    \n",
    "    xbar_next = recursive_mean(n, x, xbar)\n",
    "    ybar_next = recursive_mean(n, y, ybar)\n",
    "    cxx = recursive_cxx(n, x, xbar, xbar_next, cxx)\n",
    "    cxy = recursive_cxy(n, x, xbar, xbar_next, y, ybar, ybar_next, cxy)\n",
    "    xbar = xbar_next\n",
    "    ybar = ybar_next\n",
    "    w1 = 0 if cxx == 0 else cxy / cxx\n",
    "    w0 = ybar - w1 * xbar\n",
    "    return w0, w1, xbar, ybar, cxx, cxy "
   ]
  },
  {
   "cell_type": "code",
   "execution_count": 4,
   "metadata": {
    "collapsed": false
   },
   "outputs": [
    {
     "name": "stdout",
     "output_type": "stream",
     "text": [
      "-1.5 0.111111111111\n",
      "-6.9185810756 0.667905034644 10.0 -0.239530729155 36.6666666667 24.4898512703\n",
      "-6.9185810756 0.667905034644 10.0 -0.239530729155 36.6666666667 24.4898512703\n"
     ]
    },
    {
     "data": {
      "image/png": "[encoded data removed]",
      "text/plain": [
       "<matplotlib.figure.Figure at 0x3fee940>"
      ]
     },
     "metadata": {},
     "output_type": "display_data"
    }
   ],
   "source": [
    "xbar = ybar = cxx = cxy = 'blah'\n",
    "\n",
    "for i in range(n):\n",
    "    w0, w1, xbar, ybar, cxx, cxy = regress(i, xbar, ybar, cxx, cxy, x[i], y[i])\n",
    "\n",
    "print w[0], w[1]\n",
    "print w0, w1, xbar, ybar, cxx, cxy\n",
    "\n",
    "xbar = np.mean(x)\n",
    "ybar = np.mean(y)\n",
    "cxx = sum((x - xbar) ** 2) / n\n",
    "cxy = sum((x - xbar) * (y - ybar) ) / n\n",
    "w1 = cxy / cxx\n",
    "w0 = ybar - w1 * xbar\n",
    "print w0, w1, xbar, ybar, cxx, cxy\n",
    "\n",
    "plt.plot(x, y, 'ro')\n",
    "plt.show()"
   ]
  }
 ],
 "metadata": {
  "kernelspec": {
   "display_name": "Python 2",
   "language": "python",
   "name": "python2"
  },
  "language_info": {
   "codemirror_mode": {
    "name": "ipython",
    "version": 2
   },
   "file_extension": ".py",
   "mimetype": "text/x-python",
   "name": "python",
   "nbconvert_exporter": "python",
   "pygments_lexer": "ipython2",
   "version": "2.7.9"
  }
 },
 "nbformat": 4,
 "nbformat_minor": 0
}
