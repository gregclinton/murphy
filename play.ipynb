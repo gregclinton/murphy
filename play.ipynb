{
 "cells": [
  {
   "cell_type": "code",
   "execution_count": 1,
   "metadata": {
    "collapsed": false
   },
   "outputs": [],
   "source": [
    "import numpy as np\n",
    "from scipy import stats"
   ]
  },
  {
   "cell_type": "code",
   "execution_count": 24,
   "metadata": {
    "collapsed": false
   },
   "outputs": [
    {
     "data": {
      "text/plain": [
       "array([1, 1, 1, 0, 1, 1, 1])"
      ]
     },
     "execution_count": 24,
     "metadata": {},
     "output_type": "execute_result"
    }
   ],
   "source": [
    "x = np.array([1, 1, 0, 1, 1, 0, 0])\n",
    "y = np.array([1, 0, 0, 0, 1, 0, 1])"
   ]
  },
  {
   "cell_type": "code",
   "execution_count": 42,
   "metadata": {
    "collapsed": false
   },
   "outputs": [],
   "source": [
    "def L(x, y):\n",
    "    def fold(i):\n",
    "        keep = range(len(x))\n",
    "        keep.remove(i)\n",
    "        return loglik([x[i]], y[[i]], mle(x[keep], y[keep]))\n",
    "\n",
    "    return sum([fold(i) for i in range(len(x))])\n",
    "\n",
    "def run():\n",
    "    print loglik(x, y, mle(x, y))\n",
    "    print L(x, y)\n",
    "    print loglik(x, y, mle(x, y)) - dof * np.log(len(x)) / 2.0\n",
    "    \n",
    "def loglik(x, y, theta):\n",
    "    return np.sum([ll(x[i], y[i], theta) for i in range(len(x))])"
   ]
  },
  {
   "cell_type": "code",
   "execution_count": 43,
   "metadata": {
    "collapsed": false
   },
   "outputs": [
    {
     "name": "stdout",
     "output_type": "stream",
     "text": [
      "-9.46248796003\n",
      "-inf\n",
      "-12.3813531836\n"
     ]
    }
   ],
   "source": [
    "def ll(x, y, theta):\n",
    "    i = 0 if x + y == 0 else 3 if x + y == 2 else 1 if x == 0 else 2\n",
    "    return -np.inf if theta[i] <= 0 else np.log(theta[i])\n",
    "\n",
    "def mle(x, y):\n",
    "    return list(1.0 * np.sum([(1 - x) * (1 - y), y * (1 - x), x * (1 - y), x * y], axis = 1) / len(x))\n",
    "\n",
    "dof = 3\n",
    "\n",
    "run()"
   ]
  },
  {
   "cell_type": "code",
   "execution_count": 44,
   "metadata": {
    "collapsed": false
   },
   "outputs": [
    {
     "name": "stdout",
     "output_type": "stream",
     "text": [
      "-9.56071346581\n",
      "-12.1368511765\n",
      "-11.5066236149\n"
     ]
    }
   ],
   "source": [
    "def ll(x, y, theta):\n",
    "    return sum(np.log([theta[0] if x == 1 else 1 - theta[0], theta[1] if x == y else 1 - theta[1]]))\n",
    "    \n",
    "def mle(x, y):\n",
    "    return 1.0 * np.array([np.sum(x), np.sum(x == y)]) / len(x)\n",
    "\n",
    "dof = 2\n",
    "\n",
    "run()"
   ]
  }
 ],
 "metadata": {
  "kernelspec": {
   "display_name": "Python 2",
   "language": "python",
   "name": "python2"
  },
  "language_info": {
   "codemirror_mode": {
    "name": "ipython",
    "version": 2
   },
   "file_extension": ".py",
   "mimetype": "text/x-python",
   "name": "python",
   "nbconvert_exporter": "python",
   "pygments_lexer": "ipython2",
   "version": "2.7.9"
  }
 },
 "nbformat": 4,
 "nbformat_minor": 0
}
