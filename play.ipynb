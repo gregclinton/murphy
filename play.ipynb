{
 "cells": [
  {
   "cell_type": "code",
   "execution_count": 1,
   "metadata": {
    "collapsed": true
   },
   "outputs": [],
   "source": [
    "import numpy as np\n",
    "from numpy.linalg import inv"
   ]
  },
  {
   "cell_type": "code",
   "execution_count": 2,
   "metadata": {
    "collapsed": false
   },
   "outputs": [],
   "source": [
    "x = np.array([94, 96, 94, 95, 104, 106, 108, 113, 115, 121, 131])\n",
    "y = [0.47, 0.75, 0.83, 0.98, 1.18, 1.29, 1.40, 1.60, 1.75, 1.90, 2.23]\n",
    "N = len(x)\n",
    "\n",
    "X = np.hstack((np.ones((N, 1)), x.reshape(N, 1)))\n",
    "w = inv(X.T.dot(X)).dot(X.T).dot(y)\n",
    "y_hat = X.dot(w)\n",
    "sigma_hat2 = sum((y - y_hat) ** 2) / (N - 2.0)\n",
    "V0_inv = np.array([[0, 0],[0, 1]])\n",
    "w0 = np.array([1, 0])"
   ]
  }
 ],
 "metadata": {
  "kernelspec": {
   "display_name": "Python 2",
   "language": "python",
   "name": "python2"
  },
  "language_info": {
   "codemirror_mode": {
    "name": "ipython",
    "version": 2
   },
   "file_extension": ".py",
   "mimetype": "text/x-python",
   "name": "python",
   "nbconvert_exporter": "python",
   "pygments_lexer": "ipython2",
   "version": "2.7.10"
  }
 },
 "nbformat": 4,
 "nbformat_minor": 0
}
