{
 "cells": [
  {
   "cell_type": "code",
   "execution_count": 1,
   "metadata": {
    "collapsed": false
   },
   "outputs": [],
   "source": [
    "import numpy as np\n",
    "from scipy import stats\n",
    "from scipy.optimize import minimize"
   ]
  },
  {
   "cell_type": "code",
   "execution_count": 15,
   "metadata": {
    "collapsed": false
   },
   "outputs": [],
   "source": [
    "x = [1, 1, 0, 1, 1, 0, 0]\n",
    "y = [1, 0, 0, 0, 1, 0, 1]"
   ]
  },
  {
   "cell_type": "code",
   "execution_count": 17,
   "metadata": {
    "collapsed": false
   },
   "outputs": [
    {
     "name": "stdout",
     "output_type": "stream",
     "text": [
      "1 1\n",
      "1 0\n",
      "0 0\n",
      "1 0\n",
      "1 1\n",
      "0 0\n",
      "0 1\n"
     ]
    }
   ],
   "source": [
    "for xx, yy in zip(x, y):\n",
    "    print xx, yy"
   ]
  },
  {
   "cell_type": "code",
   "execution_count": 18,
   "metadata": {
    "collapsed": false
   },
   "outputs": [],
   "source": [
    "def fun(theta):\n",
    "    p = 1\n",
    "    \n",
    "    for i in range(len(x)):\n",
    "        p *= theta[0] if x[i] + y[i] == 0 else theta[3] if x[i] + y[i] == 2 else theta[1] if x[i] == 0 else theta[2]\n",
    "        \n",
    "    return p\n",
    "\n",
    "cons = (\n",
    "    {'type': 'eq', 'fun': lambda theta:  1 - np.sum(theta)},\n",
    "    {'type': 'ineq', 'fun': lambda theta:  theta[0]},\n",
    "    {'type': 'ineq', 'fun': lambda theta:  theta[1]},\n",
    "    {'type': 'ineq', 'fun': lambda theta:  theta[2]},\n",
    "    {'type': 'ineq', 'fun': lambda theta:  theta[3]}\n",
    ")"
   ]
  },
  {
   "cell_type": "code",
   "execution_count": 19,
   "metadata": {
    "collapsed": false
   },
   "outputs": [
    {
     "data": {
      "text/plain": [
       "  status: 0\n",
       " success: True\n",
       "    njev: 2\n",
       "    nfev: 12\n",
       "     fun: 4.7940365872048111e-94\n",
       "       x: array([  4.44089210e-16,   1.00000000e+00,   2.22044605e-16,\n",
       "         2.22044605e-16])\n",
       " message: 'Optimization terminated successfully.'\n",
       "     jac: array([  3.62227185e-71,   4.79403659e-94,   1.44890870e-70,\n",
       "         1.44890870e-70,   0.00000000e+00])\n",
       "     nit: 2"
      ]
     },
     "execution_count": 19,
     "metadata": {},
     "output_type": "execute_result"
    }
   ],
   "source": [
    "minimize(fun, [1., 1., 1., 1.], method = 'SLSQP', constraints = cons)"
   ]
  }
 ],
 "metadata": {
  "kernelspec": {
   "display_name": "Python 2",
   "language": "python",
   "name": "python2"
  },
  "language_info": {
   "codemirror_mode": {
    "name": "ipython",
    "version": 2
   },
   "file_extension": ".py",
   "mimetype": "text/x-python",
   "name": "python",
   "nbconvert_exporter": "python",
   "pygments_lexer": "ipython2",
   "version": "2.7.10"
  }
 },
 "nbformat": 4,
 "nbformat_minor": 0
}
