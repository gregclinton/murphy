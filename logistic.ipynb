{
 "cells": [
  {
   "cell_type": "code",
   "execution_count": 3,
   "metadata": {
    "collapsed": false
   },
   "outputs": [],
   "source": [
    "import numpy as np\n",
    "import datasets\n",
    "from scipy.optimize import minimize\n",
    "from softmax import softmax, log_softmax\n",
    "from sklearn import preprocessing"
   ]
  },
  {
   "cell_type": "code",
   "execution_count": 4,
   "metadata": {
    "collapsed": true
   },
   "outputs": [],
   "source": [
    "def crossentropy_loss(X, Y, decode):\n",
    "    def loss(params):\n",
    "        W, b = decode(params)\n",
    "        return -sum([Y[i].dot(ll) for i, ll in enumerate(log_softmax(X.dot(W) + b))])\n",
    "\n",
    "    def grad(params):\n",
    "        W, b = decode(params)\n",
    "        return sum([np.kron(mu - Y[i], X[i]) for i, mu in enumerate(softmax(X.dot(W) + b))])\n",
    "\n",
    "    def hess(params):\n",
    "        W, b = decode(params)\n",
    "        o = lambda x: np.outer(x, x)\n",
    "        return sum([np.kron(np.diag(mu) - o(mu), o(X[i])) for i, mu in enumerate(softmax(X.dot(W) + b))])\n",
    "    \n",
    "#    return loss, grad, hess\n",
    "    return loss, None, None\n",
    "\n",
    "def hinge_loss(X, Y, decode):\n",
    "    y = np.argmax(Y, axis = 1)\n",
    "    rng = np.arange(len(X)) \n",
    "    \n",
    "    def loss(params):\n",
    "        W, b = decode(params)\n",
    "        s = X.dot(W) + b\n",
    "        s = (s.T - s[rng, y]).T\n",
    "        s[rng, y] = 0 \n",
    "        return np.sum(np.maximum(0, s + 1))\n",
    "    \n",
    "    return loss, None, None\n",
    "\n",
    "class Classifier:\n",
    "    def fit(self, X, y, loss):\n",
    "        Y = datasets.one_hot(y)\n",
    "        N, D = X.shape\n",
    "        N, C = Y.shape\n",
    "\n",
    "        # self.scaler = preprocessing.StandardScaler().fit(X)\n",
    "        # X = self.scaler.transform(X)\n",
    "\n",
    "        params = [0] * (D + 1) * C\n",
    "        decode = lambda params: (params[:-C].reshape(D, C), params[-C:])\n",
    "\n",
    "        loss, grad, hess = loss(X, Y, decode)\n",
    "        \n",
    "        if hess != None:\n",
    "            params = minimize(loss, params, method = 'Newton-CG', jac = grad, hess = hess).x\n",
    "        else:\n",
    "            params = minimize(loss, params).x\n",
    "        self.theta = decode(params)\n",
    "    \n",
    "    def predict_log_proba(self, X):\n",
    "        return np.log(self.predict_proba(X))\n",
    "\n",
    "    def predict_proba(self, X):\n",
    "        # X = self.scaler.transform(X)\n",
    "        W, b = self.theta\n",
    "        return softmax(X.dot(W) + b)\n",
    "\n",
    "    def predict(self, X):\n",
    "        p = self.predict_proba(X)\n",
    "        return np.argmax(p, axis = 1)"
   ]
  },
  {
   "cell_type": "code",
   "execution_count": 5,
   "metadata": {
    "collapsed": false
   },
   "outputs": [
    {
     "name": "stdout",
     "output_type": "stream",
     "text": [
      "0.013\n"
     ]
    }
   ],
   "source": [
    "X, y = datasets.iris()\n",
    "\n",
    "clf = Classifier()\n",
    "clf.fit(X, y, crossentropy_loss)\n",
    "print '%0.3f' % np.mean(clf.predict(X) != y)"
   ]
  }
 ],
 "metadata": {
  "anaconda-cloud": {},
  "kernelspec": {
   "display_name": "Python 2",
   "language": "python",
   "name": "python2"
  },
  "language_info": {
   "codemirror_mode": {
    "name": "ipython",
    "version": 2
   },
   "file_extension": ".py",
   "mimetype": "text/x-python",
   "name": "python",
   "nbconvert_exporter": "python",
   "pygments_lexer": "ipython2",
   "version": "2.7.12"
  }
 },
 "nbformat": 4,
 "nbformat_minor": 0
}
