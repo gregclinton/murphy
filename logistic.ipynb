{
 "cells": [
  {
   "cell_type": "code",
   "execution_count": 1,
   "metadata": {
    "collapsed": false
   },
   "outputs": [],
   "source": [
    "import numpy as np\n",
    "import datasets\n",
    "from scipy.optimize import minimize\n",
    "from softmax import softmax, log_softmax"
   ]
  },
  {
   "cell_type": "code",
   "execution_count": 2,
   "metadata": {
    "collapsed": true
   },
   "outputs": [],
   "source": [
    "X, y = datasets.htwt()"
   ]
  },
  {
   "cell_type": "code",
   "execution_count": 3,
   "metadata": {
    "collapsed": false
   },
   "outputs": [
    {
     "name": "stdout",
     "output_type": "stream",
     "text": [
      "0.013\n"
     ]
    }
   ],
   "source": [
    "def crossentropy_loss(X, Y, decode):\n",
    "    def loss(params):\n",
    "        W, b = decode(params)\n",
    "        return -sum([Y[i].dot(ll) for i, ll in enumerate(log_softmax(X.dot(W) + b))])\n",
    "\n",
    "    def grad(params):\n",
    "        W, b = decode(params)\n",
    "        return sum([np.kron(mu - Y[i], X[i]) for i, mu in enumerate(softmax(X.dot(W) + b))])\n",
    "\n",
    "    def hess(params):\n",
    "        W, b = decode(params)\n",
    "        o = lambda x: np.outer(x, x)\n",
    "        return sum([np.kron(np.diag(mu) - o(mu), o(X[i])) for i, mu in enumerate(softmax(X.dot(W) + b))])\n",
    "    \n",
    "    return loss, grad, hess\n",
    "\n",
    "def fit(X, y):\n",
    "    Y = datasets.one_hot(y)\n",
    "    N, D = X.shape\n",
    "    N, C = Y.shape\n",
    "    loss = crossentropy_loss\n",
    "\n",
    "    params = [0] * (D + 1) * C\n",
    "    decode = lambda params: (params[:-C].reshape(D, C), params[-C:])\n",
    "\n",
    "    loss, grad, hess = loss(X, Y, decode)\n",
    "\n",
    "    # params = minimize(loss, params, method = 'Newton-CG', jac = grad, hess = hess).x\n",
    "    params = minimize(loss, params).x\n",
    "    return decode(params)\n",
    "\n",
    "def predict(model, X):\n",
    "    W, b = model\n",
    "    return np.argmax(softmax(X.dot(W) + b), axis = 1)\n",
    "\n",
    "X, y = datasets.iris()\n",
    "\n",
    "model = fit(X, y)\n",
    "print '%0.3f' % np.mean(predict(model, X) != y)"
   ]
  },
  {
   "cell_type": "code",
   "execution_count": 44,
   "metadata": {
    "collapsed": false
   },
   "outputs": [
    {
     "name": "stdout",
     "output_type": "stream",
     "text": [
      "0.667\n"
     ]
    }
   ],
   "source": [
    "import tensorflow as tf\n",
    "\n",
    "def fit(X, y):\n",
    "    X = X.astype(np.float32)\n",
    "    Y = datasets.one_hot(y).astype(np.float32)\n",
    "    N, D = X.shape\n",
    "    N, C = Y.shape\n",
    "    \n",
    "    x = tf.constant(X)\n",
    "    y = tf.constant(Y)\n",
    "\n",
    "    W = tf.Variable(tf.zeros((D, C)))\n",
    "    b = tf.Variable(tf.zeros(C))\n",
    "\n",
    "    loss = tf.nn.softmax_cross_entropy_with_logits(tf.matmul(x, W) + b, y)\n",
    "    optimizer = tf.train.AdamOptimizer().minimize(loss)\n",
    "\n",
    "    with tf.Session() as sess:\n",
    "        sess.run(tf.initialize_all_variables())\n",
    "        sess.run(optimizer)\n",
    "        return W.eval(), b.eval()\n",
    "\n",
    "def predict(model, X):\n",
    "    X = X.astype(np.float32)\n",
    "    W, b = model\n",
    "    N, D = X.shape\n",
    "\n",
    "    with tf.Session() as sess:\n",
    "        sm = (tf.matmul(X, W) + b).eval()\n",
    "    \n",
    "    return np.argmax(sm, axis = 1)\n",
    "                    \n",
    "model = fit(X, y)\n",
    "print '%0.3f' % np.mean(predict(model, X) != y)"
   ]
  }
 ],
 "metadata": {
  "anaconda-cloud": {},
  "kernelspec": {
   "display_name": "Python 2",
   "language": "python",
   "name": "python2"
  },
  "language_info": {
   "codemirror_mode": {
    "name": "ipython",
    "version": 2
   },
   "file_extension": ".py",
   "mimetype": "text/x-python",
   "name": "python",
   "nbconvert_exporter": "python",
   "pygments_lexer": "ipython2",
   "version": "2.7.12"
  }
 },
 "nbformat": 4,
 "nbformat_minor": 0
}
