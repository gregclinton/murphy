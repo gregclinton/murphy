{
 "cells": [
  {
   "cell_type": "code",
   "execution_count": 1,
   "metadata": {
    "collapsed": false
   },
   "outputs": [],
   "source": [
    "import numpy as np\n",
    "import datasets\n",
    "from scipy.optimize import minimize\n",
    "from softmax import softmax, log_softmax"
   ]
  },
  {
   "cell_type": "code",
   "execution_count": 4,
   "metadata": {
    "collapsed": false
   },
   "outputs": [
    {
     "name": "stdout",
     "output_type": "stream",
     "text": [
      "0.013\n"
     ]
    }
   ],
   "source": [
    "def crossentropy_loss(X, Y, decode):\n",
    "    def loss(params):\n",
    "        W, b = decode(params)\n",
    "        return -sum([Y[i].dot(ll) for i, ll in enumerate(log_softmax(X.dot(W) + b))])\n",
    "\n",
    "    def grad(params):\n",
    "        W, b = decode(params)\n",
    "        return sum([np.kron(mu - Y[i], X[i]) for i, mu in enumerate(softmax(X.dot(W) + b))])\n",
    "\n",
    "    def hess(params):\n",
    "        W, b = decode(params)\n",
    "        o = lambda x: np.outer(x, x)\n",
    "        return sum([np.kron(np.diag(mu) - o(mu), o(X[i])) for i, mu in enumerate(softmax(X.dot(W) + b))])\n",
    "    \n",
    "    return loss, grad, hess\n",
    "\n",
    "def fit(X, y):\n",
    "    Y = datasets.one_hot(y)\n",
    "    N, D = X.shape\n",
    "    N, C = Y.shape\n",
    "    loss = crossentropy_loss\n",
    "\n",
    "    params = [0] * (D + 1) * C\n",
    "    decode = lambda params: (params[:-C].reshape(D, C), params[-C:])\n",
    "\n",
    "    loss, grad, hess = loss(X, Y, decode)\n",
    "\n",
    "    # params = minimize(loss, params, method = 'Newton-CG', jac = grad, hess = hess).x\n",
    "    params = minimize(loss, params).x\n",
    "    return decode(params)\n",
    "\n",
    "def predict(model, X):\n",
    "    W, b = model\n",
    "    return np.argmax(softmax(X.dot(W) + b), axis = 1)\n",
    "\n",
    "X, y = datasets.iris()\n",
    "\n",
    "model = fit(X, y)\n",
    "print '%0.3f' % np.mean(predict(model, X) != y)"
   ]
  },
  {
   "cell_type": "code",
   "execution_count": 13,
   "metadata": {
    "collapsed": false
   },
   "outputs": [
    {
     "name": "stdout",
     "output_type": "stream",
     "text": [
      "0.819047619048\n"
     ]
    }
   ],
   "source": [
    "import tensorflow as tf\n",
    "\n",
    "X, y = datasets.htwt()\n",
    "\n",
    "trX, trY = X, datasets.one_hot(y)\n",
    "teX, teY = X, datasets.one_hot(y)\n",
    "N, D = trX.shape\n",
    "N, C = trY.shape\n",
    "\n",
    "epochs = 1000\n",
    "batch_size = 2\n",
    "learning_rate = 0.1\n",
    "H = 100\n",
    "# maybe preprocess X\n",
    "R = lambda Ws: 0 # regularization penalty\n",
    "init_weights = lambda fan_in, fan_out: np.random.randn(fan_in, fan_out) * 0.05\n",
    "# init_weights - try glorot\n",
    "accuracy = lambda sm, y: np.mean(np.argmax(sm, axis = 1) == np.argmax(y, axis = 1))\n",
    "\n",
    "def dense(output_dim, x):\n",
    "    shape = (x.get_shape()[1].value, output_dim)\n",
    "    w = tf.Variable(tf.random_normal_initializer(0.0, 0.05)(shape))\n",
    "    b = tf.Variable(tf.zeros(shape[1], dtype = tf.float32))\n",
    "    return tf.matmul(x, w) + b  \n",
    "\n",
    "x = tf.placeholder(tf.float32, (None, D))\n",
    "y = tf.placeholder(tf.float32)\n",
    "H1 = tf.nn.relu(dense(H, x))  \n",
    "H2 = dense(trY.shape[1], H1)\n",
    "loss = tf.nn.softmax_cross_entropy_with_logits(H2, y)\n",
    "optimizer = tf.train.AdamOptimizer().minimize(loss)\n",
    "\n",
    "with tf.Session() as sess:\n",
    "    sess.run(tf.initialize_all_variables())\n",
    "    for _ in xrange(epochs):\n",
    "        for start in xrange(0, N - batch_size + 1, batch_size):\n",
    "            end = start + batch_size            \n",
    "            feed_dict = {x: trX[start : end], y: trY[start : end]}\n",
    "            sess.run(optimizer, feed_dict = feed_dict)\n",
    "\n",
    "    sm = H2.eval({x: teX})\n",
    "    print accuracy(sm, teY)"
   ]
  }
 ],
 "metadata": {
  "anaconda-cloud": {},
  "kernelspec": {
   "display_name": "Python 2",
   "language": "python",
   "name": "python2"
  },
  "language_info": {
   "codemirror_mode": {
    "name": "ipython",
    "version": 2
   },
   "file_extension": ".py",
   "mimetype": "text/x-python",
   "name": "python",
   "nbconvert_exporter": "python",
   "pygments_lexer": "ipython2",
   "version": "2.7.12"
  }
 },
 "nbformat": 4,
 "nbformat_minor": 0
}
