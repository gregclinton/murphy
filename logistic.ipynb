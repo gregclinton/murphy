{
 "cells": [
  {
   "cell_type": "code",
   "execution_count": 1,
   "metadata": {
    "collapsed": false
   },
   "outputs": [],
   "source": [
    "import numpy as np\n",
    "import datasets\n",
    "from scipy.optimize import minimize\n",
    "from scipy.special import expit\n",
    "from softmax import softmax, log_softmax\n",
    "import theano\n",
    "from theano import tensor as T\n",
    "import tensorflow as tf\n",
    "import sklearn.preprocessing"
   ]
  },
  {
   "cell_type": "code",
   "execution_count": 2,
   "metadata": {
    "collapsed": false
   },
   "outputs": [],
   "source": [
    "X, y = datasets.htwt()\n",
    "Y = datasets.one_hot(y)\n",
    "N, D = X.shape\n",
    "N, C = Y.shape"
   ]
  },
  {
   "cell_type": "code",
   "execution_count": 9,
   "metadata": {
    "collapsed": false
   },
   "outputs": [
    {
     "data": {
      "text/plain": [
       "(array(8004.900000000001), nan)"
      ]
     },
     "execution_count": 9,
     "metadata": {},
     "output_type": "execute_result"
    }
   ],
   "source": [
    "w = T.dvector()\n",
    "loss = T.sum(T.nnet.binary_crossentropy(T.nnet.sigmoid(T.dot(X, w)), y))\n",
    "loss1 = theano.function([w], loss)\n",
    "\n",
    "def loss2(w):\n",
    "    mus = expit(X.dot(w))\n",
    "    return -sum([y[i] * np.log(mu) + (1 - y[i]) * np.log(1 - mu) for i, mu in enumerate(mus)])\n",
    "\n",
    "params = np.array([.3] * D)\n",
    "loss1(params), loss2(params)"
   ]
  },
  {
   "cell_type": "code",
   "execution_count": 6,
   "metadata": {
    "collapsed": false
   },
   "outputs": [
    {
     "name": "stdout",
     "output_type": "stream",
     "text": [
      "[-0.18314134  0.08043465]\n",
      "[ nan  nan]\n",
      "0.348\n"
     ]
    }
   ],
   "source": [
    "w = T.dvector()\n",
    "loss = T.sum(T.nnet.binary_crossentropy(T.nnet.sigmoid(T.dot(X, w)), y))\n",
    "grad = theano.function([w], T.grad(loss, w))\n",
    "hess = theano.function([w], T.hessian(loss, w))    \n",
    "loss = theano.function([w], loss)\n",
    "\n",
    "def xloss(w):\n",
    "    mus = expit(X.dot(w))\n",
    "    return -sum([y[i] * np.log(mu) + (1 - y[i]) * np.log(1 - mu) for i, mu in enumerate(mus)])\n",
    "\n",
    "params = [2] * D\n",
    "w = minimize(loss, params).x\n",
    "print w\n",
    "w = minimize(loss, params, method = 'Newton-CG', jac = grad, hess = hess).x\n",
    "print w\n",
    "yhat = np.argmax(expit(X.dot(w)))\n",
    "print '%0.3f' % np.mean(yhat != y)"
   ]
  },
  {
   "cell_type": "code",
   "execution_count": 59,
   "metadata": {
    "collapsed": false
   },
   "outputs": [
    {
     "name": "stdout",
     "output_type": "stream",
     "text": [
      "0.186\n"
     ]
    }
   ],
   "source": [
    "sfit = sklearn.preprocessing.StandardScaler().fit(X)\n",
    "\n",
    "decode = lambda params: T.concatenate((params, T.zeros(D))).reshape((D, C))    \n",
    "z = T.dvector()\n",
    "W = decode(z)\n",
    "loss = T.sum(T.nnet.categorical_crossentropy(T.nnet.softmax(T.dot(sfit.transform(X), W)), Y))\n",
    "grad = theano.function([z], T.grad(loss, z))\n",
    "hess = theano.function([z], T.hessian(loss, z))    \n",
    "loss = theano.function([z], loss)\n",
    "\n",
    "params = [0] * D * (C - 1)\n",
    "params = minimize(loss, params, method = 'Newton-CG', jac = grad, hess = hess).x\n",
    "params = minimize(loss, params).x\n",
    "\n",
    "decode = lambda params: np.array(list(params) + [0] * D).reshape((D, C))\n",
    "W = decode(params)\n",
    "yhat = np.argmax(softmax(sfit.transform(X).dot(W)), axis = 1)\n",
    "print '%0.3f' % np.mean(yhat != y)"
   ]
  },
  {
   "cell_type": "code",
   "execution_count": 61,
   "metadata": {
    "collapsed": false
   },
   "outputs": [
    {
     "name": "stdout",
     "output_type": "stream",
     "text": [
      "0.119\n"
     ]
    }
   ],
   "source": [
    "def crossentropy_loss(X, Y, decode):\n",
    "    N, D = X.shape\n",
    "    N, C = Y.shape\n",
    "    \n",
    "    def loss(params):\n",
    "        W, b = decode(params)\n",
    "        return -np.trace(Y.dot(log_softmax(X.dot(W) + b).T))\n",
    "#        return -sum([Y[i].dot(ll) for i, ll in enumerate(log_softmax(X.dot(W) + b))])\n",
    "\n",
    "    def grad(params):\n",
    "        W, b = decode(params)\n",
    "        Z = softmax(X.dot(W) + b) - Y\n",
    "        dW = sum([np.kron(z, X[i]) for i, z in enumerate(Z)])\n",
    "        dW = np.array(dW.reshape((C, C))).T\n",
    "        db = np.sum(Z, axis = 0)\n",
    "        return np.array(list(dW.ravel()) + list(db.ravel()))\n",
    "    \n",
    "    def hess(params):\n",
    "        return np.array([0] * 36).reshape((6, 6))\n",
    "        W, b = decode(params)\n",
    "        Z = softmax(X.dot(W) + b)\n",
    "        o = lambda x: np.outer(x, x)\n",
    "        dW = sum([np.kron(np.diag(z) - o(z), o(X[i])) for i, z in enumerate(Z)])\n",
    "        db = sum([np.diag(z) - o(z) for i, z in enumerate(Z)])\n",
    "        return np.array(list(dW.ravel()) + list(db.ravel()))\n",
    "        \n",
    "    return loss, grad, hess\n",
    "\n",
    "params = [0] * (D + 1) * C\n",
    "decode = lambda params: (params[:-C].reshape((D, C)), params[-C:])\n",
    "loss, grad, hess = crossentropy_loss(X, Y, decode)\n",
    "\n",
    "# params = minimize(loss, params, method = 'Newton-CG', jac = grad, hess = hess).x\n",
    "params = minimize(loss, params).x\n",
    "W, b = decode(params)\n",
    "yhat = np.argmax(softmax(X.dot(W) + b), axis = 1)\n",
    "print '%0.3f' % np.mean(yhat != y)"
   ]
  },
  {
   "cell_type": "code",
   "execution_count": 62,
   "metadata": {
    "collapsed": false
   },
   "outputs": [
    {
     "name": "stdout",
     "output_type": "stream",
     "text": [
      "0.348\n"
     ]
    }
   ],
   "source": [
    "W = tf.Variable(tf.zeros((D, C)))\n",
    "b = tf.Variable(tf.zeros(C))\n",
    "\n",
    "loss = tf.nn.softmax_cross_entropy_with_logits(tf.matmul(X, W) + b, Y)\n",
    "optimizer = tf.train.AdamOptimizer().minimize(loss)\n",
    "\n",
    "with tf.Session() as sess:\n",
    "    sess.run(tf.initialize_all_variables())\n",
    "    sess.run(optimizer)\n",
    "    W, b = W.eval(), b.eval()\n",
    "\n",
    "yhat = np.argmax(softmax(X.dot(W) + b), axis = 1)\n",
    "print '%0.3f' % np.mean(yhat != y)"
   ]
  },
  {
   "cell_type": "code",
   "execution_count": 67,
   "metadata": {
    "collapsed": false
   },
   "outputs": [
    {
     "name": "stdout",
     "output_type": "stream",
     "text": [
      "0.348\n"
     ]
    }
   ],
   "source": [
    "W = theano.shared(np.zeros((D, C)))\n",
    "b = theano.shared(np.zeros(C))\n",
    "tx = T.dmatrix()\n",
    "ty = T.dmatrix()\n",
    "\n",
    "loss = T.sum(T.nnet.categorical_crossentropy(T.nnet.softmax(T.dot(tx, W) + b), ty))\n",
    "learning_rate = 0.1\n",
    "optimizer = theano.function([tx, ty], updates =\n",
    "    [[p, p - T.grad(loss, p) * learning_rate] for p in [W, b]]\n",
    ")\n",
    "\n",
    "optimizer(X, Y)\n",
    "W, b = W.get_value(), b.get_value()\n",
    "yhat = np.argmax(softmax(X.dot(W) + b), axis = 1)\n",
    "print '%0.3f' % np.mean(yhat != y)"
   ]
  }
 ],
 "metadata": {
  "anaconda-cloud": {},
  "kernelspec": {
   "display_name": "Python 2",
   "language": "python",
   "name": "python2"
  },
  "language_info": {
   "codemirror_mode": {
    "name": "ipython",
    "version": 2
   },
   "file_extension": ".py",
   "mimetype": "text/x-python",
   "name": "python",
   "nbconvert_exporter": "python",
   "pygments_lexer": "ipython2",
   "version": "2.7.12"
  }
 },
 "nbformat": 4,
 "nbformat_minor": 0
}
