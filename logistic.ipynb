{
 "cells": [
  {
   "cell_type": "code",
   "execution_count": 94,
   "metadata": {
    "collapsed": false
   },
   "outputs": [],
   "source": [
    "import numpy as np\n",
    "import datasets\n",
    "from scipy.optimize import minimize\n",
    "from scipy.special import expit\n",
    "from sklearn.metrics import log_loss\n",
    "from softmax import softmax, log_softmax\n",
    "import theano\n",
    "from theano import tensor as T\n",
    "import tensorflow as tf"
   ]
  },
  {
   "cell_type": "code",
   "execution_count": 112,
   "metadata": {
    "collapsed": false
   },
   "outputs": [],
   "source": [
    "X, y = datasets.htwt()\n",
    "Y = datasets.one_hot(y)\n",
    "N, D = X.shape\n",
    "N, C = Y.shape"
   ]
  },
  {
   "cell_type": "code",
   "execution_count": 152,
   "metadata": {
    "collapsed": false
   },
   "outputs": [
    {
     "name": "stdout",
     "output_type": "stream",
     "text": [
      "0.119\n"
     ]
    }
   ],
   "source": [
    "mu = lambda X, w: expit(X.dot(w[1:]) + w[0])\n",
    "loss = lambda w: log_loss(y, mu(X, w))\n",
    "params = [0] * (D + 1)\n",
    "w = minimize(loss, params).x\n",
    "yhat = mu(X, w) > 0.5\n",
    "print '%0.3f' % np.mean(yhat != y)"
   ]
  },
  {
   "cell_type": "code",
   "execution_count": 191,
   "metadata": {
    "collapsed": false
   },
   "outputs": [
    {
     "name": "stdout",
     "output_type": "stream",
     "text": [
      "0.348\n"
     ]
    }
   ],
   "source": [
    "mu = lambda X, W, b: softmax(X.dot(W) + b)\n",
    "\n",
    "loss = lambda params: log_loss(y, mu(X, *decode(params)))\n",
    "\n",
    "def grad(params):\n",
    "    Z = mu(X, *decode(params)) - Y\n",
    "    dW = sum([np.kron(z, X[i]) for i, z in enumerate(Z)])\n",
    "    dW = np.array(dW.reshape((C, C))).T\n",
    "    db = np.sum(Z, axis = 0)\n",
    "    return np.array(list(dW.ravel()) + list(db.ravel()))\n",
    "\n",
    "def hess(params):\n",
    "    Z = mu(X, *decode(params))\n",
    "    o = lambda x: np.outer(x, x)\n",
    "    dW = sum([np.kron(np.diag(z) - o(z), o(X[i])) for i, z in enumerate(Z)])\n",
    "    db = sum([np.diag(z) - o(z) for i, z in enumerate(Z)])\n",
    "    return np.array([0] * 36).reshape((6, 6))\n",
    "    return np.array(list(dW.ravel()) + list(db.ravel()))\n",
    "\n",
    "params = [0] * (D * (C - 1) + C)\n",
    "decode = lambda params: (np.array((list(params[:D * (C - 1)]) + [0] * C)).reshape((D, C)), params[-C:])\n",
    "\n",
    "params = [0] * (D * C + C)\n",
    "decode = lambda params: (np.array((list(params[:D * C]))).reshape((D, C)), params[-C:])\n",
    "\n",
    "# params = minimize(loss, params).x\n",
    "params = minimize(loss, params, method = 'Newton-CG', jac = grad, hess = hess).x\n",
    "yhat = np.argmax(mu(X, *decode(params)), axis = 1)\n",
    "print '%0.3f' % np.mean(yhat != y)"
   ]
  },
  {
   "cell_type": "code",
   "execution_count": 120,
   "metadata": {
    "collapsed": false
   },
   "outputs": [
    {
     "name": "stdout",
     "output_type": "stream",
     "text": [
      "0.119\n"
     ]
    }
   ],
   "source": [
    "decode = lambda params: (params[:D * C].reshape((D, C)), params[-C:])\n",
    "z = T.dvector()\n",
    "mu = lambda X, W, b: T.nnet.softmax(T.dot(X, W) + b)\n",
    "loss = T.sum(T.nnet.categorical_crossentropy(mu(X, *decode(z)), Y))\n",
    "grad = theano.function([z], T.grad(loss, z))\n",
    "hess = theano.function([z], T.hessian(loss, z))    \n",
    "loss = theano.function([z], loss)\n",
    "\n",
    "params = [0] * (D * C + C)\n",
    "decode = lambda params: (np.array((list(params[:D * C]))).reshape((D, C)), params[-C:])\n",
    "\n",
    "# params = minimize(loss, params, method = 'Newton-CG', jac = grad, hess = hess).x\n",
    "params = minimize(loss, params).x\n",
    "\n",
    "decode = lambda params: (np.array((list(params[:D * C]))).reshape((D, C)), params[-C:])\n",
    "mu = lambda X, W, b: softmax(X.dot(W) + b)\n",
    "yhat = np.argmax(mu(X, *decode(params)), axis = 1)\n",
    "print '%0.3f' % np.mean(yhat != y)"
   ]
  },
  {
   "cell_type": "code",
   "execution_count": 119,
   "metadata": {
    "collapsed": false
   },
   "outputs": [
    {
     "name": "stdout",
     "output_type": "stream",
     "text": [
      "0.348\n"
     ]
    }
   ],
   "source": [
    "W = theano.shared(np.zeros((D, C)))\n",
    "b = theano.shared(np.zeros(C))\n",
    "tx = T.dmatrix()\n",
    "ty = T.dmatrix()\n",
    "\n",
    "loss = T.sum(T.nnet.categorical_crossentropy(T.nnet.softmax(T.dot(tx, W) + b), ty))\n",
    "learning_rate = 0.01\n",
    "optimizer = theano.function([tx, ty], updates =\n",
    "    [[p, p - T.grad(loss, p) * learning_rate] for p in [W, b]]\n",
    ")\n",
    "\n",
    "optimizer(X, Y)\n",
    "W, b = W.get_value(), b.get_value()\n",
    "yhat = np.argmax(softmax(X.dot(W) + b), axis = 1)\n",
    "print '%0.3f' % np.mean(yhat != y)"
   ]
  },
  {
   "cell_type": "code",
   "execution_count": 118,
   "metadata": {
    "collapsed": false
   },
   "outputs": [
    {
     "name": "stdout",
     "output_type": "stream",
     "text": [
      "0.348\n"
     ]
    }
   ],
   "source": [
    "W = tf.Variable(tf.zeros((D, C)))\n",
    "b = tf.Variable(tf.zeros(C))\n",
    "\n",
    "loss = tf.nn.softmax_cross_entropy_with_logits(tf.matmul(X, W) + b, Y)\n",
    "optimizer = tf.train.AdamOptimizer().minimize(loss)\n",
    "\n",
    "with tf.Session() as sess:\n",
    "    sess.run(tf.initialize_all_variables())\n",
    "    sess.run(optimizer)\n",
    "    W, b = W.eval(), b.eval()\n",
    "\n",
    "yhat = np.argmax(softmax(X.dot(W) + b), axis = 1)\n",
    "print '%0.3f' % np.mean(yhat != y)"
   ]
  }
 ],
 "metadata": {
  "anaconda-cloud": {},
  "kernelspec": {
   "display_name": "Python 2",
   "language": "python",
   "name": "python2"
  },
  "language_info": {
   "codemirror_mode": {
    "name": "ipython",
    "version": 2
   },
   "file_extension": ".py",
   "mimetype": "text/x-python",
   "name": "python",
   "nbconvert_exporter": "python",
   "pygments_lexer": "ipython2",
   "version": "2.7.12"
  }
 },
 "nbformat": 4,
 "nbformat_minor": 0
}
