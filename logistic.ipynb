{
 "cells": [
  {
   "cell_type": "code",
   "execution_count": 5,
   "metadata": {
    "collapsed": false
   },
   "outputs": [],
   "source": [
    "import numpy as np\n",
    "import datasets\n",
    "from scipy.optimize import minimize\n",
    "\n",
    "from softmax import softmax, log_softmax"
   ]
  },
  {
   "cell_type": "code",
   "execution_count": 6,
   "metadata": {
    "collapsed": false
   },
   "outputs": [],
   "source": [
    "X, y = datasets.htwt()"
   ]
  },
  {
   "cell_type": "code",
   "execution_count": 7,
   "metadata": {
    "collapsed": false
   },
   "outputs": [],
   "source": [
    "Y = datasets.one_hot(y)\n",
    "N, D = X.shape\n",
    "N, C = Y.shape"
   ]
  },
  {
   "cell_type": "code",
   "execution_count": 32,
   "metadata": {
    "collapsed": false
   },
   "outputs": [
    {
     "name": "stdout",
     "output_type": "stream",
     "text": [
      "145.560907918\n",
      "[[ -8915.  -5231.]\n",
      " [-17768. -12820.]]\n"
     ]
    }
   ],
   "source": [
    "f = lambda W, b: -np.trace(Y.dot(log_softmax(X.dot(W) + b).T))\n",
    "\n",
    "def g(W, b):\n",
    "    ws = []\n",
    "    for c in xrange(C):\n",
    "        ws.append(sum([(W[:, c].dot(x) + b[c] - Y[i, c]) * x for i, x in enumerate(X)]))\n",
    "    return np.array(ws).T\n",
    "\n",
    "W = np.zeros((D, C))\n",
    "b = np.zeros(C)\n",
    "\n",
    "print f(W, b)\n",
    "print g(W, b)"
   ]
  },
  {
   "cell_type": "code",
   "execution_count": 9,
   "metadata": {
    "collapsed": false
   },
   "outputs": [
    {
     "name": "stdout",
     "output_type": "stream",
     "text": [
      "145.560907918\n",
      "[[-1842.  1842.]\n",
      " [-2474.  2474.]]\n"
     ]
    }
   ],
   "source": [
    "import theano\n",
    "from theano import tensor as T\n",
    "\n",
    "W = T.dmatrix()\n",
    "b = T.dvector()\n",
    "loss = T.sum(T.nnet.categorical_crossentropy(T.nnet.softmax(T.dot(X, W) + b), Y))\n",
    "f = theano.function([W, b], loss)\n",
    "g = theano.function([W, b], T.grad(loss, W))\n",
    "\n",
    "W = np.zeros((D, C))\n",
    "b = np.zeros(C)\n",
    "\n",
    "print f(W, b)\n",
    "print g(W, b)"
   ]
  },
  {
   "cell_type": "code",
   "execution_count": 25,
   "metadata": {
    "collapsed": true
   },
   "outputs": [],
   "source": [
    "def predict(model, X):\n",
    "    W, b = model\n",
    "    return np.argmax(softmax(X.dot(W) + b), axis = 1)"
   ]
  },
  {
   "cell_type": "code",
   "execution_count": 17,
   "metadata": {
    "collapsed": false
   },
   "outputs": [
    {
     "name": "stdout",
     "output_type": "stream",
     "text": [
      "0.119\n"
     ]
    }
   ],
   "source": [
    "def crossentropy_loss(X, Y, decode):\n",
    "    N, D = X.shape\n",
    "    N, C = Y.shape\n",
    "    \n",
    "    def loss(params):\n",
    "        W, b = decode(params)\n",
    "        return -np.trace(Y.dot(log_softmax(X.dot(W) + b).T))\n",
    "#        return -sum([Y[i].dot(ll) for i, ll in enumerate(log_softmax(X.dot(W) + b))])\n",
    "\n",
    "    def grad(params):\n",
    "        W, b = decode(params)\n",
    "        ws = []\n",
    "        for c in xrange(C):\n",
    "            ws.append(sum([(W[:, c].dot(x) + b[i] - Y[i, c]) * x for i, x in enumerate(X)])\n",
    "        # return sum([np.kron(mu - Y[i], X[i]) for i, mu in enumerate(softmax(X.dot(W) + b))])\n",
    "\n",
    "    def hess(params):\n",
    "        W, b = decode(params)\n",
    "        o = lambda x: np.outer(x, x)\n",
    "        return sum([np.kron(np.diag(mu) - o(mu), o(X[i])) for i, mu in enumerate(softmax(X.dot(W) + b))])\n",
    "    \n",
    "    return loss, grad, hess\n",
    "\n",
    "def fit(X, y):\n",
    "    Y = datasets.one_hot(y)\n",
    "    N, D = X.shape\n",
    "    N, C = Y.shape\n",
    "    loss = crossentropy_loss\n",
    "\n",
    "    params = [0] * (D + 1) * C\n",
    "    decode = lambda params: (params[:-C].reshape(D, C), params[-C:])\n",
    "    \n",
    "    loss, grad, hess = loss(X, Y, decode)\n",
    "\n",
    "    # params = minimize(loss, params, method = 'Newton-CG', jac = grad, hess = hess).x\n",
    "    params = minimize(loss, params).x\n",
    "    return decode(params)\n",
    "\n",
    "model = fit(X, y)\n",
    "print '%0.3f' % np.mean(predict(model, X) != y)"
   ]
  },
  {
   "cell_type": "code",
   "execution_count": 68,
   "metadata": {
    "collapsed": false
   },
   "outputs": [
    {
     "name": "stdout",
     "output_type": "stream",
     "text": [
      "0.348\n"
     ]
    }
   ],
   "source": [
    "import tensorflow as tf\n",
    "\n",
    "def fit(X, y):\n",
    "    Y = datasets.one_hot(y)\n",
    "    N, D = X.shape\n",
    "    N, C = Y.shape\n",
    "    \n",
    "    W = tf.Variable(tf.zeros((D, C)))\n",
    "    b = tf.Variable(tf.zeros(C))\n",
    "\n",
    "    loss = tf.nn.softmax_cross_entropy_with_logits(tf.matmul(X, W) + b, Y)\n",
    "    optimizer = tf.train.AdamOptimizer().minimize(loss)\n",
    "\n",
    "    with tf.Session() as sess:\n",
    "        sess.run(tf.initialize_all_variables())\n",
    "        sess.run(optimizer)\n",
    "        return W.eval(), b.eval()\n",
    "                    \n",
    "model = fit(X, y)\n",
    "print '%0.3f' % np.mean(predict(model, X) != y)"
   ]
  },
  {
   "cell_type": "code",
   "execution_count": 63,
   "metadata": {
    "collapsed": false
   },
   "outputs": [
    {
     "name": "stdout",
     "output_type": "stream",
     "text": [
      "0.348\n"
     ]
    }
   ],
   "source": [
    "import theano\n",
    "from theano import tensor as T\n",
    "\n",
    "def fit(X, y):\n",
    "    X = X.astype(np.float32)\n",
    "    Y = datasets.one_hot(y)\n",
    "    N, D = X.shape\n",
    "    N, C = Y.shape\n",
    "\n",
    "    learning_rate = 0.1\n",
    "    \n",
    "    W = theano.shared(np.zeros((D, C)))\n",
    "    b = theano.shared(np.zeros(C))\n",
    "    x = T.dmatrix()\n",
    "    y = T.dmatrix()\n",
    "    \n",
    "    loss = T.sum(T.nnet.categorical_crossentropy(T.nnet.softmax(T.dot(x, W) + b), y))\n",
    "    optimizer = theano.function([x, y], updates =\n",
    "        [[p, p - T.grad(loss, p) * learning_rate] for p in [W, b]]\n",
    "    )\n",
    "    \n",
    "    optimizer(X, Y)\n",
    "    return W.get_value(), b.get_value()\n",
    "    \n",
    "model = fit(X, y)\n",
    "print '%0.3f' % np.mean(predict(model, X) != y)"
   ]
  }
 ],
 "metadata": {
  "anaconda-cloud": {},
  "kernelspec": {
   "display_name": "Python 2",
   "language": "python",
   "name": "python2"
  },
  "language_info": {
   "codemirror_mode": {
    "name": "ipython",
    "version": 2
   },
   "file_extension": ".py",
   "mimetype": "text/x-python",
   "name": "python",
   "nbconvert_exporter": "python",
   "pygments_lexer": "ipython2",
   "version": "2.7.12"
  }
 },
 "nbformat": 4,
 "nbformat_minor": 0
}
