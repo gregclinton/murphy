{
 "cells": [
  {
   "cell_type": "code",
   "execution_count": 69,
   "metadata": {
    "collapsed": false
   },
   "outputs": [],
   "source": [
    "import numpy as np\n",
    "import datasets\n",
    "from scipy.optimize import minimize\n",
    "\n",
    "from softmax import softmax, log_softmax"
   ]
  },
  {
   "cell_type": "code",
   "execution_count": 70,
   "metadata": {
    "collapsed": false
   },
   "outputs": [],
   "source": [
    "X, y = datasets.htwt()"
   ]
  },
  {
   "cell_type": "code",
   "execution_count": 71,
   "metadata": {
    "collapsed": false
   },
   "outputs": [],
   "source": [
    "Y = datasets.one_hot(y)\n",
    "N, D = X.shape\n",
    "N, C = Y.shape"
   ]
  },
  {
   "cell_type": "code",
   "execution_count": 152,
   "metadata": {
    "collapsed": false
   },
   "outputs": [
    {
     "name": "stdout",
     "output_type": "stream",
     "text": [
      "[[  239264.    520577.5  -239264.   -520577.5]\n",
      " [  520577.5  1169693.   -520577.5 -1169693. ]\n",
      " [ -239264.   -520577.5   239264.    520577.5]\n",
      " [ -520577.5 -1169693.    520577.5  1169693. ]]\n",
      "[239264.0, 520577.5, -239264.0, -520577.5, 520577.5, 1169693.0, -520577.5, -1169693.0, -239264.0, -520577.5, 239264.0, 520577.5, -520577.5, -1169693.0, 520577.5, 1169693.0, 52.5, -52.5, -52.5, 52.5]\n"
     ]
    }
   ],
   "source": [
    "f = lambda W, b: -np.trace(Y.dot(log_softmax(X.dot(W) + b).T))\n",
    "\n",
    "def g(W, b):\n",
    "    Z = softmax(X.dot(W) + b) - Y\n",
    "    dW = sum([np.kron(z, X[i]) for i, z in enumerate(Z)])\n",
    "    dW = np.array(dW.reshape((C, C))).T\n",
    "    db = np.sum(Z, axis = 0)     \n",
    "    return list(dW.ravel()) + list(db.ravel())\n",
    "\n",
    "def hess(W, b):\n",
    "    o = lambda x: np.outer(x, x)\n",
    "    return sum([np.kron(np.diag(mu) - o(mu), o(X[i])) for i, mu in enumerate(softmax(X.dot(W) + b))])\n",
    "\n",
    "def H(W, b):\n",
    "    Z = softmax(X.dot(W) + b)\n",
    "    o = lambda x: np.outer(x, x)\n",
    "    dW = sum([np.kron(np.diag(z) - o(z), o(X[i])) for i, z in enumerate(Z)])\n",
    "    db = sum([np.diag(z) - o(z) for i, z in enumerate(Z)])\n",
    "    return list(dW.ravel()) + list(db.ravel())\n",
    "\n",
    "W = np.zeros((D, C))\n",
    "b = np.zeros(C)\n",
    "\n",
    "#print f(W, b)\n",
    "# print g(W, b)\n",
    "print hess(W, b)\n",
    "print H(W, b)"
   ]
  },
  {
   "cell_type": "code",
   "execution_count": 141,
   "metadata": {
    "collapsed": false
   },
   "outputs": [
    {
     "name": "stdout",
     "output_type": "stream",
     "text": [
      "[-1842.0, 1842.0, -2474.0, 2474.0, -32.0, 32.0]\n",
      "[[ nan  nan]\n",
      " [ nan  nan]]\n"
     ]
    }
   ],
   "source": [
    "import theano\n",
    "from theano import tensor as T\n",
    "\n",
    "W = T.dmatrix()\n",
    "b = T.dvector()\n",
    "loss = T.sum(T.nnet.categorical_crossentropy(T.nnet.softmax(T.dot(X, W) + b), Y))\n",
    "f = theano.function([W, b], loss)\n",
    "g = theano.function([W, b], [T.grad(loss, W), T.grad(loss, b)])\n",
    "H = theano.function([W, b], T.hessian(loss, b))\n",
    "# H = theano.function([W, b], T.grad(T.grad(loss, b)[0], b))\n",
    "# T.grad(T.grad(loss, b)[0], b)\n",
    "#[T.grad(g, x)[0] for g in tf.unpack(grad)]\n",
    "\n",
    "W = np.zeros((D, C))\n",
    "b = np.zeros(C).reshape(\n",
    "\n",
    "# print f(W, b)\n",
    "W, b = g(W, b)\n",
    "print list(W.ravel()) + list(b.ravel())\n",
    "print H(W, b)"
   ]
  },
  {
   "cell_type": "code",
   "execution_count": 25,
   "metadata": {
    "collapsed": true
   },
   "outputs": [],
   "source": [
    "def predict(model, X):\n",
    "    W, b = model\n",
    "    return np.argmax(softmax(X.dot(W) + b), axis = 1)"
   ]
  },
  {
   "cell_type": "code",
   "execution_count": 17,
   "metadata": {
    "collapsed": false
   },
   "outputs": [
    {
     "name": "stdout",
     "output_type": "stream",
     "text": [
      "0.119\n"
     ]
    }
   ],
   "source": [
    "def crossentropy_loss(X, Y, decode):\n",
    "    N, D = X.shape\n",
    "    N, C = Y.shape\n",
    "    \n",
    "    def loss(params):\n",
    "        W, b = decode(params)\n",
    "        return -np.trace(Y.dot(log_softmax(X.dot(W) + b).T))\n",
    "#        return -sum([Y[i].dot(ll) for i, ll in enumerate(log_softmax(X.dot(W) + b))])\n",
    "\n",
    "    def grad(params):\n",
    "        W, b = decode(params)\n",
    "        Z = softmax(X.dot(W) + b) - Y\n",
    "        dW = sum([np.kron(z, X[i]) for i, z in enumerate(Z)])\n",
    "        dW = np.array(dW.reshape((C, C))).T\n",
    "        db = np.sum(Z, axis = 0)     \n",
    "        return list(dW.ravel()) + list(db.ravel())\n",
    "    \n",
    "    def hess(params):\n",
    "        W, b = decode(params)\n",
    "        Z = softmax(X.dot(W) + b)\n",
    "        o = lambda x: np.outer(x, x)\n",
    "        dW = sum([np.kron(np.diag(z) - o(z), o(X[i])) for i, z in enumerate(Z)])\n",
    "        db = sum([np.diag(z) - o(z) for i, z in enumerate(Z)])\n",
    "        return list(dW.ravel()) + list(db.ravel())\n",
    "    \n",
    "    return loss, grad, hess\n",
    "\n",
    "def fit(X, y):\n",
    "    Y = datasets.one_hot(y)\n",
    "    N, D = X.shape\n",
    "    N, C = Y.shape\n",
    "    loss = crossentropy_loss\n",
    "\n",
    "    params = [0] * (D + 1) * C\n",
    "    decode = lambda params: (params[:-C].reshape(D, C), params[-C:])\n",
    "    \n",
    "    loss, grad, hess = loss(X, Y, decode)\n",
    "\n",
    "    # params = minimize(loss, params, method = 'Newton-CG', jac = grad, hess = hess).x\n",
    "    params = minimize(loss, params).x\n",
    "    return decode(params)\n",
    "\n",
    "model = fit(X, y)\n",
    "print '%0.3f' % np.mean(predict(model, X) != y)"
   ]
  },
  {
   "cell_type": "code",
   "execution_count": 68,
   "metadata": {
    "collapsed": false
   },
   "outputs": [
    {
     "name": "stdout",
     "output_type": "stream",
     "text": [
      "0.348\n"
     ]
    }
   ],
   "source": [
    "import tensorflow as tf\n",
    "\n",
    "def fit(X, y):\n",
    "    Y = datasets.one_hot(y)\n",
    "    N, D = X.shape\n",
    "    N, C = Y.shape\n",
    "    \n",
    "    W = tf.Variable(tf.zeros((D, C)))\n",
    "    b = tf.Variable(tf.zeros(C))\n",
    "\n",
    "    loss = tf.nn.softmax_cross_entropy_with_logits(tf.matmul(X, W) + b, Y)\n",
    "    optimizer = tf.train.AdamOptimizer().minimize(loss)\n",
    "\n",
    "    with tf.Session() as sess:\n",
    "        sess.run(tf.initialize_all_variables())\n",
    "        sess.run(optimizer)\n",
    "        return W.eval(), b.eval()\n",
    "                    \n",
    "model = fit(X, y)\n",
    "print '%0.3f' % np.mean(predict(model, X) != y)"
   ]
  },
  {
   "cell_type": "code",
   "execution_count": 63,
   "metadata": {
    "collapsed": false
   },
   "outputs": [
    {
     "name": "stdout",
     "output_type": "stream",
     "text": [
      "0.348\n"
     ]
    }
   ],
   "source": [
    "import theano\n",
    "from theano import tensor as T\n",
    "\n",
    "def fit(X, y):\n",
    "    X = X.astype(np.float32)\n",
    "    Y = datasets.one_hot(y)\n",
    "    N, D = X.shape\n",
    "    N, C = Y.shape\n",
    "\n",
    "    learning_rate = 0.1\n",
    "    \n",
    "    W = theano.shared(np.zeros((D, C)))\n",
    "    b = theano.shared(np.zeros(C))\n",
    "    x = T.dmatrix()\n",
    "    y = T.dmatrix()\n",
    "    \n",
    "    loss = T.sum(T.nnet.categorical_crossentropy(T.nnet.softmax(T.dot(x, W) + b), y))\n",
    "    optimizer = theano.function([x, y], updates =\n",
    "        [[p, p - T.grad(loss, p) * learning_rate] for p in [W, b]]\n",
    "    )\n",
    "    \n",
    "    optimizer(X, Y)\n",
    "    return W.get_value(), b.get_value()\n",
    "    \n",
    "model = fit(X, y)\n",
    "print '%0.3f' % np.mean(predict(model, X) != y)"
   ]
  }
 ],
 "metadata": {
  "anaconda-cloud": {},
  "kernelspec": {
   "display_name": "Python 2",
   "language": "python",
   "name": "python2"
  },
  "language_info": {
   "codemirror_mode": {
    "name": "ipython",
    "version": 2
   },
   "file_extension": ".py",
   "mimetype": "text/x-python",
   "name": "python",
   "nbconvert_exporter": "python",
   "pygments_lexer": "ipython2",
   "version": "2.7.12"
  }
 },
 "nbformat": 4,
 "nbformat_minor": 0
}
