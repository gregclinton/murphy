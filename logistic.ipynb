{
 "cells": [
  {
   "cell_type": "code",
   "execution_count": 154,
   "metadata": {
    "collapsed": false
   },
   "outputs": [],
   "source": [
    "import numpy as np\n",
    "import datasets\n",
    "from scipy.optimize import minimize\n",
    "from softmax import softmax, log_softmax"
   ]
  },
  {
   "cell_type": "code",
   "execution_count": 155,
   "metadata": {
    "collapsed": false
   },
   "outputs": [],
   "source": [
    "X, y = datasets.htwt()"
   ]
  },
  {
   "cell_type": "code",
   "execution_count": 71,
   "metadata": {
    "collapsed": false
   },
   "outputs": [],
   "source": [
    "Y = datasets.one_hot(y)\n",
    "N, D = X.shape\n",
    "N, C = Y.shape"
   ]
  },
  {
   "cell_type": "code",
   "execution_count": 152,
   "metadata": {
    "collapsed": false
   },
   "outputs": [
    {
     "name": "stdout",
     "output_type": "stream",
     "text": [
      "[[  239264.    520577.5  -239264.   -520577.5]\n",
      " [  520577.5  1169693.   -520577.5 -1169693. ]\n",
      " [ -239264.   -520577.5   239264.    520577.5]\n",
      " [ -520577.5 -1169693.    520577.5  1169693. ]]\n",
      "[239264.0, 520577.5, -239264.0, -520577.5, 520577.5, 1169693.0, -520577.5, -1169693.0, -239264.0, -520577.5, 239264.0, 520577.5, -520577.5, -1169693.0, 520577.5, 1169693.0, 52.5, -52.5, -52.5, 52.5]\n"
     ]
    }
   ],
   "source": [
    "f = lambda W, b: -np.trace(Y.dot(log_softmax(X.dot(W) + b).T))\n",
    "\n",
    "def g(W, b):\n",
    "    Z = softmax(X.dot(W) + b) - Y\n",
    "    dW = sum([np.kron(z, X[i]) for i, z in enumerate(Z)])\n",
    "    dW = np.array(dW.reshape((C, C))).T\n",
    "    db = np.sum(Z, axis = 0)     \n",
    "    return list(dW.ravel()) + list(db.ravel())\n",
    "\n",
    "def hess(W, b):\n",
    "    o = lambda x: np.outer(x, x)\n",
    "    return sum([np.kron(np.diag(mu) - o(mu), o(X[i])) for i, mu in enumerate(softmax(X.dot(W) + b))])\n",
    "\n",
    "def H(W, b):\n",
    "    Z = softmax(X.dot(W) + b)\n",
    "    o = lambda x: np.outer(x, x)\n",
    "    dW = sum([np.kron(np.diag(z) - o(z), o(X[i])) for i, z in enumerate(Z)])\n",
    "    db = sum([np.diag(z) - o(z) for i, z in enumerate(Z)])\n",
    "    return list(dW.ravel()) + list(db.ravel())\n",
    "\n",
    "W = np.zeros((D, C))\n",
    "b = np.zeros(C)\n",
    "\n",
    "#print f(W, b)\n",
    "# print g(W, b)\n",
    "print hess(W, b)\n",
    "print H(W, b)"
   ]
  },
  {
   "cell_type": "code",
   "execution_count": 214,
   "metadata": {
    "collapsed": false
   },
   "outputs": [
    {
     "name": "stdout",
     "output_type": "stream",
     "text": [
      "145.560907918\n",
      "[-1842.  1842. -2474.  2474.   -32.    32.]\n",
      "[[  2.39264000e+05  -2.39264000e+05   5.20577500e+05  -5.20577500e+05\n",
      "    3.53650000e+03  -3.53650000e+03]\n",
      " [ -2.39264000e+05   2.39264000e+05  -5.20577500e+05   5.20577500e+05\n",
      "   -3.53650000e+03   3.53650000e+03]\n",
      " [  5.20577500e+05  -5.20577500e+05   1.16969300e+06  -1.16969300e+06\n",
      "    7.64700000e+03  -7.64700000e+03]\n",
      " [ -5.20577500e+05   5.20577500e+05  -1.16969300e+06   1.16969300e+06\n",
      "   -7.64700000e+03   7.64700000e+03]\n",
      " [  3.53650000e+03  -3.53650000e+03   7.64700000e+03  -7.64700000e+03\n",
      "    5.25000000e+01  -5.25000000e+01]\n",
      " [ -3.53650000e+03   3.53650000e+03  -7.64700000e+03   7.64700000e+03\n",
      "   -5.25000000e+01   5.25000000e+01]]\n"
     ]
    }
   ],
   "source": [
    "import theano\n",
    "from theano import tensor as T\n",
    "\n",
    "z = T.dvector()\n",
    "W = z[:-C].reshape((D, C))\n",
    "b = z[-C:]\n",
    "loss = T.sum(T.nnet.categorical_crossentropy(T.nnet.softmax(T.dot(X, W) + b), Y))\n",
    "f = theano.function([z], loss)\n",
    "g = theano.function([z], T.grad(loss, z))\n",
    "H = theano.function([z], T.hessian(loss, z))\n",
    "z = np.zeros(D * C + C)\n",
    "print f(z)\n",
    "print g(z)\n",
    "print H(z)"
   ]
  },
  {
   "cell_type": "code",
   "execution_count": 195,
   "metadata": {
    "collapsed": false
   },
   "outputs": [
    {
     "data": {
      "text/plain": [
       "Subtensor{:int64:}.0"
      ]
     },
     "execution_count": 195,
     "metadata": {},
     "output_type": "execute_result"
    }
   ],
   "source": [
    "x = T.constant([[1, 2], [3, 4]]).ravel().reshape((2, 2))[:, -C:]\n",
    "theano.function([], x)()\n",
    "T.dvector()[:2]"
   ]
  },
  {
   "cell_type": "code",
   "execution_count": 156,
   "metadata": {
    "collapsed": true
   },
   "outputs": [],
   "source": [
    "def predict(model, X):\n",
    "    W, b = model\n",
    "    return np.argmax(softmax(X.dot(W) + b), axis = 1)"
   ]
  },
  {
   "cell_type": "code",
   "execution_count": 172,
   "metadata": {
    "collapsed": false
   },
   "outputs": [
    {
     "name": "stdout",
     "output_type": "stream",
     "text": [
      "0.119\n"
     ]
    }
   ],
   "source": [
    "def crossentropy_loss(X, Y, decode):\n",
    "    N, D = X.shape\n",
    "    N, C = Y.shape\n",
    "    \n",
    "    def loss(params):\n",
    "        W, b = decode(params)\n",
    "        return -np.trace(Y.dot(log_softmax(X.dot(W) + b).T))\n",
    "#        return -sum([Y[i].dot(ll) for i, ll in enumerate(log_softmax(X.dot(W) + b))])\n",
    "\n",
    "    def grad(params):\n",
    "        W, b = decode(params)\n",
    "        Z = softmax(X.dot(W) + b) - Y\n",
    "        dW = sum([np.kron(z, X[i]) for i, z in enumerate(Z)])\n",
    "        dW = np.array(dW.reshape((C, C))).T\n",
    "        db = np.sum(Z, axis = 0)\n",
    "        return np.array(list(dW.ravel()) + list(db.ravel()))\n",
    "    \n",
    "    def hess(params):\n",
    "        return np.array([0] * 36).reshape((6, 6))\n",
    "        W, b = decode(params)\n",
    "        Z = softmax(X.dot(W) + b)\n",
    "        o = lambda x: np.outer(x, x)\n",
    "        dW = sum([np.kron(np.diag(z) - o(z), o(X[i])) for i, z in enumerate(Z)])\n",
    "        db = sum([np.diag(z) - o(z) for i, z in enumerate(Z)])\n",
    "        return np.array(list(dW.ravel()) + list(db.ravel()))\n",
    "    \n",
    "    return loss, grad, hess\n",
    "\n",
    "def fit(X, y):\n",
    "    Y = datasets.one_hot(y)\n",
    "    N, D = X.shape\n",
    "    N, C = Y.shape\n",
    "    loss = crossentropy_loss\n",
    "\n",
    "    params = [0] * (D + 1) * C\n",
    "    decode = lambda params: (params[:-C].reshape(D, C), params[-C:])\n",
    "    \n",
    "    loss, grad, hess = loss(X, Y, decode)\n",
    "\n",
    "#    params = minimize(loss, params, method = 'Newton-CG', jac = grad, hess = hess).x\n",
    "    params = minimize(loss, params).x\n",
    "    return decode(params)\n",
    "\n",
    "model = fit(X, y)\n",
    "print '%0.3f' % np.mean(predict(model, X) != y)"
   ]
  },
  {
   "cell_type": "code",
   "execution_count": 159,
   "metadata": {
    "collapsed": false
   },
   "outputs": [
    {
     "name": "stdout",
     "output_type": "stream",
     "text": [
      "0.348\n"
     ]
    }
   ],
   "source": [
    "import tensorflow as tf\n",
    "\n",
    "def fit(X, y):\n",
    "    Y = datasets.one_hot(y)\n",
    "    N, D = X.shape\n",
    "    N, C = Y.shape\n",
    "    \n",
    "    W = tf.Variable(tf.zeros((D, C)))\n",
    "    b = tf.Variable(tf.zeros(C))\n",
    "\n",
    "    loss = tf.nn.softmax_cross_entropy_with_logits(tf.matmul(X, W) + b, Y)\n",
    "    optimizer = tf.train.AdamOptimizer().minimize(loss)\n",
    "\n",
    "    with tf.Session() as sess:\n",
    "        sess.run(tf.initialize_all_variables())\n",
    "        sess.run(optimizer)\n",
    "        return W.eval(), b.eval()\n",
    "                    \n",
    "model = fit(X, y)\n",
    "print '%0.3f' % np.mean(predict(model, X) != y)"
   ]
  },
  {
   "cell_type": "code",
   "execution_count": 63,
   "metadata": {
    "collapsed": false
   },
   "outputs": [
    {
     "name": "stdout",
     "output_type": "stream",
     "text": [
      "0.348\n"
     ]
    }
   ],
   "source": [
    "import theano\n",
    "from theano import tensor as T\n",
    "\n",
    "def fit(X, y):\n",
    "    X = X.astype(np.float32)\n",
    "    Y = datasets.one_hot(y)\n",
    "    N, D = X.shape\n",
    "    N, C = Y.shape\n",
    "\n",
    "    learning_rate = 0.1\n",
    "    \n",
    "    W = theano.shared(np.zeros((D, C)))\n",
    "    b = theano.shared(np.zeros(C))\n",
    "    x = T.dmatrix()\n",
    "    y = T.dmatrix()\n",
    "    \n",
    "    loss = T.sum(T.nnet.categorical_crossentropy(T.nnet.softmax(T.dot(x, W) + b), y))\n",
    "    optimizer = theano.function([x, y], updates =\n",
    "        [[p, p - T.grad(loss, p) * learning_rate] for p in [W, b]]\n",
    "    )\n",
    "    \n",
    "    optimizer(X, Y)\n",
    "    return W.get_value(), b.get_value()\n",
    "    \n",
    "model = fit(X, y)\n",
    "print '%0.3f' % np.mean(predict(model, X) != y)"
   ]
  }
 ],
 "metadata": {
  "anaconda-cloud": {},
  "kernelspec": {
   "display_name": "Python 2",
   "language": "python",
   "name": "python2"
  },
  "language_info": {
   "codemirror_mode": {
    "name": "ipython",
    "version": 2
   },
   "file_extension": ".py",
   "mimetype": "text/x-python",
   "name": "python",
   "nbconvert_exporter": "python",
   "pygments_lexer": "ipython2",
   "version": "2.7.12"
  }
 },
 "nbformat": 4,
 "nbformat_minor": 0
}
