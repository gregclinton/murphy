{
 "cells": [
  {
   "cell_type": "code",
   "execution_count": 14,
   "metadata": {
    "collapsed": false
   },
   "outputs": [
    {
     "data": {
      "text/plain": [
       "  status: 0\n",
       " success: True\n",
       "    njev: 1\n",
       "    nfev: 3\n",
       "     fun: 1.0460367218786729e-20\n",
       "       x: array([ 1.])\n",
       " message: 'Optimization terminated successfully.'\n",
       "     jac: array([  8.69136082e-20,   0.00000000e+00])\n",
       "     nit: 1"
      ]
     },
     "execution_count": 14,
     "metadata": {},
     "output_type": "execute_result"
    }
   ],
   "source": [
    "import numpy as np\n",
    "from scipy.optimize import minimize\n",
    "from scipy import stats\n",
    "import scipy.integrate as integrate\n",
    "\n",
    "y = np.array([1505.0, 1528, 1564, 1498, 1600, 1470])\n",
    "m0 = np.mean(y)\n",
    "sigma = np.sqrt(500)\n",
    "n = len(y)\n",
    "\n",
    "def fun(tau0):\n",
    "    p = stats.norm.pdf\n",
    "    integrand = lambda theta: p(theta, m0, tau0) ** n * np.prod(p(y, theta, sigma))\n",
    "    return integrate.quad(integrand, 1400, 1700)[0]\n",
    "\n",
    "minimize(fun, 1, method = 'SLSQP', bounds = [[0.5, 2]])"
   ]
  }
 ],
 "metadata": {
  "kernelspec": {
   "display_name": "Python 2",
   "language": "python",
   "name": "python2"
  },
  "language_info": {
   "codemirror_mode": {
    "name": "ipython",
    "version": 2
   },
   "file_extension": ".py",
   "mimetype": "text/x-python",
   "name": "python",
   "nbconvert_exporter": "python",
   "pygments_lexer": "ipython2",
   "version": "2.7.10"
  }
 },
 "nbformat": 4,
 "nbformat_minor": 0
}
