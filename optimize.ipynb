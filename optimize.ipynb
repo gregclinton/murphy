{
 "cells": [
  {
   "cell_type": "code",
   "execution_count": null,
   "metadata": {
    "collapsed": true
   },
   "outputs": [],
   "source": [
    "import theano\n",
    "import theano.tensor as T\n",
    "\n",
    "x = T.dvector('x')\n",
    "y = x ** 2\n",
    "cost = y.sum()\n",
    "gy = T.grad(cost, x)\n",
    "H, updates = theano.scan(lambda i, gy,x : T.grad(gy[i], x), sequences=T.arange(gy.shape[0]), non_sequences=[gy, x])\n",
    "f = theano.function([x], H, updates=updates)"
   ]
  },
  {
   "cell_type": "code",
   "execution_count": 1,
   "metadata": {
    "collapsed": true
   },
   "outputs": [],
   "source": [
    "import scipy.optimize as opt\n",
    "from converge import Converge\n",
    "from numpy.linalg import inv\n",
    "\n",
    "def minimize(f, x, g, H, epsilon = 0.0000001, maxsteps = 100):\n",
    "    converge = Converge(f, epsilon, maxsteps)\n",
    "    \n",
    "    while not converge.done(x):\n",
    "        d = -inv(H(x)).dot(g(x))\n",
    "        x += d * opt.minimize(lambda eta: f(x + eta * d), 1).x\n",
    "    return x"
   ]
  },
  {
   "cell_type": "code",
   "execution_count": 7,
   "metadata": {
    "collapsed": false
   },
   "outputs": [
    {
     "name": "stdout",
     "output_type": "stream",
     "text": [
      "[ 3.6       1.200006]\n",
      "[[ 17.99994875   5.99995054]\n",
      " [  5.99995054   2.00008066]]\n",
      "[3.60000000000000, 1.20000000000000]\n",
      "[ -334167.8604396  -1215755.63522998]\n",
      "[10 10]\n"
     ]
    }
   ],
   "source": [
    "import numpy as np\n",
    "from scipy import stats\n",
    "import derive\n",
    "reload(derive)\n",
    "import scipy.optimize as opt\n",
    "import sympy as sm\n",
    "\n",
    "fun = lambda x: (3 * x[0] + x[1]) ** 2\n",
    "point = [0.1, 0.3]\n",
    "\n",
    "print derive.grad(fun)(point)\n",
    "print derive.hess(fun)(point)\n",
    "\n",
    "x = sm.symbols(' '.join(['x%s' % i for i in xrange(2)]))\n",
    "fun = (3 * x[0] + x[1]) ** 2\n",
    "print derive.grad(fun)(point)\n",
    "\n",
    "pdf = stats.multivariate_normal((23, 7), 4).pdf\n",
    "fun = lambda x: -pdf(x)\n",
    "x = [10, 10]\n",
    "print minimize(fun, x, derive.grad(fun), derive.hess(fun)) \n",
    "print opt.minimize(fun, x).x"
   ]
  }
 ],
 "metadata": {
  "kernelspec": {
   "display_name": "Python 2",
   "language": "python",
   "name": "python2"
  },
  "language_info": {
   "codemirror_mode": {
    "name": "ipython",
    "version": 2
   },
   "file_extension": ".py",
   "mimetype": "text/x-python",
   "name": "python",
   "nbconvert_exporter": "python",
   "pygments_lexer": "ipython2",
   "version": "2.7.12"
  }
 },
 "nbformat": 4,
 "nbformat_minor": 0
}
