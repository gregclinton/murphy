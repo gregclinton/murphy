{
 "cells": [
  {
   "cell_type": "code",
   "execution_count": 72,
   "metadata": {
    "collapsed": false
   },
   "outputs": [
    {
     "name": "stdout",
     "output_type": "stream",
     "text": [
      "[3.6000000000202537, 1.1999999999512401]\n",
      "[3.6000001, 1.2]\n"
     ]
    }
   ],
   "source": [
    "import numpy as np\n",
    "from scipy.misc import derivative\n",
    "import sympy as sm\n",
    "import tensorflow as tf\n",
    "from tensorflow.python.framework.ops import Tensor\n",
    "import theano\n",
    "import theano.tensor as T\n",
    "\n",
    "def partial(fun):\n",
    "    def eval(x, i):\n",
    "        v = x[:]\n",
    "        def wraps(x):\n",
    "            v[i] = x\n",
    "            return fun(v)    \n",
    "        return derivative(wraps, x[i], dx = 1e-6)\n",
    "    return eval\n",
    "\n",
    "fun = lambda x: (3 * x[0] + x[1]) ** 2\n",
    "x = [0.1, 0.3]\n",
    "part = partial(fun)\n",
    "\n",
    "print [part(x, i) for i in xrange(len(x))]\n",
    "\n",
    "\n",
    "def partial(fun, vars):\n",
    "    fns = [tf.gradients(fun, var)[0] for var in vars]\n",
    "    def eval(xx, i):\n",
    "        return fns[i].eval({var: x for (var, x) in zip(vars, xx)})\n",
    "    return eval\n",
    "\n",
    "x = tf.Variable(0, dtype = tf.float32)\n",
    "y = tf.Variable(0, dtype = tf.float32)\n",
    "fun = (3 * x + y) ** 2\n",
    "\n",
    "with tf.Session() as sess:\n",
    "    tf.initialize_all_variables()\n",
    "    part = partial(fun, [x, y])\n",
    "    xx = [0.1, 0.3]\n",
    "    print [part(xx, i) for i in xrange(len(xx))]"
   ]
  },
  {
   "cell_type": "code",
   "execution_count": 85,
   "metadata": {
    "collapsed": false
   },
   "outputs": [
    {
     "name": "stdout",
     "output_type": "stream",
     "text": [
      "[[ 17.99994875   5.99995054]\n",
      " [  5.99995054   2.00008066]]\n",
      "[[ 17.88139343   5.96046448]\n",
      " [  5.84125519   2.02655792]]\n"
     ]
    }
   ],
   "source": [
    "import derive\n",
    "reload(derive)\n",
    "import sympy as sm\n",
    "import tensorflow as tf\n",
    "\n",
    "fun = lambda x: (3 * x[0] + x[1]) ** 2\n",
    "point = [0.1, 0.3]\n",
    "\n",
    "hess = derive.hess(fun)\n",
    "print hess(point)\n",
    "\n",
    "x = tf.Variable(0, dtype = tf.float32)\n",
    "y = tf.Variable(0, dtype = tf.float32)\n",
    "fun = (3 * x + y) ** 2\n",
    "\n",
    "hess = derive.hess(fun, [x, y])\n",
    "with tf.Session() as sess:\n",
    "    tf.initialize_all_variables()\n",
    "    print hess(point)"
   ]
  },
  {
   "cell_type": "code",
   "execution_count": 16,
   "metadata": {
    "collapsed": false
   },
   "outputs": [
    {
     "name": "stdout",
     "output_type": "stream",
     "text": [
      "[ 3.6  1.2]\n",
      "[17.999948753733008, 5.9999782919817335, 5.9999782919817335, 1.9999418787719492]\n",
      "[3.5999999999999996, 1.2000000000000002]\n",
      "[[ 18.  18.]\n",
      " [  2.   2.]]\n",
      "[[ 0.  0.]\n",
      " [ 0.  0.]]\n"
     ]
    }
   ],
   "source": [
    "import derive\n",
    "reload(derive)\n",
    "import sympy as sm\n",
    "import tensorflow as tf\n",
    "\n",
    "fun = lambda x: (3 * x[0] + x[1]) ** 2\n",
    "point = [0.1, 0.3]\n",
    "\n",
    "grad = derive.grad(fun)\n",
    "print grad(point)\n",
    "hess = derive.hess(fun)\n",
    "print hess(point)\n",
    "\n",
    "x, y = sm.symbols('x, y')\n",
    "fun = (3 * x + y) ** 2\n",
    "grad = derive.grad(fun)\n",
    "print grad(point)\n",
    "hess = derive.hess(fun)\n",
    "print hess(point)\n",
    "\n",
    "import numpy as np\n",
    "x = tf.Variable(0, dtype = tf.float32)\n",
    "y = tf.Variable(0, dtype = tf.float32)\n",
    "fun = 3 * x + y\n",
    "\n",
    "hess = derive.hess(fun)\n",
    "with tf.Session() as sess:\n",
    "    tf.initialize_all_variables()\n",
    "    print hess({x: 0.1, y: 0.3}).eval()"
   ]
  },
  {
   "cell_type": "code",
   "execution_count": 72,
   "metadata": {
    "collapsed": false
   },
   "outputs": [
    {
     "name": "stdout",
     "output_type": "stream",
     "text": [
      "[[ 2.  0.]\n",
      " [ 0.  2.]]\n"
     ]
    }
   ],
   "source": [
    "import theano\n",
    "import theano.tensor as T\n",
    "\n",
    "# http://deeplearning.net/software/theano/tutorial/gradients.html\n",
    "    \n",
    "x = T.dvector('x')\n",
    "y = x ** 2\n",
    "cost = y.sum()\n",
    "gy = T.grad(cost, x)\n",
    "H, updates = theano.scan(\n",
    "    lambda i, gy, x: T.grad(gy[i], x),\n",
    "    sequences = T.arange(gy.shape[0]),\n",
    "    non_sequences = [gy, x]\n",
    ")\n",
    "f = theano.function([x], H, updates = updates)\n",
    "print f([4, 4])"
   ]
  },
  {
   "cell_type": "code",
   "execution_count": 76,
   "metadata": {
    "collapsed": false
   },
   "outputs": [
    {
     "name": "stdout",
     "output_type": "stream",
     "text": [
      "[array([[ 2.,  0.],\n",
      "       [ 0.,  2.]]), array([[ 2.,  0.],\n",
      "       [ 0.,  2.]])]\n"
     ]
    }
   ],
   "source": [
    "import theano\n",
    "import theano.tensor as T\n",
    "\n",
    "# http://stackoverflow.com/questions/30500332/how-to-use-theano-gradient-hessian-example-needed\n",
    "\n",
    "x = T.dvector('x')\n",
    "y = T.dvector('y')\n",
    "input = [x, y]\n",
    "cost = T.sum(x ** 2 + y ** 2)\n",
    "\n",
    "f = theano.gradient.hessian(cost, wrt = input)\n",
    "h = theano.function(input, f)\n",
    "\n",
    "x = [1, 2]\n",
    "y = [1, 2]\n",
    "print h(x, y)"
   ]
  },
  {
   "cell_type": "code",
   "execution_count": 4,
   "metadata": {
    "collapsed": true
   },
   "outputs": [],
   "source": [
    "import numpy as np\n",
    "import scipy.optimize as opt\n",
    "from converge import Converge\n",
    "from numpy.linalg import inv\n",
    "\n",
    "def minimize(f, x, g, H, epsilon = 1e-7, maxsteps = 100):\n",
    "    x = np.array(x).astype(float)\n",
    "    converge = Converge(f, epsilon, maxsteps)\n",
    "    \n",
    "    while not converge.done(x):\n",
    "        d = -inv(H(x)).dot(g(x))\n",
    "        x += d * opt.minimize(lambda eta: f(x + eta * d), 1).x\n",
    "    return x"
   ]
  },
  {
   "cell_type": "code",
   "execution_count": 5,
   "metadata": {
    "collapsed": false
   },
   "outputs": [
    {
     "name": "stdout",
     "output_type": "stream",
     "text": [
      "[ 23.00000001   7.        ]\n",
      "[ 23.           6.99999999]\n",
      "[ 22.99999977   6.99999988]\n"
     ]
    }
   ],
   "source": [
    "from scipy import stats\n",
    "import scipy.optimize as opt\n",
    "import derive\n",
    "reload(derive)\n",
    "\n",
    "pdf = stats.multivariate_normal((23, 7)).pdf\n",
    "fun = lambda x: -pdf(x)\n",
    "x = [21, 6]\n",
    "g = derive.grad(fun)\n",
    "H = derive.hess(fun)\n",
    "print minimize(fun, x, g, H) \n",
    "print opt.minimize(fun, x).x\n",
    "print opt.minimize(fun, x, method = 'Newton-CG', jac = g, hess = H).x"
   ]
  }
 ],
 "metadata": {
  "kernelspec": {
   "display_name": "Python 2",
   "language": "python",
   "name": "python2"
  },
  "language_info": {
   "codemirror_mode": {
    "name": "ipython",
    "version": 2
   },
   "file_extension": ".py",
   "mimetype": "text/x-python",
   "name": "python",
   "nbconvert_exporter": "python",
   "pygments_lexer": "ipython2",
   "version": "2.7.12"
  }
 },
 "nbformat": 4,
 "nbformat_minor": 0
}
