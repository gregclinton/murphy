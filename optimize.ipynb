{
 "cells": [
  {
   "cell_type": "code",
   "execution_count": 6,
   "metadata": {
    "collapsed": false
   },
   "outputs": [
    {
     "data": {
      "text/plain": [
       "array([ 1510.98855521,  1527.866921  ,  1554.28523267,  1505.85166127,\n",
       "        1580.70354434,  1485.30408553])"
      ]
     },
     "execution_count": 6,
     "metadata": {},
     "output_type": "execute_result"
    }
   ],
   "source": [
    "import numpy as np\n",
    "\n",
    "y = np.array([1505.0, 1528, 1564, 1498, 1600, 1470])\n",
    "ybar = np.mean(y)\n",
    "m0 = ybar\n",
    "sigma2 = 500\n",
    "tau02 = max(0, np.var(y) - sigma2)\n",
    "Beta_hat = sigma2 / (sigma2 + tau02)\n",
    "theta = Beta_hat * ybar + (1 - Beta_hat) * y\n",
    "theta"
   ]
  },
  {
   "cell_type": "code",
   "execution_count": null,
   "metadata": {
    "collapsed": true
   },
   "outputs": [],
   "source": [
    "import numpy as np\n",
    "from scipy.optimize import minimize\n",
    "from scipy import stats\n",
    "import scipy.integrate as integrate\n",
    "\n",
    "y = [1505.0, 1528, 1564, 1498, 1600, 1470]\n",
    "m0 = np.mean(y)\n",
    "sigma = np.sqrt(500)\n",
    "n = len(y)\n",
    "\n",
    "def fun(tau0):\n",
    "    ll = stats.norm.logpdf\n",
    "    integrand = lambda theta: n * ll(theta, m0, tau0) + sum(ll(y, theta, sigma))\n",
    "    return -integrate.quad(integrand, -np.inf, np.inf)[0]\n",
    "\n",
    "minimize(fun, 1)"
   ]
  }
 ],
 "metadata": {
  "kernelspec": {
   "display_name": "Python 2",
   "language": "python",
   "name": "python2"
  },
  "language_info": {
   "codemirror_mode": {
    "name": "ipython",
    "version": 2
   },
   "file_extension": ".py",
   "mimetype": "text/x-python",
   "name": "python",
   "nbconvert_exporter": "python",
   "pygments_lexer": "ipython2",
   "version": "2.7.10"
  }
 },
 "nbformat": 4,
 "nbformat_minor": 0
}
