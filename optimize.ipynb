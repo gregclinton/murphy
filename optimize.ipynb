{
 "cells": [
  {
   "cell_type": "code",
   "execution_count": 16,
   "metadata": {
    "collapsed": false
   },
   "outputs": [
    {
     "data": {
      "text/plain": [
       "   status: 2\n",
       "  success: False\n",
       "     njev: 42\n",
       "     nfev: 126\n",
       " hess_inv: array([[1]])\n",
       "      fun: nan\n",
       "        x: array([ -2.89575666e+10])\n",
       "  message: 'Desired error not necessarily achieved due to precision loss.'\n",
       "      jac: array([ nan])"
      ]
     },
     "execution_count": 16,
     "metadata": {},
     "output_type": "execute_result"
    }
   ],
   "source": [
    "import numpy as np\n",
    "from scipy.optimize import minimize\n",
    "from scipy import stats\n",
    "import scipy.integrate as integrate\n",
    "\n",
    "y = [1505.0, 1528, 1564, 1498, 1600, 1470]\n",
    "m0 = np.mean(y)\n",
    "sigma = np.sqrt(500)\n",
    "n = len(y)\n",
    "\n",
    "def fun(tau0):\n",
    "    ll = stats.norm.logpdf\n",
    "    integrand = lambda theta: n * ll(theta, m0, tau0) + sum(ll(y, theta, sigma))\n",
    "    return -integrate.quad(integrand, -np.inf, np.inf)[0]\n",
    "\n",
    "minimize(fun, 1)"
   ]
  }
 ],
 "metadata": {
  "kernelspec": {
   "display_name": "Python 2",
   "language": "python",
   "name": "python2"
  },
  "language_info": {
   "codemirror_mode": {
    "name": "ipython",
    "version": 2
   },
   "file_extension": ".py",
   "mimetype": "text/x-python",
   "name": "python",
   "nbconvert_exporter": "python",
   "pygments_lexer": "ipython2",
   "version": "2.7.9"
  }
 },
 "nbformat": 4,
 "nbformat_minor": 0
}
