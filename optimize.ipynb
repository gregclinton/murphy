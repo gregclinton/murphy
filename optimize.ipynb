{
 "cells": [
  {
   "cell_type": "code",
   "execution_count": 120,
   "metadata": {
    "collapsed": false
   },
   "outputs": [
    {
     "name": "stdout",
     "output_type": "stream",
     "text": [
      "[ 3.60000014  1.20000005]\n",
      "[[ 18.   6.]\n",
      " [  6.   2.]]\n"
     ]
    }
   ],
   "source": [
    "import numpy as np\n",
    "import tensorflow as tf\n",
    "\n",
    "x = tf.placeholder(tf.float32, (2, 1))\n",
    "fun = tf.matmul([[3.0, 1.0]], x) ** 2\n",
    "\n",
    "grad = tf.gradients(fun, x)[0]\n",
    "hess = tf.pack([tf.gradients(g, x)[0] for g in tf.unpack(grad)])\n",
    "\n",
    "with tf.Session() as sess:\n",
    "    point = [[0.1], [0.3]]\n",
    "    print grad.eval({x: point})[:, 0]\n",
    "    print hess.eval({x: point})[:, :, 0]"
   ]
  },
  {
   "cell_type": "code",
   "execution_count": 117,
   "metadata": {
    "collapsed": false
   },
   "outputs": [
    {
     "name": "stdout",
     "output_type": "stream",
     "text": [
      "[ 3.6  1.2]\n",
      "[[ 18.   6.]\n",
      " [  6.   2.]]\n"
     ]
    }
   ],
   "source": [
    "import theano\n",
    "import theano.tensor as T\n",
    "\n",
    "x = T.dvector()\n",
    "fun = T.dot([3, 1], x) ** 2\n",
    "\n",
    "g = theano.function([x], T.grad(fun, x))\n",
    "H = theano.function([x], T.hessian(fun, x))\n",
    "\n",
    "x = [0.1, 0.3]\n",
    "print g(x)\n",
    "print H(x)"
   ]
  },
  {
   "cell_type": "code",
   "execution_count": 11,
   "metadata": {
    "collapsed": true
   },
   "outputs": [],
   "source": [
    "import numpy as np\n",
    "import scipy.optimize as opt\n",
    "from converge import Converge\n",
    "from numpy.linalg import inv\n",
    "\n",
    "def minimize(f, x, g, H, epsilon = 1e-7, maxsteps = 100):\n",
    "    x = np.array(x).astype(float)\n",
    "    converge = Converge(f, epsilon, maxsteps)\n",
    "    \n",
    "    while not converge.done(x):\n",
    "        d = -inv(H(x)).dot(g(x))\n",
    "        x += d * opt.minimize(lambda eta: f(x + eta * d), 1).x\n",
    "    return x"
   ]
  },
  {
   "cell_type": "code",
   "execution_count": 36,
   "metadata": {
    "collapsed": false
   },
   "outputs": [
    {
     "name": "stdout",
     "output_type": "stream",
     "text": [
      "[ 23.00000001   7.        ]\n",
      "[ 23.           6.99999999]\n",
      "[ 22.99999977   6.99999988]\n"
     ]
    }
   ],
   "source": [
    "import numpy as np\n",
    "from scipy import stats\n",
    "import scipy.optimize as opt\n",
    "from scipy.misc import derivative\n",
    "# import numdifftools as nd\n",
    "\n",
    "def partial(fun):\n",
    "    def eval(x, i):\n",
    "        # http://stackoverflow.com/questions/20708038/scipy-misc-derivative-for-mutiple-argument-function\n",
    "        v = x[:]\n",
    "        def wraps(x):\n",
    "            v[i] = x\n",
    "            return fun(v)    \n",
    "        return derivative(wraps, x[i], dx = 1e-6)\n",
    "    return eval\n",
    "\n",
    "def grad(fun):\n",
    "    part = partial(fun)\n",
    "\n",
    "    def eval(x):\n",
    "        x = np.array(x)\n",
    "        return np.array([part(x, i) for i in xrange(len(x))])\n",
    "    return eval\n",
    "\n",
    "def hess(fun):\n",
    "    part = partial(grad(fun))\n",
    "    \n",
    "    def eval(x):\n",
    "        x = np.array(x)\n",
    "        n = len(x)\n",
    "        parts = [part(x, i)[j] for i in xrange(n) for j in xrange(n)]\n",
    "        return np.array(parts).reshape((n, n))\n",
    "    return eval\n",
    "\n",
    "pdf = stats.multivariate_normal((23, 7)).pdf\n",
    "fun = lambda x: -pdf(x)\n",
    "\n",
    "g = grad(fun)\n",
    "H = hess(fun)\n",
    "\n",
    "x = [21, 6.0]\n",
    "\n",
    "print minimize(fun, x, g, H) \n",
    "print opt.minimize(fun, x).x\n",
    "print opt.minimize(fun, x, method = 'Newton-CG', jac = g, hess = H).x"
   ]
  },
  {
   "cell_type": "code",
   "execution_count": 6,
   "metadata": {
    "collapsed": true
   },
   "outputs": [],
   "source": [
    "def my_numeric_grad(fun):\n",
    "    def eval(x):\n",
    "        # http://localhost:8888/edit/Desktop/assignment1/cs231n/gradient_check.py\n",
    "        x = np.array(x).astype(float)\n",
    "        h = 1e-6\n",
    "        grad = np.zeros_like(x)\n",
    "        it = np.nditer(x, flags = ['multi_index'], op_flags = ['readwrite'])\n",
    "\n",
    "        while not it.finished:\n",
    "            ix = it.multi_index\n",
    "            oldval = x[ix]\n",
    "            x[ix] = oldval + h\n",
    "            fxph = fun(x)\n",
    "            x[ix] = oldval - h\n",
    "            fxmh = fun(x)\n",
    "            x[ix] = oldval\n",
    "            grad[ix] = (fxph - fxmh) / (2 * h)\n",
    "            it.iternext()\n",
    "        return grad\n",
    "    return eval"
   ]
  }
 ],
 "metadata": {
  "anaconda-cloud": {},
  "kernelspec": {
   "display_name": "Python [default]",
   "language": "python",
   "name": "python2"
  },
  "language_info": {
   "codemirror_mode": {
    "name": "ipython",
    "version": 2
   },
   "file_extension": ".py",
   "mimetype": "text/x-python",
   "name": "python",
   "nbconvert_exporter": "python",
   "pygments_lexer": "ipython2",
   "version": "2.7.12"
  }
 },
 "nbformat": 4,
 "nbformat_minor": 0
}
