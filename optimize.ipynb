{
 "cells": [
  {
   "cell_type": "code",
   "execution_count": 1,
   "metadata": {
    "collapsed": true
   },
   "outputs": [],
   "source": [
    "# mathematical optimization"
   ]
  },
  {
   "cell_type": "code",
   "execution_count": null,
   "metadata": {
    "collapsed": true
   },
   "outputs": [],
   "source": [
    "# also check out mystic optimization"
   ]
  },
  {
   "cell_type": "code",
   "execution_count": null,
   "metadata": {
    "collapsed": true
   },
   "outputs": [],
   "source": [
    "# programming\n",
    "# LP QP SOCP SDP NLP GP\n",
    "# linar, quadratic, second order cone, cone, all subsumed by semidefinite\n",
    "# nonlinear, geometric\n",
    "# dynamic programming"
   ]
  },
  {
   "cell_type": "code",
   "execution_count": null,
   "metadata": {
    "collapsed": true
   },
   "outputs": [],
   "source": [
    "# scipy sympy scikit theano tensorflow cvxpy cvxopt ecos mystic\n",
    "# solvers (cone solvers)"
   ]
  },
  {
   "cell_type": "code",
   "execution_count": null,
   "metadata": {
    "collapsed": true
   },
   "outputs": [],
   "source": [
    "# proximal algorithms (special case of admm where A = I)\n",
    "# https://www.youtube.com/watch?v=Xg0ozgCXXB8&t=2926s\n",
    "# https://web.stanford.edu/~boyd/papers/pdf/admm_slides.pdf"
   ]
  },
  {
   "cell_type": "code",
   "execution_count": null,
   "metadata": {
    "collapsed": true
   },
   "outputs": [],
   "source": [
    "# matrix-free cvxpy: https://github.com/mfopt/mf_cvxpy\n",
    "# nesterov"
   ]
  },
  {
   "cell_type": "code",
   "execution_count": null,
   "metadata": {
    "collapsed": true
   },
   "outputs": [],
   "source": [
    "# newton, BFGS, L-BFGS, CG, newton CG, nelder mead, powell\n",
    "# steepest descent, gradient descent, IRLS, line search, adam, momentum, adagrad, proximal gradient descent\n",
    "# interior point\n",
    "# global optimization: random forest, particle swarm, basinhopping, anneal, differential evolution\n",
    "# https://docs.scipy.org/doc/scipy-0.18.1/reference/optimize.html"
   ]
  },
  {
   "cell_type": "code",
   "execution_count": 6,
   "metadata": {
    "collapsed": false
   },
   "outputs": [],
   "source": [
    "import cvxopt"
   ]
  },
  {
   "cell_type": "code",
   "execution_count": 7,
   "metadata": {
    "collapsed": false
   },
   "outputs": [
    {
     "data": {
      "text/plain": [
       "matrix([[  1.67081711e-01],\n",
       "        [  1.43232399e-09]])"
      ]
     },
     "execution_count": 7,
     "metadata": {},
     "output_type": "execute_result"
    }
   ],
   "source": [
    "# sudo -H ../anaconda2/bin/pip install cvxpy\n",
    "# todo: try using cvxopt as parame to solve method\n",
    "\n",
    "import cvxpy as cvx\n",
    "import numpy as np\n",
    "\n",
    "m = 30\n",
    "n = 2\n",
    "np.random.seed(1)\n",
    "A = np.random.randn(m, n)\n",
    "b = np.random.randn(m)\n",
    "x = cvx.Variable(n)\n",
    "objective = cvx.Minimize(cvx.sum_squares(A * x - b))\n",
    "constraints = [0 <= x, x <= 1]\n",
    "cvx.Problem(objective, constraints).solve()\n",
    "x.value"
   ]
  }
 ],
 "metadata": {
  "anaconda-cloud": {},
  "kernelspec": {
   "display_name": "Python [default]",
   "language": "python",
   "name": "python2"
  },
  "language_info": {
   "codemirror_mode": {
    "name": "ipython",
    "version": 2
   },
   "file_extension": ".py",
   "mimetype": "text/x-python",
   "name": "python",
   "nbconvert_exporter": "python",
   "pygments_lexer": "ipython2",
   "version": "2.7.12"
  }
 },
 "nbformat": 4,
 "nbformat_minor": 0
}
