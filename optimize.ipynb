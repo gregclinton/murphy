{
 "cells": [
  {
   "cell_type": "code",
   "execution_count": 10,
   "metadata": {
    "collapsed": false
   },
   "outputs": [
    {
     "name": "stdout",
     "output_type": "stream",
     "text": [
      "[ 3.60000014  1.20000005]\n",
      "[[ 18.   6.]\n",
      " [  6.   2.]]\n"
     ]
    }
   ],
   "source": [
    "import numpy as np\n",
    "import tensorflow as tf\n",
    "from tensorflow.python.ops import array_ops\n",
    "\n",
    "x = tf.placeholder(tf.float32, (2, 1))\n",
    "fun = tf.reduce_sum((3 * x[0] + x[1]) ** 2)\n",
    "\n",
    "grad = tf.gradients(fun, x)[0]\n",
    "# https://github.com/tensorflow/tensorflow/blob/master/tensorflow/python/ops/gradients.py\n",
    "hess = array_ops.pack([tf.gradients(g, x)[0] for g in array_ops.unpack(grad)])\n",
    "\n",
    "with tf.Session() as sess:\n",
    "    point = np.array([0.1, 0.3]).reshape(2, 1)\n",
    "    print grad.eval({x: point})[:, 0]\n",
    "    print hess.eval({x: point})[:, :, 0]"
   ]
  },
  {
   "cell_type": "code",
   "execution_count": 2,
   "metadata": {
    "collapsed": false
   },
   "outputs": [
    {
     "name": "stdout",
     "output_type": "stream",
     "text": [
      "[3.5999999999999996, 1.2000000000000002]\n",
      "[[18 18]\n",
      " [ 2  2]]\n"
     ]
    }
   ],
   "source": [
    "import numpy as np\n",
    "import sympy as sm\n",
    "\n",
    "x, y = sm.symbols('x, y')\n",
    "fun = (3 * x + y) ** 2\n",
    "\n",
    "def grad(fun):\n",
    "    vars = list(fun.free_symbols)\n",
    "    fns = [sm.lambdify(vars, sm.diff(fun, wrt)) for wrt in vars]\n",
    "\n",
    "    def eval(x):\n",
    "        x = np.array(x).astype(float)\n",
    "        return [fn(*x) for fn in fns]\n",
    "    return eval\n",
    "\n",
    "def hess(fun):\n",
    "    vars = list(fun.free_symbols)\n",
    "    n = len(vars)\n",
    "    gs = [sm.diff(fun, wrt) for wrt in vars]\n",
    "    fns = [sm.lambdify(vars, sm.diff(gs[i], wrt)) for i, wrt in enumerate(vars)]\n",
    "\n",
    "    def eval(x):\n",
    "        x = np.array(x).astype(float)\n",
    "        return np.array([fns[i](*x) for i in xrange(n) for j in xrange(n)]).reshape(n, n)\n",
    "    return eval\n",
    "\n",
    "grad = grad(fun)\n",
    "hess = hess(fun)\n",
    "\n",
    "point = [0.1, 0.3]\n",
    "print grad(point)\n",
    "print hess(point)"
   ]
  },
  {
   "cell_type": "code",
   "execution_count": 3,
   "metadata": {
    "collapsed": false
   },
   "outputs": [
    {
     "name": "stdout",
     "output_type": "stream",
     "text": [
      "[ 3.6  1.2]\n",
      "[[ 18.   6.]\n",
      " [  6.   2.]]\n"
     ]
    }
   ],
   "source": [
    "import theano\n",
    "import theano.tensor as T\n",
    "\n",
    "x = T.dvector()\n",
    "fun = T.sum((3 * x[0] + x[1]) ** 2)\n",
    "\n",
    "g = theano.function([x], T.grad(fun, x))\n",
    "H = theano.function([x], theano.gradient.hessian(fun, x))\n",
    "\n",
    "x = [0.1, 0.3]\n",
    "print g(x)\n",
    "print H(x)"
   ]
  },
  {
   "cell_type": "code",
   "execution_count": 4,
   "metadata": {
    "collapsed": true
   },
   "outputs": [],
   "source": [
    "import numpy as np\n",
    "import scipy.optimize as opt\n",
    "from converge import Converge\n",
    "from numpy.linalg import inv\n",
    "\n",
    "def minimize(f, x, g, H, epsilon = 1e-7, maxsteps = 100):\n",
    "    x = np.array(x).astype(float)\n",
    "    converge = Converge(f, epsilon, maxsteps)\n",
    "    \n",
    "    while not converge.done(x):\n",
    "        d = -inv(H(x)).dot(g(x))\n",
    "        x += d * opt.minimize(lambda eta: f(x + eta * d), 1).x\n",
    "    return x"
   ]
  },
  {
   "cell_type": "code",
   "execution_count": 5,
   "metadata": {
    "collapsed": false
   },
   "outputs": [
    {
     "name": "stdout",
     "output_type": "stream",
     "text": [
      "[ 23.00000001   7.        ]\n",
      "[ 23.           6.99999999]\n",
      "[ 22.99999977   6.99999988]\n"
     ]
    }
   ],
   "source": [
    "import numpy as np\n",
    "from scipy import stats\n",
    "import scipy.optimize as opt\n",
    "from scipy.misc import derivative\n",
    "# import numdifftools as nd\n",
    "\n",
    "def partial(fun):\n",
    "    def eval(x, i):\n",
    "        # http://stackoverflow.com/questions/20708038/scipy-misc-derivative-for-mutiple-argument-function\n",
    "        v = x[:]\n",
    "        def wraps(x):\n",
    "            v[i] = x\n",
    "            return fun(v)    \n",
    "        return derivative(wraps, x[i], dx = 1e-6)\n",
    "    return eval\n",
    "\n",
    "def grad(fun, wrt = None):\n",
    "    part = partial(fun)\n",
    "\n",
    "    def eval(x):\n",
    "        x = np.array(x).astype(float)\n",
    "        return np.array([part(x, i) for i in xrange(len(x))])\n",
    "    return eval\n",
    "\n",
    "def hess(fun, wrt = None):\n",
    "    part = partial(grad(fun, wrt))\n",
    "\n",
    "    def eval(x):\n",
    "        x = np.array(x).astype(float)\n",
    "        n = len(x)\n",
    "        return np.array([part(x, i)[j] for i in xrange(n) for j in xrange(n)]).reshape((n, n))    \n",
    "    return eval\n",
    "\n",
    "pdf = stats.multivariate_normal((23, 7)).pdf\n",
    "fun = lambda x: -pdf(x)\n",
    "x = [21, 6]\n",
    "g = grad(fun)\n",
    "H = hess(fun)\n",
    "print minimize(fun, x, g, H) \n",
    "print opt.minimize(fun, x).x\n",
    "print opt.minimize(fun, x, method = 'Newton-CG', jac = g, hess = H).x"
   ]
  },
  {
   "cell_type": "code",
   "execution_count": 6,
   "metadata": {
    "collapsed": true
   },
   "outputs": [],
   "source": [
    "def my_numeric_grad(fun):\n",
    "    def eval(x):\n",
    "        # http://localhost:8888/edit/Desktop/assignment1/cs231n/gradient_check.py\n",
    "        x = np.array(x).astype(float)\n",
    "        h = 1e-6\n",
    "        grad = np.zeros_like(x)\n",
    "        it = np.nditer(x, flags = ['multi_index'], op_flags = ['readwrite'])\n",
    "\n",
    "        while not it.finished:\n",
    "            ix = it.multi_index\n",
    "            oldval = x[ix]\n",
    "            x[ix] = oldval + h\n",
    "            fxph = fun(x)\n",
    "            x[ix] = oldval - h\n",
    "            fxmh = fun(x)\n",
    "            x[ix] = oldval\n",
    "            grad[ix] = (fxph - fxmh) / (2 * h)\n",
    "            it.iternext()\n",
    "        return grad\n",
    "    return eval"
   ]
  }
 ],
 "metadata": {
  "anaconda-cloud": {},
  "kernelspec": {
   "display_name": "Python 2",
   "language": "python",
   "name": "python2"
  },
  "language_info": {
   "codemirror_mode": {
    "name": "ipython",
    "version": 2
   },
   "file_extension": ".py",
   "mimetype": "text/x-python",
   "name": "python",
   "nbconvert_exporter": "python",
   "pygments_lexer": "ipython2",
   "version": "2.7.12"
  }
 },
 "nbformat": 4,
 "nbformat_minor": 0
}
