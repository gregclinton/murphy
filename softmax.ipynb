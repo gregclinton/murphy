{
 "cells": [
  {
   "cell_type": "code",
   "execution_count": 2,
   "metadata": {
    "collapsed": true
   },
   "outputs": [],
   "source": [
    "import numpy as np"
   ]
  },
  {
   "cell_type": "code",
   "execution_count": null,
   "metadata": {
    "collapsed": true
   },
   "outputs": [],
   "source": [
    "# https://gist.github.com/stober/1946926"
   ]
  },
  {
   "cell_type": "code",
   "execution_count": 33,
   "metadata": {
    "collapsed": false
   },
   "outputs": [],
   "source": [
    "C = 2\n",
    "X = np.array([[1, 2], [3, 4], [5, 6]])\n",
    "W = np.eye(C)\n",
    "N, D = X.shape\n",
    "X.dot(W)"
   ]
  },
  {
   "cell_type": "code",
   "execution_count": 32,
   "metadata": {
    "collapsed": false
   },
   "outputs": [
    {
     "data": {
      "text/plain": [
       "array([[ 0.01587624,  0.01587624],\n",
       "       [ 0.11731043,  0.11731043],\n",
       "       [ 0.86681333,  0.86681333]])"
      ]
     },
     "execution_count": 32,
     "metadata": {},
     "output_type": "execute_result"
    }
   ],
   "source": [
    "def softmax(w):\n",
    "    e = np.exp(w)\n",
    "    return e / np.sum(e, axis = 0)\n",
    "\n",
    "softmax(X.dot(W))"
   ]
  },
  {
   "cell_type": "code",
   "execution_count": 44,
   "metadata": {
    "collapsed": false
   },
   "outputs": [
    {
     "name": "stdout",
     "output_type": "stream",
     "text": [
      "[[   2.71828183   20.08553692  148.4131591 ]\n",
      " [   7.3890561    54.59815003  403.42879349]]\n",
      "[  10.10733793   74.68368696  551.8419526 ]\n"
     ]
    }
   ],
   "source": [
    "def softmax()\n",
    "w = W.dot(X.T)\n",
    "e = np.exp(w)\n",
    "print e\n",
    "print np.sum(e, axis = 0)"
   ]
  }
 ],
 "metadata": {
  "kernelspec": {
   "display_name": "Python 2",
   "language": "python",
   "name": "python2"
  },
  "language_info": {
   "codemirror_mode": {
    "name": "ipython",
    "version": 2
   },
   "file_extension": ".py",
   "mimetype": "text/x-python",
   "name": "python",
   "nbconvert_exporter": "python",
   "pygments_lexer": "ipython2",
   "version": "2.7.10"
  }
 },
 "nbformat": 4,
 "nbformat_minor": 0
}
