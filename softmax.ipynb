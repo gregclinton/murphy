{
 "cells": [
  {
   "cell_type": "code",
   "execution_count": 1,
   "metadata": {
    "collapsed": true
   },
   "outputs": [],
   "source": [
    "import numpy as np\n",
    "from scipy import stats\n",
    "from softmax import softmax"
   ]
  },
  {
   "cell_type": "code",
   "execution_count": 2,
   "metadata": {
    "collapsed": true
   },
   "outputs": [],
   "source": [
    "# https://gist.github.com/stober/1946926"
   ]
  },
  {
   "cell_type": "code",
   "execution_count": 4,
   "metadata": {
    "collapsed": false
   },
   "outputs": [
    {
     "name": "stdout",
     "output_type": "stream",
     "text": [
      "[ 1.  1.  1.  1.]\n"
     ]
    },
    {
     "data": {
      "text/plain": [
       "array([[  1.28796269e-01,   7.55572894e-01,   1.15630836e-01],\n",
       "       [  3.86664624e-03,   9.54015859e-01,   4.21174949e-02],\n",
       "       [  1.51987039e-03,   9.56230606e-01,   4.22495239e-02],\n",
       "       [  8.98261722e-05,   9.94190971e-01,   5.71920328e-03]])"
      ]
     },
     "execution_count": 4,
     "metadata": {},
     "output_type": "execute_result"
    }
   ],
   "source": [
    "C = 3\n",
    "X = np.array([[1.1, 2.3], [3.2, 4.1], [3.7, 4.2], [5.4, 6.8]])\n",
    "N, D = X.shape\n",
    "W = stats.norm.rvs(size = (D, C))\n",
    "\n",
    "Z = softmax(X.dot(W))\n",
    "print np.sum(Z, axis = 1)\n",
    "Z"
   ]
  }
 ],
 "metadata": {
  "kernelspec": {
   "display_name": "Python 2",
   "language": "python",
   "name": "python2"
  },
  "language_info": {
   "codemirror_mode": {
    "name": "ipython",
    "version": 2
   },
   "file_extension": ".py",
   "mimetype": "text/x-python",
   "name": "python",
   "nbconvert_exporter": "python",
   "pygments_lexer": "ipython2",
   "version": "2.7.9"
  }
 },
 "nbformat": 4,
 "nbformat_minor": 0
}
