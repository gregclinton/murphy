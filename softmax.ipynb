{
 "cells": [
  {
   "cell_type": "code",
   "execution_count": 20,
   "metadata": {
    "collapsed": true
   },
   "outputs": [],
   "source": [
    "import numpy as np\n",
    "from scipy import stats"
   ]
  },
  {
   "cell_type": "code",
   "execution_count": 21,
   "metadata": {
    "collapsed": true
   },
   "outputs": [],
   "source": [
    "# https://gist.github.com/stober/1946926"
   ]
  },
  {
   "cell_type": "code",
   "execution_count": 23,
   "metadata": {
    "collapsed": false
   },
   "outputs": [
    {
     "data": {
      "text/plain": [
       "array([[ -3.77204727,  -1.03680234,  -1.77899752],\n",
       "       [ -7.74013699,  -2.59767786,  -2.32640284],\n",
       "       [ -8.27490916,  -2.9162452 ,  -2.09545311],\n",
       "       [-12.91329781,  -4.36440132,  -3.79523193]])"
      ]
     },
     "execution_count": 23,
     "metadata": {},
     "output_type": "execute_result"
    }
   ],
   "source": [
    "C = 3\n",
    "X = np.array([[1.1, 2.3], [3.2, 4.1], [3.7, 4.2], [5.4, 6.8]])\n",
    "N, D = X.shape\n",
    "W = stats.norm.rvs(size = (D, C))\n",
    "X.dot(W)"
   ]
  },
  {
   "cell_type": "code",
   "execution_count": 43,
   "metadata": {
    "collapsed": false
   },
   "outputs": [
    {
     "name": "stdout",
     "output_type": "stream",
     "text": [
      "[ 1.  1.  1.  1.]\n"
     ]
    },
    {
     "data": {
      "text/plain": [
       "array([[  4.21027874e-02,   6.48952079e-01,   3.08945134e-01],\n",
       "       [  2.52140472e-03,   4.31503362e-01,   5.65975234e-01],\n",
       "       [  1.43643028e-03,   3.05156579e-01,   6.93406991e-01],\n",
       "       [  7.00250480e-05,   3.61403197e-01,   6.38526778e-01]])"
      ]
     },
     "execution_count": 43,
     "metadata": {},
     "output_type": "execute_result"
    }
   ],
   "source": [
    "def softmax(w):\n",
    "    e = np.exp(w)\n",
    "    return e / np.sum(e, axis = 0)\n",
    "\n",
    "Z = softmax(X.dot(W).T).T\n",
    "print np.sum(Z, axis = 1)\n",
    "Z"
   ]
  },
  {
   "cell_type": "code",
   "execution_count": 36,
   "metadata": {
    "collapsed": false
   },
   "outputs": [
    {
     "name": "stdout",
     "output_type": "stream",
     "text": [
      "[ 1.  1.  1.  1.]\n"
     ]
    },
    {
     "data": {
      "text/plain": [
       "[[0.042102787383074401, 0.64895207858308879, 0.30894513403383672],\n",
       " [0.0025214047187365239, 0.43150336158289898, 0.56597523369836444],\n",
       " [0.0014364302764987549, 0.30515657884197323, 0.69340699088152802],\n",
       " [7.0025048000830789e-05, 0.36140319670693577, 0.63852677824506343]]"
      ]
     },
     "execution_count": 36,
     "metadata": {},
     "output_type": "execute_result"
    }
   ],
   "source": [
    "def softmax(X, W):\n",
    "    Z = []\n",
    "    for x in X:\n",
    "        Z.append([np.exp(W[:, c].dot(x)) / np.sum([np.exp(W[:, cc].dot(x)) for cc in range(C)]) for c in range(C)])\n",
    "    return Z\n",
    "    \n",
    "Z = softmax(X, W)\n",
    "print np.sum(Z, axis = 1)\n",
    "Z"
   ]
  }
 ],
 "metadata": {
  "kernelspec": {
   "display_name": "Python 2",
   "language": "python",
   "name": "python2"
  },
  "language_info": {
   "codemirror_mode": {
    "name": "ipython",
    "version": 2
   },
   "file_extension": ".py",
   "mimetype": "text/x-python",
   "name": "python",
   "nbconvert_exporter": "python",
   "pygments_lexer": "ipython2",
   "version": "2.7.9"
  }
 },
 "nbformat": 4,
 "nbformat_minor": 0
}
