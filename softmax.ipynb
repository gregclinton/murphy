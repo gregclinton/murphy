{
 "cells": [
  {
   "cell_type": "code",
   "execution_count": 2,
   "metadata": {
    "collapsed": true
   },
   "outputs": [],
   "source": [
    "import numpy as np"
   ]
  },
  {
   "cell_type": "code",
   "execution_count": null,
   "metadata": {
    "collapsed": true
   },
   "outputs": [],
   "source": [
    "https://gist.github.com/stober/1946926"
   ]
  },
  {
   "cell_type": "code",
   "execution_count": 3,
   "metadata": {
    "collapsed": false
   },
   "outputs": [
    {
     "data": {
      "text/plain": [
       "[[0.2689414213699951, 0.7310585786300049],\n",
       " [0.2689414213699951, 0.73105857863000479],\n",
       " [0.26894142136999516, 0.7310585786300049]]"
      ]
     },
     "execution_count": 3,
     "metadata": {},
     "output_type": "execute_result"
    }
   ],
   "source": [
    "C = 2\n",
    "X = np.array([[1, 2], [3, 4], [5, 6]])\n",
    "W = np.eye(C)\n",
    "N, D = X.shape\n",
    "\n",
    "E = np.exp(X.dot(W))\n",
    "S = np.sum(E, axis = 1)\n",
    "[[E[i, c] / S[i] for c in range(C)] for i in range(N)]"
   ]
  },
  {
   "cell_type": "code",
   "execution_count": 4,
   "metadata": {
    "collapsed": true
   },
   "outputs": [],
   "source": [
    "def softmax(w, t = 1.0):\n",
    "    e = np.exp(npa(w) / t)\n",
    "    dist = e / np.sum(e)\n",
    "    return dist"
   ]
  },
  {
   "cell_type": "code",
   "execution_count": 5,
   "metadata": {
    "collapsed": true
   },
   "outputs": [],
   "source": [
    "def softmax(w):\n",
    "    w = numpy.array(w)\n",
    "\n",
    "    maxes = numpy.amax(w, axis=1)\n",
    "    maxes = maxes.reshape(maxes.shape[0], 1)\n",
    "    e = numpy.exp(w - maxes)\n",
    "    dist = e / numpy.sum(e, axis=1)\n",
    "\n",
    "    return dist"
   ]
  },
  {
   "cell_type": "code",
   "execution_count": null,
   "metadata": {
    "collapsed": true
   },
   "outputs": [],
   "source": [
    "def softmax(w, t=1.0):\n",
    "    \"\"\"Calculate the softmax of a list of numbers w.\n",
    "\n",
    "    Parameters\n",
    "    ----------\n",
    "    w : list of numbers\n",
    "    t : float\n",
    "\n",
    "    Return\n",
    "    ------\n",
    "    a list of the same length as w of non-negative numbers\n",
    "\n",
    "    Examples\n",
    "    --------\n",
    "    >>> softmax([0.1, 0.2])\n",
    "    array([ 0.47502081,  0.52497919])\n",
    "    >>> softmax([-0.1, 0.2])\n",
    "    array([ 0.42555748,  0.57444252])\n",
    "    >>> softmax([0.9, -10])\n",
    "    array([  9.99981542e-01,   1.84578933e-05])\n",
    "    >>> softmax([0, 10])\n",
    "    array([  4.53978687e-05,   9.99954602e-01])\n",
    "    \"\"\"\n",
    "    e = numpy.exp(numpy.array(w) / t)\n",
    "    dist = e / numpy.sum(e)\n",
    "    return dist"
   ]
  },
  {
   "cell_type": "code",
   "execution_count": null,
   "metadata": {
    "collapsed": true
   },
   "outputs": [],
   "source": [
    "def softmax(w, t = 1.0):\n",
    "    e = np.exp(npa(w) / t)\n",
    "    dist = e / np.sum(e)\n",
    "    return dist\n",
    "\n",
    "def softmax_2(x):\n",
    "    e_x = np.exp(x - np.max(x))\n",
    "    out = e_x / e_x.sum()\n",
    "    return out"
   ]
  },
  {
   "cell_type": "code",
   "execution_count": 6,
   "metadata": {
    "collapsed": true
   },
   "outputs": [],
   "source": [
    "def softmax(w, t = 1.0):\n",
    "    e = np.exp(w, axes=0)\n",
    "    dist = e / np.sum(e)\n",
    "    return dict"
   ]
  },
  {
   "cell_type": "code",
   "execution_count": null,
   "metadata": {
    "collapsed": true
   },
   "outputs": [],
   "source": [
    "def softmax(w, t=1.0):\n",
    "    e = np.exp(w)\n",
    "    dist = e/np.sum(e, axis=0)\n",
    "    return dist "
   ]
  }
 ],
 "metadata": {
  "kernelspec": {
   "display_name": "Python 2",
   "language": "python",
   "name": "python2"
  },
  "language_info": {
   "codemirror_mode": {
    "name": "ipython",
    "version": 2
   },
   "file_extension": ".py",
   "mimetype": "text/x-python",
   "name": "python",
   "nbconvert_exporter": "python",
   "pygments_lexer": "ipython2",
   "version": "2.7.10"
  }
 },
 "nbformat": 4,
 "nbformat_minor": 0
}
