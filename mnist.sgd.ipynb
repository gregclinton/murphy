{
 "cells": [
  {
   "cell_type": "code",
   "execution_count": null,
   "metadata": {
    "collapsed": true
   },
   "outputs": [],
   "source": [
    "# https://www.youtube.com/watch?v=S75EdAcXHKk\n",
    "# https://github.com/Newmu/Theano-Tutorials"
   ]
  },
  {
   "cell_type": "code",
   "execution_count": null,
   "metadata": {
    "collapsed": false
   },
   "outputs": [],
   "source": [
    "from theano import tensor as T\n",
    "\n",
    "a = T.scalar()\n",
    "b = T.scalar()\n",
    "\n",
    "y = a * b\n",
    "\n",
    "multiply = theano.function(inputs=[a, b], outputs=y)\n",
    "\n",
    "print multiply(1, 2) #2\n",
    "print multiply(3, 3) #9"
   ]
  },
  {
   "cell_type": "code",
   "execution_count": null,
   "metadata": {
    "collapsed": false
   },
   "outputs": [],
   "source": [
    "import sgd\n",
    "reload(sgd)\n"
   ]
  },
  {
   "cell_type": "code",
   "execution_count": null,
   "metadata": {
    "collapsed": false
   },
   "outputs": [],
   "source": [
    "import theano\n",
    "from theano import tensor as T\n",
    "import numpy as np\n",
    "import datasets\n",
    "import nnet"
   ]
  },
  {
   "cell_type": "code",
   "execution_count": null,
   "metadata": {
    "collapsed": false
   },
   "outputs": [],
   "source": [
    "trX, teX, trY, teY = datasets.mnist()"
   ]
  },
  {
   "cell_type": "code",
   "execution_count": 56,
   "metadata": {
    "collapsed": false
   },
   "outputs": [],
   "source": [
    "X, Y = trX[:100], trY[:100]"
   ]
  },
  {
   "cell_type": "code",
   "execution_count": 64,
   "metadata": {
    "collapsed": false
   },
   "outputs": [],
   "source": [
    "reload(nnet)\n",
    "\n",
    "clf = nnet.Classifier()\n",
    "clf.fit(X, Y)"
   ]
  },
  {
   "cell_type": "code",
   "execution_count": 58,
   "metadata": {
    "collapsed": false
   },
   "outputs": [],
   "source": [
    "nnet.train([XX, YY], cost, updates, X, Y)"
   ]
  },
  {
   "cell_type": "code",
   "execution_count": 55,
   "metadata": {
    "collapsed": false
   },
   "outputs": [
    {
     "data": {
      "text/plain": [
       "array([[ -1.38630349e-02,  -2.12362835e-03,  -2.87259548e-03, ...,\n",
       "         -5.99911499e-04,   7.91358428e-03,   2.95557535e-05],\n",
       "       [ -1.60623063e-04,   1.03829644e-03,   3.89583756e-03, ...,\n",
       "          1.52923903e-02,   1.09703430e-02,   5.42618380e-03],\n",
       "       [ -5.14758527e-03,   1.73848470e-02,  -4.72003129e-03, ...,\n",
       "          3.81134016e-03,  -3.66881199e-03,   2.42989617e-03],\n",
       "       ..., \n",
       "       [ -2.81256754e-02,  -9.16786078e-03,  -1.57958281e-02, ...,\n",
       "          9.85571092e-05,   1.11471850e-02,  -6.20029808e-03],\n",
       "       [ -1.32934003e-02,  -1.94708149e-02,   1.22925179e-02, ...,\n",
       "         -2.01733552e-03,   1.21786021e-03,   1.09245821e-02],\n",
       "       [ -5.05488714e-03,  -1.11227051e-02,   6.68559221e-03, ...,\n",
       "         -9.01689187e-03,   1.06620207e-02,  -1.25892002e-02]])"
      ]
     },
     "execution_count": 55,
     "metadata": {},
     "output_type": "execute_result"
    }
   ],
   "source": [
    "w_h.get_value()"
   ]
  },
  {
   "cell_type": "code",
   "execution_count": null,
   "metadata": {
    "collapsed": false
   },
   "outputs": [],
   "source": [
    "nnet.train(X, Y, cost, updates, trX, teX, trY, teY)"
   ]
  }
 ],
 "metadata": {
  "anaconda-cloud": {},
  "kernelspec": {
   "display_name": "Python [default]",
   "language": "python",
   "name": "python2"
  },
  "language_info": {
   "codemirror_mode": {
    "name": "ipython",
    "version": 2
   },
   "file_extension": ".py",
   "mimetype": "text/x-python",
   "name": "python",
   "nbconvert_exporter": "python",
   "pygments_lexer": "ipython2",
   "version": "2.7.12"
  }
 },
 "nbformat": 4,
 "nbformat_minor": 0
}
