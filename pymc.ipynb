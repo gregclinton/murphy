{
 "cells": [
  {
   "cell_type": "code",
   "execution_count": 11,
   "metadata": {
    "collapsed": false
   },
   "outputs": [],
   "source": [
    "import numpy as np\n",
    "import pandas as pd\n",
    "import pymc3 as pm"
   ]
  },
  {
   "cell_type": "code",
   "execution_count": 58,
   "metadata": {
    "collapsed": false
   },
   "outputs": [
    {
     "name": "stderr",
     "output_type": "stream",
     "text": [
      "Applied log-transform to sigma and added transformed sigma_log_ to model.\n",
      "Assigned NUTS to alpha\n",
      "Assigned NUTS to beta\n",
      "Assigned NUTS to sigma_log_\n",
      "100%|██████████| 2000/2000 [00:04<00:00, 489.17it/s]\n"
     ]
    },
    {
     "data": {
      "text/plain": [
       "array([ 0.99959347,  0.99959347,  0.99143305,  0.99804502,  1.00746962])"
      ]
     },
     "execution_count": 58,
     "metadata": {},
     "output_type": "execute_result"
    }
   ],
   "source": [
    "alpha, sigma = 1, 1\n",
    "beta = [1, 2.5]\n",
    "N = 1000\n",
    "X1 = np.random.randn(N)\n",
    "X2 = np.random.randn(N) * 0.2\n",
    "Y = alpha + beta[0] * X1 + beta[1] * X2 + np.random.randn(N) * sigma\n",
    "\n",
    "with pm.Model() as model:\n",
    "    alpha = pm.Normal('alpha', mu = 0, sd = 10)\n",
    "    beta = pm.Normal('beta', mu = 0, sd = 10, shape = 2)\n",
    "    sigma = pm.HalfNormal('sigma', sd = 1)\n",
    "    mu = alpha + beta[0] * X1 + beta[1] * X2\n",
    "    Y_obs = pm.Normal('Y_obs', mu = mu, sd = sigma, observed = Y)\n",
    "    start = pm.find_MAP()\n",
    "    trace = pm.sample(2000, start = start)\n",
    "    \n",
    "trace['alpha'][:5]"
   ]
  },
  {
   "cell_type": "code",
   "execution_count": 63,
   "metadata": {
    "collapsed": false
   },
   "outputs": [
    {
     "name": "stderr",
     "output_type": "stream",
     "text": [
      "Applied log-transform to lambda_1 and added transformed lambda_1_log_ to model.\n",
      "Applied log-transform to lambda_2 and added transformed lambda_2_log_ to model.\n",
      "100%|██████████| 10000/10000 [00:03<00:00, 2951.94it/s]\n"
     ]
    }
   ],
   "source": [
    "# from\n",
    "# https://github.com/CamDavidsonPilon/Probabilistic-Programming-and-Bayesian-Methods-for-Hackers\n",
    "# /blob/master/Chapter1_Introduction/Ch1_Introduction_PyMC3.ipynb\n",
    "\n",
    "url = 'https://raw.githubusercontent.com/CamDavidsonPilon/'\n",
    "url += 'Probabilistic-Programming-and-Bayesian-Methods-for-Hackers/master/'\n",
    "url += 'Chapter1_Introduction/data/txtdata.csv'\n",
    "data = pd.read_table(url, header = None).iloc[:, 0].values\n",
    "N = len(data)\n",
    "alpha = 1.0 / data.mean()\n",
    "\n",
    "with pm.Model() as model:\n",
    "    lambda_1 = pm.Exponential('lambda_1', alpha)\n",
    "    lambda_2 = pm.Exponential('lambda_2', alpha)\n",
    "    tau = pm.DiscreteUniform('tau', lower = 0, upper = N)\n",
    "    idx = np.arange(N)\n",
    "    lambda_ = pm.math.switch(tau >= idx, lambda_1, lambda_2)\n",
    "    observation = pm.Poisson('obs', lambda_, observed = data)\n",
    "    step = pm.Metropolis()\n",
    "    trace = pm.sample(10000, tune = 5000, step = step)    "
   ]
  }
 ],
 "metadata": {
  "anaconda-cloud": {},
  "kernelspec": {
   "display_name": "Python [default]",
   "language": "python",
   "name": "python2"
  },
  "language_info": {
   "codemirror_mode": {
    "name": "ipython",
    "version": 2
   },
   "file_extension": ".py",
   "mimetype": "text/x-python",
   "name": "python",
   "nbconvert_exporter": "python",
   "pygments_lexer": "ipython2",
   "version": "2.7.12"
  }
 },
 "nbformat": 4,
 "nbformat_minor": 1
}
