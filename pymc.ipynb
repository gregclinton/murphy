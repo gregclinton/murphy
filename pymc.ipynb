{
 "cells": [
  {
   "cell_type": "code",
   "execution_count": 11,
   "metadata": {
    "collapsed": false
   },
   "outputs": [],
   "source": [
    "%matplotlib inline\n",
    "import matplotlib.pyplot as plt\n",
    "import numpy as np\n",
    "import pandas as pd\n",
    "import pymc3 as pm"
   ]
  },
  {
   "cell_type": "code",
   "execution_count": null,
   "metadata": {
    "collapsed": true
   },
   "outputs": [],
   "source": [
    "# https://gist.github.com/twiecki/14694749b5f85e89b246"
   ]
  },
  {
   "cell_type": "code",
   "execution_count": 58,
   "metadata": {
    "collapsed": false
   },
   "outputs": [
    {
     "name": "stderr",
     "output_type": "stream",
     "text": [
      "Applied log-transform to sigma and added transformed sigma_log_ to model.\n",
      "Assigned NUTS to alpha\n",
      "Assigned NUTS to beta\n",
      "Assigned NUTS to sigma_log_\n",
      "100%|██████████| 2000/2000 [00:04<00:00, 489.17it/s]\n"
     ]
    },
    {
     "data": {
      "text/plain": [
       "array([ 0.99959347,  0.99959347,  0.99143305,  0.99804502,  1.00746962])"
      ]
     },
     "execution_count": 58,
     "metadata": {},
     "output_type": "execute_result"
    }
   ],
   "source": [
    "alpha, sigma = 1, 1\n",
    "beta = [1, 2.5]\n",
    "N = 10000\n",
    "X1 = np.random.randn(N)\n",
    "X2 = np.random.randn(N) * 0.2\n",
    "Y = alpha + beta[0] * X1 + beta[1] * X2 + np.random.randn(N) * sigma\n",
    "\n",
    "with pm.Model() as model:\n",
    "    alpha = pm.Normal('alpha', mu = 0, sd = 10)\n",
    "    beta = pm.Normal('beta', mu = 0, sd = 10, shape = 2)\n",
    "    sigma = pm.HalfNormal('sigma', sd = 1)\n",
    "    mu = alpha + beta[0] * X1 + beta[1] * X2\n",
    "    Y_obs = pm.Normal('Y_obs', mu = mu, sd = sigma, observed = Y)\n",
    "    \n",
    "with model:\n",
    "    start = pm.find_MAP()\n",
    "    trace = pm.sample(2000, start = start)\n",
    "    \n",
    "trace['alpha'][:5]"
   ]
  },
  {
   "cell_type": "code",
   "execution_count": 60,
   "metadata": {
    "collapsed": false
   },
   "outputs": [
    {
     "name": "stderr",
     "output_type": "stream",
     "text": [
      "Applied log-transform to early_rate and added transformed early_rate_log_ to model.\n",
      "Applied log-transform to late_rate and added transformed late_rate_log_ to model.\n",
      "100%|██████████| 10000/10000 [00:10<00:00, 985.68it/s]\n"
     ]
    }
   ],
   "source": [
    "data = np.ma.masked_values([\n",
    "    4, 5, 4, 0, 1, 4, 3, 4, 0, 6, 3, 3, 4, 0, 2, 6,\n",
    "    3, 3, 5, 4, 5, 3, 1, 4, 4, 1, 5, 5, 3, 4, 2, 5,\n",
    "    2, 2, 3, 4, 2, 1, 3, -999, 2, 1, 1, 1, 1, 3, 0, 0,\n",
    "    1, 0, 1, 1, 0, 0, 3, 1, 0, 3, 2, 2, 0, 1, 1, 1,\n",
    "    0, 1, 0, 1, 0, 0, 0, 2, 1, 0, 0, 0, 1, 1, 0, 2,\n",
    "    3, 3, 1, -999, 2, 1, 1, 1, 1, 2, 4, 2, 0, 0, 1, 4,\n",
    "    0, 0, 0, 1, 0, 0, 0, 0, 0, 1, 0, 0, 1, 0, 1\n",
    "], value = -999)\n",
    "\n",
    "year = np.arange(1851, 1962)\n",
    "\n",
    "with Model() as model:\n",
    "    switchpoint = pm.DiscreteUniform('switchpoint', lower = year.min(), upper = year.max(), testval = 1900)\n",
    "    early_rate = pm.Exponential('early_rate', 1)\n",
    "    late_rate = pm.Exponential('late_rate', 1)\n",
    "    rate = pm.math.switch(switchpoint >= year, early_rate, late_rate)\n",
    "    disasters = pm.Poisson('disasters', rate, observed = data)\n",
    "    \n",
    "with model:\n",
    "    step1 = pm.NUTS([early_rate, late_rate])\n",
    "    step2 = pm.Metropolis([switchpoint, disasters.missing_values[0]])\n",
    "    trace = pm.sample(10000, step = [step1, step2])"
   ]
  },
  {
   "cell_type": "code",
   "execution_count": 61,
   "metadata": {
    "collapsed": false
   },
   "outputs": [
    {
     "name": "stderr",
     "output_type": "stream",
     "text": [
      "Applied log-transform to lambda_1 and added transformed lambda_1_log_ to model.\n",
      "Applied log-transform to lambda_2 and added transformed lambda_2_log_ to model.\n"
     ]
    }
   ],
   "source": [
    "# from\n",
    "# https://github.com/CamDavidsonPilon/Probabilistic-Programming-and-Bayesian-Methods-for-Hackers\n",
    "# /blob/master/Chapter1_Introduction/Ch1_Introduction_PyMC3.ipynb\n",
    "\n",
    "url = 'https://raw.githubusercontent.com/CamDavidsonPilon/'\n",
    "url += 'Probabilistic-Programming-and-Bayesian-Methods-for-Hackers/master/'\n",
    "url += 'Chapter1_Introduction/data/txtdata.csv'\n",
    "data = pd.read_table(url, header = None).iloc[:, 0].values\n",
    "N = len(data)\n",
    "alpha = 1.0 / data.mean()\n",
    "\n",
    "with pm.Model() as model:\n",
    "    lambda_1 = pm.Exponential('lambda_1', alpha)\n",
    "    lambda_2 = pm.Exponential('lambda_2', alpha)\n",
    "    tau = pm.DiscreteUniform('tau', lower = 0, upper = N)\n",
    "    \n",
    "with model:\n",
    "    idx = np.arange(N)\n",
    "    lambda_ = pm.math.switch(tau >= idx, lambda_1, lambda_2)    "
   ]
  }
 ],
 "metadata": {
  "anaconda-cloud": {},
  "kernelspec": {
   "display_name": "Python [default]",
   "language": "python",
   "name": "python2"
  },
  "language_info": {
   "codemirror_mode": {
    "name": "ipython",
    "version": 2
   },
   "file_extension": ".py",
   "mimetype": "text/x-python",
   "name": "python",
   "nbconvert_exporter": "python",
   "pygments_lexer": "ipython2",
   "version": "2.7.12"
  }
 },
 "nbformat": 4,
 "nbformat_minor": 1
}
