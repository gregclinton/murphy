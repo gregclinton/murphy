{
 "cells": [
  {
   "cell_type": "code",
   "execution_count": 4,
   "metadata": {
    "collapsed": true
   },
   "outputs": [],
   "source": [
    "import numpy as np\n",
    "from scipy import stats\n",
    "from numpy.linalg import inv"
   ]
  },
  {
   "cell_type": "code",
   "execution_count": 2,
   "metadata": {
    "collapsed": true
   },
   "outputs": [],
   "source": [
    "def rvs(mu, Sigma):\n",
    "    z = stats.norm.rvs(size = len(mu))\n",
    "    return mu + np.linalg.cholesky(Sigma).dot(z)\n",
    "\n",
    "def rvs(mu, Sigma):\n",
    "    # from stober https://gist.github.com/stober/4964727\n",
    "    # better numerical stability than choleskey for near-singular Sigma\n",
    "    z = stats.norm.rvs(size = len(mu))\n",
    "    [U, S, V] = np.linalg.svd(Sigma)\n",
    "    A = U * np.sqrt(S)\n",
    "    return mu + A.dot(z)\n",
    "\n",
    "mvn = stats.multivariate_normal"
   ]
  },
  {
   "cell_type": "code",
   "execution_count": null,
   "metadata": {
    "collapsed": true
   },
   "outputs": [],
   "source": [
    "def marginal(mu, Sigma, i):\n",
    "    mu = np.array(mu)[i]\n",
    "    Sigma = np.array(Sigma)[i, i]\n",
    "    return mvn(mu, Sigma)"
   ]
  },
  {
   "cell_type": "code",
   "execution_count": 75,
   "metadata": {
    "collapsed": true
   },
   "outputs": [],
   "source": [
    "def conditional(mu, Sigma, x):\n",
    "    mu = np.array(mu)\n",
    "    Sigma = np.array(Sigma)\n",
    "    unobserved = np.isnan(x)\n",
    "    observed = np.logical_not(unobserved)\n",
    "    mu1 = mu[unobserved]\n",
    "    mu2 = mu[observed]\n",
    "    x2 = np.array(x)[observed]\n",
    "    invSigma22 = inv(Sigma[np.ix_(observed, observed)])\n",
    "    Sigma11 = Sigma[np.ix_(unobserved, unobserved)]\n",
    "    Sigma12 = Sigma[np.ix_(unobserved, observed)]\n",
    "    Sigma21 = Sigma12.T\n",
    "    mu = mu1 + Sigma12.dot(invSigma22).dot(x2 - mu2)\n",
    "    Sigma = Sigma11 - Sigma12.dot(invSigma22).dot(Sigma21)\n",
    "    return mvn(mu, Sigma)"
   ]
  },
  {
   "cell_type": "code",
   "execution_count": 76,
   "metadata": {
    "collapsed": true
   },
   "outputs": [],
   "source": [
    "# informational form, gives same results as above!\n",
    "\n",
    "def conditional(mu, Sigma, x):\n",
    "    mu = np.array(mu)\n",
    "    Sigma = np.array(Sigma)\n",
    "    Lambda = inv(Sigma)\n",
    "    Epsilon = Lambda.dot(mu)\n",
    "    \n",
    "    unobserved = np.isnan(x)\n",
    "    observed = np.logical_not(unobserved)\n",
    "    mu1 = mu[unobserved]\n",
    "    mu2 = mu[observed]\n",
    "    x2 = np.array(x)[observed]\n",
    "    \n",
    "    Epsilon1 = Epsilon[unobserved]\n",
    "    Lambda12 = Lambda[np.ix_(unobserved, observed)]\n",
    "    Epsilon = Epsilon1 - Lambda12.dot(x2) \n",
    "    Lambda = Lambda[np.ix_(unobserved, unobserved)]\n",
    "        \n",
    "    Sigma = inv(Lambda)\n",
    "    mu = Sigma.dot(Epsilon)\n",
    "    return mvn(mu, Sigma)"
   ]
  },
  {
   "cell_type": "code",
   "execution_count": 81,
   "metadata": {
    "collapsed": false
   },
   "outputs": [
    {
     "data": {
      "text/plain": [
       "array([ 5.32316305, -2.20281182])"
      ]
     },
     "execution_count": 81,
     "metadata": {},
     "output_type": "execute_result"
    }
   ],
   "source": [
    "mu = [3, 4, 5, 2]\n",
    "Sigma = [\n",
    "    [1,   0.5, 0.5, 0.5], \n",
    "    [0.5,  18, 0.5, 0.5], \n",
    "    [0.5, 0.5,  23, 0.5], \n",
    "    [0.5, 0.5, 0.5, 5]\n",
    "]\n",
    "x = [2, np.nan, np.nan, 2]\n",
    "\n",
    "conditional(mu, Sigma, x).rvs()"
   ]
  }
 ],
 "metadata": {
  "kernelspec": {
   "display_name": "Python 2",
   "language": "python",
   "name": "python2"
  },
  "language_info": {
   "codemirror_mode": {
    "name": "ipython",
    "version": 2
   },
   "file_extension": ".py",
   "mimetype": "text/x-python",
   "name": "python",
   "nbconvert_exporter": "python",
   "pygments_lexer": "ipython2",
   "version": "2.7.10"
  }
 },
 "nbformat": 4,
 "nbformat_minor": 0
}
