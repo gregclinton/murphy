{
 "cells": [
  {
   "cell_type": "code",
   "execution_count": 1,
   "metadata": {
    "collapsed": true
   },
   "outputs": [],
   "source": [
    "import numpy as np\n",
    "from scipy import stats"
   ]
  },
  {
   "cell_type": "code",
   "execution_count": 2,
   "metadata": {
    "collapsed": true
   },
   "outputs": [],
   "source": [
    "def rvs(mu, Sigma):\n",
    "    z = stats.norm.rvs(size = len(mu))\n",
    "    return mu + np.linalg.cholesky(Sigma).dot(z)\n",
    "\n",
    "def rvs(mu, Sigma):\n",
    "    # from stober https://gist.github.com/stober/4964727\n",
    "    # better numerical stability than choleskey for near-singular Sigma\n",
    "    z = stats.norm.rvs(size = len(mu))\n",
    "    [U, S, V] = np.linalg.svd(Sigma)\n",
    "    A = U * np.sqrt(S)\n",
    "    return mu + A.dot(z)\n",
    "\n",
    "mvn = stats.multivariate_normal"
   ]
  }
 ],
 "metadata": {
  "kernelspec": {
   "display_name": "Python 2",
   "language": "python",
   "name": "python2"
  },
  "language_info": {
   "codemirror_mode": {
    "name": "ipython",
    "version": 2
   },
   "file_extension": ".py",
   "mimetype": "text/x-python",
   "name": "python",
   "nbconvert_exporter": "python",
   "pygments_lexer": "ipython2",
   "version": "2.7.9"
  }
 },
 "nbformat": 4,
 "nbformat_minor": 0
}
