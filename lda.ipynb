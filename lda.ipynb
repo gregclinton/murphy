{
 "cells": [
  {
   "cell_type": "code",
   "execution_count": 1,
   "metadata": {
    "collapsed": true
   },
   "outputs": [],
   "source": [
    "import numpy as np\n",
    "from numpy.linalg import inv\n",
    "from sklearn import lda\n",
    "import htwt"
   ]
  },
  {
   "cell_type": "code",
   "execution_count": 2,
   "metadata": {
    "collapsed": true
   },
   "outputs": [],
   "source": [
    "X, y = htwt.get()"
   ]
  },
  {
   "cell_type": "code",
   "execution_count": 17,
   "metadata": {
    "collapsed": true
   },
   "outputs": [],
   "source": [
    "def fit(X, y):\n",
    "    cs = np.unique(y)\n",
    "    Betas = []\n",
    "    gammas = []\n",
    "    Sigma = np.cov(X, rowvar = False)\n",
    "    InvSigma = inv(Sigma)\n",
    "\n",
    "    for c in cs:\n",
    "        i = y == c\n",
    "        prior = np.mean(i)\n",
    "        mean = np.mean(X[i], axis = 0)\n",
    "        gammas.append(-mean.dot(InvSigma).dot(mean) / 2.0 + np.log(prior))\n",
    "        Betas.append(InvSigma.dot(mean))\n",
    "        \n",
    "    return cs, Betas, gammas\n",
    "\n",
    "def predict(model, X):\n",
    "    cs, Betas, gammas = model\n",
    "    p = []\n",
    "        \n",
    "    for i in range(len(cs)):\n",
    "        p.append(X.dot(Betas[i]) + gammas[i])\n",
    "    return cs[np.argmax(p, axis = 0)]"
   ]
  },
  {
   "cell_type": "code",
   "execution_count": 18,
   "metadata": {
    "collapsed": false
   },
   "outputs": [
    {
     "data": {
      "text/plain": [
       "0.87142857142857144"
      ]
     },
     "execution_count": 18,
     "metadata": {},
     "output_type": "execute_result"
    }
   ],
   "source": [
    "model = fit(X, y)\n",
    "np.mean(predict(model, X) == y)"
   ]
  },
  {
   "cell_type": "code",
   "execution_count": 10,
   "metadata": {
    "collapsed": false
   },
   "outputs": [
    {
     "data": {
      "text/plain": [
       "0.88095238095238093"
      ]
     },
     "execution_count": 10,
     "metadata": {},
     "output_type": "execute_result"
    }
   ],
   "source": [
    "clf = lda.LDA()\n",
    "model = clf.fit(X, y)\n",
    "np.mean(clf.predict(X) == y)"
   ]
  }
 ],
 "metadata": {
  "kernelspec": {
   "display_name": "Python 2",
   "language": "python",
   "name": "python2"
  },
  "language_info": {
   "codemirror_mode": {
    "name": "ipython",
    "version": 2
   },
   "file_extension": ".py",
   "mimetype": "text/x-python",
   "name": "python",
   "nbconvert_exporter": "python",
   "pygments_lexer": "ipython2",
   "version": "2.7.10"
  }
 },
 "nbformat": 4,
 "nbformat_minor": 0
}
