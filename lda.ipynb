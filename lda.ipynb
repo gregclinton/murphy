{
 "cells": [
  {
   "cell_type": "code",
   "execution_count": 3,
   "metadata": {
    "collapsed": true
   },
   "outputs": [],
   "source": [
    "import numpy as np\n",
    "from numpy.linalg import inv\n",
    "from sklearn import lda\n",
    "import htwt"
   ]
  },
  {
   "cell_type": "code",
   "execution_count": 4,
   "metadata": {
    "collapsed": true
   },
   "outputs": [],
   "source": [
    "X, y = htwt.get()"
   ]
  },
  {
   "cell_type": "code",
   "execution_count": 8,
   "metadata": {
    "collapsed": true
   },
   "outputs": [],
   "source": [
    "def fit(X, y):\n",
    "    Sigma = np.cov(X, rowvar = False)\n",
    "    InvSigma = inv(Sigma)\n",
    "\n",
    "    def theta(c):\n",
    "        i = y == c\n",
    "        prior = np.mean(i)\n",
    "        mean = np.mean(X[i], axis = 0)\n",
    "        gamma = -mean.dot(InvSigma).dot(mean) / 2.0 + np.log(prior)\n",
    "        Beta = InvSigma.dot(mean)\n",
    "        return c, gamma, Beta\n",
    "\n",
    "    return [theta(c) for c in np.unique(y)]\n",
    "\n",
    "def predict(model, X):\n",
    "    p = []\n",
    "    cs = []\n",
    "        \n",
    "    for theta in model:\n",
    "        c, gamma, Beta = theta\n",
    "        cs.append(c)\n",
    "        p.append(X.dot(Beta) + gamma)\n",
    "    return np.array([cs[i] for i in np.argmax(p, axis = 0)])"
   ]
  },
  {
   "cell_type": "code",
   "execution_count": 9,
   "metadata": {
    "collapsed": false
   },
   "outputs": [
    {
     "data": {
      "text/plain": [
       "0.87142857142857144"
      ]
     },
     "execution_count": 9,
     "metadata": {},
     "output_type": "execute_result"
    }
   ],
   "source": [
    "model = fit(X, y)\n",
    "np.mean(predict(model, X) == y)"
   ]
  },
  {
   "cell_type": "code",
   "execution_count": 10,
   "metadata": {
    "collapsed": false
   },
   "outputs": [
    {
     "data": {
      "text/plain": [
       "0.88095238095238093"
      ]
     },
     "execution_count": 10,
     "metadata": {},
     "output_type": "execute_result"
    }
   ],
   "source": [
    "clf = lda.LDA()\n",
    "model = clf.fit(X, y)\n",
    "np.mean(clf.predict(X) == y)"
   ]
  }
 ],
 "metadata": {
  "kernelspec": {
   "display_name": "Python 2",
   "language": "python",
   "name": "python2"
  },
  "language_info": {
   "codemirror_mode": {
    "name": "ipython",
    "version": 2
   },
   "file_extension": ".py",
   "mimetype": "text/x-python",
   "name": "python",
   "nbconvert_exporter": "python",
   "pygments_lexer": "ipython2",
   "version": "2.7.9"
  }
 },
 "nbformat": 4,
 "nbformat_minor": 0
}
