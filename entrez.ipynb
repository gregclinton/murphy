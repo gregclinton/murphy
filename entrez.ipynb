{
 "cells": [
  {
   "cell_type": "code",
   "execution_count": 2,
   "metadata": {
    "collapsed": true
   },
   "outputs": [],
   "source": [
    "# sudo -H anaconda/bin/pip install biopython\n",
    "\n",
    "from Bio import Entrez"
   ]
  },
  {
   "cell_type": "code",
   "execution_count": null,
   "metadata": {
    "collapsed": true
   },
   "outputs": [],
   "source": [
    "Entrez.email = 'greg.clinton@gmail.com'"
   ]
  },
  {
   "cell_type": "code",
   "execution_count": 16,
   "metadata": {
    "collapsed": false
   },
   "outputs": [
    {
     "data": {
      "text/plain": [
       "['19737447', '26118297', '24019622', '24019231', '24018806', '24571736']"
      ]
     },
     "execution_count": 16,
     "metadata": {},
     "output_type": "execute_result"
    }
   ],
   "source": [
    "record = Entrez.read(Entrez.esearch(db = 'gene', term = 'Cypripedioideae[Orgn] AND matK[Gene]'))\n",
    "record['IdList']"
   ]
  },
  {
   "cell_type": "code",
   "execution_count": 21,
   "metadata": {
    "collapsed": false
   },
   "outputs": [],
   "source": [
    "record = Entrez.read(Entrez.efetch(db = 'gene', id = '19737447', retmode = 'xml'))"
   ]
  },
  {
   "cell_type": "code",
   "execution_count": 6,
   "metadata": {
    "collapsed": false
   },
   "outputs": [
    {
     "data": {
      "text/plain": [
       "['pubmed', 'protein', 'nuccore', 'nucleotide', 'nucgss', 'nucest', 'structure', 'genome', 'annotinfo', 'assembly', 'bioproject', 'biosample', 'blastdbinfo', 'books', 'cdd', 'clinvar', 'clone', 'gap', 'gapplus', 'grasp', 'dbvar', 'gene', 'gds', 'geoprofiles', 'homologene', 'medgen', 'mesh', 'ncbisearch', 'nlmcatalog', 'omim', 'orgtrack', 'pmc', 'popset', 'probe', 'proteinclusters', 'pcassay', 'biosystems', 'pccompound', 'pcsubstance', 'pubmedhealth', 'seqannot', 'snp', 'sra', 'taxonomy', 'unigene', 'gencoll', 'gtr']"
      ]
     },
     "execution_count": 6,
     "metadata": {},
     "output_type": "execute_result"
    }
   ],
   "source": [
    "Entrez.read(Entrez.einfo())['DbList']"
   ]
  },
  {
   "cell_type": "code",
   "execution_count": 8,
   "metadata": {
    "collapsed": false
   },
   "outputs": [
    {
     "name": "stdout",
     "output_type": "stream",
     "text": [
      "pubmed 21\n",
      "pmc 644\n",
      "books 2\n",
      "pubmedhealth 2\n",
      "gds 16\n"
     ]
    }
   ],
   "source": [
    "record = Entrez.read(Entrez.egquery(term = 'biopython'))\n",
    "\n",
    "for row in record['eGQueryResult']:\n",
    "    if int(row['Count']) > 0:\n",
    "        print row['DbName'], row['Count']"
   ]
  },
  {
   "cell_type": "code",
   "execution_count": 11,
   "metadata": {
    "collapsed": false
   },
   "outputs": [
    {
     "name": "stdout",
     "output_type": "stream",
     "text": [
      "ALL, All Fields, All terms from all searchable fields\n",
      "UID, UID, Unique number assigned to a gene record\n",
      "FILT, Filter, Limits the records\n",
      "TITL, Gene/Protein Name, gene or protein name\n",
      "WORD, Text Word, Free text associated with record\n",
      "ORGN, Organism, scientific and common names of organism\n",
      "MDAT, Modification Date, The last date on which the record was updated\n",
      "CHR, Chromosome, Chromosome number or numbers; also 'mitochondrial', 'unknown' properties\n",
      "MV, Default Map Location, Chromosomal map location as displayed in MapViewer\n",
      "GENE, Gene Name, Symbol or symbols of the gene\n",
      "ECNO, EC/RN Number, EC number for enzyme or CAS registry number\n",
      "MIM, MIM ID, MIM number from OMIM\n",
      "DIS, Disease/Phenotype, Name(s) of diseases associated with this gene. When available, OMIM name will be used\n",
      "ACCN, Nucleotide/Protein Accession, Nucleotide or protein accession(s) associated with this gene\n",
      "UGEN, UniGene Cluster Number, UniGene cluster number for this gene\n",
      "PROP, Properties, Properties of Gene record\n",
      "CDAT, Creation Date, The date on which this record first appeared\n",
      "NCAC, Nucleotide Accession, nucleotide accessions of sequences\n",
      "NUID, Nucleotide UID, nucleotide uids of sequences\n",
      "PACC, Protein Accession, protein accessions\n",
      "PUID, Protein UID, protein uids\n",
      "PMID, PubMed ID, PubMed ids of accessions linked to the record\n",
      "TID, Taxonomy ID, taxonomy id\n",
      "GO, Gene Ontology, Gene Ontology\n",
      "DOM, Domain Name, Domain Name\n",
      "DDAT, Date Discontinued, The date on which the record was discontinued\n",
      "CPOS, Base Position, Chromosome base position\n",
      "GFN, Gene Full Name, Gene full name\n",
      "PFN, Protein Full Name, Protein full name\n",
      "GL, Gene Length, Gene length\n",
      "XC, Exon Count, Exon count\n",
      "GRP, Group, Relationships for this gene\n",
      "PREF, Preferred Symbol, Preferred symbol of the gene\n",
      "AACC, Assembly Accession, Assembly accession\n",
      "ASM, Assembly Name, Assembly name\n"
     ]
    }
   ],
   "source": [
    "record = Entrez.read(Entrez.einfo(db = 'gene'))\n",
    "\n",
    "for field in record['DbInfo']['FieldList']:\n",
    "    print '%(Name)s, %(FullName)s, %(Description)s' % field"
   ]
  }
 ],
 "metadata": {
  "kernelspec": {
   "display_name": "Python 2",
   "language": "python",
   "name": "python2"
  },
  "language_info": {
   "codemirror_mode": {
    "name": "ipython",
    "version": 2
   },
   "file_extension": ".py",
   "mimetype": "text/x-python",
   "name": "python",
   "nbconvert_exporter": "python",
   "pygments_lexer": "ipython2",
   "version": "2.7.10"
  }
 },
 "nbformat": 4,
 "nbformat_minor": 0
}
