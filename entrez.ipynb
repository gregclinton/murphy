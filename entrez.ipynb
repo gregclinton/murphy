{
 "cells": [
  {
   "cell_type": "code",
   "execution_count": 66,
   "metadata": {
    "collapsed": true
   },
   "outputs": [],
   "source": [
    "# sudo -H anaconda/bin/pip install biopython\n",
    "\n",
    "from Bio import Entrez\n",
    "from Bio import SeqIO"
   ]
  },
  {
   "cell_type": "code",
   "execution_count": 43,
   "metadata": {
    "collapsed": true
   },
   "outputs": [],
   "source": [
    "Entrez.email = 'greg.clinton@gmail.com'"
   ]
  },
  {
   "cell_type": "code",
   "execution_count": null,
   "metadata": {
    "collapsed": true
   },
   "outputs": [],
   "source": [
    "# How many genes does e. coli have? What are their names?\n",
    "# How many species under homo?\n",
    "# sra vs nucleotide, gene, ref_seq"
   ]
  },
  {
   "cell_type": "code",
   "execution_count": 67,
   "metadata": {
    "collapsed": false
   },
   "outputs": [],
   "source": [
    "record = Entrez.read(Entrez.esearch(db = 'nuccore', term = 'e coli[Orgn]'))\n",
    "ids = ','.join(record['IdList'][:5])\n",
    "handle = Entrez.efetch(db = 'nuccore', id = ids, rettype = 'gb', retmode = 'text')\n",
    "records = SeqIO.parse(handle, 'gb')"
   ]
  },
  {
   "cell_type": "code",
   "execution_count": 68,
   "metadata": {
    "collapsed": false
   },
   "outputs": [
    {
     "name": "stdout",
     "output_type": "stream",
     "text": [
      "AH004803\n",
      "NZ_LXFJ01000000\n",
      "NZ_LXFJ01000211\n",
      "NZ_LXFJ01000210\n",
      "NZ_LXFJ01000209\n"
     ]
    }
   ],
   "source": [
    "for record in records:\n",
    "    print record.name"
   ]
  }
 ],
 "metadata": {
  "kernelspec": {
   "display_name": "Python 2",
   "language": "python",
   "name": "python2"
  },
  "language_info": {
   "codemirror_mode": {
    "name": "ipython",
    "version": 2
   },
   "file_extension": ".py",
   "mimetype": "text/x-python",
   "name": "python",
   "nbconvert_exporter": "python",
   "pygments_lexer": "ipython2",
   "version": "2.7.10"
  }
 },
 "nbformat": 4,
 "nbformat_minor": 0
}
