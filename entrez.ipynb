{
 "cells": [
  {
   "cell_type": "code",
   "execution_count": null,
   "metadata": {
    "collapsed": false
   },
   "outputs": [],
   "source": [
    "# sudo -H anaconda/bin/pip install biopython\n",
    "\n",
    "from Bio import Entrez\n",
    "from Bio import SeqIO"
   ]
  },
  {
   "cell_type": "code",
   "execution_count": null,
   "metadata": {
    "collapsed": false
   },
   "outputs": [],
   "source": [
    "Entrez.email = 'greg.clinton@gmail.com'"
   ]
  },
  {
   "cell_type": "code",
   "execution_count": null,
   "metadata": {
    "collapsed": true
   },
   "outputs": [],
   "source": [
    "# http://www.ncbi.nlm.nih.gov/Sitemap/samplerecord.html\n",
    "\n",
    "# How many genes does e. coli have? What are their names?\n",
    "# How many species under homo?\n",
    "# sra vs nucleotide, gene, ref_seq"
   ]
  },
  {
   "cell_type": "code",
   "execution_count": 3,
   "metadata": {
    "collapsed": true
   },
   "outputs": [],
   "source": [
    "q = 'human[porg] AND tp53[gene] AND biomol_rna[prop] AND srcdb_refseq[prop]' \n",
    "db = 'nuccore'"
   ]
  },
  {
   "cell_type": "code",
   "execution_count": null,
   "metadata": {
    "collapsed": false
   },
   "outputs": [],
   "source": [
    "q = 'human[porg] AND tp53[gene] AND biomol_rna[prop] AND srcdb_refseq[prop]' \n",
    "record = Entrez.read(Entrez.esearch(db = dv, term = q))\n",
    "ids = ','.join(record['IdList'][:5])\n",
    "handle = Entrez.efetch(db = 'nuccore', id = ids, rettype = 'gb', retmode = 'text')\n",
    "records = SeqIO.parse(handle, 'gb')"
   ]
  },
  {
   "cell_type": "code",
   "execution_count": null,
   "metadata": {
    "collapsed": false
   },
   "outputs": [],
   "source": [
    "for record in records:\n",
    "    print record.name"
   ]
  },
  {
   "cell_type": "code",
   "execution_count": 113,
   "metadata": {
    "collapsed": false
   },
   "outputs": [],
   "source": [
    "import requests\n",
    "from lxml import etree\n",
    "\n",
    "email = 'greg.clinton@gmail.com'\n",
    "\n",
    "def entrez(cgi, path):\n",
    "    url = 'https://eutils.ncbi.nlm.nih.gov/entrez/eutils/'\n",
    "    url += cgi + '.fcgi?'\n",
    "    url += '' if path == None else ('%s&' % path) \n",
    "    url += 'tool=entrez&email=' + email\n",
    "    encoding = 'utf-8'\n",
    "    xml = requests.get(url).text.encode(encoding)\n",
    "    parser = etree.XMLParser(encoding = encoding)\n",
    "    return etree.fromstring(xml, parser = parser)\n",
    "\n",
    "def esearch(db, term):\n",
    "    return entrez('esearch', 'db=%s&term=%s' % (db, term))\n",
    "\n",
    "class Db: pass\n",
    "class Field: pass\n",
    "\n",
    "def einfo(db = None):\n",
    "    root = entrez('einfo', '' if db == None else 'version=2.0&db=%s' % db)[0]\n",
    "    if db == None:\n",
    "        return [e.text for e in root]\n",
    "    else:\n",
    "        res = Db()\n",
    "        \n",
    "        for e in root:\n",
    "            if e.tag == 'FieldList':\n",
    "                fields = []\n",
    "                for field in e:\n",
    "                    info = Field()\n",
    "                    for x in field:\n",
    "                        setattr(info, x.tag, x.text)\n",
    "                    fields.append(info)\n",
    "                setattr(res, e.tag, fields)\n",
    "            else:\n",
    "                setattr(res, e.tag, e.text)\n",
    "        return res\n",
    "        \n",
    "def databases():\n",
    "    return einfo()\n",
    "\n",
    "def fields(db):\n",
    "    return einfo(db).FieldList"
   ]
  }
 ],
 "metadata": {
  "kernelspec": {
   "display_name": "Python 2",
   "language": "python",
   "name": "python2"
  },
  "language_info": {
   "codemirror_mode": {
    "name": "ipython",
    "version": 2
   },
   "file_extension": ".py",
   "mimetype": "text/x-python",
   "name": "python",
   "nbconvert_exporter": "python",
   "pygments_lexer": "ipython2",
   "version": "2.7.9"
  }
 },
 "nbformat": 4,
 "nbformat_minor": 0
}
