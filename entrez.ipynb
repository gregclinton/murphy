{
 "cells": [
  {
   "cell_type": "code",
   "execution_count": null,
   "metadata": {
    "collapsed": false
   },
   "outputs": [],
   "source": [
    "# sudo -H anaconda/bin/pip install biopython\n",
    "\n",
    "from Bio import Entrez\n",
    "from Bio import SeqIO"
   ]
  },
  {
   "cell_type": "code",
   "execution_count": null,
   "metadata": {
    "collapsed": false
   },
   "outputs": [],
   "source": [
    "Entrez.email = 'greg.clinton@gmail.com'"
   ]
  },
  {
   "cell_type": "code",
   "execution_count": null,
   "metadata": {
    "collapsed": true
   },
   "outputs": [],
   "source": [
    "# http://www.ncbi.nlm.nih.gov/Sitemap/samplerecord.html\n",
    "\n",
    "# How many genes does e. coli have? What are their names?\n",
    "# How many species under homo?\n",
    "# sra vs nucleotide, gene, ref_seq"
   ]
  },
  {
   "cell_type": "code",
   "execution_count": 3,
   "metadata": {
    "collapsed": true
   },
   "outputs": [],
   "source": [
    "q = 'human[porg] AND tp53[gene] AND biomol_rna[prop] AND srcdb_refseq[prop]' \n",
    "db = 'nuccore'"
   ]
  },
  {
   "cell_type": "code",
   "execution_count": null,
   "metadata": {
    "collapsed": false
   },
   "outputs": [],
   "source": [
    "q = 'human[porg] AND tp53[gene] AND biomol_rna[prop] AND srcdb_refseq[prop]' \n",
    "record = Entrez.read(Entrez.esearch(db = dv, term = q))\n",
    "ids = ','.join(record['IdList'][:5])\n",
    "handle = Entrez.efetch(db = 'nuccore', id = ids, rettype = 'gb', retmode = 'text')\n",
    "records = SeqIO.parse(handle, 'gb')"
   ]
  },
  {
   "cell_type": "code",
   "execution_count": null,
   "metadata": {
    "collapsed": false
   },
   "outputs": [],
   "source": [
    "for record in records:\n",
    "    print record.name"
   ]
  },
  {
   "cell_type": "code",
   "execution_count": 2,
   "metadata": {
    "collapsed": true
   },
   "outputs": [],
   "source": [
    "import requests"
   ]
  },
  {
   "cell_type": "code",
   "execution_count": 6,
   "metadata": {
    "collapsed": false
   },
   "outputs": [
    {
     "data": {
      "text/plain": [
       "u'<?xml version=\"1.0\" encoding=\"UTF-8\" ?>\\n<!DOCTYPE eSearchResult PUBLIC \"-//NLM//DTD esearch 20060628//EN\" \"https://eutils.ncbi.nlm.nih.gov/eutils/dtd/20060628/esearch.dtd\">\\n<eSearchResult><Count>23</Count><RetMax>20</RetMax><RetStart>0</RetStart><IdList>\\n<Id>213972635</Id>\\n<Id>213972633</Id>\\n<Id>213972632</Id>\\n<Id>454545706</Id>\\n<Id>454543596</Id>\\n<Id>371502116</Id>\\n<Id>187830908</Id>\\n<Id>1034591716</Id>\\n<Id>1034591715</Id>\\n<Id>1034591714</Id>\\n<Id>767985196</Id>\\n<Id>767985191</Id>\\n<Id>371502114</Id>\\n<Id>454545206</Id>\\n<Id>454544714</Id>\\n<Id>454544285</Id>\\n<Id>454521556</Id>\\n<Id>454520872</Id>\\n<Id>371502118</Id>\\n<Id>371502117</Id>\\n</IdList><TranslationSet/><TranslationStack>   <TermSet>    <Term>human[porg]</Term>    <Field>porg</Field>    <Count>13804637</Count>    <Explode>Y</Explode>   </TermSet>   <TermSet>    <Term>tp53[gene]</Term>    <Field>gene</Field>    <Count>1892</Count>    <Explode>N</Explode>   </TermSet>   <OP>AND</OP>   <TermSet>    <Term>biomol_rna[prop]</Term>    <Field>prop</Field>    <Count>90455425</Count>    <Explode>N</Explode>   </TermSet>   <OP>AND</OP>   <TermSet>    <Term>srcdb_refseq[prop]</Term>    <Field>prop</Field>    <Count>36468339</Count>    <Explode>N</Explode>   </TermSet>   <OP>AND</OP>  </TranslationStack><QueryTranslation>human[porg] AND tp53[gene] AND biomol_rna[prop] AND srcdb_refseq[prop]</QueryTranslation></eSearchResult>\\n'"
      ]
     },
     "execution_count": 6,
     "metadata": {},
     "output_type": "execute_result"
    }
   ],
   "source": [
    "email = 'greg.clinton@gmail.com'\n",
    "base_url = 'https://eutils.ncbi.nlm.nih.gov/entrez/eutils/'\n",
    "url = base_url + 'esearch.fcgi?db=%s&term=%s'\n",
    "url += '&tool=entrez&email=' + email\n",
    "\n",
    "requests.get(url % (db, q)).text"
   ]
  }
 ],
 "metadata": {
  "kernelspec": {
   "display_name": "Python 2",
   "language": "python",
   "name": "python2"
  },
  "language_info": {
   "codemirror_mode": {
    "name": "ipython",
    "version": 2
   },
   "file_extension": ".py",
   "mimetype": "text/x-python",
   "name": "python",
   "nbconvert_exporter": "python",
   "pygments_lexer": "ipython2",
   "version": "2.7.9"
  }
 },
 "nbformat": 4,
 "nbformat_minor": 0
}
