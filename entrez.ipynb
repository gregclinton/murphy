{
 "cells": [
  {
   "cell_type": "code",
   "execution_count": 2,
   "metadata": {
    "collapsed": true
   },
   "outputs": [],
   "source": [
    "# sudo -H anaconda/bin/pip install biopytho\n",
    "\n",
    "from Bio import Entrez\n",
    "\n",
    "Entrez.email = 'greg.clinton@gmail.com'"
   ]
  },
  {
   "cell_type": "code",
   "execution_count": 4,
   "metadata": {
    "collapsed": false
   },
   "outputs": [
    {
     "name": "stdout",
     "output_type": "stream",
     "text": [
      "True\n"
     ]
    }
   ],
   "source": [
    "handle = Entrez.egquery(term = 'biopython')\n",
    "record = Entrez.read(handle)\n",
    "handle.close()\n",
    "\n",
    "for row in record['eGQueryResult']:\n",
    "    if \"pmc\" in row['DbName']:\n",
    "        print(row['Count'] > 60)"
   ]
  }
 ],
 "metadata": {
  "kernelspec": {
   "display_name": "Python 2",
   "language": "python",
   "name": "python2"
  },
  "language_info": {
   "codemirror_mode": {
    "name": "ipython",
    "version": 2
   },
   "file_extension": ".py",
   "mimetype": "text/x-python",
   "name": "python",
   "nbconvert_exporter": "python",
   "pygments_lexer": "ipython2",
   "version": "2.7.10"
  }
 },
 "nbformat": 4,
 "nbformat_minor": 0
}
