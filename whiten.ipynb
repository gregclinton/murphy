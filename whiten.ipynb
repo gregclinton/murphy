{
 "cells": [
  {
   "cell_type": "code",
   "execution_count": 239,
   "metadata": {
    "collapsed": false
   },
   "outputs": [],
   "source": [
    "import numpy as np\n",
    "from numpy.linalg import eigh, inv, svd\n",
    "from sklearn.preprocessing import scale\n",
    "import datasets"
   ]
  },
  {
   "cell_type": "code",
   "execution_count": 240,
   "metadata": {
    "collapsed": true
   },
   "outputs": [],
   "source": [
    "X, _ = datasets.htwt()"
   ]
  },
  {
   "cell_type": "code",
   "execution_count": 282,
   "metadata": {
    "collapsed": false
   },
   "outputs": [
    {
     "data": {
      "text/plain": [
       "array([[  9.95238270e-01,   5.37491230e-09],\n",
       "       [  5.37491230e-09,   9.95238075e-01]])"
      ]
     },
     "execution_count": 282,
     "metadata": {},
     "output_type": "execute_result"
    }
   ],
   "source": [
    "def whiten(X):\n",
    "    X = scale(X)\n",
    "    C = X.T.dot(X) / (len(X) - 1.0)\n",
    "    d, V = eigh(C)\n",
    "    return X.dot(V.dot(inv(np.sqrt(np.diag(d)))))\n",
    "\n",
    "np.cov(whiten(X), ddof = 0, rowvar = False)"
   ]
  },
  {
   "cell_type": "code",
   "execution_count": 281,
   "metadata": {
    "collapsed": false
   },
   "outputs": [
    {
     "data": {
      "text/plain": [
       "array([[  9.95238331e-01,  -8.81165237e-09],\n",
       "       [ -8.81165237e-09,   9.95237894e-01]])"
      ]
     },
     "execution_count": 281,
     "metadata": {},
     "output_type": "execute_result"
    }
   ],
   "source": [
    "def whiten(X):\n",
    "    X = scale(X)\n",
    "    _, s, Vt = svd(X)\n",
    "    d = s * s / (len(X) - 1.0)\n",
    "    return X.dot(Vt.T.dot(inv(np.sqrt(np.diag(d)))))\n",
    "\n",
    "np.cov(whiten(X), ddof = 0, rowvar = False)"
   ]
  }
 ],
 "metadata": {
  "kernelspec": {
   "display_name": "Python 2",
   "language": "python",
   "name": "python2"
  },
  "language_info": {
   "codemirror_mode": {
    "name": "ipython",
    "version": 2
   },
   "file_extension": ".py",
   "mimetype": "text/x-python",
   "name": "python",
   "nbconvert_exporter": "python",
   "pygments_lexer": "ipython2",
   "version": "2.7.12"
  }
 },
 "nbformat": 4,
 "nbformat_minor": 0
}
