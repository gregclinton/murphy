{
 "cells": [
  {
   "cell_type": "code",
   "execution_count": 149,
   "metadata": {
    "collapsed": false
   },
   "outputs": [],
   "source": [
    "import numpy as np\n",
    "from numpy.linalg import eigh, inv, svd\n",
    "from sklearn.preprocessing import scale\n",
    "import datasets"
   ]
  },
  {
   "cell_type": "code",
   "execution_count": 33,
   "metadata": {
    "collapsed": true
   },
   "outputs": [],
   "source": [
    "X, _ = datasets.htwt()"
   ]
  },
  {
   "cell_type": "code",
   "execution_count": 178,
   "metadata": {
    "collapsed": false
   },
   "outputs": [],
   "source": [
    "def whiten(X):\n",
    "    X = scale(X)\n",
    "    cov = np.cov(X, ddof = 0, rowvar = False)\n",
    "    d, U = eigh(cov)\n",
    "    return X.dot(U).dot(inv(np.sqrt(np.diag(d))))"
   ]
  },
  {
   "cell_type": "code",
   "execution_count": 183,
   "metadata": {
    "collapsed": false
   },
   "outputs": [],
   "source": [
    "def whiten(X):\n",
    "    X = scale(X)\n",
    "    _, d, U = svd(X)\n",
    "    return X.dot(U).dot(inv(np.diag(d)))"
   ]
  },
  {
   "cell_type": "code",
   "execution_count": 201,
   "metadata": {
    "collapsed": true
   },
   "outputs": [],
   "source": [
    "def whiten(X):\n",
    "    X = scale(X)\n",
    "    _, s, Vt = svd(X)\n",
    "    V = Vt.T\n",
    "    S = np.diag(s)\n",
    "    return V.dot(np.sqrt(S)).dot(V.T).dot(X.T).T"
   ]
  },
  {
   "cell_type": "code",
   "execution_count": 202,
   "metadata": {
    "collapsed": false
   },
   "outputs": [
    {
     "data": {
      "text/plain": [
       "array([[ 17.39265157,  15.21102822],\n",
       "       [ 15.21102822,  17.39265469]])"
      ]
     },
     "execution_count": 202,
     "metadata": {},
     "output_type": "execute_result"
    }
   ],
   "source": [
    "np.cov(whiten(X), ddof = 0, rowvar = False)"
   ]
  }
 ],
 "metadata": {
  "kernelspec": {
   "display_name": "Python 2",
   "language": "python",
   "name": "python2"
  },
  "language_info": {
   "codemirror_mode": {
    "name": "ipython",
    "version": 2
   },
   "file_extension": ".py",
   "mimetype": "text/x-python",
   "name": "python",
   "nbconvert_exporter": "python",
   "pygments_lexer": "ipython2",
   "version": "2.7.12"
  }
 },
 "nbformat": 4,
 "nbformat_minor": 0
}
