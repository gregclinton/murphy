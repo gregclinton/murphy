{
 "cells": [
  {
   "cell_type": "code",
   "execution_count": 149,
   "metadata": {
    "collapsed": false
   },
   "outputs": [],
   "source": [
    "import numpy as np\n",
    "from numpy.linalg import eigh, inv, svd\n",
    "from sklearn.preprocessing import scale\n",
    "import datasets"
   ]
  },
  {
   "cell_type": "code",
   "execution_count": 33,
   "metadata": {
    "collapsed": true
   },
   "outputs": [],
   "source": [
    "X, _ = datasets.htwt()"
   ]
  },
  {
   "cell_type": "code",
   "execution_count": 215,
   "metadata": {
    "collapsed": false
   },
   "outputs": [],
   "source": [
    "def whiten(X):\n",
    "    X = scale(X)\n",
    "    cov = np.cov(X, ddof = 0, rowvar = False)\n",
    "    d, U = eigh(cov)\n",
    "    return X.dot(U.dot(inv(np.sqrt(np.diag(d)))))"
   ]
  },
  {
   "cell_type": "code",
   "execution_count": 213,
   "metadata": {
    "collapsed": false
   },
   "outputs": [],
   "source": [
    "def whiten(X):\n",
    "    X = scale(X)\n",
    "    _, d, U = svd(X)\n",
    "    return X.dot(U.dot(inv(np.diag(d))))"
   ]
  },
  {
   "cell_type": "code",
   "execution_count": 209,
   "metadata": {
    "collapsed": true
   },
   "outputs": [],
   "source": [
    "def whiten(X):\n",
    "    X = scale(X)\n",
    "    _, s, Vt = svd(X)\n",
    "    V = Vt.T\n",
    "    S = np.diag(s)\n",
    "    return X.dot(V.dot(np.sqrt(S)).dot(V.T))"
   ]
  },
  {
   "cell_type": "code",
   "execution_count": 216,
   "metadata": {
    "collapsed": false
   },
   "outputs": [
    {
     "data": {
      "text/plain": [
       "array([[  1.00000000e+00,   5.92118946e-17],\n",
       "       [  5.92118946e-17,   1.00000000e+00]])"
      ]
     },
     "execution_count": 216,
     "metadata": {},
     "output_type": "execute_result"
    }
   ],
   "source": [
    "np.cov(whiten(X), ddof = 0, rowvar = False)"
   ]
  }
 ],
 "metadata": {
  "kernelspec": {
   "display_name": "Python 2",
   "language": "python",
   "name": "python2"
  },
  "language_info": {
   "codemirror_mode": {
    "name": "ipython",
    "version": 2
   },
   "file_extension": ".py",
   "mimetype": "text/x-python",
   "name": "python",
   "nbconvert_exporter": "python",
   "pygments_lexer": "ipython2",
   "version": "2.7.12"
  }
 },
 "nbformat": 4,
 "nbformat_minor": 0
}
