{
 "cells": [
  {
   "cell_type": "code",
   "execution_count": 1,
   "metadata": {
    "collapsed": true
   },
   "outputs": [],
   "source": [
    "import numpy as np\n",
    "import math\n",
    "from numpy.linalg import inv, svd"
   ]
  },
  {
   "cell_type": "code",
   "execution_count": 13,
   "metadata": {
    "collapsed": false
   },
   "outputs": [],
   "source": [
    "def fit(X, y, lmbda):\n",
    "    cs = np.unique(y)\n",
    "    U, s, V = svd(X, full_matrices = False)\n",
    "    V = V.T\n",
    "    Z = U.dot(np.diag(s))\n",
    "    Sigma = np.cov(Z, rowvar = False, ddof = 0)\n",
    "    Sigma = lmbda * np.diag(Sigma) + (1 - lmbda) * Sigma\n",
    "    VInvSigma = V.dot(inv(Sigma))\n",
    "    Betas = []\n",
    "    \n",
    "    for c in cs:\n",
    "        i = y == c\n",
    "        prior = np.mean(i)\n",
    "        mu_c = np.mean(X[i], axis = 0)\n",
    "        mu_z_c = V.T.dot(mu_c)\n",
    "        Beta = VInvSigma.dot(mu_z_c)\n",
    "        gamma = -mu_c.T.dot(Beta) / 2.0 + math.log(prior)\n",
    "        Betas.append(np.hstack((Beta, gamma)))\n",
    "        \n",
    "    return cs, np.transpose(Betas)\n",
    "        \n",
    "def predict(model, X):\n",
    "    cs, Beta = model\n",
    "    N, D = X.shape\n",
    "    C = len(cs)\n",
    "    loglik = np.empty((N, C))\n",
    "    \n",
    "    X = np.hstack((X, np.ones((len(X), 1))))\n",
    "    loglik = X.dot(Beta)\n",
    "    \n",
    "    return cs[np.argmax(loglik, axis = 1)]"
   ]
  },
  {
   "cell_type": "code",
   "execution_count": 24,
   "metadata": {
    "collapsed": false
   },
   "outputs": [],
   "source": [
    "X = np.array([\n",
    "    [2, 3, 4, 5],\n",
    "    [2.2, 3.1, 4.2, 5.3],\n",
    "    [2.1, 3.2, 4.1, 5.2],\n",
    "])\n",
    "\n",
    "y = np.array([1, 1, 2])"
   ]
  },
  {
   "cell_type": "code",
   "execution_count": 26,
   "metadata": {
    "collapsed": false
   },
   "outputs": [
    {
     "data": {
      "text/plain": [
       "0.33333333333333331"
      ]
     },
     "execution_count": 26,
     "metadata": {},
     "output_type": "execute_result"
    }
   ],
   "source": [
    "model = fit(X, y, 0.0)\n",
    "np.mean(predict(model, X) == y)"
   ]
  }
 ],
 "metadata": {
  "kernelspec": {
   "display_name": "Python 2",
   "language": "python",
   "name": "python2"
  },
  "language_info": {
   "codemirror_mode": {
    "name": "ipython",
    "version": 2
   },
   "file_extension": ".py",
   "mimetype": "text/x-python",
   "name": "python",
   "nbconvert_exporter": "python",
   "pygments_lexer": "ipython2",
   "version": "2.7.10"
  }
 },
 "nbformat": 4,
 "nbformat_minor": 0
}
