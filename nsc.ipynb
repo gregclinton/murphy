{
 "cells": [
  {
   "cell_type": "code",
   "execution_count": 1,
   "metadata": {
    "collapsed": true
   },
   "outputs": [],
   "source": [
    "import numpy as np\n",
    "import math\n",
    "import cancer\n",
    "import sklearn.preprocessing"
   ]
  },
  {
   "cell_type": "code",
   "execution_count": 2,
   "metadata": {
    "collapsed": false
   },
   "outputs": [],
   "source": [
    "X_train, y_train = cancer.get_train()\n",
    "X_train = sklearn.preprocessing.scale(X_train)\n",
    "X_test, y_test = cancer.get_test()\n",
    "X_test = sklearn.preprocessing.scale(X_test)"
   ]
  },
  {
   "cell_type": "code",
   "execution_count": 6,
   "metadata": {
    "collapsed": false
   },
   "outputs": [],
   "source": [
    "def soft_threshold(a, delta):\n",
    "    return np.array([np.sign(x) * max(np.abs(x) - delta, 0) for x in a])"
   ]
  },
  {
   "cell_type": "code",
   "execution_count": 18,
   "metadata": {
    "collapsed": false
   },
   "outputs": [],
   "source": [
    "def fit(X, y, delta):\n",
    "    N, D = X.shape\n",
    "    cs = np.unique(y)\n",
    "    C = len(cs)\n",
    "    sse = np.zeros(D)\n",
    "    mus = []\n",
    "    prior = []\n",
    "    xbar = np.mean(X, axis = 0)\n",
    "\n",
    "    for c in cs:\n",
    "        i = y == c\n",
    "        X_c = X[i]\n",
    "        prior.append(np.mean(i))\n",
    "        mu_c = np.mean(X_c, axis = 0)\n",
    "        mus.append(mu_c)\n",
    "        sse += np.sum((X_c - mu_c) ** 2, axis = 0)\n",
    "        \n",
    "    sigma2 = sse / (1.0 * N - C)\n",
    "    sigma = np.sqrt(sigma2)\n",
    "    s0 = np.median(sigma)\n",
    "    \n",
    "    for i, c in enumerate(cs):\n",
    "        m = math.sqrt(1.0 / sum(y == c) - 1.0 / N)\n",
    "        d = (mus[i] - xbar) / (m * (sigma + s0))\n",
    "        d = soft_threshold(d, delta)\n",
    "        mus[i] = xbar + m * (sigma + s0) * d\n",
    "        \n",
    "    return cs, np.log(prior), mus, sigma2\n",
    "        \n",
    "def predict(model, X):\n",
    "    cs, log_prior, mus, sigma2 = model\n",
    "    N, D = X.shape\n",
    "    C = len(cs)\n",
    "    loglik = np.empty((N, C))\n",
    "    \n",
    "    for i in range(C):\n",
    "        Z = 0.5 * (X - mus[i]) ** 2 / sigma2\n",
    "        loglik[:, i] = log_prior[i] - np.sum([Z[:, j] for j in range(D)], axis = 0)\n",
    "        Z = (X - mus[i]) ** 2\n",
    "        loglik[:, i] = 2 * log_prior[i] - np.sum([Z[:, j] for j in range(D)], axis = 0)\n",
    "    \n",
    "    return cs[np.argmax(loglik, axis = 1)]"
   ]
  },
  {
   "cell_type": "code",
   "execution_count": 19,
   "metadata": {
    "collapsed": false
   },
   "outputs": [
    {
     "name": "stdout",
     "output_type": "stream",
     "text": [
      "22 errors out of 54\n"
     ]
    }
   ],
   "source": [
    "model = fit(X_train, y_train, 4.3)\n",
    "print np.sum(predict(model, X_test) != y_test), 'errors out of', len(y_test)"
   ]
  },
  {
   "cell_type": "code",
   "execution_count": 33,
   "metadata": {
    "collapsed": false
   },
   "outputs": [
    {
     "data": {
      "text/plain": [
       "(64, 2308)"
      ]
     },
     "execution_count": 33,
     "metadata": {},
     "output_type": "execute_result"
    }
   ],
   "source": [
    "import pandas as pd\n",
    "\n",
    "url = 'http://www.bioinf.ucd.ie/people/aedin/R/full_datasets/khan_train.csv'\n",
    "X = pd.read_csv(url).values[:, 1:].T\n",
    "X.shape"
   ]
  },
  {
   "cell_type": "code",
   "execution_count": 36,
   "metadata": {
    "collapsed": false
   },
   "outputs": [
    {
     "data": {
      "text/plain": [
       "array([ 0.2044,  0.299 ,  0.223 ,  0.0871,  0.2157,  0.2525,  0.4084,\n",
       "        0.5724,  0.3923,  0.2685,  0.6007,  0.456 ,  0.61  ,  0.2413,\n",
       "        0.32  ,  0.4385,  0.1131,  0.1593,  0.1457,  1.042 ,  0.1715,\n",
       "        0.1469,  0.1085,  0.1073,  0.2676,  0.2655,  0.262 ,  0.2177,\n",
       "        0.1281,  0.2709,  0.2358,  0.2586,  0.2481,  0.2091,  0.0597,\n",
       "        0.0536,  0.0837,  0.2792,  0.3812,  0.1523,  0.1002,  0.1071,\n",
       "        0.0446,  0.2242,  0.4338,  0.1913,  0.0589,  0.2034,  0.2344,\n",
       "        0.3379,  0.105 ,  0.1035,  0.138 ,  0.2039,  0.2975,  0.2728,\n",
       "        0.1345,  0.1346,  0.2221,  0.381 ,  0.8788,  0.1925,  0.4603,\n",
       "        0.3379])"
      ]
     },
     "execution_count": 36,
     "metadata": {},
     "output_type": "execute_result"
    }
   ],
   "source": [
    "X[:, -1]"
   ]
  }
 ],
 "metadata": {
  "kernelspec": {
   "display_name": "Python 2",
   "language": "python",
   "name": "python2"
  },
  "language_info": {
   "codemirror_mode": {
    "name": "ipython",
    "version": 2
   },
   "file_extension": ".py",
   "mimetype": "text/x-python",
   "name": "python",
   "nbconvert_exporter": "python",
   "pygments_lexer": "ipython2",
   "version": "2.7.10"
  }
 },
 "nbformat": 4,
 "nbformat_minor": 0
}
