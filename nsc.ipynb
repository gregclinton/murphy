{
 "cells": [
  {
   "cell_type": "code",
   "execution_count": 2,
   "metadata": {
    "collapsed": false
   },
   "outputs": [
    {
     "data": {
      "image/png": "[encoded data removed]",
      "text/plain": [
       "<matplotlib.figure.Figure at 0x7f2591a5b2d0>"
      ]
     },
     "metadata": {},
     "output_type": "display_data"
    }
   ],
   "source": [
    "%matplotlib inline\n",
    "import matplotlib.pyplot as plt\n",
    "from scipy import stats\n",
    "\n",
    "N = 100000\n",
    "\n",
    "delta = stats.beta.rvs(99, 11, size = N) - stats.beta.rvs(3, 1, size = N)\n",
    "delta.sort()\n",
    "plt.hist(delta, bins = 40)\n",
    "plt.show()"
   ]
  },
  {
   "cell_type": "code",
   "execution_count": null,
   "metadata": {
    "collapsed": false
   },
   "outputs": [],
   "source": [
    "delta[N * 25 / 1000], delta[N * 975 / 1000]"
   ]
  },
  {
   "cell_type": "code",
   "execution_count": null,
   "metadata": {
    "collapsed": false
   },
   "outputs": [],
   "source": [
    "from scipy.integrate import dblquad\n",
    "\n",
    "fn = lambda t1, t2: stats.beta.pdf(t1, 99, 11) * stats.beta.pdf(t2, 3, 1) * (t1 > t2)\n",
    "l = lambda x: 0\n",
    "u = lambda x: 1\n",
    "\n",
    "dblquad(fn, 0, 1, l, u)"
   ]
  },
  {
   "cell_type": "code",
   "execution_count": 119,
   "metadata": {
    "collapsed": false
   },
   "outputs": [
    {
     "data": {
      "text/plain": [
       "0.7299618399613742"
      ]
     },
     "execution_count": 119,
     "metadata": {},
     "output_type": "execute_result"
    }
   ],
   "source": [
    "p = 0.0\n",
    "size = 1000\n",
    "rng = np.linspace(0, 1, size + 1)\n",
    "pjs = stats.beta.logpdf(rng, 3, 1)\n",
    "\n",
    "for i, pi in enumerate(stats.beta.logpdf(rng, 99, 11)):\n",
    "    for j, pj in enumerate(pjs):\n",
    "        if i > j:\n",
    "            p += np.exp(pi + pj)\n",
    "            \n",
    "p /= size ** 2\n",
    "p"
   ]
  },
  {
   "cell_type": "code",
   "execution_count": 54,
   "metadata": {
    "collapsed": true
   },
   "outputs": [],
   "source": [
    "import numpy as np\n",
    "import math\n",
    "import cancer\n",
    "import sklearn.preprocessing"
   ]
  },
  {
   "cell_type": "code",
   "execution_count": 2,
   "metadata": {
    "collapsed": false
   },
   "outputs": [],
   "source": [
    "X_train, y_train = cancer.get_train()\n",
    "X_train = sklearn.preprocessing.scale(X_train)\n",
    "X_test, y_test = cancer.get_test()\n",
    "X_test = sklearn.preprocessing.scale(X_test)"
   ]
  },
  {
   "cell_type": "code",
   "execution_count": 6,
   "metadata": {
    "collapsed": false
   },
   "outputs": [],
   "source": [
    "def soft_threshold(a, delta):\n",
    "    return np.array([np.sign(x) * max(np.abs(x) - delta, 0) for x in a])"
   ]
  },
  {
   "cell_type": "code",
   "execution_count": 52,
   "metadata": {
    "collapsed": false
   },
   "outputs": [],
   "source": [
    "def fit(X, y, delta):\n",
    "    N, D = X.shape\n",
    "    cs = np.unique(y)\n",
    "    C = len(cs)\n",
    "    sse = np.zeros(D)\n",
    "    mus = []\n",
    "    prior = []\n",
    "    xbar = np.mean(X, axis = 0)\n",
    "\n",
    "    for c in cs:\n",
    "        i = y == c\n",
    "        X_c = X[i]\n",
    "        prior.append(np.mean(i))\n",
    "        mu_c = np.mean(X_c, axis = 0)\n",
    "        mus.append(mu_c)\n",
    "        sse += np.sum((X_c - mu_c) ** 2, axis = 0)\n",
    "        \n",
    "    sigma2 = sse / (1.0 * N - C)\n",
    "    sigma = np.sqrt(sigma2)\n",
    "    s0 = np.median(sigma)\n",
    "    \n",
    "    for i, c in enumerate(cs):\n",
    "        m = math.sqrt(1.0 / sum(y == c) - 1.0 / N)\n",
    "        d = (mus[i] - xbar) / (m * (sigma + s0))\n",
    "        d = soft_threshold(d, delta)\n",
    "        mus[i] = xbar + m * (sigma + s0) * d\n",
    "        \n",
    "    return cs, np.log(prior), mus, sigma2\n",
    "        \n",
    "def predict(model, X):\n",
    "    cs, log_prior, mus, sigma2 = model\n",
    "    N, D = X.shape\n",
    "    C = len(cs)\n",
    "    loglik = np.empty((N, C))\n",
    "    \n",
    "    for i in range(C):\n",
    "        Z = 0.5 * (X - mus[i]) ** 2 / sigma2\n",
    "        loglik[:, i] = log_prior[i] - np.sum([Z[:, j] for j in range(D)], axis = 0)\n",
    "    \n",
    "    return cs[np.argmax(loglik, axis = 1)]"
   ]
  },
  {
   "cell_type": "code",
   "execution_count": 53,
   "metadata": {
    "collapsed": false
   },
   "outputs": [
    {
     "name": "stdout",
     "output_type": "stream",
     "text": [
      "19 errors out of 54\n"
     ]
    }
   ],
   "source": [
    "model = fit(X_train, y_train, 3)\n",
    "print np.sum(predict(model, X_test) != y_test), 'errors out of', len(y_test)"
   ]
  }
 ],
 "metadata": {
  "kernelspec": {
   "display_name": "Python 2",
   "language": "python",
   "name": "python2"
  },
  "language_info": {
   "codemirror_mode": {
    "name": "ipython",
    "version": 2
   },
   "file_extension": ".py",
   "mimetype": "text/x-python",
   "name": "python",
   "nbconvert_exporter": "python",
   "pygments_lexer": "ipython2",
   "version": "2.7.10"
  }
 },
 "nbformat": 4,
 "nbformat_minor": 0
}
