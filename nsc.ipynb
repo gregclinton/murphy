{
 "cells": [
  {
   "cell_type": "code",
   "execution_count": 23,
   "metadata": {
    "collapsed": true
   },
   "outputs": [],
   "source": [
    "import numpy as np\n",
    "import math\n",
    "import cancer"
   ]
  },
  {
   "cell_type": "code",
   "execution_count": 3,
   "metadata": {
    "collapsed": false
   },
   "outputs": [],
   "source": [
    "X, y = cancer.get_train()"
   ]
  },
  {
   "cell_type": "code",
   "execution_count": 53,
   "metadata": {
    "collapsed": true
   },
   "outputs": [],
   "source": [
    "def soft_threshold(x, delta):\n",
    "    return np.sign(x) * np.max(np.abs(x) - delta, 0)    "
   ]
  },
  {
   "cell_type": "code",
   "execution_count": 54,
   "metadata": {
    "collapsed": false
   },
   "outputs": [],
   "source": [
    "def fit(X, y, delta):\n",
    "    N, D = X.shape\n",
    "    cs = np.unique(y)\n",
    "    C = len(cs)\n",
    "    sse = np.zeros(D)\n",
    "    mus = []\n",
    "    prior = []\n",
    "    xbar = np.mean(X, axis = 0)\n",
    "\n",
    "    for c in cs:\n",
    "        i = y == c\n",
    "        X_c = X[i]\n",
    "        prior.append(np.mean(i))\n",
    "        mu_c = np.mean(X_c, axis = 0)\n",
    "        mus.append(mu_c)\n",
    "        sse += np.sum((X_c - mu_c) ** 2, axis = 0)\n",
    "        \n",
    "    sigma2 = sse / (1.0 * N - C)\n",
    "    sigma = np.sqrt(sigma2)\n",
    "    s0 = np.median(sigma)\n",
    "    \n",
    "    m = np.zeros(C)\n",
    "    d = np.zeros((C, D))\n",
    "    \n",
    "    for i in range(len(cs)):\n",
    "        m[i] = math.sqrt(1.0 / sum(y == c) - 1.0 / N)\n",
    "        d[i] = (mus[i] - xbar) / (m[i] * (sigma + s0))\n",
    "        d[i] = soft_threshold(d[i], delta)\n",
    "    return cs, np.log(prior), mus, sigma2\n",
    "        \n",
    "def predict(model, X):\n",
    "    N, D = X.shape\n",
    "    cs, log_prior, mus, sigma2 = model\n",
    "    \n",
    "    def loglik(i):\n",
    "        Z = 0.5 * (X - mus[i]) ** 2 / sigma2\n",
    "        return log_prior[i] - np.sum([Z[:, j] for j in range(D)], axis = 0)\n",
    "    \n",
    "    return cs[np.argmax([loglik(i) for i in range(len(cs))], axis = 0)]"
   ]
  },
  {
   "cell_type": "code",
   "execution_count": 55,
   "metadata": {
    "collapsed": true
   },
   "outputs": [],
   "source": [
    "X = np.array([\n",
    "    [2, 3, 4, 5],\n",
    "    [2.2, 3.1, 4.2, 5.3],\n",
    "    [2.1, 3.2, 4.1, 5.2],\n",
    "])\n",
    "\n",
    "y = np.array([1, 1, 2])"
   ]
  },
  {
   "cell_type": "code",
   "execution_count": 52,
   "metadata": {
    "collapsed": false
   },
   "outputs": [
    {
     "data": {
      "text/plain": [
       "1.0"
      ]
     },
     "execution_count": 52,
     "metadata": {},
     "output_type": "execute_result"
    }
   ],
   "source": [
    "model = fit(X, y, 4.3)\n",
    "np.mean(predict(model, X) == y)"
   ]
  }
 ],
 "metadata": {
  "kernelspec": {
   "display_name": "Python 2",
   "language": "python",
   "name": "python2"
  },
  "language_info": {
   "codemirror_mode": {
    "name": "ipython",
    "version": 2
   },
   "file_extension": ".py",
   "mimetype": "text/x-python",
   "name": "python",
   "nbconvert_exporter": "python",
   "pygments_lexer": "ipython2",
   "version": "2.7.10"
  }
 },
 "nbformat": 4,
 "nbformat_minor": 0
}
