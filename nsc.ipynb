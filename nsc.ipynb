{
 "cells": [
  {
   "cell_type": "code",
   "execution_count": 1,
   "metadata": {
    "collapsed": true
   },
   "outputs": [],
   "source": [
    "import numpy as np\n",
    "import math\n",
    "import cancer\n",
    "import sklearn.preprocessing"
   ]
  },
  {
   "cell_type": "code",
   "execution_count": 2,
   "metadata": {
    "collapsed": false
   },
   "outputs": [],
   "source": [
    "X_train, y_train = cancer.get_train()\n",
    "X_train = sklearn.preprocessing.scale(X_train)\n",
    "X_test, y_test = cancer.get_test()\n",
    "X_test = sklearn.preprocessing.scale(X_test)"
   ]
  },
  {
   "cell_type": "code",
   "execution_count": 6,
   "metadata": {
    "collapsed": false
   },
   "outputs": [],
   "source": [
    "def soft_threshold(a, delta):\n",
    "    return np.array([np.sign(x) * max(np.abs(x) - delta, 0) for x in a])"
   ]
  },
  {
   "cell_type": "code",
   "execution_count": 7,
   "metadata": {
    "collapsed": false
   },
   "outputs": [],
   "source": [
    "def fit(X, y, delta):\n",
    "    N, D = X.shape\n",
    "    cs = np.unique(y)\n",
    "    C = len(cs)\n",
    "    sse = np.zeros(D)\n",
    "    mus = []\n",
    "    prior = []\n",
    "    xbar = np.mean(X, axis = 0)\n",
    "\n",
    "    for c in cs:\n",
    "        i = y == c\n",
    "        X_c = X[i]\n",
    "        prior.append(np.mean(i))\n",
    "        mu_c = np.mean(X_c, axis = 0)\n",
    "        mus.append(mu_c)\n",
    "        sse += np.sum((X_c - mu_c) ** 2, axis = 0)\n",
    "        \n",
    "    sigma2 = sse / (1.0 * N - C)\n",
    "    sigma = np.sqrt(sigma2)\n",
    "    s0 = np.median(sigma)\n",
    "    \n",
    "    m = np.zeros(C)\n",
    "    d = np.zeros((C, D))\n",
    "    \n",
    "    for i, c in enumerate(cs):\n",
    "        m[i] = math.sqrt(1.0 / sum(y == c) - 1.0 / N)\n",
    "        d[i] = (mus[i] - xbar) / (m[i] * (sigma + s0))\n",
    "        d[i] = soft_threshold(d[i], delta)\n",
    "        mus[i] = xbar + m[i] * (sigma + s0) * d[i]\n",
    "        \n",
    "    return cs, np.log(prior), mus, sigma2\n",
    "        \n",
    "def predict(model, X):\n",
    "    cs, log_prior, mus, sigma2 = model\n",
    "    N, D = X.shape\n",
    "    C = len(cs)\n",
    "    loglik = np.empty((N, C))\n",
    "    \n",
    "    for i in range(C):\n",
    "        Z = 0.5 * (X - mus[i]) ** 2 / sigma2\n",
    "        loglik[:, i] = log_prior[i] - np.sum([Z[:, j] for j in range(D)], axis = 0)\n",
    "    \n",
    "    return cs[np.argmax(loglik, axis = 1)]"
   ]
  },
  {
   "cell_type": "code",
   "execution_count": 9,
   "metadata": {
    "collapsed": false
   },
   "outputs": [
    {
     "data": {
      "text/plain": [
       "0.59259259259259256"
      ]
     },
     "execution_count": 9,
     "metadata": {},
     "output_type": "execute_result"
    }
   ],
   "source": [
    "model = fit(X_train, y_train, 4.3)\n",
    "np.mean(predict(model, X_test) == y_test)"
   ]
  }
 ],
 "metadata": {
  "kernelspec": {
   "display_name": "Python 2",
   "language": "python",
   "name": "python2"
  },
  "language_info": {
   "codemirror_mode": {
    "name": "ipython",
    "version": 2
   },
   "file_extension": ".py",
   "mimetype": "text/x-python",
   "name": "python",
   "nbconvert_exporter": "python",
   "pygments_lexer": "ipython2",
   "version": "2.7.10"
  }
 },
 "nbformat": 4,
 "nbformat_minor": 0
}
