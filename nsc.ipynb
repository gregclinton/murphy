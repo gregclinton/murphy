{
 "cells": [
  {
   "cell_type": "code",
   "execution_count": 1,
   "metadata": {
    "collapsed": true
   },
   "outputs": [],
   "source": [
    "import numpy as np\n",
    "import cancer"
   ]
  },
  {
   "cell_type": "code",
   "execution_count": 3,
   "metadata": {
    "collapsed": false
   },
   "outputs": [],
   "source": [
    "X, y = cancer.get_train()"
   ]
  },
  {
   "cell_type": "code",
   "execution_count": 4,
   "metadata": {
    "collapsed": false
   },
   "outputs": [
    {
     "data": {
      "text/plain": [
       "(144, 16063)"
      ]
     },
     "execution_count": 4,
     "metadata": {},
     "output_type": "execute_result"
    }
   ],
   "source": [
    "def fit(X, y):\n",
    "    N, D = X.shape\n",
    "    cs = np.unique(y)\n",
    "    C = len(cs)\n",
    "    sigma2 = np.zeros(D)\n",
    "    mus = []\n",
    "    prior = []\n",
    "\n",
    "    for c in cs:\n",
    "        i = y == c\n",
    "        X_c = X[i]\n",
    "        prior.append(np.mean(i))\n",
    "        mu_c = np.mean(X_c, axis = 0)\n",
    "        mus.append(mu_c)\n",
    "        sigma2 += np.sum((X_c - mu_c) ** 2, axis = 0)\n",
    "\n",
    "    return cs, np.log(prior), mus, sigma2 / (1.0 * N - C)\n",
    "        \n",
    "def predict(model, X):\n",
    "    N, D = X.shape\n",
    "    cs, log_prior, mus, sigma2 = model\n",
    "    p = []\n",
    "    \n",
    "    for i in range(len(cs)):\n",
    "        Z = 0.5 * (X - mus[i]) ** 2 / sigma2\n",
    "        p.append(log_prior[i] - np.sum([Z[:, j] for j in range(D)], axis = 0))\n",
    "    return cs[np.argmax(p, axis = 0)]"
   ]
  }
 ],
 "metadata": {
  "kernelspec": {
   "display_name": "Python 2",
   "language": "python",
   "name": "python2"
  },
  "language_info": {
   "codemirror_mode": {
    "name": "ipython",
    "version": 2
   },
   "file_extension": ".py",
   "mimetype": "text/x-python",
   "name": "python",
   "nbconvert_exporter": "python",
   "pygments_lexer": "ipython2",
   "version": "2.7.10"
  }
 },
 "nbformat": 4,
 "nbformat_minor": 0
}
