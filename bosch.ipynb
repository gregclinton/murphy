{
 "cells": [
  {
   "cell_type": "code",
   "execution_count": null,
   "metadata": {
    "collapsed": true
   },
   "outputs": [],
   "source": [
    "import numpy as np\n",
    "from numpy.linalg import inv\n",
    "from scipy import stats\n",
    "import math\n",
    "from sys import stdout\n",
    "from mcc import mcc\n",
    "from numpy.linalg import matrix_rank\n",
    "from sklearn.linear_model import LogisticRegression"
   ]
  },
  {
   "cell_type": "code",
   "execution_count": null,
   "metadata": {
    "collapsed": true
   },
   "outputs": [],
   "source": [
    "root = '../../Desktop/bosch/'\n",
    "root = '../Desktop/bosch/'"
   ]
  },
  {
   "cell_type": "code",
   "execution_count": null,
   "metadata": {
    "collapsed": true
   },
   "outputs": [],
   "source": [
    "# https://www.kaggle.com/c/bosch-production-line-performance"
   ]
  },
  {
   "cell_type": "code",
   "execution_count": null,
   "metadata": {
    "collapsed": false
   },
   "outputs": [],
   "source": [
    "\"\"\"\n",
    "\n",
    "1,183,747 training observations\n",
    "1,183,748 test observations\n",
    "\n",
    "Response is 1: 6,879 times out of 1,183,748\n",
    "\n",
    "Excluding Id (and Response in numeric):\n",
    " 2,140 categorical features (like L1_S25_F2117)\n",
    "   968 numeric features (like L1_S25_F2117)\n",
    " 1,156 date features (like L1_S25_D2118)\n",
    "\n",
    "L1_S25_D2118 in date is paired with L1_S25_F2117 (if L1_S25_F2117 is present)\n",
    "Four lines -- 0 to 3\n",
    "Lines have different number of sections.\n",
    "\n",
    "Fit each group in training.\n",
    "For each x in test, find group for x, get model and predict. If group not found, predict 0.\n",
    "\n",
    "\"\"\"\n",
    "\n",
    "i = 1"
   ]
  },
  {
   "cell_type": "code",
   "execution_count": null,
   "metadata": {
    "collapsed": true
   },
   "outputs": [],
   "source": [
    "N = 1183747\n",
    "N = 300000"
   ]
  },
  {
   "cell_type": "code",
   "execution_count": null,
   "metadata": {
    "collapsed": false
   },
   "outputs": [],
   "source": [
    "def run(filename):\n",
    "    groups = {}\n",
    "\n",
    "    with open(root + filename) as f:\n",
    "        for n in range(N):\n",
    "            line = f.readline()\n",
    "            if line == '': # or n == 10000:\n",
    "                break\n",
    "\n",
    "            cols = line.strip('\\n').split(',')\n",
    "\n",
    "            if n == 0:\n",
    "                width = len(cols)\n",
    "            elif len(cols) == width:\n",
    "                pattern = ','.join([str(i) for i, x in enumerate(cols) if x != ''])\n",
    "                group = groups.get(pattern, None)\n",
    "                if group == None:\n",
    "                    groups[pattern] = group = []\n",
    "                group.append(n)\n",
    "    return groups"
   ]
  },
  {
   "cell_type": "code",
   "execution_count": null,
   "metadata": {
    "collapsed": false
   },
   "outputs": [],
   "source": [
    "groups = run('train_numeric.csv')"
   ]
  },
  {
   "cell_type": "code",
   "execution_count": null,
   "metadata": {
    "collapsed": false
   },
   "outputs": [],
   "source": [
    "filename = 'train_numeric.csv'\n",
    "\n",
    "with open(root + filename) as f:\n",
    "    line = f.readline()\n",
    "    cols = line.strip('\\n').split(',')\n",
    "    \n",
    "Z = np.zeros((N, len(cols)), dtype = float)"
   ]
  },
  {
   "cell_type": "code",
   "execution_count": null,
   "metadata": {
    "collapsed": false
   },
   "outputs": [],
   "source": [
    "with open(root + filename) as f:\n",
    "    line = f.readline()\n",
    "    for n in range(N):\n",
    "        line = f.readline()\n",
    "        if line == '':\n",
    "            break\n",
    "\n",
    "        Z[n, :] = [np.nan if x == '' else float(x) for x in line.strip('\\n').split(',')]"
   ]
  },
  {
   "cell_type": "code",
   "execution_count": null,
   "metadata": {
    "collapsed": false
   },
   "outputs": [],
   "source": [
    "models = {}\n",
    "keep = {}\n",
    "count = 0\n",
    "bad = 0\n",
    "\n",
    "clf = LogisticRegression()\n",
    "\n",
    "for pattern, group in groups.iteritems():\n",
    "    rows = np.array(group) - 1\n",
    "\n",
    "    # if len(rows) < 11600:\n",
    "    #    continue\n",
    "\n",
    "    cols = np.array([int(x) for x in pattern.split(',')])[1 : -1]        \n",
    "    y = Z[rows, -1]\n",
    "    X = Z[rows, :][:, cols]\n",
    "\n",
    "    indices = []\n",
    "    for j in range(X.shape[1]):\n",
    "        good = True\n",
    "        for k in range(j + 1, X.shape[1]):\n",
    "            if matrix_rank([X[:, j], X[:, k]]) < 2:\n",
    "                good = False\n",
    "                break\n",
    "        if good:\n",
    "            indices.append(j)\n",
    "\n",
    "    keep[pattern] = indices\n",
    "    X = X[:, indices]\n",
    "\n",
    "    N, D = X.shape\n",
    "    if N < D or N < 10 or D < 1:\n",
    "        continue\n",
    "\n",
    "    try:\n",
    "        models[pattern] = clf.fit(X, y)\n",
    "    except:\n",
    "        bad += 1\n",
    "    # print mcc(y, predict(models[pattern], X))\n",
    "    count += 1\n",
    "    stdout.write('\\r%s/%s %s bad' % (count, len(groups), bad))\n",
    "    stdout.flush()        "
   ]
  },
  {
   "cell_type": "code",
   "execution_count": null,
   "metadata": {
    "collapsed": true
   },
   "outputs": [],
   "source": [
    "def y_hat(i):\n",
    "    pattern = ','.join([str(i) for i, x in enumerate(Z[i, :]) if x != ''])\n",
    "    cols = np.array([int(x) for x in pattern.split(',')])[1 : -1]        \n",
    "    x = Z[i, cols]\n",
    "    clf = x[models[pattern]\n",
    "    return clf.predict(X[keep['pattern']])\n",
    "        \n",
    "y = Z[:, -1]\n",
    "y_hat = [y_hat(i) for i in range(len(Z))]\n",
    "print mcc(y, y_hat)"
   ]
  }
 ],
 "metadata": {
  "kernelspec": {
   "display_name": "Python 2",
   "language": "python",
   "name": "python2"
  },
  "language_info": {
   "codemirror_mode": {
    "name": "ipython",
    "version": 2
   },
   "file_extension": ".py",
   "mimetype": "text/x-python",
   "name": "python",
   "nbconvert_exporter": "python",
   "pygments_lexer": "ipython2",
   "version": "2.7.10"
  }
 },
 "nbformat": 4,
 "nbformat_minor": 0
}
