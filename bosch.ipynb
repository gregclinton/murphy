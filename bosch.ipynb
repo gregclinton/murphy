{
 "cells": [
  {
   "cell_type": "code",
   "execution_count": 15,
   "metadata": {
    "collapsed": true
   },
   "outputs": [],
   "source": [
    "import numpy as np\n",
    "from numpy.linalg import inv\n",
    "from scipy import stats\n",
    "import math\n",
    "from sys import stdout\n",
    "from mcc import mcc\n",
    "from sklearn.linear_model import LinearRegression"
   ]
  },
  {
   "cell_type": "code",
   "execution_count": 7,
   "metadata": {
    "collapsed": true
   },
   "outputs": [],
   "source": [
    "root = '../../bosch/'\n",
    "root = '../../Desktop/bosch/'"
   ]
  },
  {
   "cell_type": "code",
   "execution_count": 8,
   "metadata": {
    "collapsed": true
   },
   "outputs": [],
   "source": [
    "# https://www.kaggle.com/c/bosch-production-line-performance"
   ]
  },
  {
   "cell_type": "code",
   "execution_count": 9,
   "metadata": {
    "collapsed": false
   },
   "outputs": [],
   "source": [
    "\"\"\"\n",
    "\n",
    "1,183,747 training observations\n",
    "1,183,748 test observations\n",
    "\n",
    "Response is 1: 6,879 times out of 1,183,748\n",
    "\n",
    "Excluding Id (and Response in numeric):\n",
    " 2,140 categorical features (like L1_S25_F2117)\n",
    "   968 numeric features (like L1_S25_F2117)\n",
    " 1,156 date features (like L1_S25_D2118)\n",
    "\n",
    "L1_S25_D2118 in date is paired with L1_S25_F2117 (if L1_S25_F2117 is present)\n",
    "Four lines -- 0 to 3\n",
    "Lines have different number of sections.\n",
    "\n",
    "Fit each group in training.\n",
    "For each x in test, find group for x, get model and predict. If group not found, predict 0.\n",
    "\n",
    "\"\"\"\n",
    "\n",
    "i = 1"
   ]
  },
  {
   "cell_type": "code",
   "execution_count": 10,
   "metadata": {
    "collapsed": false
   },
   "outputs": [],
   "source": [
    "def run(filename):\n",
    "    groups = {}\n",
    "\n",
    "    with open(root + filename) as f:\n",
    "        n = 0\n",
    "        while True:\n",
    "            line = f.readline()\n",
    "            if line == '': # or n == 10000:\n",
    "                break\n",
    "\n",
    "            cols = line.strip('\\n').split(',')\n",
    "\n",
    "            if n == 0:\n",
    "                width = len(cols)\n",
    "            elif len(cols) == width:\n",
    "                pattern = ','.join([str(i) for i, x in enumerate(cols) if x != ''])\n",
    "                group = groups.get(pattern, None)\n",
    "                if group == None:\n",
    "                    groups[pattern] = group = []\n",
    "                group.append(n)\n",
    "\n",
    "            n += 1\n",
    "    return groups"
   ]
  },
  {
   "cell_type": "code",
   "execution_count": 11,
   "metadata": {
    "collapsed": false
   },
   "outputs": [],
   "source": [
    "groups = run('train_numeric.csv')"
   ]
  },
  {
   "cell_type": "code",
   "execution_count": 12,
   "metadata": {
    "collapsed": false
   },
   "outputs": [],
   "source": [
    "filename = 'train_numeric.csv'\n",
    "N = 1183747\n",
    "\n",
    "with open(root + filename) as f:\n",
    "    line = f.readline()\n",
    "    cols = line.strip('\\n').split(',')\n",
    "    \n",
    "Z = np.zeros((N, len(cols)), dtype = float)"
   ]
  },
  {
   "cell_type": "code",
   "execution_count": 13,
   "metadata": {
    "collapsed": false
   },
   "outputs": [],
   "source": [
    "with open(root + filename) as f:\n",
    "    n = 0\n",
    "    line = f.readline()\n",
    "    while True:\n",
    "        line = f.readline()\n",
    "        if line == '':\n",
    "            break\n",
    "\n",
    "        Z[n, :] = [np.nan if x == '' else float(x) for x in line.strip('\\n').split(',')]\n",
    "        n += 1"
   ]
  },
  {
   "cell_type": "code",
   "execution_count": 22,
   "metadata": {
    "collapsed": false
   },
   "outputs": [
    {
     "name": "stdout",
     "output_type": "stream",
     "text": [
      "13937/16710"
     ]
    },
    {
     "ename": "ZeroDivisionError",
     "evalue": "division by zero",
     "output_type": "error",
     "traceback": [
      "\u001b[1;31m---------------------------------------------------------------------------\u001b[0m",
      "\u001b[1;31mZeroDivisionError\u001b[0m                         Traceback (most recent call last)",
      "\u001b[1;32m<ipython-input-22-9c85175eb788>\u001b[0m in \u001b[0;36m<module>\u001b[1;34m()\u001b[0m\n\u001b[0;32m     44\u001b[0m     \u001b[0mkeep\u001b[0m\u001b[1;33m[\u001b[0m\u001b[0mpattern\u001b[0m\u001b[1;33m]\u001b[0m \u001b[1;33m=\u001b[0m \u001b[0mindices\u001b[0m\u001b[1;33m\u001b[0m\u001b[0m\n\u001b[0;32m     45\u001b[0m     \u001b[0mX\u001b[0m \u001b[1;33m=\u001b[0m \u001b[0mX\u001b[0m\u001b[1;33m[\u001b[0m\u001b[1;33m:\u001b[0m\u001b[1;33m,\u001b[0m \u001b[0mindices\u001b[0m\u001b[1;33m]\u001b[0m\u001b[1;33m\u001b[0m\u001b[0m\n\u001b[1;32m---> 46\u001b[1;33m     \u001b[0mmodels\u001b[0m\u001b[1;33m[\u001b[0m\u001b[0mpattern\u001b[0m\u001b[1;33m]\u001b[0m \u001b[1;33m=\u001b[0m \u001b[0mfit\u001b[0m\u001b[1;33m(\u001b[0m\u001b[0mX\u001b[0m\u001b[1;33m,\u001b[0m \u001b[0my\u001b[0m\u001b[1;33m)\u001b[0m\u001b[1;33m\u001b[0m\u001b[0m\n\u001b[0m\u001b[0;32m     47\u001b[0m     \u001b[1;31m# print mcc(y, predict(models[pattern], X))\u001b[0m\u001b[1;33m\u001b[0m\u001b[1;33m\u001b[0m\u001b[0m\n\u001b[0;32m     48\u001b[0m     \u001b[0mcount\u001b[0m \u001b[1;33m+=\u001b[0m \u001b[1;36m1\u001b[0m\u001b[1;33m\u001b[0m\u001b[0m\n",
      "\u001b[1;32m<ipython-input-22-9c85175eb788>\u001b[0m in \u001b[0;36mfit\u001b[1;34m(X, y)\u001b[0m\n\u001b[0;32m      5\u001b[0m \u001b[1;32mdef\u001b[0m \u001b[0mfit\u001b[0m\u001b[1;33m(\u001b[0m\u001b[0mX\u001b[0m\u001b[1;33m,\u001b[0m \u001b[0my\u001b[0m\u001b[1;33m)\u001b[0m\u001b[1;33m:\u001b[0m\u001b[1;33m\u001b[0m\u001b[0m\n\u001b[0;32m      6\u001b[0m     \u001b[0mclf\u001b[0m \u001b[1;33m=\u001b[0m \u001b[0mLinearRegression\u001b[0m\u001b[1;33m(\u001b[0m\u001b[1;33m)\u001b[0m\u001b[1;33m\u001b[0m\u001b[0m\n\u001b[1;32m----> 7\u001b[1;33m     \u001b[0mclf\u001b[0m\u001b[1;33m.\u001b[0m\u001b[0mfit\u001b[0m\u001b[1;33m(\u001b[0m\u001b[0mX\u001b[0m\u001b[1;33m,\u001b[0m \u001b[0my\u001b[0m\u001b[1;33m)\u001b[0m\u001b[1;33m\u001b[0m\u001b[0m\n\u001b[0m\u001b[0;32m      8\u001b[0m     \u001b[1;32mreturn\u001b[0m \u001b[0mclf\u001b[0m\u001b[1;33m\u001b[0m\u001b[0m\n\u001b[0;32m      9\u001b[0m \u001b[1;33m\u001b[0m\u001b[0m\n",
      "\u001b[1;32mC:\\Users\\gregc\\AppData\\Local\\Continuum\\Anaconda\\lib\\site-packages\\sklearn\\linear_model\\base.pyc\u001b[0m in \u001b[0;36mfit\u001b[1;34m(self, X, y, n_jobs)\u001b[0m\n\u001b[0;32m    353\u001b[0m \u001b[1;33m\u001b[0m\u001b[0m\n\u001b[0;32m    354\u001b[0m         X, y, X_mean, y_mean, X_std = self._center_data(\n\u001b[1;32m--> 355\u001b[1;33m             X, y, self.fit_intercept, self.normalize, self.copy_X)\n\u001b[0m\u001b[0;32m    356\u001b[0m \u001b[1;33m\u001b[0m\u001b[0m\n\u001b[0;32m    357\u001b[0m         \u001b[1;32mif\u001b[0m \u001b[0msp\u001b[0m\u001b[1;33m.\u001b[0m\u001b[0missparse\u001b[0m\u001b[1;33m(\u001b[0m\u001b[0mX\u001b[0m\u001b[1;33m)\u001b[0m\u001b[1;33m:\u001b[0m\u001b[1;33m\u001b[0m\u001b[0m\n",
      "\u001b[1;32mC:\\Users\\gregc\\AppData\\Local\\Continuum\\Anaconda\\lib\\site-packages\\sklearn\\linear_model\\base.pyc\u001b[0m in \u001b[0;36mcenter_data\u001b[1;34m(X, y, fit_intercept, normalize, copy, sample_weight)\u001b[0m\n\u001b[0;32m     94\u001b[0m             \u001b[0mX_std\u001b[0m \u001b[1;33m=\u001b[0m \u001b[0mnp\u001b[0m\u001b[1;33m.\u001b[0m\u001b[0mones\u001b[0m\u001b[1;33m(\u001b[0m\u001b[0mX\u001b[0m\u001b[1;33m.\u001b[0m\u001b[0mshape\u001b[0m\u001b[1;33m[\u001b[0m\u001b[1;36m1\u001b[0m\u001b[1;33m]\u001b[0m\u001b[1;33m)\u001b[0m\u001b[1;33m\u001b[0m\u001b[0m\n\u001b[0;32m     95\u001b[0m         \u001b[1;32melse\u001b[0m\u001b[1;33m:\u001b[0m\u001b[1;33m\u001b[0m\u001b[0m\n\u001b[1;32m---> 96\u001b[1;33m             \u001b[0mX_mean\u001b[0m \u001b[1;33m=\u001b[0m \u001b[0mnp\u001b[0m\u001b[1;33m.\u001b[0m\u001b[0maverage\u001b[0m\u001b[1;33m(\u001b[0m\u001b[0mX\u001b[0m\u001b[1;33m,\u001b[0m \u001b[0maxis\u001b[0m\u001b[1;33m=\u001b[0m\u001b[1;36m0\u001b[0m\u001b[1;33m,\u001b[0m \u001b[0mweights\u001b[0m\u001b[1;33m=\u001b[0m\u001b[0msample_weight\u001b[0m\u001b[1;33m)\u001b[0m\u001b[1;33m\u001b[0m\u001b[0m\n\u001b[0m\u001b[0;32m     97\u001b[0m             \u001b[0mX\u001b[0m \u001b[1;33m-=\u001b[0m \u001b[0mX_mean\u001b[0m\u001b[1;33m\u001b[0m\u001b[0m\n\u001b[0;32m     98\u001b[0m             \u001b[1;32mif\u001b[0m \u001b[0mnormalize\u001b[0m\u001b[1;33m:\u001b[0m\u001b[1;33m\u001b[0m\u001b[0m\n",
      "\u001b[1;32mC:\\Users\\gregc\\AppData\\Local\\Continuum\\Anaconda\\lib\\site-packages\\numpy\\lib\\function_base.pyc\u001b[0m in \u001b[0;36maverage\u001b[1;34m(a, axis, weights, returned)\u001b[0m\n\u001b[0;32m    513\u001b[0m     \u001b[1;32mif\u001b[0m \u001b[0mweights\u001b[0m \u001b[1;32mis\u001b[0m \u001b[0mNone\u001b[0m\u001b[1;33m:\u001b[0m\u001b[1;33m\u001b[0m\u001b[0m\n\u001b[0;32m    514\u001b[0m         \u001b[0mavg\u001b[0m \u001b[1;33m=\u001b[0m \u001b[0ma\u001b[0m\u001b[1;33m.\u001b[0m\u001b[0mmean\u001b[0m\u001b[1;33m(\u001b[0m\u001b[0maxis\u001b[0m\u001b[1;33m)\u001b[0m\u001b[1;33m\u001b[0m\u001b[0m\n\u001b[1;32m--> 515\u001b[1;33m         \u001b[0mscl\u001b[0m \u001b[1;33m=\u001b[0m \u001b[0mavg\u001b[0m\u001b[1;33m.\u001b[0m\u001b[0mdtype\u001b[0m\u001b[1;33m.\u001b[0m\u001b[0mtype\u001b[0m\u001b[1;33m(\u001b[0m\u001b[0ma\u001b[0m\u001b[1;33m.\u001b[0m\u001b[0msize\u001b[0m\u001b[1;33m/\u001b[0m\u001b[0mavg\u001b[0m\u001b[1;33m.\u001b[0m\u001b[0msize\u001b[0m\u001b[1;33m)\u001b[0m\u001b[1;33m\u001b[0m\u001b[0m\n\u001b[0m\u001b[0;32m    516\u001b[0m     \u001b[1;32melse\u001b[0m\u001b[1;33m:\u001b[0m\u001b[1;33m\u001b[0m\u001b[0m\n\u001b[0;32m    517\u001b[0m         \u001b[0ma\u001b[0m \u001b[1;33m=\u001b[0m \u001b[0ma\u001b[0m \u001b[1;33m+\u001b[0m \u001b[1;36m0.0\u001b[0m\u001b[1;33m\u001b[0m\u001b[0m\n",
      "\u001b[1;31mZeroDivisionError\u001b[0m: division by zero"
     ]
    }
   ],
   "source": [
    "models = {}\n",
    "keep = {}\n",
    "count = 0\n",
    "\n",
    "def fit(X, y):\n",
    "    clf = LinearRegression()\n",
    "    clf.fit(X, y)\n",
    "    return clf\n",
    "\n",
    "def predict(model, X):\n",
    "    clf = model\n",
    "    return (clf.predict(X) > 0) * 1\n",
    "\n",
    "def parallel(v1, v2):\n",
    "    def unit_vector(vector):\n",
    "        l = np.linalg.norm(vector)\n",
    "        return 0 * vector if l == 0 else vector / l\n",
    "    def angle_between(v1, v2):\n",
    "        v1_u = unit_vector(v1)\n",
    "        v2_u = unit_vector(v2)\n",
    "        return np.arccos(np.clip(np.dot(v1_u, v2_u), -1.0, 1.0))\n",
    "    return sum(v1) == 0 or abs(angle_between(v1, v2)) < 0.0001\n",
    "\n",
    "for pattern, group in groups.iteritems()\n",
    "    try:\n",
    "        rows = np.array(group) - 1\n",
    "\n",
    "        if count < 13937:\n",
    "            count += 1\n",
    "            continue\n",
    "\n",
    "    #    if len(rows) < 5000:\n",
    "    #        continue\n",
    "\n",
    "        cols = np.array([int(x) for x in pattern.split(',')])[1 : -1]        \n",
    "        y = Z[rows, -1]\n",
    "        X = Z[rows, :][:, cols]\n",
    "\n",
    "        indices = []\n",
    "        for j in range(X.shape[1]):\n",
    "            good = True\n",
    "            for k in range(j + 1, X.shape[1]):\n",
    "                if parallel(X[:, j], X[:, k]):\n",
    "                    good = False\n",
    "                    break\n",
    "            if good:\n",
    "                indices.append(j)\n",
    "\n",
    "        keep[pattern] = indices\n",
    "        X = X[:, indices]\n",
    "        models[pattern] = fit(X, y)\n",
    "        # print mcc(y, predict(models[pattern], X))\n",
    "        count += 1\n",
    "        stdout.write('\\r%s/%s' % (count, len(groups)))\n",
    "        stdout.flush()\n",
    "    except:\n",
    "        pass"
   ]
  },
  {
   "cell_type": "code",
   "execution_count": null,
   "metadata": {
    "collapsed": true
   },
   "outputs": [],
   "source": [
    "def y_hat(i):\n",
    "    pattern = ','.join([str(i) for i, x in enumerate(Z[i, :]) if x != ''])\n",
    "    cols = np.array([int(x) for x in pattern.split(',')])[1 : -1]        \n",
    "    x = Z[i, cols]\n",
    "    return predict(x[models[pattern], keep['pattern']])\n",
    "        \n",
    "y = Z[:, -1]\n",
    "y_hat = [y_hat(i) for i in range(len(Z))]\n",
    "print mcc(y, y_hat)"
   ]
  }
 ],
 "metadata": {
  "kernelspec": {
   "display_name": "Python 2",
   "language": "python",
   "name": "python2"
  },
  "language_info": {
   "codemirror_mode": {
    "name": "ipython",
    "version": 2
   },
   "file_extension": ".py",
   "mimetype": "text/x-python",
   "name": "python",
   "nbconvert_exporter": "python",
   "pygments_lexer": "ipython2",
   "version": "2.7.9"
  }
 },
 "nbformat": 4,
 "nbformat_minor": 0
}
