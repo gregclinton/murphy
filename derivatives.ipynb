{
 "cells": [
  {
   "cell_type": "code",
   "execution_count": 1,
   "metadata": {
    "collapsed": true
   },
   "outputs": [],
   "source": [
    "import numpy as np"
   ]
  },
  {
   "cell_type": "code",
   "execution_count": 25,
   "metadata": {
    "collapsed": false
   },
   "outputs": [
    {
     "name": "stdout",
     "output_type": "stream",
     "text": [
      "3*x**2 75\n",
      "75\n",
      "10000 loops, best of 3: 34.8 µs per loop\n",
      "The slowest run took 13.56 times longer than the fastest. This could mean that an intermediate result is being cached.\n",
      "10000000 loops, best of 3: 158 ns per loop\n"
     ]
    }
   ],
   "source": [
    "import sympy as sm\n",
    "\n",
    "# from sympy.abc import x\n",
    "\n",
    "# sympy.init_printing(use_unicode = True)\n",
    "# sympy.init_printing(use_latex = True)\n",
    "\n",
    "x = sm.Symbol('x')\n",
    "g = sm.diff(x ** 3, x)\n",
    "print g, g.subs(x, 5)\n",
    "\n",
    "f = lambdify(x, g, \"numpy\")\n",
    "print f(5)\n",
    "\n",
    "%timeit g.subs(x, 5)\n",
    "%timeit f(5)"
   ]
  },
  {
   "cell_type": "code",
   "execution_count": 5,
   "metadata": {
    "collapsed": false
   },
   "outputs": [
    {
     "name": "stdout",
     "output_type": "stream",
     "text": [
      "75.0\n"
     ]
    }
   ],
   "source": [
    "import tensorflow as tf\n",
    "\n",
    "x = tf.placeholder(tf.float32)\n",
    "\n",
    "with tf.Session() as sess:\n",
    "    print sess.run(tf.gradients(x ** 3, x)[0], feed_dict = {x: 5})"
   ]
  },
  {
   "cell_type": "code",
   "execution_count": 3,
   "metadata": {
    "collapsed": false
   },
   "outputs": [
    {
     "data": {
      "text/plain": [
       "array([[ 0.00082421, -0.00082421],\n",
       "       [ 0.01580863, -0.01580862],\n",
       "       [-0.3175247 ,  0.3175247 ]], dtype=float32)"
      ]
     },
     "execution_count": 3,
     "metadata": {},
     "output_type": "execute_result"
    }
   ],
   "source": [
    "import theano\n",
    "from theano import tensor as T\n",
    "\n",
    "x = T.fmatrix()\n",
    "y = T.fmatrix()\n",
    "loss = T.mean(T.nnet.categorical_crossentropy(T.nnet.softmax(x), y))\n",
    "grad_loss = theano.function([x, y], T.grad(loss, x))\n",
    "\n",
    "x = [[-3, 3], [-2, 1], [-2, 1]]\n",
    "y = [[0.0, 1], [0, 1], [1, 0]]\n",
    "grad_loss(x, y)"
   ]
  }
 ],
 "metadata": {
  "kernelspec": {
   "display_name": "Python 2",
   "language": "python",
   "name": "python2"
  },
  "language_info": {
   "codemirror_mode": {
    "name": "ipython",
    "version": 2
   },
   "file_extension": ".py",
   "mimetype": "text/x-python",
   "name": "python",
   "nbconvert_exporter": "python",
   "pygments_lexer": "ipython2",
   "version": "2.7.12"
  }
 },
 "nbformat": 4,
 "nbformat_minor": 1
}
