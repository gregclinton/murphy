{
 "cells": [
  {
   "cell_type": "code",
   "execution_count": 8,
   "metadata": {
    "collapsed": false
   },
   "outputs": [],
   "source": [
    "import numpy as np\n",
    "import math"
   ]
  },
  {
   "cell_type": "code",
   "execution_count": 13,
   "metadata": {
    "collapsed": true
   },
   "outputs": [],
   "source": [
    "def fit(X, y, lmbda):\n",
    "    N, D = X.shape\n",
    "    cs = np.unique(y)\n",
    "    C = len(cs)\n",
    "    mu = np.mean(X, axis = 0)\n",
    "    s2 = np.zeros(D)\n",
    "\n",
    "    for c in cs:\n",
    "        i = y == c\n",
    "        X_c = X[i]\n",
    "        prior = np.mean(i)\n",
    "        mu_c = np.mean(X_c, axis = 0)\n",
    "        for x in X_c:\n",
    "            s2 += (x - mu_c) ** 2 / (1.0 * N - C)\n",
    "    \n",
    "    for c in cs:\n",
    "        i = y == c\n",
    "        X_c = X[i]\n",
    "        prior = np.mean(i)\n",
    "        mu_c = np.mean(X_c, axis = 0)\n",
    "        \n",
    "    return prior, mu, sigma2\n",
    "        \n",
    "def predict(model, X):\n",
    "    prior, mu, sigma2 = model\n",
    "    delta_c = math.log(prior) - np.sum([X[:, j] - mu[c, j] / (2 * sigma2[j]) for j in range(D)])\n",
    "    X = np.hstack((X, np.ones((len(X), 1))))\n",
    "    cs, Beta = model\n",
    "    return np.array([cs[i] for i in np.argmax(X.dot(Beta), axis = 1)])"
   ]
  },
  {
   "cell_type": "code",
   "execution_count": 14,
   "metadata": {
    "collapsed": false
   },
   "outputs": [],
   "source": [
    "X = np.array([\n",
    "    [2, 3, 4, 5],\n",
    "    [2.2, 3.1, 4.2, 5.3],\n",
    "    [2.1, 3.2, 4.1, 5.2],\n",
    "])\n",
    "\n",
    "y = np.array([1, 1, 2])"
   ]
  },
  {
   "cell_type": "code",
   "execution_count": 15,
   "metadata": {
    "collapsed": false
   },
   "outputs": [
    {
     "name": "stdout",
     "output_type": "stream",
     "text": [
      "1049.85694327\n"
     ]
    }
   ],
   "source": [
    "model = fit(X, y, 0.1)\n",
    "#np.mean(predict(model, X) == y)"
   ]
  }
 ],
 "metadata": {
  "kernelspec": {
   "display_name": "Python 2",
   "language": "python",
   "name": "python2"
  },
  "language_info": {
   "codemirror_mode": {
    "name": "ipython",
    "version": 2
   },
   "file_extension": ".py",
   "mimetype": "text/x-python",
   "name": "python",
   "nbconvert_exporter": "python",
   "pygments_lexer": "ipython2",
   "version": "2.7.9"
  }
 },
 "nbformat": 4,
 "nbformat_minor": 0
}
